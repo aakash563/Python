{
  "nbformat": 4,
  "nbformat_minor": 0,
  "metadata": {
    "colab": {
      "name": "Business Analysts and Text Minig text modeling using Python.ipynb",
      "provenance": [],
      "collapsed_sections": [],
      "authorship_tag": "ABX9TyO4SJG73wpF4WO9Ducvl7l9",
      "include_colab_link": true
    },
    "kernelspec": {
      "name": "python3",
      "display_name": "Python 3"
    },
    "language_info": {
      "name": "python"
    },
    "accelerator": "TPU"
  },
  "cells": [
    {
      "cell_type": "markdown",
      "metadata": {
        "id": "view-in-github",
        "colab_type": "text"
      },
      "source": [
        "<a href=\"https://colab.research.google.com/github/aakash563/Python/blob/main/Business_Analysts_and_Text_Minig_text_modeling_using_Python.ipynb\" target=\"_parent\"><img src=\"https://colab.research.google.com/assets/colab-badge.svg\" alt=\"Open In Colab\"/></a>"
      ]
    },
    {
      "cell_type": "markdown",
      "metadata": {
        "id": "fc1pzG0avpT5"
      },
      "source": [
        "**Lecture 26 Database Using Python - Pandas - Part I**"
      ]
    },
    {
      "cell_type": "markdown",
      "metadata": {
        "id": "Owg744kSwKrQ"
      },
      "source": [
        "* Pandas package\n",
        "* Used to work with heterogeneous (tabular) data\n",
        "* Facilitates faster and easier data proceesing "
      ]
    },
    {
      "cell_type": "code",
      "metadata": {
        "id": "6cL8b72qvmOA"
      },
      "source": [
        "import pandas as pd"
      ],
      "execution_count": null,
      "outputs": []
    },
    {
      "cell_type": "markdown",
      "metadata": {
        "id": "qrpPscx-wjN1"
      },
      "source": [
        "* Frequently used libraries"
      ]
    },
    {
      "cell_type": "code",
      "metadata": {
        "id": "lfsYe0xduPXV"
      },
      "source": [
        "from pandas import Series , DataFrame"
      ],
      "execution_count": null,
      "outputs": []
    },
    {
      "cell_type": "markdown",
      "metadata": {
        "id": "PvYbqV_9wq2g"
      },
      "source": [
        "* Data Structures: Series and DataFrame\n",
        "* Series\n",
        "* A sequence of values (similar to 1darray) along with an explicit custom index to access the values\n",
        "* Like a fixed - length dict : a mapping of index values to data values\n",
        "* Created using series function"
      ]
    },
    {
      "cell_type": "code",
      "metadata": {
        "id": "a56XjmpuwqRH"
      },
      "source": [
        "series1 = pd.Series([22, 33, 44, 55]) # default index: 0 to n-1"
      ],
      "execution_count": null,
      "outputs": []
    },
    {
      "cell_type": "code",
      "metadata": {
        "colab": {
          "base_uri": "https://localhost:8080/"
        },
        "id": "Go-_hxy-xRxZ",
        "outputId": "e3847887-3c0f-4e83-bab8-02063f539997"
      },
      "source": [
        "series1"
      ],
      "execution_count": null,
      "outputs": [
        {
          "output_type": "execute_result",
          "data": {
            "text/plain": [
              "0    22\n",
              "1    33\n",
              "2    44\n",
              "3    55\n",
              "dtype: int64"
            ]
          },
          "metadata": {},
          "execution_count": 4
        }
      ]
    },
    {
      "cell_type": "markdown",
      "metadata": {
        "id": "Lm4O4BCUx0s1"
      },
      "source": [
        "* Series properties (attributes)\n",
        "* 'values'\n",
        "* It is an array object"
      ]
    },
    {
      "cell_type": "code",
      "metadata": {
        "colab": {
          "base_uri": "https://localhost:8080/"
        },
        "id": "tH7SdbTqxS_q",
        "outputId": "6f168bae-767f-4884-e78a-d4a80a99964c"
      },
      "source": [
        "series1.values"
      ],
      "execution_count": null,
      "outputs": [
        {
          "output_type": "execute_result",
          "data": {
            "text/plain": [
              "array([22, 33, 44, 55])"
            ]
          },
          "metadata": {},
          "execution_count": 5
        }
      ]
    },
    {
      "cell_type": "markdown",
      "metadata": {
        "id": "2sNTHmkPyA0g"
      },
      "source": [
        "* index\n",
        "* It is like range(n)"
      ]
    },
    {
      "cell_type": "code",
      "metadata": {
        "colab": {
          "base_uri": "https://localhost:8080/"
        },
        "id": "Zl7Sb48Xx997",
        "outputId": "45009ba5-8ecc-43c7-cdf0-f0503d712bb6"
      },
      "source": [
        "series1.index"
      ],
      "execution_count": null,
      "outputs": [
        {
          "output_type": "execute_result",
          "data": {
            "text/plain": [
              "RangeIndex(start=0, stop=4, step=1)"
            ]
          },
          "metadata": {},
          "execution_count": 6
        }
      ]
    },
    {
      "cell_type": "markdown",
      "metadata": {
        "id": "AvXxehC3yOLI"
      },
      "source": [
        "* custom index: as a list of labels"
      ]
    },
    {
      "cell_type": "code",
      "metadata": {
        "colab": {
          "base_uri": "https://localhost:8080/"
        },
        "id": "ZZGfaQYYyF1F",
        "outputId": "88280899-6037-42ba-998c-68d5d2c51d91"
      },
      "source": [
        "series2 = pd.Series([22,33,44,55], index=['a', 'b','c','d'])\n",
        "series2"
      ],
      "execution_count": null,
      "outputs": [
        {
          "output_type": "execute_result",
          "data": {
            "text/plain": [
              "a    22\n",
              "b    33\n",
              "c    44\n",
              "d    55\n",
              "dtype: int64"
            ]
          },
          "metadata": {},
          "execution_count": 7
        }
      ]
    },
    {
      "cell_type": "markdown",
      "metadata": {
        "id": "djFZ3D92yctX"
      },
      "source": [
        "* Check presence or absence of labels in a series"
      ]
    },
    {
      "cell_type": "code",
      "metadata": {
        "colab": {
          "base_uri": "https://localhost:8080/"
        },
        "id": "gRqk70xkyb2h",
        "outputId": "1c863826-6c5c-4e3a-af4f-193f951631d3"
      },
      "source": [
        "'c' in series2"
      ],
      "execution_count": null,
      "outputs": [
        {
          "output_type": "execute_result",
          "data": {
            "text/plain": [
              "True"
            ]
          },
          "metadata": {},
          "execution_count": 8
        }
      ]
    },
    {
      "cell_type": "code",
      "metadata": {
        "colab": {
          "base_uri": "https://localhost:8080/"
        },
        "id": "Rb3-WJnSyjxb",
        "outputId": "abcd5c99-a8b4-4a18-978b-6d686a24419a"
      },
      "source": [
        "'e' in series2"
      ],
      "execution_count": null,
      "outputs": [
        {
          "output_type": "execute_result",
          "data": {
            "text/plain": [
              "False"
            ]
          },
          "metadata": {},
          "execution_count": 9
        }
      ]
    },
    {
      "cell_type": "code",
      "metadata": {
        "colab": {
          "base_uri": "https://localhost:8080/"
        },
        "id": "QcUYXicMyl6z",
        "outputId": "477ab65e-d1b9-451b-a7d7-ff8a389dc1f5"
      },
      "source": [
        "series2.index"
      ],
      "execution_count": null,
      "outputs": [
        {
          "output_type": "execute_result",
          "data": {
            "text/plain": [
              "Index(['a', 'b', 'c', 'd'], dtype='object')"
            ]
          },
          "metadata": {},
          "execution_count": 10
        }
      ]
    },
    {
      "cell_type": "markdown",
      "metadata": {
        "id": "G8IdRDvFy4yz"
      },
      "source": [
        "* accessing values using labelled indices"
      ]
    },
    {
      "cell_type": "code",
      "metadata": {
        "colab": {
          "base_uri": "https://localhost:8080/"
        },
        "id": "XFQ_0C4lyoLy",
        "outputId": "bfd48418-ae7c-4c85-df1d-0de8da41372e"
      },
      "source": [
        "series2['a']"
      ],
      "execution_count": null,
      "outputs": [
        {
          "output_type": "execute_result",
          "data": {
            "text/plain": [
              "22"
            ]
          },
          "metadata": {},
          "execution_count": 11
        }
      ]
    },
    {
      "cell_type": "code",
      "metadata": {
        "colab": {
          "base_uri": "https://localhost:8080/"
        },
        "id": "OJ-1bTq2y_e3",
        "outputId": "39a83ea3-b547-4976-9377-c615f7c48c4b"
      },
      "source": [
        "series2[['a', 'c']]"
      ],
      "execution_count": null,
      "outputs": [
        {
          "output_type": "execute_result",
          "data": {
            "text/plain": [
              "a    22\n",
              "c    44\n",
              "dtype: int64"
            ]
          },
          "metadata": {},
          "execution_count": 12
        }
      ]
    },
    {
      "cell_type": "code",
      "metadata": {
        "colab": {
          "base_uri": "https://localhost:8080/"
        },
        "id": "bFILhGcEzBwy",
        "outputId": "81d5b1af-1c56-48be-ea27-a0759a414428"
      },
      "source": [
        "series2[['c', 'a']]"
      ],
      "execution_count": null,
      "outputs": [
        {
          "output_type": "execute_result",
          "data": {
            "text/plain": [
              "c    44\n",
              "a    22\n",
              "dtype: int64"
            ]
          },
          "metadata": {},
          "execution_count": 13
        }
      ]
    },
    {
      "cell_type": "markdown",
      "metadata": {
        "id": "9cc-u3hQzFWV"
      },
      "source": [
        "* index-value link is not disturbed by execution of various operations\n",
        "* Automatic alignment of index labels with corresponding values and results just like in 'R platform'\n",
        "* filtering"
      ]
    },
    {
      "cell_type": "code",
      "metadata": {
        "colab": {
          "base_uri": "https://localhost:8080/"
        },
        "id": "Po_VPNCEzEdl",
        "outputId": "09767f21-1cf9-4b0b-9415-94c7be7da058"
      },
      "source": [
        "series2[series2>0]"
      ],
      "execution_count": null,
      "outputs": [
        {
          "output_type": "execute_result",
          "data": {
            "text/plain": [
              "a    22\n",
              "b    33\n",
              "c    44\n",
              "d    55\n",
              "dtype: int64"
            ]
          },
          "metadata": {},
          "execution_count": 14
        }
      ]
    },
    {
      "cell_type": "markdown",
      "metadata": {
        "id": "UuGyPHFszjxg"
      },
      "source": [
        "* Scalar multiplication"
      ]
    },
    {
      "cell_type": "code",
      "metadata": {
        "colab": {
          "base_uri": "https://localhost:8080/"
        },
        "id": "Ct59eTvGzg-o",
        "outputId": "b47616e7-8265-4b0b-aab0-fdf84ac45f7a"
      },
      "source": [
        "series2*9"
      ],
      "execution_count": null,
      "outputs": [
        {
          "output_type": "execute_result",
          "data": {
            "text/plain": [
              "a    198\n",
              "b    297\n",
              "c    396\n",
              "d    495\n",
              "dtype: int64"
            ]
          },
          "metadata": {},
          "execution_count": 15
        }
      ]
    },
    {
      "cell_type": "markdown",
      "metadata": {
        "id": "V6MtfBzdzsAg"
      },
      "source": [
        "math operation"
      ]
    },
    {
      "cell_type": "code",
      "metadata": {
        "id": "R4XV8_dYzo-A"
      },
      "source": [
        "import numpy as np"
      ],
      "execution_count": null,
      "outputs": []
    },
    {
      "cell_type": "code",
      "metadata": {
        "colab": {
          "base_uri": "https://localhost:8080/"
        },
        "id": "WJeufFfpzvo8",
        "outputId": "fb95761c-7a1c-408c-e8b0-08e3b1423465"
      },
      "source": [
        "np.exp(series2)"
      ],
      "execution_count": null,
      "outputs": [
        {
          "output_type": "execute_result",
          "data": {
            "text/plain": [
              "a    3.584913e+09\n",
              "b    2.146436e+14\n",
              "c    1.285160e+19\n",
              "d    7.694785e+23\n",
              "dtype: float64"
            ]
          },
          "metadata": {},
          "execution_count": 17
        }
      ]
    },
    {
      "cell_type": "markdown",
      "metadata": {
        "id": "7H-2EpAcz1Bi"
      },
      "source": [
        "* converting python dict object into a series object"
      ]
    },
    {
      "cell_type": "code",
      "metadata": {
        "id": "SzHT56ZNzxeh"
      },
      "source": [
        "PIN_code = {'Roorkee': 247667, 'Dehradun': 248001, 'Haridwar': 249401, 'Nainital': 263001}\n"
      ],
      "execution_count": null,
      "outputs": []
    },
    {
      "cell_type": "code",
      "metadata": {
        "id": "mW18Oyhb0Q7X"
      },
      "source": [
        "series3 = pd.Series(PIN_code)"
      ],
      "execution_count": null,
      "outputs": []
    },
    {
      "cell_type": "code",
      "metadata": {
        "colab": {
          "base_uri": "https://localhost:8080/"
        },
        "id": "Xn6Uj1F70UKo",
        "outputId": "68393767-f9f2-4c51-8330-5d3cbc3953ad"
      },
      "source": [
        "series3"
      ],
      "execution_count": null,
      "outputs": [
        {
          "output_type": "execute_result",
          "data": {
            "text/plain": [
              "Roorkee     247667\n",
              "Dehradun    248001\n",
              "Haridwar    249401\n",
              "Nainital    263001\n",
              "dtype: int64"
            ]
          },
          "metadata": {},
          "execution_count": 20
        }
      ]
    },
    {
      "cell_type": "code",
      "metadata": {
        "colab": {
          "base_uri": "https://localhost:8080/"
        },
        "id": "IaD7Ehvt0V6f",
        "outputId": "ff4c2476-1e6c-44f2-ce83-ad05af10fd5d"
      },
      "source": [
        "series3.index"
      ],
      "execution_count": null,
      "outputs": [
        {
          "output_type": "execute_result",
          "data": {
            "text/plain": [
              "Index(['Roorkee', 'Dehradun', 'Haridwar', 'Nainital'], dtype='object')"
            ]
          },
          "metadata": {},
          "execution_count": 21
        }
      ]
    },
    {
      "cell_type": "code",
      "metadata": {
        "colab": {
          "base_uri": "https://localhost:8080/"
        },
        "id": "KhgQBps80XLg",
        "outputId": "9d0334fe-88b5-40d8-a598-7537fadc13f3"
      },
      "source": [
        "series3.values"
      ],
      "execution_count": null,
      "outputs": [
        {
          "output_type": "execute_result",
          "data": {
            "text/plain": [
              "array([247667, 248001, 249401, 263001])"
            ]
          },
          "metadata": {},
          "execution_count": 22
        }
      ]
    },
    {
      "cell_type": "markdown",
      "metadata": {
        "id": "tZmLPE9N0guH"
      },
      "source": [
        "* changing index using index argument\n",
        "e.g, order of indices"
      ]
    },
    {
      "cell_type": "code",
      "metadata": {
        "id": "JHhkgO_y0Zo5"
      },
      "source": [
        "cities = ['Dehradun', 'Haridwar', 'Nainital', 'Roorkee', 'Tehri Garhwal']"
      ],
      "execution_count": null,
      "outputs": []
    },
    {
      "cell_type": "code",
      "metadata": {
        "colab": {
          "base_uri": "https://localhost:8080/"
        },
        "id": "eK3Yyfjt1AJg",
        "outputId": "73755a16-6995-44b1-a66c-2119cddb3446"
      },
      "source": [
        "series4 = pd.Series(PIN_code, index = cities)\n",
        "series4"
      ],
      "execution_count": null,
      "outputs": [
        {
          "output_type": "execute_result",
          "data": {
            "text/plain": [
              "Dehradun         248001.0\n",
              "Haridwar         249401.0\n",
              "Nainital         263001.0\n",
              "Roorkee          247667.0\n",
              "Tehri Garhwal         NaN\n",
              "dtype: float64"
            ]
          },
          "metadata": {},
          "execution_count": 24
        }
      ]
    },
    {
      "cell_type": "markdown",
      "metadata": {
        "id": "5XnnC55I1LpE"
      },
      "source": [
        "* detect missing data\n",
        "* using isnull and not null data"
      ]
    },
    {
      "cell_type": "code",
      "metadata": {
        "colab": {
          "base_uri": "https://localhost:8080/"
        },
        "id": "fOj0Levd1HBA",
        "outputId": "e0b1c463-9522-4370-dad6-d2f42ba21991"
      },
      "source": [
        "pd.isnull(series4)"
      ],
      "execution_count": null,
      "outputs": [
        {
          "output_type": "execute_result",
          "data": {
            "text/plain": [
              "Dehradun         False\n",
              "Haridwar         False\n",
              "Nainital         False\n",
              "Roorkee          False\n",
              "Tehri Garhwal     True\n",
              "dtype: bool"
            ]
          },
          "metadata": {},
          "execution_count": 25
        }
      ]
    },
    {
      "cell_type": "code",
      "metadata": {
        "colab": {
          "base_uri": "https://localhost:8080/"
        },
        "id": "NzkySWB91K4u",
        "outputId": "0f235309-72d4-4667-b212-00c2841fb167"
      },
      "source": [
        "pd.notnull(series4)"
      ],
      "execution_count": null,
      "outputs": [
        {
          "output_type": "execute_result",
          "data": {
            "text/plain": [
              "Dehradun          True\n",
              "Haridwar          True\n",
              "Nainital          True\n",
              "Roorkee           True\n",
              "Tehri Garhwal    False\n",
              "dtype: bool"
            ]
          },
          "metadata": {},
          "execution_count": 26
        }
      ]
    },
    {
      "cell_type": "markdown",
      "metadata": {
        "id": "sdoTeXtI1gKY"
      },
      "source": [
        "* using isnull and notnull methods"
      ]
    },
    {
      "cell_type": "code",
      "metadata": {
        "colab": {
          "base_uri": "https://localhost:8080/"
        },
        "id": "sHAqgLa51Uea",
        "outputId": "46dd034b-3bf8-46b2-bc53-88640f5dae63"
      },
      "source": [
        "series4.isnull()"
      ],
      "execution_count": null,
      "outputs": [
        {
          "output_type": "execute_result",
          "data": {
            "text/plain": [
              "Dehradun         False\n",
              "Haridwar         False\n",
              "Nainital         False\n",
              "Roorkee          False\n",
              "Tehri Garhwal     True\n",
              "dtype: bool"
            ]
          },
          "metadata": {},
          "execution_count": 27
        }
      ]
    },
    {
      "cell_type": "code",
      "metadata": {
        "colab": {
          "base_uri": "https://localhost:8080/"
        },
        "id": "VSrWdph51pk5",
        "outputId": "c21141bb-aa95-4f1d-e7f9-6d11ae598b2c"
      },
      "source": [
        "series4.notnull()"
      ],
      "execution_count": null,
      "outputs": [
        {
          "output_type": "execute_result",
          "data": {
            "text/plain": [
              "Dehradun          True\n",
              "Haridwar          True\n",
              "Nainital          True\n",
              "Roorkee           True\n",
              "Tehri Garhwal    False\n",
              "dtype: bool"
            ]
          },
          "metadata": {},
          "execution_count": 28
        }
      ]
    },
    {
      "cell_type": "markdown",
      "metadata": {
        "id": "P1TtvaiF1u2o"
      },
      "source": [
        "* Alignment frature"
      ]
    },
    {
      "cell_type": "code",
      "metadata": {
        "colab": {
          "base_uri": "https://localhost:8080/"
        },
        "id": "aKYuh0XJ1tmk",
        "outputId": "b47cedc3-a8af-4901-e9be-2a53b0b93e4b"
      },
      "source": [
        "series4 + series3 "
      ],
      "execution_count": null,
      "outputs": [
        {
          "output_type": "execute_result",
          "data": {
            "text/plain": [
              "Dehradun         496002.0\n",
              "Haridwar         498802.0\n",
              "Nainital         526002.0\n",
              "Roorkee          495334.0\n",
              "Tehri Garhwal         NaN\n",
              "dtype: float64"
            ]
          },
          "metadata": {},
          "execution_count": 29
        }
      ]
    },
    {
      "cell_type": "markdown",
      "metadata": {
        "id": "iwJiwt7U12fH"
      },
      "source": [
        "* 'name' attributes if series object and its index"
      ]
    },
    {
      "cell_type": "code",
      "metadata": {
        "id": "So31cIaY10eP"
      },
      "source": [
        "series4.name = 'PIN_code'"
      ],
      "execution_count": null,
      "outputs": []
    },
    {
      "cell_type": "code",
      "metadata": {
        "id": "4UJwjMsy1_e9"
      },
      "source": [
        "series4.index.name = 'city'"
      ],
      "execution_count": null,
      "outputs": []
    },
    {
      "cell_type": "code",
      "metadata": {
        "colab": {
          "base_uri": "https://localhost:8080/"
        },
        "id": "fYrtZXO12CxI",
        "outputId": "da028410-89ba-4b36-cee6-1923cee2685a"
      },
      "source": [
        "series4"
      ],
      "execution_count": null,
      "outputs": [
        {
          "output_type": "execute_result",
          "data": {
            "text/plain": [
              "city\n",
              "Dehradun         248001.0\n",
              "Haridwar         249401.0\n",
              "Nainital         263001.0\n",
              "Roorkee          247667.0\n",
              "Tehri Garhwal         NaN\n",
              "Name: PIN_code, dtype: float64"
            ]
          },
          "metadata": {},
          "execution_count": 32
        }
      ]
    },
    {
      "cell_type": "markdown",
      "metadata": {
        "id": "BMeK-jOb2NLW"
      },
      "source": [
        "* changing index using index attribute\n",
        "* e.g, index **values**"
      ]
    },
    {
      "cell_type": "code",
      "metadata": {
        "colab": {
          "base_uri": "https://localhost:8080/"
        },
        "id": "okEDkeLU2DzF",
        "outputId": "001121ad-bac3-47b7-d777-61f5aa53a110"
      },
      "source": [
        "series1"
      ],
      "execution_count": null,
      "outputs": [
        {
          "output_type": "execute_result",
          "data": {
            "text/plain": [
              "0    22\n",
              "1    33\n",
              "2    44\n",
              "3    55\n",
              "dtype: int64"
            ]
          },
          "metadata": {},
          "execution_count": 33
        }
      ]
    },
    {
      "cell_type": "code",
      "metadata": {
        "id": "W-er2wWA2U8E"
      },
      "source": [
        "series1.index = [1,2,3,4]"
      ],
      "execution_count": null,
      "outputs": []
    },
    {
      "cell_type": "code",
      "metadata": {
        "colab": {
          "base_uri": "https://localhost:8080/"
        },
        "id": "91aX2NhW2aL0",
        "outputId": "23e96a9a-ed58-4767-c7cd-95686f5bd2d7"
      },
      "source": [
        "series1"
      ],
      "execution_count": null,
      "outputs": [
        {
          "output_type": "execute_result",
          "data": {
            "text/plain": [
              "1    22\n",
              "2    33\n",
              "3    44\n",
              "4    55\n",
              "dtype: int64"
            ]
          },
          "metadata": {},
          "execution_count": 35
        }
      ]
    },
    {
      "cell_type": "markdown",
      "metadata": {
        "id": "qaDBtAs62iTL"
      },
      "source": [
        "* DataFrame"
      ]
    },
    {
      "cell_type": "markdown",
      "metadata": {
        "id": "0Dc2NVuB2k2H"
      },
      "source": [
        "* Dataframe represents physically two-dimensional data in a tabular format of rows and columns\n",
        "* It is like a dict of series elements having a common (row) index\n",
        "* It has both a row and column index:\n",
        "* row index is similar to series index (default : 0 to n-1)\n",
        "* columns can be variables of different value types (numeric, string, boolean, etc)\n",
        "* created using DataFrame function\n",
        "* Let's take year-wise metro population data"
      ]
    },
    {
      "cell_type": "code",
      "metadata": {
        "id": "bqMs1VWx2dGG"
      },
      "source": [
        "dict1 = {'metro':['Delhi','Delhi','Delhi', 'Mumbai','Mumbai','Mumbai'],\n",
        "         'year': [2011, 2012, 2013, 2011, 2012, 2013],\n",
        "         'popcr':[1.67, 1.72, 1.77, 2.07, 2.11, 2.15]}"
      ],
      "execution_count": null,
      "outputs": []
    },
    {
      "cell_type": "code",
      "metadata": {
        "id": "ZmODjRWQ33nu"
      },
      "source": [
        "df = pd.DataFrame(dict1)"
      ],
      "execution_count": null,
      "outputs": []
    },
    {
      "cell_type": "code",
      "metadata": {
        "colab": {
          "base_uri": "https://localhost:8080/",
          "height": 234
        },
        "id": "0QvkFONN4Pym",
        "outputId": "1453c922-74ae-4b4c-b740-d8dc0834a873"
      },
      "source": [
        "df"
      ],
      "execution_count": null,
      "outputs": [
        {
          "output_type": "execute_result",
          "data": {
            "text/html": [
              "<div>\n",
              "<style scoped>\n",
              "    .dataframe tbody tr th:only-of-type {\n",
              "        vertical-align: middle;\n",
              "    }\n",
              "\n",
              "    .dataframe tbody tr th {\n",
              "        vertical-align: top;\n",
              "    }\n",
              "\n",
              "    .dataframe thead th {\n",
              "        text-align: right;\n",
              "    }\n",
              "</style>\n",
              "<table border=\"1\" class=\"dataframe\">\n",
              "  <thead>\n",
              "    <tr style=\"text-align: right;\">\n",
              "      <th></th>\n",
              "      <th>metro</th>\n",
              "      <th>year</th>\n",
              "      <th>popcr</th>\n",
              "    </tr>\n",
              "  </thead>\n",
              "  <tbody>\n",
              "    <tr>\n",
              "      <th>0</th>\n",
              "      <td>Delhi</td>\n",
              "      <td>2011</td>\n",
              "      <td>1.67</td>\n",
              "    </tr>\n",
              "    <tr>\n",
              "      <th>1</th>\n",
              "      <td>Delhi</td>\n",
              "      <td>2012</td>\n",
              "      <td>1.72</td>\n",
              "    </tr>\n",
              "    <tr>\n",
              "      <th>2</th>\n",
              "      <td>Delhi</td>\n",
              "      <td>2013</td>\n",
              "      <td>1.77</td>\n",
              "    </tr>\n",
              "    <tr>\n",
              "      <th>3</th>\n",
              "      <td>Mumbai</td>\n",
              "      <td>2011</td>\n",
              "      <td>2.07</td>\n",
              "    </tr>\n",
              "    <tr>\n",
              "      <th>4</th>\n",
              "      <td>Mumbai</td>\n",
              "      <td>2012</td>\n",
              "      <td>2.11</td>\n",
              "    </tr>\n",
              "    <tr>\n",
              "      <th>5</th>\n",
              "      <td>Mumbai</td>\n",
              "      <td>2013</td>\n",
              "      <td>2.15</td>\n",
              "    </tr>\n",
              "  </tbody>\n",
              "</table>\n",
              "</div>"
            ],
            "text/plain": [
              "    metro  year  popcr\n",
              "0   Delhi  2011   1.67\n",
              "1   Delhi  2012   1.72\n",
              "2   Delhi  2013   1.77\n",
              "3  Mumbai  2011   2.07\n",
              "4  Mumbai  2012   2.11\n",
              "5  Mumbai  2013   2.15"
            ]
          },
          "metadata": {},
          "execution_count": 38
        }
      ]
    },
    {
      "cell_type": "markdown",
      "metadata": {
        "id": "gi90ehZa4Ytx"
      },
      "source": [
        "* First five rows"
      ]
    },
    {
      "cell_type": "code",
      "metadata": {
        "colab": {
          "base_uri": "https://localhost:8080/",
          "height": 203
        },
        "id": "HKWKmv_y4QNX",
        "outputId": "80480509-4587-48a1-be42-31e63c9af982"
      },
      "source": [
        "df.head()"
      ],
      "execution_count": null,
      "outputs": [
        {
          "output_type": "execute_result",
          "data": {
            "text/html": [
              "<div>\n",
              "<style scoped>\n",
              "    .dataframe tbody tr th:only-of-type {\n",
              "        vertical-align: middle;\n",
              "    }\n",
              "\n",
              "    .dataframe tbody tr th {\n",
              "        vertical-align: top;\n",
              "    }\n",
              "\n",
              "    .dataframe thead th {\n",
              "        text-align: right;\n",
              "    }\n",
              "</style>\n",
              "<table border=\"1\" class=\"dataframe\">\n",
              "  <thead>\n",
              "    <tr style=\"text-align: right;\">\n",
              "      <th></th>\n",
              "      <th>metro</th>\n",
              "      <th>year</th>\n",
              "      <th>popcr</th>\n",
              "    </tr>\n",
              "  </thead>\n",
              "  <tbody>\n",
              "    <tr>\n",
              "      <th>0</th>\n",
              "      <td>Delhi</td>\n",
              "      <td>2011</td>\n",
              "      <td>1.67</td>\n",
              "    </tr>\n",
              "    <tr>\n",
              "      <th>1</th>\n",
              "      <td>Delhi</td>\n",
              "      <td>2012</td>\n",
              "      <td>1.72</td>\n",
              "    </tr>\n",
              "    <tr>\n",
              "      <th>2</th>\n",
              "      <td>Delhi</td>\n",
              "      <td>2013</td>\n",
              "      <td>1.77</td>\n",
              "    </tr>\n",
              "    <tr>\n",
              "      <th>3</th>\n",
              "      <td>Mumbai</td>\n",
              "      <td>2011</td>\n",
              "      <td>2.07</td>\n",
              "    </tr>\n",
              "    <tr>\n",
              "      <th>4</th>\n",
              "      <td>Mumbai</td>\n",
              "      <td>2012</td>\n",
              "      <td>2.11</td>\n",
              "    </tr>\n",
              "  </tbody>\n",
              "</table>\n",
              "</div>"
            ],
            "text/plain": [
              "    metro  year  popcr\n",
              "0   Delhi  2011   1.67\n",
              "1   Delhi  2012   1.72\n",
              "2   Delhi  2013   1.77\n",
              "3  Mumbai  2011   2.07\n",
              "4  Mumbai  2012   2.11"
            ]
          },
          "metadata": {},
          "execution_count": 39
        }
      ]
    },
    {
      "cell_type": "markdown",
      "metadata": {
        "id": "gYM0tISh4hxx"
      },
      "source": [
        "* Changing the column index using columns argument"
      ]
    },
    {
      "cell_type": "code",
      "metadata": {
        "colab": {
          "base_uri": "https://localhost:8080/",
          "height": 234
        },
        "id": "4NDEmrCE4be7",
        "outputId": "e3355bb2-71a4-4c4e-91e7-1e2155204d6a"
      },
      "source": [
        "pd.DataFrame(dict1, columns=['year', 'metro', 'popcr'])"
      ],
      "execution_count": null,
      "outputs": [
        {
          "output_type": "execute_result",
          "data": {
            "text/html": [
              "<div>\n",
              "<style scoped>\n",
              "    .dataframe tbody tr th:only-of-type {\n",
              "        vertical-align: middle;\n",
              "    }\n",
              "\n",
              "    .dataframe tbody tr th {\n",
              "        vertical-align: top;\n",
              "    }\n",
              "\n",
              "    .dataframe thead th {\n",
              "        text-align: right;\n",
              "    }\n",
              "</style>\n",
              "<table border=\"1\" class=\"dataframe\">\n",
              "  <thead>\n",
              "    <tr style=\"text-align: right;\">\n",
              "      <th></th>\n",
              "      <th>year</th>\n",
              "      <th>metro</th>\n",
              "      <th>popcr</th>\n",
              "    </tr>\n",
              "  </thead>\n",
              "  <tbody>\n",
              "    <tr>\n",
              "      <th>0</th>\n",
              "      <td>2011</td>\n",
              "      <td>Delhi</td>\n",
              "      <td>1.67</td>\n",
              "    </tr>\n",
              "    <tr>\n",
              "      <th>1</th>\n",
              "      <td>2012</td>\n",
              "      <td>Delhi</td>\n",
              "      <td>1.72</td>\n",
              "    </tr>\n",
              "    <tr>\n",
              "      <th>2</th>\n",
              "      <td>2013</td>\n",
              "      <td>Delhi</td>\n",
              "      <td>1.77</td>\n",
              "    </tr>\n",
              "    <tr>\n",
              "      <th>3</th>\n",
              "      <td>2011</td>\n",
              "      <td>Mumbai</td>\n",
              "      <td>2.07</td>\n",
              "    </tr>\n",
              "    <tr>\n",
              "      <th>4</th>\n",
              "      <td>2012</td>\n",
              "      <td>Mumbai</td>\n",
              "      <td>2.11</td>\n",
              "    </tr>\n",
              "    <tr>\n",
              "      <th>5</th>\n",
              "      <td>2013</td>\n",
              "      <td>Mumbai</td>\n",
              "      <td>2.15</td>\n",
              "    </tr>\n",
              "  </tbody>\n",
              "</table>\n",
              "</div>"
            ],
            "text/plain": [
              "   year   metro  popcr\n",
              "0  2011   Delhi   1.67\n",
              "1  2012   Delhi   1.72\n",
              "2  2013   Delhi   1.77\n",
              "3  2011  Mumbai   2.07\n",
              "4  2012  Mumbai   2.11\n",
              "5  2013  Mumbai   2.15"
            ]
          },
          "metadata": {},
          "execution_count": 40
        }
      ]
    },
    {
      "cell_type": "markdown",
      "metadata": {
        "id": "fYz--AuH42LG"
      },
      "source": [
        "* Changing the row index using index argumnet"
      ]
    },
    {
      "cell_type": "code",
      "metadata": {
        "colab": {
          "base_uri": "https://localhost:8080/",
          "height": 234
        },
        "id": "ArCi1NAY4xDN",
        "outputId": "408163a0-ea48-4a5d-dc42-8fefa211f065"
      },
      "source": [
        "df2 = pd.DataFrame(dict1, columns=['year','metro','popcr','area'], index = list(range(1,7)))\n",
        "df2"
      ],
      "execution_count": null,
      "outputs": [
        {
          "output_type": "execute_result",
          "data": {
            "text/html": [
              "<div>\n",
              "<style scoped>\n",
              "    .dataframe tbody tr th:only-of-type {\n",
              "        vertical-align: middle;\n",
              "    }\n",
              "\n",
              "    .dataframe tbody tr th {\n",
              "        vertical-align: top;\n",
              "    }\n",
              "\n",
              "    .dataframe thead th {\n",
              "        text-align: right;\n",
              "    }\n",
              "</style>\n",
              "<table border=\"1\" class=\"dataframe\">\n",
              "  <thead>\n",
              "    <tr style=\"text-align: right;\">\n",
              "      <th></th>\n",
              "      <th>year</th>\n",
              "      <th>metro</th>\n",
              "      <th>popcr</th>\n",
              "      <th>area</th>\n",
              "    </tr>\n",
              "  </thead>\n",
              "  <tbody>\n",
              "    <tr>\n",
              "      <th>1</th>\n",
              "      <td>2011</td>\n",
              "      <td>Delhi</td>\n",
              "      <td>1.67</td>\n",
              "      <td>NaN</td>\n",
              "    </tr>\n",
              "    <tr>\n",
              "      <th>2</th>\n",
              "      <td>2012</td>\n",
              "      <td>Delhi</td>\n",
              "      <td>1.72</td>\n",
              "      <td>NaN</td>\n",
              "    </tr>\n",
              "    <tr>\n",
              "      <th>3</th>\n",
              "      <td>2013</td>\n",
              "      <td>Delhi</td>\n",
              "      <td>1.77</td>\n",
              "      <td>NaN</td>\n",
              "    </tr>\n",
              "    <tr>\n",
              "      <th>4</th>\n",
              "      <td>2011</td>\n",
              "      <td>Mumbai</td>\n",
              "      <td>2.07</td>\n",
              "      <td>NaN</td>\n",
              "    </tr>\n",
              "    <tr>\n",
              "      <th>5</th>\n",
              "      <td>2012</td>\n",
              "      <td>Mumbai</td>\n",
              "      <td>2.11</td>\n",
              "      <td>NaN</td>\n",
              "    </tr>\n",
              "    <tr>\n",
              "      <th>6</th>\n",
              "      <td>2013</td>\n",
              "      <td>Mumbai</td>\n",
              "      <td>2.15</td>\n",
              "      <td>NaN</td>\n",
              "    </tr>\n",
              "  </tbody>\n",
              "</table>\n",
              "</div>"
            ],
            "text/plain": [
              "   year   metro  popcr area\n",
              "1  2011   Delhi   1.67  NaN\n",
              "2  2012   Delhi   1.72  NaN\n",
              "3  2013   Delhi   1.77  NaN\n",
              "4  2011  Mumbai   2.07  NaN\n",
              "5  2012  Mumbai   2.11  NaN\n",
              "6  2013  Mumbai   2.15  NaN"
            ]
          },
          "metadata": {},
          "execution_count": 41
        }
      ]
    },
    {
      "cell_type": "markdown",
      "metadata": {
        "id": "II0eyTWh5x1y"
      },
      "source": [
        "**Lecture 27 Database Using Python - Pandas - Part II**"
      ]
    },
    {
      "cell_type": "markdown",
      "metadata": {
        "id": "J9e96jW66CCi"
      },
      "source": [
        "* column index"
      ]
    },
    {
      "cell_type": "code",
      "metadata": {
        "id": "jomle38I5KUU",
        "colab": {
          "base_uri": "https://localhost:8080/"
        },
        "outputId": "4cb98776-82f1-4507-8c29-44ad10be3b8e"
      },
      "source": [
        "df2.columns"
      ],
      "execution_count": null,
      "outputs": [
        {
          "output_type": "execute_result",
          "data": {
            "text/plain": [
              "Index(['year', 'metro', 'popcr', 'area'], dtype='object')"
            ]
          },
          "metadata": {},
          "execution_count": 42
        }
      ]
    },
    {
      "cell_type": "markdown",
      "metadata": {
        "id": "83p9AeAi6O4_"
      },
      "source": [
        "* Accessing column using dict key like notation"
      ]
    },
    {
      "cell_type": "code",
      "metadata": {
        "colab": {
          "base_uri": "https://localhost:8080/"
        },
        "id": "gReUfXea6ElH",
        "outputId": "da76be05-8734-4542-88c8-8f9201678a84"
      },
      "source": [
        "df2['popcr']"
      ],
      "execution_count": null,
      "outputs": [
        {
          "output_type": "execute_result",
          "data": {
            "text/plain": [
              "1    1.67\n",
              "2    1.72\n",
              "3    1.77\n",
              "4    2.07\n",
              "5    2.11\n",
              "6    2.15\n",
              "Name: popcr, dtype: float64"
            ]
          },
          "metadata": {},
          "execution_count": 43
        }
      ]
    },
    {
      "cell_type": "markdown",
      "metadata": {
        "id": "iju4QXRB6WyC"
      },
      "source": [
        "* Accessing column using attribute like notation"
      ]
    },
    {
      "cell_type": "code",
      "metadata": {
        "colab": {
          "base_uri": "https://localhost:8080/"
        },
        "id": "6L-4QIrr6V8w",
        "outputId": "07dc7da6-bad8-4214-d673-577791ab20d4"
      },
      "source": [
        "df2.year"
      ],
      "execution_count": null,
      "outputs": [
        {
          "output_type": "execute_result",
          "data": {
            "text/plain": [
              "1    2011\n",
              "2    2012\n",
              "3    2013\n",
              "4    2011\n",
              "5    2012\n",
              "6    2013\n",
              "Name: year, dtype: int64"
            ]
          },
          "metadata": {},
          "execution_count": 44
        }
      ]
    },
    {
      "cell_type": "code",
      "metadata": {
        "colab": {
          "base_uri": "https://localhost:8080/"
        },
        "id": "_GZrSmSc6eU2",
        "outputId": "48cf4403-3414-4f2e-989f-6f8220f77de3"
      },
      "source": [
        "df2.popcr"
      ],
      "execution_count": null,
      "outputs": [
        {
          "output_type": "execute_result",
          "data": {
            "text/plain": [
              "1    1.67\n",
              "2    1.72\n",
              "3    1.77\n",
              "4    2.07\n",
              "5    2.11\n",
              "6    2.15\n",
              "Name: popcr, dtype: float64"
            ]
          },
          "metadata": {},
          "execution_count": 45
        }
      ]
    },
    {
      "cell_type": "markdown",
      "metadata": {
        "id": "Yt7Rpc_Q6tRY"
      },
      "source": [
        "* Selecting particular row indices along a column"
      ]
    },
    {
      "cell_type": "code",
      "metadata": {
        "colab": {
          "base_uri": "https://localhost:8080/"
        },
        "id": "L0oTr4AT6hog",
        "outputId": "76193add-d5b5-43cb-ddbb-740d222f8ee5"
      },
      "source": [
        "df2['popcr'][1:4]"
      ],
      "execution_count": null,
      "outputs": [
        {
          "output_type": "execute_result",
          "data": {
            "text/plain": [
              "2    1.72\n",
              "3    1.77\n",
              "4    2.07\n",
              "Name: popcr, dtype: float64"
            ]
          },
          "metadata": {},
          "execution_count": 46
        }
      ]
    },
    {
      "cell_type": "code",
      "metadata": {
        "colab": {
          "base_uri": "https://localhost:8080/"
        },
        "id": "sg6hH_e160bj",
        "outputId": "145f5a03-058d-4123-aab4-548fe8268360"
      },
      "source": [
        "df2['popcr'][:5]"
      ],
      "execution_count": null,
      "outputs": [
        {
          "output_type": "execute_result",
          "data": {
            "text/plain": [
              "1    1.67\n",
              "2    1.72\n",
              "3    1.77\n",
              "4    2.07\n",
              "5    2.11\n",
              "Name: popcr, dtype: float64"
            ]
          },
          "metadata": {},
          "execution_count": 47
        }
      ]
    },
    {
      "cell_type": "code",
      "metadata": {
        "colab": {
          "base_uri": "https://localhost:8080/"
        },
        "id": "ehy_CeIY63I0",
        "outputId": "68fac376-4aec-498f-d905-b6ab3545f9b4"
      },
      "source": [
        "df2['popcr'][:-3]"
      ],
      "execution_count": null,
      "outputs": [
        {
          "output_type": "execute_result",
          "data": {
            "text/plain": [
              "1    1.67\n",
              "2    1.72\n",
              "3    1.77\n",
              "Name: popcr, dtype: float64"
            ]
          },
          "metadata": {},
          "execution_count": 48
        }
      ]
    },
    {
      "cell_type": "markdown",
      "metadata": {
        "id": "pvA-EHhj7BuP"
      },
      "source": [
        "* Accessing row using 'loc' attribute"
      ]
    },
    {
      "cell_type": "code",
      "metadata": {
        "colab": {
          "base_uri": "https://localhost:8080/"
        },
        "id": "1NnLFqNq657a",
        "outputId": "d5b9364e-0238-46f8-deaf-bbb4e5ac68ba"
      },
      "source": [
        "df2.loc[1]"
      ],
      "execution_count": null,
      "outputs": [
        {
          "output_type": "execute_result",
          "data": {
            "text/plain": [
              "year      2011\n",
              "metro    Delhi\n",
              "popcr     1.67\n",
              "area       NaN\n",
              "Name: 1, dtype: object"
            ]
          },
          "metadata": {},
          "execution_count": 49
        }
      ]
    },
    {
      "cell_type": "code",
      "metadata": {
        "colab": {
          "base_uri": "https://localhost:8080/"
        },
        "id": "dDKQvj4p7Kmq",
        "outputId": "0e8122a7-7903-43a9-f1ed-f4eb57c991a9"
      },
      "source": [
        "df2.loc[4]"
      ],
      "execution_count": null,
      "outputs": [
        {
          "output_type": "execute_result",
          "data": {
            "text/plain": [
              "year       2011\n",
              "metro    Mumbai\n",
              "popcr      2.07\n",
              "area        NaN\n",
              "Name: 4, dtype: object"
            ]
          },
          "metadata": {},
          "execution_count": 50
        }
      ]
    },
    {
      "cell_type": "markdown",
      "metadata": {
        "id": "D7hrx5Yk7Vv2"
      },
      "source": [
        "* Data Proceesing & transformation\n",
        "* Value assignment\n",
        "* e.g, area column"
      ]
    },
    {
      "cell_type": "code",
      "metadata": {
        "id": "QPy0j74P7RzI"
      },
      "source": [
        "df2['area'] = 6000"
      ],
      "execution_count": null,
      "outputs": []
    },
    {
      "cell_type": "code",
      "metadata": {
        "colab": {
          "base_uri": "https://localhost:8080/",
          "height": 234
        },
        "id": "Ej05G5Hf7hs4",
        "outputId": "bbf74c4e-cd61-4ee1-c0cb-9811718306fc"
      },
      "source": [
        "df2"
      ],
      "execution_count": null,
      "outputs": [
        {
          "output_type": "execute_result",
          "data": {
            "text/html": [
              "<div>\n",
              "<style scoped>\n",
              "    .dataframe tbody tr th:only-of-type {\n",
              "        vertical-align: middle;\n",
              "    }\n",
              "\n",
              "    .dataframe tbody tr th {\n",
              "        vertical-align: top;\n",
              "    }\n",
              "\n",
              "    .dataframe thead th {\n",
              "        text-align: right;\n",
              "    }\n",
              "</style>\n",
              "<table border=\"1\" class=\"dataframe\">\n",
              "  <thead>\n",
              "    <tr style=\"text-align: right;\">\n",
              "      <th></th>\n",
              "      <th>year</th>\n",
              "      <th>metro</th>\n",
              "      <th>popcr</th>\n",
              "      <th>area</th>\n",
              "    </tr>\n",
              "  </thead>\n",
              "  <tbody>\n",
              "    <tr>\n",
              "      <th>1</th>\n",
              "      <td>2011</td>\n",
              "      <td>Delhi</td>\n",
              "      <td>1.67</td>\n",
              "      <td>6000</td>\n",
              "    </tr>\n",
              "    <tr>\n",
              "      <th>2</th>\n",
              "      <td>2012</td>\n",
              "      <td>Delhi</td>\n",
              "      <td>1.72</td>\n",
              "      <td>6000</td>\n",
              "    </tr>\n",
              "    <tr>\n",
              "      <th>3</th>\n",
              "      <td>2013</td>\n",
              "      <td>Delhi</td>\n",
              "      <td>1.77</td>\n",
              "      <td>6000</td>\n",
              "    </tr>\n",
              "    <tr>\n",
              "      <th>4</th>\n",
              "      <td>2011</td>\n",
              "      <td>Mumbai</td>\n",
              "      <td>2.07</td>\n",
              "      <td>6000</td>\n",
              "    </tr>\n",
              "    <tr>\n",
              "      <th>5</th>\n",
              "      <td>2012</td>\n",
              "      <td>Mumbai</td>\n",
              "      <td>2.11</td>\n",
              "      <td>6000</td>\n",
              "    </tr>\n",
              "    <tr>\n",
              "      <th>6</th>\n",
              "      <td>2013</td>\n",
              "      <td>Mumbai</td>\n",
              "      <td>2.15</td>\n",
              "      <td>6000</td>\n",
              "    </tr>\n",
              "  </tbody>\n",
              "</table>\n",
              "</div>"
            ],
            "text/plain": [
              "   year   metro  popcr  area\n",
              "1  2011   Delhi   1.67  6000\n",
              "2  2012   Delhi   1.72  6000\n",
              "3  2013   Delhi   1.77  6000\n",
              "4  2011  Mumbai   2.07  6000\n",
              "5  2012  Mumbai   2.11  6000\n",
              "6  2013  Mumbai   2.15  6000"
            ]
          },
          "metadata": {},
          "execution_count": 52
        }
      ]
    },
    {
      "cell_type": "markdown",
      "metadata": {
        "id": "jw00-H1I8Q9s"
      },
      "source": [
        "* populating values\n",
        "* e.g, area column"
      ]
    },
    {
      "cell_type": "code",
      "metadata": {
        "colab": {
          "base_uri": "https://localhost:8080/",
          "height": 234
        },
        "id": "cESQoyZC8Voy",
        "outputId": "a5db92ec-5fb2-4d1e-938c-825dcdbd40b6"
      },
      "source": [
        "df2['area'] = np.arange(6000,6600,100)\n",
        "df2"
      ],
      "execution_count": null,
      "outputs": [
        {
          "output_type": "execute_result",
          "data": {
            "text/html": [
              "<div>\n",
              "<style scoped>\n",
              "    .dataframe tbody tr th:only-of-type {\n",
              "        vertical-align: middle;\n",
              "    }\n",
              "\n",
              "    .dataframe tbody tr th {\n",
              "        vertical-align: top;\n",
              "    }\n",
              "\n",
              "    .dataframe thead th {\n",
              "        text-align: right;\n",
              "    }\n",
              "</style>\n",
              "<table border=\"1\" class=\"dataframe\">\n",
              "  <thead>\n",
              "    <tr style=\"text-align: right;\">\n",
              "      <th></th>\n",
              "      <th>year</th>\n",
              "      <th>metro</th>\n",
              "      <th>popcr</th>\n",
              "      <th>area</th>\n",
              "    </tr>\n",
              "  </thead>\n",
              "  <tbody>\n",
              "    <tr>\n",
              "      <th>1</th>\n",
              "      <td>2011</td>\n",
              "      <td>Delhi</td>\n",
              "      <td>1.67</td>\n",
              "      <td>6000</td>\n",
              "    </tr>\n",
              "    <tr>\n",
              "      <th>2</th>\n",
              "      <td>2012</td>\n",
              "      <td>Delhi</td>\n",
              "      <td>1.72</td>\n",
              "      <td>6100</td>\n",
              "    </tr>\n",
              "    <tr>\n",
              "      <th>3</th>\n",
              "      <td>2013</td>\n",
              "      <td>Delhi</td>\n",
              "      <td>1.77</td>\n",
              "      <td>6200</td>\n",
              "    </tr>\n",
              "    <tr>\n",
              "      <th>4</th>\n",
              "      <td>2011</td>\n",
              "      <td>Mumbai</td>\n",
              "      <td>2.07</td>\n",
              "      <td>6300</td>\n",
              "    </tr>\n",
              "    <tr>\n",
              "      <th>5</th>\n",
              "      <td>2012</td>\n",
              "      <td>Mumbai</td>\n",
              "      <td>2.11</td>\n",
              "      <td>6400</td>\n",
              "    </tr>\n",
              "    <tr>\n",
              "      <th>6</th>\n",
              "      <td>2013</td>\n",
              "      <td>Mumbai</td>\n",
              "      <td>2.15</td>\n",
              "      <td>6500</td>\n",
              "    </tr>\n",
              "  </tbody>\n",
              "</table>\n",
              "</div>"
            ],
            "text/plain": [
              "   year   metro  popcr  area\n",
              "1  2011   Delhi   1.67  6000\n",
              "2  2012   Delhi   1.72  6100\n",
              "3  2013   Delhi   1.77  6200\n",
              "4  2011  Mumbai   2.07  6300\n",
              "5  2012  Mumbai   2.11  6400\n",
              "6  2013  Mumbai   2.15  6500"
            ]
          },
          "metadata": {},
          "execution_count": 53
        }
      ]
    },
    {
      "cell_type": "markdown",
      "metadata": {
        "id": "Mvy6mrCf7kKf"
      },
      "source": [
        "* Using series to populate values\n",
        "* Unmatched indices would be treated as missing values"
      ]
    },
    {
      "cell_type": "code",
      "metadata": {
        "colab": {
          "base_uri": "https://localhost:8080/",
          "height": 234
        },
        "id": "FeOPlLBM7iJO",
        "outputId": "a666d3e1-544b-40a6-9099-035597510dc3"
      },
      "source": [
        "val = pd.Series([1.7, 1.9, 2.1], index = [2, 4, 6])\n",
        "df2['popcr'] = val\n",
        "df2"
      ],
      "execution_count": null,
      "outputs": [
        {
          "output_type": "execute_result",
          "data": {
            "text/html": [
              "<div>\n",
              "<style scoped>\n",
              "    .dataframe tbody tr th:only-of-type {\n",
              "        vertical-align: middle;\n",
              "    }\n",
              "\n",
              "    .dataframe tbody tr th {\n",
              "        vertical-align: top;\n",
              "    }\n",
              "\n",
              "    .dataframe thead th {\n",
              "        text-align: right;\n",
              "    }\n",
              "</style>\n",
              "<table border=\"1\" class=\"dataframe\">\n",
              "  <thead>\n",
              "    <tr style=\"text-align: right;\">\n",
              "      <th></th>\n",
              "      <th>year</th>\n",
              "      <th>metro</th>\n",
              "      <th>popcr</th>\n",
              "      <th>area</th>\n",
              "    </tr>\n",
              "  </thead>\n",
              "  <tbody>\n",
              "    <tr>\n",
              "      <th>1</th>\n",
              "      <td>2011</td>\n",
              "      <td>Delhi</td>\n",
              "      <td>NaN</td>\n",
              "      <td>6000</td>\n",
              "    </tr>\n",
              "    <tr>\n",
              "      <th>2</th>\n",
              "      <td>2012</td>\n",
              "      <td>Delhi</td>\n",
              "      <td>1.7</td>\n",
              "      <td>6100</td>\n",
              "    </tr>\n",
              "    <tr>\n",
              "      <th>3</th>\n",
              "      <td>2013</td>\n",
              "      <td>Delhi</td>\n",
              "      <td>NaN</td>\n",
              "      <td>6200</td>\n",
              "    </tr>\n",
              "    <tr>\n",
              "      <th>4</th>\n",
              "      <td>2011</td>\n",
              "      <td>Mumbai</td>\n",
              "      <td>1.9</td>\n",
              "      <td>6300</td>\n",
              "    </tr>\n",
              "    <tr>\n",
              "      <th>5</th>\n",
              "      <td>2012</td>\n",
              "      <td>Mumbai</td>\n",
              "      <td>NaN</td>\n",
              "      <td>6400</td>\n",
              "    </tr>\n",
              "    <tr>\n",
              "      <th>6</th>\n",
              "      <td>2013</td>\n",
              "      <td>Mumbai</td>\n",
              "      <td>2.1</td>\n",
              "      <td>6500</td>\n",
              "    </tr>\n",
              "  </tbody>\n",
              "</table>\n",
              "</div>"
            ],
            "text/plain": [
              "   year   metro  popcr  area\n",
              "1  2011   Delhi    NaN  6000\n",
              "2  2012   Delhi    1.7  6100\n",
              "3  2013   Delhi    NaN  6200\n",
              "4  2011  Mumbai    1.9  6300\n",
              "5  2012  Mumbai    NaN  6400\n",
              "6  2013  Mumbai    2.1  6500"
            ]
          },
          "metadata": {},
          "execution_count": 54
        }
      ]
    },
    {
      "cell_type": "markdown",
      "metadata": {
        "id": "o0rJhon580D-"
      },
      "source": [
        "* Assigning values to a nonexisting column will also create that column"
      ]
    },
    {
      "cell_type": "code",
      "metadata": {
        "colab": {
          "base_uri": "https://localhost:8080/",
          "height": 234
        },
        "id": "26HuaNRM78eH",
        "outputId": "50ce24d9-af45-49f0-bf50-3d6404403631"
      },
      "source": [
        "df2['northern'] = (df2.metro == 'Delhi')\n",
        "df2"
      ],
      "execution_count": null,
      "outputs": [
        {
          "output_type": "execute_result",
          "data": {
            "text/html": [
              "<div>\n",
              "<style scoped>\n",
              "    .dataframe tbody tr th:only-of-type {\n",
              "        vertical-align: middle;\n",
              "    }\n",
              "\n",
              "    .dataframe tbody tr th {\n",
              "        vertical-align: top;\n",
              "    }\n",
              "\n",
              "    .dataframe thead th {\n",
              "        text-align: right;\n",
              "    }\n",
              "</style>\n",
              "<table border=\"1\" class=\"dataframe\">\n",
              "  <thead>\n",
              "    <tr style=\"text-align: right;\">\n",
              "      <th></th>\n",
              "      <th>year</th>\n",
              "      <th>metro</th>\n",
              "      <th>popcr</th>\n",
              "      <th>area</th>\n",
              "      <th>northern</th>\n",
              "    </tr>\n",
              "  </thead>\n",
              "  <tbody>\n",
              "    <tr>\n",
              "      <th>1</th>\n",
              "      <td>2011</td>\n",
              "      <td>Delhi</td>\n",
              "      <td>NaN</td>\n",
              "      <td>6000</td>\n",
              "      <td>True</td>\n",
              "    </tr>\n",
              "    <tr>\n",
              "      <th>2</th>\n",
              "      <td>2012</td>\n",
              "      <td>Delhi</td>\n",
              "      <td>1.7</td>\n",
              "      <td>6100</td>\n",
              "      <td>True</td>\n",
              "    </tr>\n",
              "    <tr>\n",
              "      <th>3</th>\n",
              "      <td>2013</td>\n",
              "      <td>Delhi</td>\n",
              "      <td>NaN</td>\n",
              "      <td>6200</td>\n",
              "      <td>True</td>\n",
              "    </tr>\n",
              "    <tr>\n",
              "      <th>4</th>\n",
              "      <td>2011</td>\n",
              "      <td>Mumbai</td>\n",
              "      <td>1.9</td>\n",
              "      <td>6300</td>\n",
              "      <td>False</td>\n",
              "    </tr>\n",
              "    <tr>\n",
              "      <th>5</th>\n",
              "      <td>2012</td>\n",
              "      <td>Mumbai</td>\n",
              "      <td>NaN</td>\n",
              "      <td>6400</td>\n",
              "      <td>False</td>\n",
              "    </tr>\n",
              "    <tr>\n",
              "      <th>6</th>\n",
              "      <td>2013</td>\n",
              "      <td>Mumbai</td>\n",
              "      <td>2.1</td>\n",
              "      <td>6500</td>\n",
              "      <td>False</td>\n",
              "    </tr>\n",
              "  </tbody>\n",
              "</table>\n",
              "</div>"
            ],
            "text/plain": [
              "   year   metro  popcr  area  northern\n",
              "1  2011   Delhi    NaN  6000      True\n",
              "2  2012   Delhi    1.7  6100      True\n",
              "3  2013   Delhi    NaN  6200      True\n",
              "4  2011  Mumbai    1.9  6300     False\n",
              "5  2012  Mumbai    NaN  6400     False\n",
              "6  2013  Mumbai    2.1  6500     False"
            ]
          },
          "metadata": {},
          "execution_count": 55
        }
      ]
    },
    {
      "cell_type": "markdown",
      "metadata": {
        "id": "fbYL_djS9MAI"
      },
      "source": [
        "* Removing a column \n",
        "* Using del keyword"
      ]
    },
    {
      "cell_type": "code",
      "metadata": {
        "id": "XEWl3AOs9J1O"
      },
      "source": [
        "del df2['northern']"
      ],
      "execution_count": null,
      "outputs": []
    },
    {
      "cell_type": "code",
      "metadata": {
        "colab": {
          "base_uri": "https://localhost:8080/"
        },
        "id": "W_Miile39TVF",
        "outputId": "452cf1bb-525a-4140-9fa4-3b2c05f6b959"
      },
      "source": [
        "df2.columns"
      ],
      "execution_count": null,
      "outputs": [
        {
          "output_type": "execute_result",
          "data": {
            "text/plain": [
              "Index(['year', 'metro', 'popcr', 'area'], dtype='object')"
            ]
          },
          "metadata": {},
          "execution_count": 57
        }
      ]
    },
    {
      "cell_type": "markdown",
      "metadata": {
        "id": "FiH6vHkA9-vJ"
      },
      "source": [
        "* Using nested dict of dicts to create a dataframe\n",
        "* Outer dict keys are used as column indices and inner keys as row indices"
      ]
    },
    {
      "cell_type": "code",
      "metadata": {
        "colab": {
          "base_uri": "https://localhost:8080/"
        },
        "id": "NpYRQyhN9WkH",
        "outputId": "2f53dbb8-ee46-4a2e-db37-c1bb4003dae7"
      },
      "source": [
        "dict2 = {'Delhi':{2011: 1.6, 2014: 1.9}, 'Mumbai':{2011: 1.9, 2012: 2.0, 2013: 2.1}}\n",
        "dict2"
      ],
      "execution_count": null,
      "outputs": [
        {
          "output_type": "execute_result",
          "data": {
            "text/plain": [
              "{'Delhi': {2011: 1.6, 2014: 1.9}, 'Mumbai': {2011: 1.9, 2012: 2.0, 2013: 2.1}}"
            ]
          },
          "metadata": {},
          "execution_count": 58
        }
      ]
    },
    {
      "cell_type": "markdown",
      "metadata": {
        "id": "wPULJ6dt-jj5"
      },
      "source": [
        "* Inner dict keys are combined and sorted to forn the index"
      ]
    },
    {
      "cell_type": "code",
      "metadata": {
        "colab": {
          "base_uri": "https://localhost:8080/",
          "height": 172
        },
        "id": "Cl2midgi-iRH",
        "outputId": "a4ca7f20-93b9-4d1d-ecc3-0e8b38640e02"
      },
      "source": [
        "df3 = pd.DataFrame(dict2)\n",
        "df3"
      ],
      "execution_count": null,
      "outputs": [
        {
          "output_type": "execute_result",
          "data": {
            "text/html": [
              "<div>\n",
              "<style scoped>\n",
              "    .dataframe tbody tr th:only-of-type {\n",
              "        vertical-align: middle;\n",
              "    }\n",
              "\n",
              "    .dataframe tbody tr th {\n",
              "        vertical-align: top;\n",
              "    }\n",
              "\n",
              "    .dataframe thead th {\n",
              "        text-align: right;\n",
              "    }\n",
              "</style>\n",
              "<table border=\"1\" class=\"dataframe\">\n",
              "  <thead>\n",
              "    <tr style=\"text-align: right;\">\n",
              "      <th></th>\n",
              "      <th>Delhi</th>\n",
              "      <th>Mumbai</th>\n",
              "    </tr>\n",
              "  </thead>\n",
              "  <tbody>\n",
              "    <tr>\n",
              "      <th>2011</th>\n",
              "      <td>1.6</td>\n",
              "      <td>1.9</td>\n",
              "    </tr>\n",
              "    <tr>\n",
              "      <th>2014</th>\n",
              "      <td>1.9</td>\n",
              "      <td>NaN</td>\n",
              "    </tr>\n",
              "    <tr>\n",
              "      <th>2012</th>\n",
              "      <td>NaN</td>\n",
              "      <td>2.0</td>\n",
              "    </tr>\n",
              "    <tr>\n",
              "      <th>2013</th>\n",
              "      <td>NaN</td>\n",
              "      <td>2.1</td>\n",
              "    </tr>\n",
              "  </tbody>\n",
              "</table>\n",
              "</div>"
            ],
            "text/plain": [
              "      Delhi  Mumbai\n",
              "2011    1.6     1.9\n",
              "2014    1.9     NaN\n",
              "2012    NaN     2.0\n",
              "2013    NaN     2.1"
            ]
          },
          "metadata": {},
          "execution_count": 59
        }
      ]
    },
    {
      "cell_type": "markdown",
      "metadata": {
        "id": "4UNQlXaD-xC3"
      },
      "source": [
        "* Transposing a dataframe: swapping rows and columns\n",
        "* Using T attribute"
      ]
    },
    {
      "cell_type": "code",
      "metadata": {
        "colab": {
          "base_uri": "https://localhost:8080/",
          "height": 110
        },
        "id": "vBGC-Mfi-tm3",
        "outputId": "34f76a01-6bfb-420a-bc7b-4f65a958f829"
      },
      "source": [
        "df3.T"
      ],
      "execution_count": null,
      "outputs": [
        {
          "output_type": "execute_result",
          "data": {
            "text/html": [
              "<div>\n",
              "<style scoped>\n",
              "    .dataframe tbody tr th:only-of-type {\n",
              "        vertical-align: middle;\n",
              "    }\n",
              "\n",
              "    .dataframe tbody tr th {\n",
              "        vertical-align: top;\n",
              "    }\n",
              "\n",
              "    .dataframe thead th {\n",
              "        text-align: right;\n",
              "    }\n",
              "</style>\n",
              "<table border=\"1\" class=\"dataframe\">\n",
              "  <thead>\n",
              "    <tr style=\"text-align: right;\">\n",
              "      <th></th>\n",
              "      <th>2011</th>\n",
              "      <th>2014</th>\n",
              "      <th>2012</th>\n",
              "      <th>2013</th>\n",
              "    </tr>\n",
              "  </thead>\n",
              "  <tbody>\n",
              "    <tr>\n",
              "      <th>Delhi</th>\n",
              "      <td>1.6</td>\n",
              "      <td>1.9</td>\n",
              "      <td>NaN</td>\n",
              "      <td>NaN</td>\n",
              "    </tr>\n",
              "    <tr>\n",
              "      <th>Mumbai</th>\n",
              "      <td>1.9</td>\n",
              "      <td>NaN</td>\n",
              "      <td>2.0</td>\n",
              "      <td>2.1</td>\n",
              "    </tr>\n",
              "  </tbody>\n",
              "</table>\n",
              "</div>"
            ],
            "text/plain": [
              "        2011  2014  2012  2013\n",
              "Delhi    1.6   1.9   NaN   NaN\n",
              "Mumbai   1.9   NaN   2.0   2.1"
            ]
          },
          "metadata": {},
          "execution_count": 60
        }
      ]
    },
    {
      "cell_type": "code",
      "metadata": {
        "colab": {
          "base_uri": "https://localhost:8080/"
        },
        "id": "CSctNn5T_m24",
        "outputId": "33ea37dc-2406-45bd-ba13-ed8f8803b7f8"
      },
      "source": [
        "df3['Mumbai']"
      ],
      "execution_count": null,
      "outputs": [
        {
          "output_type": "execute_result",
          "data": {
            "text/plain": [
              "2011    1.9\n",
              "2014    NaN\n",
              "2012    2.0\n",
              "2013    2.1\n",
              "Name: Mumbai, dtype: float64"
            ]
          },
          "metadata": {},
          "execution_count": 61
        }
      ]
    },
    {
      "cell_type": "markdown",
      "metadata": {
        "id": "UFPu13QI-9qJ"
      },
      "source": [
        "* Using dict of series to create a dataframe"
      ]
    },
    {
      "cell_type": "code",
      "metadata": {
        "colab": {
          "base_uri": "https://localhost:8080/"
        },
        "id": "q1Zfn4FB-7L8",
        "outputId": "ba9cb7e8-39db-498b-8f3a-20bd6d634138"
      },
      "source": [
        "dict2 = {'Delhi': df3['Delhi'][:-1], 'Mumbai': df3['Mumbai'][:2]}\n",
        "dict2"
      ],
      "execution_count": null,
      "outputs": [
        {
          "output_type": "execute_result",
          "data": {
            "text/plain": [
              "{'Delhi': 2011    1.6\n",
              " 2014    1.9\n",
              " 2012    NaN\n",
              " Name: Delhi, dtype: float64, 'Mumbai': 2011    1.9\n",
              " 2014    NaN\n",
              " Name: Mumbai, dtype: float64}"
            ]
          },
          "metadata": {},
          "execution_count": 62
        }
      ]
    },
    {
      "cell_type": "code",
      "metadata": {
        "colab": {
          "base_uri": "https://localhost:8080/",
          "height": 142
        },
        "id": "CxOiZo1c_xfP",
        "outputId": "554a20a3-1a5a-43be-8101-4a381fcb271e"
      },
      "source": [
        "pd.DataFrame(dict2)"
      ],
      "execution_count": null,
      "outputs": [
        {
          "output_type": "execute_result",
          "data": {
            "text/html": [
              "<div>\n",
              "<style scoped>\n",
              "    .dataframe tbody tr th:only-of-type {\n",
              "        vertical-align: middle;\n",
              "    }\n",
              "\n",
              "    .dataframe tbody tr th {\n",
              "        vertical-align: top;\n",
              "    }\n",
              "\n",
              "    .dataframe thead th {\n",
              "        text-align: right;\n",
              "    }\n",
              "</style>\n",
              "<table border=\"1\" class=\"dataframe\">\n",
              "  <thead>\n",
              "    <tr style=\"text-align: right;\">\n",
              "      <th></th>\n",
              "      <th>Delhi</th>\n",
              "      <th>Mumbai</th>\n",
              "    </tr>\n",
              "  </thead>\n",
              "  <tbody>\n",
              "    <tr>\n",
              "      <th>2011</th>\n",
              "      <td>1.6</td>\n",
              "      <td>1.9</td>\n",
              "    </tr>\n",
              "    <tr>\n",
              "      <th>2012</th>\n",
              "      <td>NaN</td>\n",
              "      <td>NaN</td>\n",
              "    </tr>\n",
              "    <tr>\n",
              "      <th>2014</th>\n",
              "      <td>1.9</td>\n",
              "      <td>NaN</td>\n",
              "    </tr>\n",
              "  </tbody>\n",
              "</table>\n",
              "</div>"
            ],
            "text/plain": [
              "      Delhi  Mumbai\n",
              "2011    1.6     1.9\n",
              "2012    NaN     NaN\n",
              "2014    1.9     NaN"
            ]
          },
          "metadata": {},
          "execution_count": 63
        }
      ]
    },
    {
      "cell_type": "markdown",
      "metadata": {
        "id": "2n-URQ47_7pb"
      },
      "source": [
        "* Name attributes in dataframe"
      ]
    },
    {
      "cell_type": "code",
      "metadata": {
        "colab": {
          "base_uri": "https://localhost:8080/",
          "height": 172
        },
        "id": "ABBvgdGj_5vn",
        "outputId": "466ef639-b9da-4fe0-dabb-47e0bd80624a"
      },
      "source": [
        "df3"
      ],
      "execution_count": null,
      "outputs": [
        {
          "output_type": "execute_result",
          "data": {
            "text/html": [
              "<div>\n",
              "<style scoped>\n",
              "    .dataframe tbody tr th:only-of-type {\n",
              "        vertical-align: middle;\n",
              "    }\n",
              "\n",
              "    .dataframe tbody tr th {\n",
              "        vertical-align: top;\n",
              "    }\n",
              "\n",
              "    .dataframe thead th {\n",
              "        text-align: right;\n",
              "    }\n",
              "</style>\n",
              "<table border=\"1\" class=\"dataframe\">\n",
              "  <thead>\n",
              "    <tr style=\"text-align: right;\">\n",
              "      <th></th>\n",
              "      <th>Delhi</th>\n",
              "      <th>Mumbai</th>\n",
              "    </tr>\n",
              "  </thead>\n",
              "  <tbody>\n",
              "    <tr>\n",
              "      <th>2011</th>\n",
              "      <td>1.6</td>\n",
              "      <td>1.9</td>\n",
              "    </tr>\n",
              "    <tr>\n",
              "      <th>2014</th>\n",
              "      <td>1.9</td>\n",
              "      <td>NaN</td>\n",
              "    </tr>\n",
              "    <tr>\n",
              "      <th>2012</th>\n",
              "      <td>NaN</td>\n",
              "      <td>2.0</td>\n",
              "    </tr>\n",
              "    <tr>\n",
              "      <th>2013</th>\n",
              "      <td>NaN</td>\n",
              "      <td>2.1</td>\n",
              "    </tr>\n",
              "  </tbody>\n",
              "</table>\n",
              "</div>"
            ],
            "text/plain": [
              "      Delhi  Mumbai\n",
              "2011    1.6     1.9\n",
              "2014    1.9     NaN\n",
              "2012    NaN     2.0\n",
              "2013    NaN     2.1"
            ]
          },
          "metadata": {},
          "execution_count": 64
        }
      ]
    },
    {
      "cell_type": "markdown",
      "metadata": {
        "id": "pQg3x938ACml"
      },
      "source": [
        "* For row index"
      ]
    },
    {
      "cell_type": "code",
      "metadata": {
        "id": "BPowukqOAAm1"
      },
      "source": [
        "df3.index.name = 'year'"
      ],
      "execution_count": null,
      "outputs": []
    },
    {
      "cell_type": "markdown",
      "metadata": {
        "id": "D4VM0aZ4AWRu"
      },
      "source": [
        "* for column index"
      ]
    },
    {
      "cell_type": "code",
      "metadata": {
        "id": "imCW_6wTAG63"
      },
      "source": [
        "df3.columns.name = 'metro'"
      ],
      "execution_count": null,
      "outputs": []
    },
    {
      "cell_type": "code",
      "metadata": {
        "colab": {
          "base_uri": "https://localhost:8080/",
          "height": 203
        },
        "id": "17AkmuIlAbCq",
        "outputId": "2ba878d3-2377-4a6a-9f10-ffd45909afc0"
      },
      "source": [
        "df3"
      ],
      "execution_count": null,
      "outputs": [
        {
          "output_type": "execute_result",
          "data": {
            "text/html": [
              "<div>\n",
              "<style scoped>\n",
              "    .dataframe tbody tr th:only-of-type {\n",
              "        vertical-align: middle;\n",
              "    }\n",
              "\n",
              "    .dataframe tbody tr th {\n",
              "        vertical-align: top;\n",
              "    }\n",
              "\n",
              "    .dataframe thead th {\n",
              "        text-align: right;\n",
              "    }\n",
              "</style>\n",
              "<table border=\"1\" class=\"dataframe\">\n",
              "  <thead>\n",
              "    <tr style=\"text-align: right;\">\n",
              "      <th>metro</th>\n",
              "      <th>Delhi</th>\n",
              "      <th>Mumbai</th>\n",
              "    </tr>\n",
              "    <tr>\n",
              "      <th>year</th>\n",
              "      <th></th>\n",
              "      <th></th>\n",
              "    </tr>\n",
              "  </thead>\n",
              "  <tbody>\n",
              "    <tr>\n",
              "      <th>2011</th>\n",
              "      <td>1.6</td>\n",
              "      <td>1.9</td>\n",
              "    </tr>\n",
              "    <tr>\n",
              "      <th>2014</th>\n",
              "      <td>1.9</td>\n",
              "      <td>NaN</td>\n",
              "    </tr>\n",
              "    <tr>\n",
              "      <th>2012</th>\n",
              "      <td>NaN</td>\n",
              "      <td>2.0</td>\n",
              "    </tr>\n",
              "    <tr>\n",
              "      <th>2013</th>\n",
              "      <td>NaN</td>\n",
              "      <td>2.1</td>\n",
              "    </tr>\n",
              "  </tbody>\n",
              "</table>\n",
              "</div>"
            ],
            "text/plain": [
              "metro  Delhi  Mumbai\n",
              "year                \n",
              "2011     1.6     1.9\n",
              "2014     1.9     NaN\n",
              "2012     NaN     2.0\n",
              "2013     NaN     2.1"
            ]
          },
          "metadata": {},
          "execution_count": 67
        }
      ]
    },
    {
      "cell_type": "markdown",
      "metadata": {
        "id": "0UbuLsRPAdND"
      },
      "source": [
        "* Values attribbute in dataframe\n",
        "* e.g., when dataframe columns have same dtype"
      ]
    },
    {
      "cell_type": "code",
      "metadata": {
        "colab": {
          "base_uri": "https://localhost:8080/"
        },
        "id": "SYcGLDNdAbf-",
        "outputId": "7e78929e-0dd9-4178-a666-4b352b498222"
      },
      "source": [
        "df3.values"
      ],
      "execution_count": null,
      "outputs": [
        {
          "output_type": "execute_result",
          "data": {
            "text/plain": [
              "array([[1.6, 1.9],\n",
              "       [1.9, nan],\n",
              "       [nan, 2. ],\n",
              "       [nan, 2.1]])"
            ]
          },
          "metadata": {},
          "execution_count": 68
        }
      ]
    },
    {
      "cell_type": "markdown",
      "metadata": {
        "id": "p9Lqul3wAwn6"
      },
      "source": [
        "* When dataframe columns have different types"
      ]
    },
    {
      "cell_type": "code",
      "metadata": {
        "colab": {
          "base_uri": "https://localhost:8080/",
          "height": 234
        },
        "id": "DJaTsy-XAmud",
        "outputId": "3ac75a8e-611f-4ce4-a38a-57b8659a4a96"
      },
      "source": [
        "df2"
      ],
      "execution_count": null,
      "outputs": [
        {
          "output_type": "execute_result",
          "data": {
            "text/html": [
              "<div>\n",
              "<style scoped>\n",
              "    .dataframe tbody tr th:only-of-type {\n",
              "        vertical-align: middle;\n",
              "    }\n",
              "\n",
              "    .dataframe tbody tr th {\n",
              "        vertical-align: top;\n",
              "    }\n",
              "\n",
              "    .dataframe thead th {\n",
              "        text-align: right;\n",
              "    }\n",
              "</style>\n",
              "<table border=\"1\" class=\"dataframe\">\n",
              "  <thead>\n",
              "    <tr style=\"text-align: right;\">\n",
              "      <th></th>\n",
              "      <th>year</th>\n",
              "      <th>metro</th>\n",
              "      <th>popcr</th>\n",
              "      <th>area</th>\n",
              "    </tr>\n",
              "  </thead>\n",
              "  <tbody>\n",
              "    <tr>\n",
              "      <th>1</th>\n",
              "      <td>2011</td>\n",
              "      <td>Delhi</td>\n",
              "      <td>NaN</td>\n",
              "      <td>6000</td>\n",
              "    </tr>\n",
              "    <tr>\n",
              "      <th>2</th>\n",
              "      <td>2012</td>\n",
              "      <td>Delhi</td>\n",
              "      <td>1.7</td>\n",
              "      <td>6100</td>\n",
              "    </tr>\n",
              "    <tr>\n",
              "      <th>3</th>\n",
              "      <td>2013</td>\n",
              "      <td>Delhi</td>\n",
              "      <td>NaN</td>\n",
              "      <td>6200</td>\n",
              "    </tr>\n",
              "    <tr>\n",
              "      <th>4</th>\n",
              "      <td>2011</td>\n",
              "      <td>Mumbai</td>\n",
              "      <td>1.9</td>\n",
              "      <td>6300</td>\n",
              "    </tr>\n",
              "    <tr>\n",
              "      <th>5</th>\n",
              "      <td>2012</td>\n",
              "      <td>Mumbai</td>\n",
              "      <td>NaN</td>\n",
              "      <td>6400</td>\n",
              "    </tr>\n",
              "    <tr>\n",
              "      <th>6</th>\n",
              "      <td>2013</td>\n",
              "      <td>Mumbai</td>\n",
              "      <td>2.1</td>\n",
              "      <td>6500</td>\n",
              "    </tr>\n",
              "  </tbody>\n",
              "</table>\n",
              "</div>"
            ],
            "text/plain": [
              "   year   metro  popcr  area\n",
              "1  2011   Delhi    NaN  6000\n",
              "2  2012   Delhi    1.7  6100\n",
              "3  2013   Delhi    NaN  6200\n",
              "4  2011  Mumbai    1.9  6300\n",
              "5  2012  Mumbai    NaN  6400\n",
              "6  2013  Mumbai    2.1  6500"
            ]
          },
          "metadata": {},
          "execution_count": 69
        }
      ]
    },
    {
      "cell_type": "code",
      "metadata": {
        "colab": {
          "base_uri": "https://localhost:8080/"
        },
        "id": "8SuG3FF1A13E",
        "outputId": "0ad472c0-8359-413b-d766-30c398b56c10"
      },
      "source": [
        "df2.values"
      ],
      "execution_count": null,
      "outputs": [
        {
          "output_type": "execute_result",
          "data": {
            "text/plain": [
              "array([[2011, 'Delhi', nan, 6000],\n",
              "       [2012, 'Delhi', 1.7, 6100],\n",
              "       [2013, 'Delhi', nan, 6200],\n",
              "       [2011, 'Mumbai', 1.9, 6300],\n",
              "       [2012, 'Mumbai', nan, 6400],\n",
              "       [2013, 'Mumbai', 2.1, 6500]], dtype=object)"
            ]
          },
          "metadata": {},
          "execution_count": 70
        }
      ]
    },
    {
      "cell_type": "markdown",
      "metadata": {
        "id": "ytyAETqkA4eL"
      },
      "source": [
        "* More on 'index objects' in series and dataframe\n",
        "* immutable array -like objects\n",
        "* Also store metadata other than axis labels (index values)\n",
        "* Sentences of labels used while creating a series or dataframe are iinternally converted into index object"
      ]
    },
    {
      "cell_type": "code",
      "metadata": {
        "id": "g9wRuglyA24O"
      },
      "source": [
        "series5 = pd.Series(range(3), index = ['a', 'b', 'c'])\n"
      ],
      "execution_count": null,
      "outputs": []
    },
    {
      "cell_type": "code",
      "metadata": {
        "colab": {
          "base_uri": "https://localhost:8080/"
        },
        "id": "-LoLEkSvBqnk",
        "outputId": "ec554fe9-b416-447d-ff55-70d2ef9e137b"
      },
      "source": [
        "series5.index"
      ],
      "execution_count": null,
      "outputs": [
        {
          "output_type": "execute_result",
          "data": {
            "text/plain": [
              "Index(['a', 'b', 'c'], dtype='object')"
            ]
          },
          "metadata": {},
          "execution_count": 72
        }
      ]
    },
    {
      "cell_type": "markdown",
      "metadata": {
        "id": "AqLui7gIBuIY"
      },
      "source": [
        "* Subsetting"
      ]
    },
    {
      "cell_type": "code",
      "metadata": {
        "id": "dh-tjs7dBsf4"
      },
      "source": [
        "ind1 = series5.index"
      ],
      "execution_count": null,
      "outputs": []
    },
    {
      "cell_type": "code",
      "metadata": {
        "colab": {
          "base_uri": "https://localhost:8080/"
        },
        "id": "ILlXLi2iB0Ar",
        "outputId": "f0c5b650-834b-4d59-c50b-fec3089d3339"
      },
      "source": [
        "ind1[1:]"
      ],
      "execution_count": null,
      "outputs": [
        {
          "output_type": "execute_result",
          "data": {
            "text/plain": [
              "Index(['b', 'c'], dtype='object')"
            ]
          },
          "metadata": {},
          "execution_count": 74
        }
      ]
    },
    {
      "cell_type": "code",
      "metadata": {
        "colab": {
          "base_uri": "https://localhost:8080/"
        },
        "id": "_RkwsNM9B1bt",
        "outputId": "0580bf71-8467-4c15-ed39-b9fd54832f0b"
      },
      "source": [
        "ind1[0:2]"
      ],
      "execution_count": null,
      "outputs": [
        {
          "output_type": "execute_result",
          "data": {
            "text/plain": [
              "Index(['a', 'b'], dtype='object')"
            ]
          },
          "metadata": {},
          "execution_count": 75
        }
      ]
    },
    {
      "cell_type": "markdown",
      "metadata": {
        "id": "n5D_dy5yB5Ri"
      },
      "source": [
        "* immutability"
      ]
    },
    {
      "cell_type": "code",
      "metadata": {
        "colab": {
          "base_uri": "https://localhost:8080/",
          "height": 279
        },
        "id": "HLgEDmzgB39s",
        "outputId": "6c92810e-d862-43e7-a7be-9a3bb3224e00"
      },
      "source": [
        "ind1[1] = 'd'"
      ],
      "execution_count": null,
      "outputs": [
        {
          "output_type": "error",
          "ename": "TypeError",
          "evalue": "ignored",
          "traceback": [
            "\u001b[0;31m---------------------------------------------------------------------------\u001b[0m",
            "\u001b[0;31mTypeError\u001b[0m                                 Traceback (most recent call last)",
            "\u001b[0;32m<ipython-input-76-daf04c979f89>\u001b[0m in \u001b[0;36m<module>\u001b[0;34m()\u001b[0m\n\u001b[0;32m----> 1\u001b[0;31m \u001b[0mind1\u001b[0m\u001b[0;34m[\u001b[0m\u001b[0;36m1\u001b[0m\u001b[0;34m]\u001b[0m \u001b[0;34m=\u001b[0m \u001b[0;34m'd'\u001b[0m\u001b[0;34m\u001b[0m\u001b[0;34m\u001b[0m\u001b[0m\n\u001b[0m",
            "\u001b[0;32m/usr/local/lib/python3.7/dist-packages/pandas/core/indexes/base.py\u001b[0m in \u001b[0;36m__setitem__\u001b[0;34m(self, key, value)\u001b[0m\n\u001b[1;32m   4082\u001b[0m \u001b[0;34m\u001b[0m\u001b[0m\n\u001b[1;32m   4083\u001b[0m     \u001b[0;32mdef\u001b[0m \u001b[0m__setitem__\u001b[0m\u001b[0;34m(\u001b[0m\u001b[0mself\u001b[0m\u001b[0;34m,\u001b[0m \u001b[0mkey\u001b[0m\u001b[0;34m,\u001b[0m \u001b[0mvalue\u001b[0m\u001b[0;34m)\u001b[0m\u001b[0;34m:\u001b[0m\u001b[0;34m\u001b[0m\u001b[0;34m\u001b[0m\u001b[0m\n\u001b[0;32m-> 4084\u001b[0;31m         \u001b[0;32mraise\u001b[0m \u001b[0mTypeError\u001b[0m\u001b[0;34m(\u001b[0m\u001b[0;34m\"Index does not support mutable operations\"\u001b[0m\u001b[0;34m)\u001b[0m\u001b[0;34m\u001b[0m\u001b[0;34m\u001b[0m\u001b[0m\n\u001b[0m\u001b[1;32m   4085\u001b[0m \u001b[0;34m\u001b[0m\u001b[0m\n\u001b[1;32m   4086\u001b[0m     \u001b[0;32mdef\u001b[0m \u001b[0m__getitem__\u001b[0m\u001b[0;34m(\u001b[0m\u001b[0mself\u001b[0m\u001b[0;34m,\u001b[0m \u001b[0mkey\u001b[0m\u001b[0;34m)\u001b[0m\u001b[0;34m:\u001b[0m\u001b[0;34m\u001b[0m\u001b[0;34m\u001b[0m\u001b[0m\n",
            "\u001b[0;31mTypeError\u001b[0m: Index does not support mutable operations"
          ]
        }
      ]
    },
    {
      "cell_type": "markdown",
      "metadata": {
        "id": "7-CX1Zl2COeX"
      },
      "source": [
        "* Creating index using Index function"
      ]
    },
    {
      "cell_type": "code",
      "metadata": {
        "id": "aewENnICB9RG"
      },
      "source": [
        "ind2 = pd.Index(np.arange(3))"
      ],
      "execution_count": null,
      "outputs": []
    },
    {
      "cell_type": "code",
      "metadata": {
        "id": "XyOfOw__CWDa",
        "colab": {
          "base_uri": "https://localhost:8080/"
        },
        "outputId": "5f053665-caf9-4908-aab4-4f5fcaf71de3"
      },
      "source": [
        "ind2"
      ],
      "execution_count": null,
      "outputs": [
        {
          "output_type": "execute_result",
          "data": {
            "text/plain": [
              "Int64Index([0, 1, 2], dtype='int64')"
            ]
          },
          "metadata": {},
          "execution_count": 78
        }
      ]
    },
    {
      "cell_type": "code",
      "metadata": {
        "id": "OG5ZcjybCWoz",
        "colab": {
          "base_uri": "https://localhost:8080/"
        },
        "outputId": "cfb1e76e-fd62-460e-c083-f524f39feee6"
      },
      "source": [
        "series6 = pd.Series([1.5, -2.5, 0], index = ind2)\n",
        "series6"
      ],
      "execution_count": null,
      "outputs": [
        {
          "output_type": "execute_result",
          "data": {
            "text/plain": [
              "0    1.5\n",
              "1   -2.5\n",
              "2    0.0\n",
              "dtype: float64"
            ]
          },
          "metadata": {},
          "execution_count": 79
        }
      ]
    },
    {
      "cell_type": "code",
      "metadata": {
        "id": "qQwbC4b_ChKW",
        "colab": {
          "base_uri": "https://localhost:8080/"
        },
        "outputId": "d81c2d51-9a17-4b81-c3d3-85d5a4d4bd05"
      },
      "source": [
        "series6.index is ind2"
      ],
      "execution_count": null,
      "outputs": [
        {
          "output_type": "execute_result",
          "data": {
            "text/plain": [
              "True"
            ]
          },
          "metadata": {},
          "execution_count": 80
        }
      ]
    },
    {
      "cell_type": "markdown",
      "metadata": {
        "id": "H6jTAIRWCrbI"
      },
      "source": [
        "* Index objects display set like behavior"
      ]
    },
    {
      "cell_type": "code",
      "metadata": {
        "id": "gL9RzhXpClGN",
        "colab": {
          "base_uri": "https://localhost:8080/",
          "height": 203
        },
        "outputId": "5672c311-19e2-4999-e964-0618be536ecb"
      },
      "source": [
        "df3"
      ],
      "execution_count": null,
      "outputs": [
        {
          "output_type": "execute_result",
          "data": {
            "text/html": [
              "<div>\n",
              "<style scoped>\n",
              "    .dataframe tbody tr th:only-of-type {\n",
              "        vertical-align: middle;\n",
              "    }\n",
              "\n",
              "    .dataframe tbody tr th {\n",
              "        vertical-align: top;\n",
              "    }\n",
              "\n",
              "    .dataframe thead th {\n",
              "        text-align: right;\n",
              "    }\n",
              "</style>\n",
              "<table border=\"1\" class=\"dataframe\">\n",
              "  <thead>\n",
              "    <tr style=\"text-align: right;\">\n",
              "      <th>metro</th>\n",
              "      <th>Delhi</th>\n",
              "      <th>Mumbai</th>\n",
              "    </tr>\n",
              "    <tr>\n",
              "      <th>year</th>\n",
              "      <th></th>\n",
              "      <th></th>\n",
              "    </tr>\n",
              "  </thead>\n",
              "  <tbody>\n",
              "    <tr>\n",
              "      <th>2011</th>\n",
              "      <td>1.6</td>\n",
              "      <td>1.9</td>\n",
              "    </tr>\n",
              "    <tr>\n",
              "      <th>2014</th>\n",
              "      <td>1.9</td>\n",
              "      <td>NaN</td>\n",
              "    </tr>\n",
              "    <tr>\n",
              "      <th>2012</th>\n",
              "      <td>NaN</td>\n",
              "      <td>2.0</td>\n",
              "    </tr>\n",
              "    <tr>\n",
              "      <th>2013</th>\n",
              "      <td>NaN</td>\n",
              "      <td>2.1</td>\n",
              "    </tr>\n",
              "  </tbody>\n",
              "</table>\n",
              "</div>"
            ],
            "text/plain": [
              "metro  Delhi  Mumbai\n",
              "year                \n",
              "2011     1.6     1.9\n",
              "2014     1.9     NaN\n",
              "2012     NaN     2.0\n",
              "2013     NaN     2.1"
            ]
          },
          "metadata": {},
          "execution_count": 81
        }
      ]
    },
    {
      "cell_type": "code",
      "metadata": {
        "id": "_qfNAI_oCw1w",
        "colab": {
          "base_uri": "https://localhost:8080/"
        },
        "outputId": "7c7e5027-97c1-4706-bedc-0acc4d71fd31"
      },
      "source": [
        "df3.columns"
      ],
      "execution_count": null,
      "outputs": [
        {
          "output_type": "execute_result",
          "data": {
            "text/plain": [
              "Index(['Delhi', 'Mumbai'], dtype='object', name='metro')"
            ]
          },
          "metadata": {},
          "execution_count": 82
        }
      ]
    },
    {
      "cell_type": "code",
      "metadata": {
        "id": "mzoPziX0C_C8",
        "colab": {
          "base_uri": "https://localhost:8080/"
        },
        "outputId": "9398d7c4-edc3-4590-c2af-ac468762a619"
      },
      "source": [
        "'Mumbai' in df3.columns"
      ],
      "execution_count": null,
      "outputs": [
        {
          "output_type": "execute_result",
          "data": {
            "text/plain": [
              "True"
            ]
          },
          "metadata": {},
          "execution_count": 83
        }
      ]
    },
    {
      "cell_type": "code",
      "metadata": {
        "id": "wEYzlxTTDDVb",
        "colab": {
          "base_uri": "https://localhost:8080/"
        },
        "outputId": "b06bf68d-11d0-44e4-ab6e-89083e4a2bfa"
      },
      "source": [
        "2014 in df3.index"
      ],
      "execution_count": null,
      "outputs": [
        {
          "output_type": "execute_result",
          "data": {
            "text/plain": [
              "True"
            ]
          },
          "metadata": {},
          "execution_count": 84
        }
      ]
    },
    {
      "cell_type": "markdown",
      "metadata": {
        "id": "3TMf97boDPkd"
      },
      "source": [
        "* However, index objects can have duplicate elements unlike sets"
      ]
    },
    {
      "cell_type": "code",
      "metadata": {
        "id": "JQc0-V8nDHGE"
      },
      "source": [
        "ind3 = pd.Index(['beta', 'alpha', 'beta', 'sigma'])"
      ],
      "execution_count": null,
      "outputs": []
    },
    {
      "cell_type": "code",
      "metadata": {
        "id": "3GexMlK9DeTF",
        "colab": {
          "base_uri": "https://localhost:8080/"
        },
        "outputId": "d939e3a3-743b-46f5-ddd5-f13db3ad4eaf"
      },
      "source": [
        "ind3"
      ],
      "execution_count": null,
      "outputs": [
        {
          "output_type": "execute_result",
          "data": {
            "text/plain": [
              "Index(['beta', 'alpha', 'beta', 'sigma'], dtype='object')"
            ]
          },
          "metadata": {},
          "execution_count": 86
        }
      ]
    },
    {
      "cell_type": "code",
      "metadata": {
        "id": "qUkNXRJ2DiMZ"
      },
      "source": [
        "series7 = pd.Series([1.1, 1.2, 1.3, 1.4], index = ind3)"
      ],
      "execution_count": null,
      "outputs": []
    },
    {
      "cell_type": "code",
      "metadata": {
        "id": "Ss9jigAHDpHZ",
        "colab": {
          "base_uri": "https://localhost:8080/"
        },
        "outputId": "d41afcc1-be6e-4f03-a359-c87e1ebbb3f9"
      },
      "source": [
        "series7"
      ],
      "execution_count": null,
      "outputs": [
        {
          "output_type": "execute_result",
          "data": {
            "text/plain": [
              "beta     1.1\n",
              "alpha    1.2\n",
              "beta     1.3\n",
              "sigma    1.4\n",
              "dtype: float64"
            ]
          },
          "metadata": {},
          "execution_count": 88
        }
      ]
    },
    {
      "cell_type": "code",
      "metadata": {
        "id": "Mre289qVDqC7",
        "colab": {
          "base_uri": "https://localhost:8080/"
        },
        "outputId": "44a796a6-bc1c-45e1-f670-c11a90d7c99e"
      },
      "source": [
        "series7['beta']"
      ],
      "execution_count": null,
      "outputs": [
        {
          "output_type": "execute_result",
          "data": {
            "text/plain": [
              "beta    1.1\n",
              "beta    1.3\n",
              "dtype: float64"
            ]
          },
          "metadata": {},
          "execution_count": 89
        }
      ]
    },
    {
      "cell_type": "markdown",
      "metadata": {
        "id": "-ItEyw9XD4Lu"
      },
      "source": [
        "* Interaction mechanism with the data in a series or dataframe\n",
        "* Example: reindexing\n",
        "* Using reindex method"
      ]
    },
    {
      "cell_type": "code",
      "metadata": {
        "id": "Z7gq8dVtDy5r"
      },
      "source": [
        "series8 = pd.Series([4.5, 7.2, -5.3, 3.6], index = ['d', 'b','a', 'c'])"
      ],
      "execution_count": null,
      "outputs": []
    },
    {
      "cell_type": "code",
      "metadata": {
        "id": "DVA2pnjFEUVW",
        "colab": {
          "base_uri": "https://localhost:8080/"
        },
        "outputId": "9820c864-562f-48f2-a522-828569abbfa7"
      },
      "source": [
        "series8"
      ],
      "execution_count": null,
      "outputs": [
        {
          "output_type": "execute_result",
          "data": {
            "text/plain": [
              "d    4.5\n",
              "b    7.2\n",
              "a   -5.3\n",
              "c    3.6\n",
              "dtype: float64"
            ]
          },
          "metadata": {},
          "execution_count": 91
        }
      ]
    },
    {
      "cell_type": "markdown",
      "metadata": {
        "id": "dys_kkfLEh4o"
      },
      "source": [
        "**Lecture 28 Database Using Python - Pandas - Part III**"
      ]
    },
    {
      "cell_type": "code",
      "metadata": {
        "id": "UfKLUbr8EVKt"
      },
      "source": [
        "series9 = series8.reindex(['a', 'b', 'c', 'd', 'e'])"
      ],
      "execution_count": null,
      "outputs": []
    },
    {
      "cell_type": "code",
      "metadata": {
        "id": "V1jFYHCCOXuV",
        "colab": {
          "base_uri": "https://localhost:8080/"
        },
        "outputId": "67abccef-6dea-4c33-db8b-8bacdb339fc6"
      },
      "source": [
        "series9"
      ],
      "execution_count": null,
      "outputs": [
        {
          "output_type": "execute_result",
          "data": {
            "text/plain": [
              "a   -5.3\n",
              "b    7.2\n",
              "c    3.6\n",
              "d    4.5\n",
              "e    NaN\n",
              "dtype: float64"
            ]
          },
          "metadata": {},
          "execution_count": 93
        }
      ]
    },
    {
      "cell_type": "markdown",
      "metadata": {
        "id": "eblO0gtfOctZ"
      },
      "source": [
        "* filling values when reindexing \n",
        "* Using ffill method\n"
      ]
    },
    {
      "cell_type": "code",
      "metadata": {
        "id": "SAfaiNyROZJ3"
      },
      "source": [
        "series10 = pd.Series(['blue', 'purple', 'yellow'], index = [0, 2, 4])"
      ],
      "execution_count": null,
      "outputs": []
    },
    {
      "cell_type": "code",
      "metadata": {
        "id": "dGRTN2iwOsKL",
        "colab": {
          "base_uri": "https://localhost:8080/"
        },
        "outputId": "56d6bec6-dd8a-4e14-be0c-7dc8cd90de7e"
      },
      "source": [
        "series10"
      ],
      "execution_count": null,
      "outputs": [
        {
          "output_type": "execute_result",
          "data": {
            "text/plain": [
              "0      blue\n",
              "2    purple\n",
              "4    yellow\n",
              "dtype: object"
            ]
          },
          "metadata": {},
          "execution_count": 95
        }
      ]
    },
    {
      "cell_type": "code",
      "metadata": {
        "id": "AUCbk2Y2OtA7",
        "colab": {
          "base_uri": "https://localhost:8080/"
        },
        "outputId": "e39c1dc3-481d-4619-8910-9d0faba79a6a"
      },
      "source": [
        "series11 = series10.reindex(range(6), method = 'ffill')\n",
        "series11"
      ],
      "execution_count": null,
      "outputs": [
        {
          "output_type": "execute_result",
          "data": {
            "text/plain": [
              "0      blue\n",
              "1      blue\n",
              "2    purple\n",
              "3    purple\n",
              "4    yellow\n",
              "5    yellow\n",
              "dtype: object"
            ]
          },
          "metadata": {},
          "execution_count": 96
        }
      ]
    },
    {
      "cell_type": "markdown",
      "metadata": {
        "id": "g13WM_05PI7p"
      },
      "source": [
        "* Reindexing with dataframe"
      ]
    },
    {
      "cell_type": "code",
      "metadata": {
        "id": "CQ3AW9VgPG-w",
        "colab": {
          "base_uri": "https://localhost:8080/",
          "height": 142
        },
        "outputId": "5d9a4b1f-1979-4853-a140-b9fe8dc09f03"
      },
      "source": [
        "df4 = pd.DataFrame(np.arange(9).reshape((3,3)), index = ['a', 'c', 'd'], columns=['Delhi', 'Mumbai', 'Bangalore'])\n",
        "df4"
      ],
      "execution_count": null,
      "outputs": [
        {
          "output_type": "execute_result",
          "data": {
            "text/html": [
              "<div>\n",
              "<style scoped>\n",
              "    .dataframe tbody tr th:only-of-type {\n",
              "        vertical-align: middle;\n",
              "    }\n",
              "\n",
              "    .dataframe tbody tr th {\n",
              "        vertical-align: top;\n",
              "    }\n",
              "\n",
              "    .dataframe thead th {\n",
              "        text-align: right;\n",
              "    }\n",
              "</style>\n",
              "<table border=\"1\" class=\"dataframe\">\n",
              "  <thead>\n",
              "    <tr style=\"text-align: right;\">\n",
              "      <th></th>\n",
              "      <th>Delhi</th>\n",
              "      <th>Mumbai</th>\n",
              "      <th>Bangalore</th>\n",
              "    </tr>\n",
              "  </thead>\n",
              "  <tbody>\n",
              "    <tr>\n",
              "      <th>a</th>\n",
              "      <td>0</td>\n",
              "      <td>1</td>\n",
              "      <td>2</td>\n",
              "    </tr>\n",
              "    <tr>\n",
              "      <th>c</th>\n",
              "      <td>3</td>\n",
              "      <td>4</td>\n",
              "      <td>5</td>\n",
              "    </tr>\n",
              "    <tr>\n",
              "      <th>d</th>\n",
              "      <td>6</td>\n",
              "      <td>7</td>\n",
              "      <td>8</td>\n",
              "    </tr>\n",
              "  </tbody>\n",
              "</table>\n",
              "</div>"
            ],
            "text/plain": [
              "   Delhi  Mumbai  Bangalore\n",
              "a      0       1          2\n",
              "c      3       4          5\n",
              "d      6       7          8"
            ]
          },
          "metadata": {},
          "execution_count": 97
        }
      ]
    },
    {
      "cell_type": "markdown",
      "metadata": {
        "id": "BC2MSL7VPwUb"
      },
      "source": [
        "* Reindexing rows index"
      ]
    },
    {
      "cell_type": "code",
      "metadata": {
        "id": "tVykwNK_PiPn",
        "colab": {
          "base_uri": "https://localhost:8080/",
          "height": 172
        },
        "outputId": "e3c91730-a329-4657-c92f-2bc75525cf71"
      },
      "source": [
        "df5 = df4.reindex(['a', 'b', 'c', 'd'])\n",
        "df5"
      ],
      "execution_count": null,
      "outputs": [
        {
          "output_type": "execute_result",
          "data": {
            "text/html": [
              "<div>\n",
              "<style scoped>\n",
              "    .dataframe tbody tr th:only-of-type {\n",
              "        vertical-align: middle;\n",
              "    }\n",
              "\n",
              "    .dataframe tbody tr th {\n",
              "        vertical-align: top;\n",
              "    }\n",
              "\n",
              "    .dataframe thead th {\n",
              "        text-align: right;\n",
              "    }\n",
              "</style>\n",
              "<table border=\"1\" class=\"dataframe\">\n",
              "  <thead>\n",
              "    <tr style=\"text-align: right;\">\n",
              "      <th></th>\n",
              "      <th>Delhi</th>\n",
              "      <th>Mumbai</th>\n",
              "      <th>Bangalore</th>\n",
              "    </tr>\n",
              "  </thead>\n",
              "  <tbody>\n",
              "    <tr>\n",
              "      <th>a</th>\n",
              "      <td>0.0</td>\n",
              "      <td>1.0</td>\n",
              "      <td>2.0</td>\n",
              "    </tr>\n",
              "    <tr>\n",
              "      <th>b</th>\n",
              "      <td>NaN</td>\n",
              "      <td>NaN</td>\n",
              "      <td>NaN</td>\n",
              "    </tr>\n",
              "    <tr>\n",
              "      <th>c</th>\n",
              "      <td>3.0</td>\n",
              "      <td>4.0</td>\n",
              "      <td>5.0</td>\n",
              "    </tr>\n",
              "    <tr>\n",
              "      <th>d</th>\n",
              "      <td>6.0</td>\n",
              "      <td>7.0</td>\n",
              "      <td>8.0</td>\n",
              "    </tr>\n",
              "  </tbody>\n",
              "</table>\n",
              "</div>"
            ],
            "text/plain": [
              "   Delhi  Mumbai  Bangalore\n",
              "a    0.0     1.0        2.0\n",
              "b    NaN     NaN        NaN\n",
              "c    3.0     4.0        5.0\n",
              "d    6.0     7.0        8.0"
            ]
          },
          "metadata": {},
          "execution_count": 98
        }
      ]
    },
    {
      "cell_type": "markdown",
      "metadata": {
        "id": "_LEWZA3VP72n"
      },
      "source": [
        "* reindexing columns index\n",
        "* Using columns argument"
      ]
    },
    {
      "cell_type": "code",
      "metadata": {
        "id": "cz0dnPVYP5M_",
        "colab": {
          "base_uri": "https://localhost:8080/",
          "height": 172
        },
        "outputId": "728d3a31-3fd1-412e-9668-753d0849b846"
      },
      "source": [
        "df5.reindex(columns= ['Bangalore', 'Delhi', 'Mumbai'])\n"
      ],
      "execution_count": null,
      "outputs": [
        {
          "output_type": "execute_result",
          "data": {
            "text/html": [
              "<div>\n",
              "<style scoped>\n",
              "    .dataframe tbody tr th:only-of-type {\n",
              "        vertical-align: middle;\n",
              "    }\n",
              "\n",
              "    .dataframe tbody tr th {\n",
              "        vertical-align: top;\n",
              "    }\n",
              "\n",
              "    .dataframe thead th {\n",
              "        text-align: right;\n",
              "    }\n",
              "</style>\n",
              "<table border=\"1\" class=\"dataframe\">\n",
              "  <thead>\n",
              "    <tr style=\"text-align: right;\">\n",
              "      <th></th>\n",
              "      <th>Bangalore</th>\n",
              "      <th>Delhi</th>\n",
              "      <th>Mumbai</th>\n",
              "    </tr>\n",
              "  </thead>\n",
              "  <tbody>\n",
              "    <tr>\n",
              "      <th>a</th>\n",
              "      <td>2.0</td>\n",
              "      <td>0.0</td>\n",
              "      <td>1.0</td>\n",
              "    </tr>\n",
              "    <tr>\n",
              "      <th>b</th>\n",
              "      <td>NaN</td>\n",
              "      <td>NaN</td>\n",
              "      <td>NaN</td>\n",
              "    </tr>\n",
              "    <tr>\n",
              "      <th>c</th>\n",
              "      <td>5.0</td>\n",
              "      <td>3.0</td>\n",
              "      <td>4.0</td>\n",
              "    </tr>\n",
              "    <tr>\n",
              "      <th>d</th>\n",
              "      <td>8.0</td>\n",
              "      <td>6.0</td>\n",
              "      <td>7.0</td>\n",
              "    </tr>\n",
              "  </tbody>\n",
              "</table>\n",
              "</div>"
            ],
            "text/plain": [
              "   Bangalore  Delhi  Mumbai\n",
              "a        2.0    0.0     1.0\n",
              "b        NaN    NaN     NaN\n",
              "c        5.0    3.0     4.0\n",
              "d        8.0    6.0     7.0"
            ]
          },
          "metadata": {},
          "execution_count": 99
        }
      ]
    },
    {
      "cell_type": "markdown",
      "metadata": {
        "id": "4WN9k85LQM7a"
      },
      "source": [
        "* reindexing using loc attribute"
      ]
    },
    {
      "cell_type": "code",
      "metadata": {
        "id": "vdDKB7PgQLjK",
        "colab": {
          "base_uri": "https://localhost:8080/",
          "height": 320
        },
        "outputId": "11890474-385b-4b28-81ce-fdf58c7b67f4"
      },
      "source": [
        "df4.loc[['a', 'b', 'c', 'd'], ['Bangalore' , 'Delhi', 'Mumbai']]"
      ],
      "execution_count": null,
      "outputs": [
        {
          "output_type": "error",
          "ename": "KeyError",
          "evalue": "ignored",
          "traceback": [
            "\u001b[0;31m---------------------------------------------------------------------------\u001b[0m",
            "\u001b[0;31mKeyError\u001b[0m                                  Traceback (most recent call last)",
            "\u001b[0;32m<ipython-input-100-8f99faec76eb>\u001b[0m in \u001b[0;36m<module>\u001b[0;34m()\u001b[0m\n\u001b[0;32m----> 1\u001b[0;31m \u001b[0mdf4\u001b[0m\u001b[0;34m.\u001b[0m\u001b[0mloc\u001b[0m\u001b[0;34m[\u001b[0m\u001b[0;34m[\u001b[0m\u001b[0;34m'a'\u001b[0m\u001b[0;34m,\u001b[0m \u001b[0;34m'b'\u001b[0m\u001b[0;34m,\u001b[0m \u001b[0;34m'c'\u001b[0m\u001b[0;34m,\u001b[0m \u001b[0;34m'd'\u001b[0m\u001b[0;34m]\u001b[0m\u001b[0;34m,\u001b[0m \u001b[0;34m[\u001b[0m\u001b[0;34m'Bangalore'\u001b[0m \u001b[0;34m,\u001b[0m \u001b[0;34m'Delhi'\u001b[0m\u001b[0;34m,\u001b[0m \u001b[0;34m'Mumbai'\u001b[0m\u001b[0;34m]\u001b[0m\u001b[0;34m]\u001b[0m\u001b[0;34m\u001b[0m\u001b[0;34m\u001b[0m\u001b[0m\n\u001b[0m",
            "\u001b[0;32m/usr/local/lib/python3.7/dist-packages/pandas/core/indexing.py\u001b[0m in \u001b[0;36m__getitem__\u001b[0;34m(self, key)\u001b[0m\n\u001b[1;32m    871\u001b[0m                     \u001b[0;31m# AttributeError for IntervalTree get_value\u001b[0m\u001b[0;34m\u001b[0m\u001b[0;34m\u001b[0m\u001b[0;34m\u001b[0m\u001b[0m\n\u001b[1;32m    872\u001b[0m                     \u001b[0;32mpass\u001b[0m\u001b[0;34m\u001b[0m\u001b[0;34m\u001b[0m\u001b[0m\n\u001b[0;32m--> 873\u001b[0;31m             \u001b[0;32mreturn\u001b[0m \u001b[0mself\u001b[0m\u001b[0;34m.\u001b[0m\u001b[0m_getitem_tuple\u001b[0m\u001b[0;34m(\u001b[0m\u001b[0mkey\u001b[0m\u001b[0;34m)\u001b[0m\u001b[0;34m\u001b[0m\u001b[0;34m\u001b[0m\u001b[0m\n\u001b[0m\u001b[1;32m    874\u001b[0m         \u001b[0;32melse\u001b[0m\u001b[0;34m:\u001b[0m\u001b[0;34m\u001b[0m\u001b[0;34m\u001b[0m\u001b[0m\n\u001b[1;32m    875\u001b[0m             \u001b[0;31m# we by definition only have the 0th axis\u001b[0m\u001b[0;34m\u001b[0m\u001b[0;34m\u001b[0m\u001b[0;34m\u001b[0m\u001b[0m\n",
            "\u001b[0;32m/usr/local/lib/python3.7/dist-packages/pandas/core/indexing.py\u001b[0m in \u001b[0;36m_getitem_tuple\u001b[0;34m(self, tup)\u001b[0m\n\u001b[1;32m   1051\u001b[0m         \u001b[0;31m# ugly hack for GH #836\u001b[0m\u001b[0;34m\u001b[0m\u001b[0;34m\u001b[0m\u001b[0;34m\u001b[0m\u001b[0m\n\u001b[1;32m   1052\u001b[0m         \u001b[0;32mif\u001b[0m \u001b[0mself\u001b[0m\u001b[0;34m.\u001b[0m\u001b[0m_multi_take_opportunity\u001b[0m\u001b[0;34m(\u001b[0m\u001b[0mtup\u001b[0m\u001b[0;34m)\u001b[0m\u001b[0;34m:\u001b[0m\u001b[0;34m\u001b[0m\u001b[0;34m\u001b[0m\u001b[0m\n\u001b[0;32m-> 1053\u001b[0;31m             \u001b[0;32mreturn\u001b[0m \u001b[0mself\u001b[0m\u001b[0;34m.\u001b[0m\u001b[0m_multi_take\u001b[0m\u001b[0;34m(\u001b[0m\u001b[0mtup\u001b[0m\u001b[0;34m)\u001b[0m\u001b[0;34m\u001b[0m\u001b[0;34m\u001b[0m\u001b[0m\n\u001b[0m\u001b[1;32m   1054\u001b[0m \u001b[0;34m\u001b[0m\u001b[0m\n\u001b[1;32m   1055\u001b[0m         \u001b[0;32mreturn\u001b[0m \u001b[0mself\u001b[0m\u001b[0;34m.\u001b[0m\u001b[0m_getitem_tuple_same_dim\u001b[0m\u001b[0;34m(\u001b[0m\u001b[0mtup\u001b[0m\u001b[0;34m)\u001b[0m\u001b[0;34m\u001b[0m\u001b[0;34m\u001b[0m\u001b[0m\n",
            "\u001b[0;32m/usr/local/lib/python3.7/dist-packages/pandas/core/indexing.py\u001b[0m in \u001b[0;36m_multi_take\u001b[0;34m(self, tup)\u001b[0m\n\u001b[1;32m   1003\u001b[0m         d = {\n\u001b[1;32m   1004\u001b[0m             \u001b[0maxis\u001b[0m\u001b[0;34m:\u001b[0m \u001b[0mself\u001b[0m\u001b[0;34m.\u001b[0m\u001b[0m_get_listlike_indexer\u001b[0m\u001b[0;34m(\u001b[0m\u001b[0mkey\u001b[0m\u001b[0;34m,\u001b[0m \u001b[0maxis\u001b[0m\u001b[0;34m)\u001b[0m\u001b[0;34m\u001b[0m\u001b[0;34m\u001b[0m\u001b[0m\n\u001b[0;32m-> 1005\u001b[0;31m             \u001b[0;32mfor\u001b[0m \u001b[0;34m(\u001b[0m\u001b[0mkey\u001b[0m\u001b[0;34m,\u001b[0m \u001b[0maxis\u001b[0m\u001b[0;34m)\u001b[0m \u001b[0;32min\u001b[0m \u001b[0mzip\u001b[0m\u001b[0;34m(\u001b[0m\u001b[0mtup\u001b[0m\u001b[0;34m,\u001b[0m \u001b[0mself\u001b[0m\u001b[0;34m.\u001b[0m\u001b[0mobj\u001b[0m\u001b[0;34m.\u001b[0m\u001b[0m_AXIS_ORDERS\u001b[0m\u001b[0;34m)\u001b[0m\u001b[0;34m\u001b[0m\u001b[0;34m\u001b[0m\u001b[0m\n\u001b[0m\u001b[1;32m   1006\u001b[0m         }\n\u001b[1;32m   1007\u001b[0m         \u001b[0;32mreturn\u001b[0m \u001b[0mself\u001b[0m\u001b[0;34m.\u001b[0m\u001b[0mobj\u001b[0m\u001b[0;34m.\u001b[0m\u001b[0m_reindex_with_indexers\u001b[0m\u001b[0;34m(\u001b[0m\u001b[0md\u001b[0m\u001b[0;34m,\u001b[0m \u001b[0mcopy\u001b[0m\u001b[0;34m=\u001b[0m\u001b[0;32mTrue\u001b[0m\u001b[0;34m,\u001b[0m \u001b[0mallow_dups\u001b[0m\u001b[0;34m=\u001b[0m\u001b[0;32mTrue\u001b[0m\u001b[0;34m)\u001b[0m\u001b[0;34m\u001b[0m\u001b[0;34m\u001b[0m\u001b[0m\n",
            "\u001b[0;32m/usr/local/lib/python3.7/dist-packages/pandas/core/indexing.py\u001b[0m in \u001b[0;36m<dictcomp>\u001b[0;34m(.0)\u001b[0m\n\u001b[1;32m   1003\u001b[0m         d = {\n\u001b[1;32m   1004\u001b[0m             \u001b[0maxis\u001b[0m\u001b[0;34m:\u001b[0m \u001b[0mself\u001b[0m\u001b[0;34m.\u001b[0m\u001b[0m_get_listlike_indexer\u001b[0m\u001b[0;34m(\u001b[0m\u001b[0mkey\u001b[0m\u001b[0;34m,\u001b[0m \u001b[0maxis\u001b[0m\u001b[0;34m)\u001b[0m\u001b[0;34m\u001b[0m\u001b[0;34m\u001b[0m\u001b[0m\n\u001b[0;32m-> 1005\u001b[0;31m             \u001b[0;32mfor\u001b[0m \u001b[0;34m(\u001b[0m\u001b[0mkey\u001b[0m\u001b[0;34m,\u001b[0m \u001b[0maxis\u001b[0m\u001b[0;34m)\u001b[0m \u001b[0;32min\u001b[0m \u001b[0mzip\u001b[0m\u001b[0;34m(\u001b[0m\u001b[0mtup\u001b[0m\u001b[0;34m,\u001b[0m \u001b[0mself\u001b[0m\u001b[0;34m.\u001b[0m\u001b[0mobj\u001b[0m\u001b[0;34m.\u001b[0m\u001b[0m_AXIS_ORDERS\u001b[0m\u001b[0;34m)\u001b[0m\u001b[0;34m\u001b[0m\u001b[0;34m\u001b[0m\u001b[0m\n\u001b[0m\u001b[1;32m   1006\u001b[0m         }\n\u001b[1;32m   1007\u001b[0m         \u001b[0;32mreturn\u001b[0m \u001b[0mself\u001b[0m\u001b[0;34m.\u001b[0m\u001b[0mobj\u001b[0m\u001b[0;34m.\u001b[0m\u001b[0m_reindex_with_indexers\u001b[0m\u001b[0;34m(\u001b[0m\u001b[0md\u001b[0m\u001b[0;34m,\u001b[0m \u001b[0mcopy\u001b[0m\u001b[0;34m=\u001b[0m\u001b[0;32mTrue\u001b[0m\u001b[0;34m,\u001b[0m \u001b[0mallow_dups\u001b[0m\u001b[0;34m=\u001b[0m\u001b[0;32mTrue\u001b[0m\u001b[0;34m)\u001b[0m\u001b[0;34m\u001b[0m\u001b[0;34m\u001b[0m\u001b[0m\n",
            "\u001b[0;32m/usr/local/lib/python3.7/dist-packages/pandas/core/indexing.py\u001b[0m in \u001b[0;36m_get_listlike_indexer\u001b[0;34m(self, key, axis, raise_missing)\u001b[0m\n\u001b[1;32m   1252\u001b[0m             \u001b[0mkeyarr\u001b[0m\u001b[0;34m,\u001b[0m \u001b[0mindexer\u001b[0m\u001b[0;34m,\u001b[0m \u001b[0mnew_indexer\u001b[0m \u001b[0;34m=\u001b[0m \u001b[0max\u001b[0m\u001b[0;34m.\u001b[0m\u001b[0m_reindex_non_unique\u001b[0m\u001b[0;34m(\u001b[0m\u001b[0mkeyarr\u001b[0m\u001b[0;34m)\u001b[0m\u001b[0;34m\u001b[0m\u001b[0;34m\u001b[0m\u001b[0m\n\u001b[1;32m   1253\u001b[0m \u001b[0;34m\u001b[0m\u001b[0m\n\u001b[0;32m-> 1254\u001b[0;31m         \u001b[0mself\u001b[0m\u001b[0;34m.\u001b[0m\u001b[0m_validate_read_indexer\u001b[0m\u001b[0;34m(\u001b[0m\u001b[0mkeyarr\u001b[0m\u001b[0;34m,\u001b[0m \u001b[0mindexer\u001b[0m\u001b[0;34m,\u001b[0m \u001b[0maxis\u001b[0m\u001b[0;34m,\u001b[0m \u001b[0mraise_missing\u001b[0m\u001b[0;34m=\u001b[0m\u001b[0mraise_missing\u001b[0m\u001b[0;34m)\u001b[0m\u001b[0;34m\u001b[0m\u001b[0;34m\u001b[0m\u001b[0m\n\u001b[0m\u001b[1;32m   1255\u001b[0m         \u001b[0;32mreturn\u001b[0m \u001b[0mkeyarr\u001b[0m\u001b[0;34m,\u001b[0m \u001b[0mindexer\u001b[0m\u001b[0;34m\u001b[0m\u001b[0;34m\u001b[0m\u001b[0m\n\u001b[1;32m   1256\u001b[0m \u001b[0;34m\u001b[0m\u001b[0m\n",
            "\u001b[0;32m/usr/local/lib/python3.7/dist-packages/pandas/core/indexing.py\u001b[0m in \u001b[0;36m_validate_read_indexer\u001b[0;34m(self, key, indexer, axis, raise_missing)\u001b[0m\n\u001b[1;32m   1314\u001b[0m                 \u001b[0;32mwith\u001b[0m \u001b[0moption_context\u001b[0m\u001b[0;34m(\u001b[0m\u001b[0;34m\"display.max_seq_items\"\u001b[0m\u001b[0;34m,\u001b[0m \u001b[0;36m10\u001b[0m\u001b[0;34m,\u001b[0m \u001b[0;34m\"display.width\"\u001b[0m\u001b[0;34m,\u001b[0m \u001b[0;36m80\u001b[0m\u001b[0;34m)\u001b[0m\u001b[0;34m:\u001b[0m\u001b[0;34m\u001b[0m\u001b[0;34m\u001b[0m\u001b[0m\n\u001b[1;32m   1315\u001b[0m                     raise KeyError(\n\u001b[0;32m-> 1316\u001b[0;31m                         \u001b[0;34m\"Passing list-likes to .loc or [] with any missing labels \"\u001b[0m\u001b[0;34m\u001b[0m\u001b[0;34m\u001b[0m\u001b[0m\n\u001b[0m\u001b[1;32m   1317\u001b[0m                         \u001b[0;34m\"is no longer supported. \"\u001b[0m\u001b[0;34m\u001b[0m\u001b[0;34m\u001b[0m\u001b[0m\n\u001b[1;32m   1318\u001b[0m                         \u001b[0;34mf\"The following labels were missing: {not_found}. \"\u001b[0m\u001b[0;34m\u001b[0m\u001b[0;34m\u001b[0m\u001b[0m\n",
            "\u001b[0;31mKeyError\u001b[0m: \"Passing list-likes to .loc or [] with any missing labels is no longer supported. The following labels were missing: Index(['b'], dtype='object'). See https://pandas.pydata.org/pandas-docs/stable/user_guide/indexing.html#deprecate-loc-reindex-listlike\""
          ]
        }
      ]
    },
    {
      "cell_type": "markdown",
      "metadata": {
        "id": "2TMdswpXRH0z"
      },
      "source": [
        "* Example: dropping cases or rows\n",
        "* using drop method"
      ]
    },
    {
      "cell_type": "code",
      "metadata": {
        "id": "DYrzXKOZQk-t",
        "colab": {
          "base_uri": "https://localhost:8080/",
          "height": 172
        },
        "outputId": "25da0635-ee4b-420a-dcfc-92f156c1c414"
      },
      "source": [
        "df5"
      ],
      "execution_count": null,
      "outputs": [
        {
          "output_type": "execute_result",
          "data": {
            "text/html": [
              "<div>\n",
              "<style scoped>\n",
              "    .dataframe tbody tr th:only-of-type {\n",
              "        vertical-align: middle;\n",
              "    }\n",
              "\n",
              "    .dataframe tbody tr th {\n",
              "        vertical-align: top;\n",
              "    }\n",
              "\n",
              "    .dataframe thead th {\n",
              "        text-align: right;\n",
              "    }\n",
              "</style>\n",
              "<table border=\"1\" class=\"dataframe\">\n",
              "  <thead>\n",
              "    <tr style=\"text-align: right;\">\n",
              "      <th></th>\n",
              "      <th>Delhi</th>\n",
              "      <th>Mumbai</th>\n",
              "      <th>Bangalore</th>\n",
              "    </tr>\n",
              "  </thead>\n",
              "  <tbody>\n",
              "    <tr>\n",
              "      <th>a</th>\n",
              "      <td>0.0</td>\n",
              "      <td>1.0</td>\n",
              "      <td>2.0</td>\n",
              "    </tr>\n",
              "    <tr>\n",
              "      <th>b</th>\n",
              "      <td>NaN</td>\n",
              "      <td>NaN</td>\n",
              "      <td>NaN</td>\n",
              "    </tr>\n",
              "    <tr>\n",
              "      <th>c</th>\n",
              "      <td>3.0</td>\n",
              "      <td>4.0</td>\n",
              "      <td>5.0</td>\n",
              "    </tr>\n",
              "    <tr>\n",
              "      <th>d</th>\n",
              "      <td>6.0</td>\n",
              "      <td>7.0</td>\n",
              "      <td>8.0</td>\n",
              "    </tr>\n",
              "  </tbody>\n",
              "</table>\n",
              "</div>"
            ],
            "text/plain": [
              "   Delhi  Mumbai  Bangalore\n",
              "a    0.0     1.0        2.0\n",
              "b    NaN     NaN        NaN\n",
              "c    3.0     4.0        5.0\n",
              "d    6.0     7.0        8.0"
            ]
          },
          "metadata": {},
          "execution_count": 101
        }
      ]
    },
    {
      "cell_type": "code",
      "metadata": {
        "id": "_sSrdM2kRP1y",
        "colab": {
          "base_uri": "https://localhost:8080/",
          "height": 142
        },
        "outputId": "82e13eef-151c-4a76-af70-cf5d59940fc5"
      },
      "source": [
        "df5.drop('b')"
      ],
      "execution_count": null,
      "outputs": [
        {
          "output_type": "execute_result",
          "data": {
            "text/html": [
              "<div>\n",
              "<style scoped>\n",
              "    .dataframe tbody tr th:only-of-type {\n",
              "        vertical-align: middle;\n",
              "    }\n",
              "\n",
              "    .dataframe tbody tr th {\n",
              "        vertical-align: top;\n",
              "    }\n",
              "\n",
              "    .dataframe thead th {\n",
              "        text-align: right;\n",
              "    }\n",
              "</style>\n",
              "<table border=\"1\" class=\"dataframe\">\n",
              "  <thead>\n",
              "    <tr style=\"text-align: right;\">\n",
              "      <th></th>\n",
              "      <th>Delhi</th>\n",
              "      <th>Mumbai</th>\n",
              "      <th>Bangalore</th>\n",
              "    </tr>\n",
              "  </thead>\n",
              "  <tbody>\n",
              "    <tr>\n",
              "      <th>a</th>\n",
              "      <td>0.0</td>\n",
              "      <td>1.0</td>\n",
              "      <td>2.0</td>\n",
              "    </tr>\n",
              "    <tr>\n",
              "      <th>c</th>\n",
              "      <td>3.0</td>\n",
              "      <td>4.0</td>\n",
              "      <td>5.0</td>\n",
              "    </tr>\n",
              "    <tr>\n",
              "      <th>d</th>\n",
              "      <td>6.0</td>\n",
              "      <td>7.0</td>\n",
              "      <td>8.0</td>\n",
              "    </tr>\n",
              "  </tbody>\n",
              "</table>\n",
              "</div>"
            ],
            "text/plain": [
              "   Delhi  Mumbai  Bangalore\n",
              "a    0.0     1.0        2.0\n",
              "c    3.0     4.0        5.0\n",
              "d    6.0     7.0        8.0"
            ]
          },
          "metadata": {},
          "execution_count": 102
        }
      ]
    },
    {
      "cell_type": "code",
      "metadata": {
        "id": "muF4YqDmRSrY",
        "colab": {
          "base_uri": "https://localhost:8080/",
          "height": 110
        },
        "outputId": "d43a0290-2459-49b2-e93d-601a1085f311"
      },
      "source": [
        "df5.drop(['a', 'c'])"
      ],
      "execution_count": null,
      "outputs": [
        {
          "output_type": "execute_result",
          "data": {
            "text/html": [
              "<div>\n",
              "<style scoped>\n",
              "    .dataframe tbody tr th:only-of-type {\n",
              "        vertical-align: middle;\n",
              "    }\n",
              "\n",
              "    .dataframe tbody tr th {\n",
              "        vertical-align: top;\n",
              "    }\n",
              "\n",
              "    .dataframe thead th {\n",
              "        text-align: right;\n",
              "    }\n",
              "</style>\n",
              "<table border=\"1\" class=\"dataframe\">\n",
              "  <thead>\n",
              "    <tr style=\"text-align: right;\">\n",
              "      <th></th>\n",
              "      <th>Delhi</th>\n",
              "      <th>Mumbai</th>\n",
              "      <th>Bangalore</th>\n",
              "    </tr>\n",
              "  </thead>\n",
              "  <tbody>\n",
              "    <tr>\n",
              "      <th>b</th>\n",
              "      <td>NaN</td>\n",
              "      <td>NaN</td>\n",
              "      <td>NaN</td>\n",
              "    </tr>\n",
              "    <tr>\n",
              "      <th>d</th>\n",
              "      <td>6.0</td>\n",
              "      <td>7.0</td>\n",
              "      <td>8.0</td>\n",
              "    </tr>\n",
              "  </tbody>\n",
              "</table>\n",
              "</div>"
            ],
            "text/plain": [
              "   Delhi  Mumbai  Bangalore\n",
              "b    NaN     NaN        NaN\n",
              "d    6.0     7.0        8.0"
            ]
          },
          "metadata": {},
          "execution_count": 103
        }
      ]
    },
    {
      "cell_type": "markdown",
      "metadata": {
        "id": "zNyp19VXRW9Y"
      },
      "source": [
        "* Example: dropping columns or variables"
      ]
    },
    {
      "cell_type": "code",
      "metadata": {
        "id": "XvTNtiuRRVoJ",
        "colab": {
          "base_uri": "https://localhost:8080/",
          "height": 172
        },
        "outputId": "31e68812-2c3f-4069-f250-fc90dbb61249"
      },
      "source": [
        "df5"
      ],
      "execution_count": null,
      "outputs": [
        {
          "output_type": "execute_result",
          "data": {
            "text/html": [
              "<div>\n",
              "<style scoped>\n",
              "    .dataframe tbody tr th:only-of-type {\n",
              "        vertical-align: middle;\n",
              "    }\n",
              "\n",
              "    .dataframe tbody tr th {\n",
              "        vertical-align: top;\n",
              "    }\n",
              "\n",
              "    .dataframe thead th {\n",
              "        text-align: right;\n",
              "    }\n",
              "</style>\n",
              "<table border=\"1\" class=\"dataframe\">\n",
              "  <thead>\n",
              "    <tr style=\"text-align: right;\">\n",
              "      <th></th>\n",
              "      <th>Delhi</th>\n",
              "      <th>Mumbai</th>\n",
              "      <th>Bangalore</th>\n",
              "    </tr>\n",
              "  </thead>\n",
              "  <tbody>\n",
              "    <tr>\n",
              "      <th>a</th>\n",
              "      <td>0.0</td>\n",
              "      <td>1.0</td>\n",
              "      <td>2.0</td>\n",
              "    </tr>\n",
              "    <tr>\n",
              "      <th>b</th>\n",
              "      <td>NaN</td>\n",
              "      <td>NaN</td>\n",
              "      <td>NaN</td>\n",
              "    </tr>\n",
              "    <tr>\n",
              "      <th>c</th>\n",
              "      <td>3.0</td>\n",
              "      <td>4.0</td>\n",
              "      <td>5.0</td>\n",
              "    </tr>\n",
              "    <tr>\n",
              "      <th>d</th>\n",
              "      <td>6.0</td>\n",
              "      <td>7.0</td>\n",
              "      <td>8.0</td>\n",
              "    </tr>\n",
              "  </tbody>\n",
              "</table>\n",
              "</div>"
            ],
            "text/plain": [
              "   Delhi  Mumbai  Bangalore\n",
              "a    0.0     1.0        2.0\n",
              "b    NaN     NaN        NaN\n",
              "c    3.0     4.0        5.0\n",
              "d    6.0     7.0        8.0"
            ]
          },
          "metadata": {},
          "execution_count": 104
        }
      ]
    },
    {
      "cell_type": "code",
      "metadata": {
        "id": "onVML7vNRc_0",
        "colab": {
          "base_uri": "https://localhost:8080/",
          "height": 172
        },
        "outputId": "8f008d01-55ad-4623-c7fc-2394f134bf3c"
      },
      "source": [
        "df5.drop('Bangalore', axis = 1)"
      ],
      "execution_count": null,
      "outputs": [
        {
          "output_type": "execute_result",
          "data": {
            "text/html": [
              "<div>\n",
              "<style scoped>\n",
              "    .dataframe tbody tr th:only-of-type {\n",
              "        vertical-align: middle;\n",
              "    }\n",
              "\n",
              "    .dataframe tbody tr th {\n",
              "        vertical-align: top;\n",
              "    }\n",
              "\n",
              "    .dataframe thead th {\n",
              "        text-align: right;\n",
              "    }\n",
              "</style>\n",
              "<table border=\"1\" class=\"dataframe\">\n",
              "  <thead>\n",
              "    <tr style=\"text-align: right;\">\n",
              "      <th></th>\n",
              "      <th>Delhi</th>\n",
              "      <th>Mumbai</th>\n",
              "    </tr>\n",
              "  </thead>\n",
              "  <tbody>\n",
              "    <tr>\n",
              "      <th>a</th>\n",
              "      <td>0.0</td>\n",
              "      <td>1.0</td>\n",
              "    </tr>\n",
              "    <tr>\n",
              "      <th>b</th>\n",
              "      <td>NaN</td>\n",
              "      <td>NaN</td>\n",
              "    </tr>\n",
              "    <tr>\n",
              "      <th>c</th>\n",
              "      <td>3.0</td>\n",
              "      <td>4.0</td>\n",
              "    </tr>\n",
              "    <tr>\n",
              "      <th>d</th>\n",
              "      <td>6.0</td>\n",
              "      <td>7.0</td>\n",
              "    </tr>\n",
              "  </tbody>\n",
              "</table>\n",
              "</div>"
            ],
            "text/plain": [
              "   Delhi  Mumbai\n",
              "a    0.0     1.0\n",
              "b    NaN     NaN\n",
              "c    3.0     4.0\n",
              "d    6.0     7.0"
            ]
          },
          "metadata": {},
          "execution_count": 105
        }
      ]
    },
    {
      "cell_type": "code",
      "metadata": {
        "id": "LtyoZg8BRlic",
        "colab": {
          "base_uri": "https://localhost:8080/",
          "height": 172
        },
        "outputId": "8fff6d41-34a9-4dab-8b2b-ca0de02b1918"
      },
      "source": [
        "df5.drop(['Delhi', 'Mumbai'], axis =1)"
      ],
      "execution_count": null,
      "outputs": [
        {
          "output_type": "execute_result",
          "data": {
            "text/html": [
              "<div>\n",
              "<style scoped>\n",
              "    .dataframe tbody tr th:only-of-type {\n",
              "        vertical-align: middle;\n",
              "    }\n",
              "\n",
              "    .dataframe tbody tr th {\n",
              "        vertical-align: top;\n",
              "    }\n",
              "\n",
              "    .dataframe thead th {\n",
              "        text-align: right;\n",
              "    }\n",
              "</style>\n",
              "<table border=\"1\" class=\"dataframe\">\n",
              "  <thead>\n",
              "    <tr style=\"text-align: right;\">\n",
              "      <th></th>\n",
              "      <th>Bangalore</th>\n",
              "    </tr>\n",
              "  </thead>\n",
              "  <tbody>\n",
              "    <tr>\n",
              "      <th>a</th>\n",
              "      <td>2.0</td>\n",
              "    </tr>\n",
              "    <tr>\n",
              "      <th>b</th>\n",
              "      <td>NaN</td>\n",
              "    </tr>\n",
              "    <tr>\n",
              "      <th>c</th>\n",
              "      <td>5.0</td>\n",
              "    </tr>\n",
              "    <tr>\n",
              "      <th>d</th>\n",
              "      <td>8.0</td>\n",
              "    </tr>\n",
              "  </tbody>\n",
              "</table>\n",
              "</div>"
            ],
            "text/plain": [
              "   Bangalore\n",
              "a        2.0\n",
              "b        NaN\n",
              "c        5.0\n",
              "d        8.0"
            ]
          },
          "metadata": {},
          "execution_count": 106
        }
      ]
    },
    {
      "cell_type": "markdown",
      "metadata": {
        "id": "KriDwhYsR_RT"
      },
      "source": [
        "* using in-place version of drop method\n",
        "* using inplace argument"
      ]
    },
    {
      "cell_type": "code",
      "metadata": {
        "id": "4S7HQ7K_R6vQ",
        "colab": {
          "base_uri": "https://localhost:8080/",
          "height": 172
        },
        "outputId": "2f6f1f88-4f1c-4ffe-cc07-f23a785a0f99"
      },
      "source": [
        "df5"
      ],
      "execution_count": null,
      "outputs": [
        {
          "output_type": "execute_result",
          "data": {
            "text/html": [
              "<div>\n",
              "<style scoped>\n",
              "    .dataframe tbody tr th:only-of-type {\n",
              "        vertical-align: middle;\n",
              "    }\n",
              "\n",
              "    .dataframe tbody tr th {\n",
              "        vertical-align: top;\n",
              "    }\n",
              "\n",
              "    .dataframe thead th {\n",
              "        text-align: right;\n",
              "    }\n",
              "</style>\n",
              "<table border=\"1\" class=\"dataframe\">\n",
              "  <thead>\n",
              "    <tr style=\"text-align: right;\">\n",
              "      <th></th>\n",
              "      <th>Delhi</th>\n",
              "      <th>Mumbai</th>\n",
              "      <th>Bangalore</th>\n",
              "    </tr>\n",
              "  </thead>\n",
              "  <tbody>\n",
              "    <tr>\n",
              "      <th>a</th>\n",
              "      <td>0.0</td>\n",
              "      <td>1.0</td>\n",
              "      <td>2.0</td>\n",
              "    </tr>\n",
              "    <tr>\n",
              "      <th>b</th>\n",
              "      <td>NaN</td>\n",
              "      <td>NaN</td>\n",
              "      <td>NaN</td>\n",
              "    </tr>\n",
              "    <tr>\n",
              "      <th>c</th>\n",
              "      <td>3.0</td>\n",
              "      <td>4.0</td>\n",
              "      <td>5.0</td>\n",
              "    </tr>\n",
              "    <tr>\n",
              "      <th>d</th>\n",
              "      <td>6.0</td>\n",
              "      <td>7.0</td>\n",
              "      <td>8.0</td>\n",
              "    </tr>\n",
              "  </tbody>\n",
              "</table>\n",
              "</div>"
            ],
            "text/plain": [
              "   Delhi  Mumbai  Bangalore\n",
              "a    0.0     1.0        2.0\n",
              "b    NaN     NaN        NaN\n",
              "c    3.0     4.0        5.0\n",
              "d    6.0     7.0        8.0"
            ]
          },
          "metadata": {},
          "execution_count": 107
        }
      ]
    },
    {
      "cell_type": "code",
      "metadata": {
        "id": "ZdnHV8ZtSc1o",
        "colab": {
          "base_uri": "https://localhost:8080/",
          "height": 172
        },
        "outputId": "766c0526-16b9-4bb4-d717-1f2c51c07973"
      },
      "source": [
        "df5"
      ],
      "execution_count": null,
      "outputs": [
        {
          "output_type": "execute_result",
          "data": {
            "text/html": [
              "<div>\n",
              "<style scoped>\n",
              "    .dataframe tbody tr th:only-of-type {\n",
              "        vertical-align: middle;\n",
              "    }\n",
              "\n",
              "    .dataframe tbody tr th {\n",
              "        vertical-align: top;\n",
              "    }\n",
              "\n",
              "    .dataframe thead th {\n",
              "        text-align: right;\n",
              "    }\n",
              "</style>\n",
              "<table border=\"1\" class=\"dataframe\">\n",
              "  <thead>\n",
              "    <tr style=\"text-align: right;\">\n",
              "      <th></th>\n",
              "      <th>Delhi</th>\n",
              "      <th>Mumbai</th>\n",
              "      <th>Bangalore</th>\n",
              "    </tr>\n",
              "  </thead>\n",
              "  <tbody>\n",
              "    <tr>\n",
              "      <th>a</th>\n",
              "      <td>0.0</td>\n",
              "      <td>1.0</td>\n",
              "      <td>2.0</td>\n",
              "    </tr>\n",
              "    <tr>\n",
              "      <th>b</th>\n",
              "      <td>NaN</td>\n",
              "      <td>NaN</td>\n",
              "      <td>NaN</td>\n",
              "    </tr>\n",
              "    <tr>\n",
              "      <th>c</th>\n",
              "      <td>3.0</td>\n",
              "      <td>4.0</td>\n",
              "      <td>5.0</td>\n",
              "    </tr>\n",
              "    <tr>\n",
              "      <th>d</th>\n",
              "      <td>6.0</td>\n",
              "      <td>7.0</td>\n",
              "      <td>8.0</td>\n",
              "    </tr>\n",
              "  </tbody>\n",
              "</table>\n",
              "</div>"
            ],
            "text/plain": [
              "   Delhi  Mumbai  Bangalore\n",
              "a    0.0     1.0        2.0\n",
              "b    NaN     NaN        NaN\n",
              "c    3.0     4.0        5.0\n",
              "d    6.0     7.0        8.0"
            ]
          },
          "metadata": {},
          "execution_count": 108
        }
      ]
    },
    {
      "cell_type": "code",
      "metadata": {
        "id": "DG2lmVm2SJ5e",
        "colab": {
          "base_uri": "https://localhost:8080/",
          "height": 142
        },
        "outputId": "33206eb0-d825-4f5f-93fb-7f7e9bac38f0"
      },
      "source": [
        "df5.drop('b', inplace=True)\n",
        "df5"
      ],
      "execution_count": null,
      "outputs": [
        {
          "output_type": "execute_result",
          "data": {
            "text/html": [
              "<div>\n",
              "<style scoped>\n",
              "    .dataframe tbody tr th:only-of-type {\n",
              "        vertical-align: middle;\n",
              "    }\n",
              "\n",
              "    .dataframe tbody tr th {\n",
              "        vertical-align: top;\n",
              "    }\n",
              "\n",
              "    .dataframe thead th {\n",
              "        text-align: right;\n",
              "    }\n",
              "</style>\n",
              "<table border=\"1\" class=\"dataframe\">\n",
              "  <thead>\n",
              "    <tr style=\"text-align: right;\">\n",
              "      <th></th>\n",
              "      <th>Delhi</th>\n",
              "      <th>Mumbai</th>\n",
              "      <th>Bangalore</th>\n",
              "    </tr>\n",
              "  </thead>\n",
              "  <tbody>\n",
              "    <tr>\n",
              "      <th>a</th>\n",
              "      <td>0.0</td>\n",
              "      <td>1.0</td>\n",
              "      <td>2.0</td>\n",
              "    </tr>\n",
              "    <tr>\n",
              "      <th>c</th>\n",
              "      <td>3.0</td>\n",
              "      <td>4.0</td>\n",
              "      <td>5.0</td>\n",
              "    </tr>\n",
              "    <tr>\n",
              "      <th>d</th>\n",
              "      <td>6.0</td>\n",
              "      <td>7.0</td>\n",
              "      <td>8.0</td>\n",
              "    </tr>\n",
              "  </tbody>\n",
              "</table>\n",
              "</div>"
            ],
            "text/plain": [
              "   Delhi  Mumbai  Bangalore\n",
              "a    0.0     1.0        2.0\n",
              "c    3.0     4.0        5.0\n",
              "d    6.0     7.0        8.0"
            ]
          },
          "metadata": {},
          "execution_count": 109
        }
      ]
    },
    {
      "cell_type": "markdown",
      "metadata": {
        "id": "CspbqhdMSiJ1"
      },
      "source": [
        "* Example: access, selection, and filtering\n",
        "* working with a series"
      ]
    },
    {
      "cell_type": "code",
      "metadata": {
        "id": "EwBKEIG0SQDL",
        "colab": {
          "base_uri": "https://localhost:8080/"
        },
        "outputId": "8db75e5d-0682-4f5a-a827-fb3bb4585cab"
      },
      "source": [
        "series11"
      ],
      "execution_count": null,
      "outputs": [
        {
          "output_type": "execute_result",
          "data": {
            "text/plain": [
              "0      blue\n",
              "1      blue\n",
              "2    purple\n",
              "3    purple\n",
              "4    yellow\n",
              "5    yellow\n",
              "dtype: object"
            ]
          },
          "metadata": {},
          "execution_count": 110
        }
      ]
    },
    {
      "cell_type": "code",
      "metadata": {
        "id": "_H2MAwTHSq5e",
        "colab": {
          "base_uri": "https://localhost:8080/"
        },
        "outputId": "c5faaabd-1639-426b-f6b6-3bf80a0212b2"
      },
      "source": [
        "series7"
      ],
      "execution_count": null,
      "outputs": [
        {
          "output_type": "execute_result",
          "data": {
            "text/plain": [
              "beta     1.1\n",
              "alpha    1.2\n",
              "beta     1.3\n",
              "sigma    1.4\n",
              "dtype: float64"
            ]
          },
          "metadata": {},
          "execution_count": 111
        }
      ]
    },
    {
      "cell_type": "markdown",
      "metadata": {
        "id": "v4O63kywSu3L"
      },
      "source": [
        "* accessing one row"
      ]
    },
    {
      "cell_type": "code",
      "metadata": {
        "id": "QO4ewn5nSsoK",
        "colab": {
          "base_uri": "https://localhost:8080/",
          "height": 35
        },
        "outputId": "c643055b-7035-43a0-d020-3ae3e27e6ca9"
      },
      "source": [
        "series11[3]"
      ],
      "execution_count": null,
      "outputs": [
        {
          "output_type": "execute_result",
          "data": {
            "application/vnd.google.colaboratory.intrinsic+json": {
              "type": "string"
            },
            "text/plain": [
              "'purple'"
            ]
          },
          "metadata": {},
          "execution_count": 112
        }
      ]
    },
    {
      "cell_type": "code",
      "metadata": {
        "id": "fpTVnV71SyaC",
        "colab": {
          "base_uri": "https://localhost:8080/"
        },
        "outputId": "ef7b8d85-4d14-4148-d8b7-1986ad774bf8"
      },
      "source": [
        "series7['sigma']"
      ],
      "execution_count": null,
      "outputs": [
        {
          "output_type": "execute_result",
          "data": {
            "text/plain": [
              "1.4"
            ]
          },
          "metadata": {},
          "execution_count": 113
        }
      ]
    },
    {
      "cell_type": "markdown",
      "metadata": {
        "id": "crTCh8pRS3Aj"
      },
      "source": [
        "* accessing a range of rows"
      ]
    },
    {
      "cell_type": "code",
      "metadata": {
        "id": "2IZxeWi3S1XL",
        "colab": {
          "base_uri": "https://localhost:8080/"
        },
        "outputId": "f1ee7f7b-49df-4c91-a38a-eef757ebd5b1"
      },
      "source": [
        "series11[3:5]"
      ],
      "execution_count": null,
      "outputs": [
        {
          "output_type": "execute_result",
          "data": {
            "text/plain": [
              "3    purple\n",
              "4    yellow\n",
              "dtype: object"
            ]
          },
          "metadata": {},
          "execution_count": 114
        }
      ]
    },
    {
      "cell_type": "markdown",
      "metadata": {
        "id": "BzirR9_lS9ji"
      },
      "source": [
        "* Selecting few rows"
      ]
    },
    {
      "cell_type": "code",
      "metadata": {
        "id": "45Eg-bNgS8KI",
        "colab": {
          "base_uri": "https://localhost:8080/"
        },
        "outputId": "3b2e1654-c919-4746-bbbd-71b839af2a39"
      },
      "source": [
        "series7[['sigma', 'alpha']]"
      ],
      "execution_count": null,
      "outputs": [
        {
          "output_type": "execute_result",
          "data": {
            "text/plain": [
              "sigma    1.4\n",
              "alpha    1.2\n",
              "dtype: float64"
            ]
          },
          "metadata": {},
          "execution_count": 115
        }
      ]
    },
    {
      "cell_type": "code",
      "metadata": {
        "id": "_8GREkiZTECT",
        "colab": {
          "base_uri": "https://localhost:8080/"
        },
        "outputId": "72fa4ead-ad46-44e1-d847-5413676c38e3"
      },
      "source": [
        "series11[[1,5]]"
      ],
      "execution_count": null,
      "outputs": [
        {
          "output_type": "execute_result",
          "data": {
            "text/plain": [
              "1      blue\n",
              "5    yellow\n",
              "dtype: object"
            ]
          },
          "metadata": {},
          "execution_count": 116
        }
      ]
    },
    {
      "cell_type": "markdown",
      "metadata": {
        "id": "1gvVj-LpTMR2"
      },
      "source": [
        "* filtering rows based on some logic"
      ]
    },
    {
      "cell_type": "code",
      "metadata": {
        "id": "Kvgtw7KsTVGb",
        "colab": {
          "base_uri": "https://localhost:8080/"
        },
        "outputId": "e9528e70-3055-4aef-c85f-0ccea1123e70"
      },
      "source": [
        "series7"
      ],
      "execution_count": null,
      "outputs": [
        {
          "output_type": "execute_result",
          "data": {
            "text/plain": [
              "beta     1.1\n",
              "alpha    1.2\n",
              "beta     1.3\n",
              "sigma    1.4\n",
              "dtype: float64"
            ]
          },
          "metadata": {},
          "execution_count": 117
        }
      ]
    },
    {
      "cell_type": "code",
      "metadata": {
        "id": "bOlGzkMbTLWj",
        "colab": {
          "base_uri": "https://localhost:8080/"
        },
        "outputId": "e8e9a3ae-6173-4f30-8077-e5323ad8cbd2"
      },
      "source": [
        "series7[series7 < 1.3]"
      ],
      "execution_count": null,
      "outputs": [
        {
          "output_type": "execute_result",
          "data": {
            "text/plain": [
              "beta     1.1\n",
              "alpha    1.2\n",
              "dtype: float64"
            ]
          },
          "metadata": {},
          "execution_count": 118
        }
      ]
    },
    {
      "cell_type": "markdown",
      "metadata": {
        "id": "4CfL-Fl7Tm0n"
      },
      "source": [
        "* slicing\n",
        "* Note: end-point in inclusive"
      ]
    },
    {
      "cell_type": "code",
      "metadata": {
        "id": "NcyqxDNQTSrX",
        "colab": {
          "base_uri": "https://localhost:8080/"
        },
        "outputId": "31067575-b85f-4b7f-df7c-e9b910490148"
      },
      "source": [
        "series7['alpha':'sigma']"
      ],
      "execution_count": null,
      "outputs": [
        {
          "output_type": "execute_result",
          "data": {
            "text/plain": [
              "alpha    1.2\n",
              "beta     1.3\n",
              "sigma    1.4\n",
              "dtype: float64"
            ]
          },
          "metadata": {},
          "execution_count": 119
        }
      ]
    },
    {
      "cell_type": "markdown",
      "metadata": {
        "id": "N3VDzNFRT6jY"
      },
      "source": [
        "* doesn't work with non-uniqe index labels"
      ]
    },
    {
      "cell_type": "code",
      "metadata": {
        "id": "nhxjlooCTxqy",
        "colab": {
          "base_uri": "https://localhost:8080/",
          "height": 303
        },
        "outputId": "b67c115d-22d7-48b9-aa6b-ac5fb7582813"
      },
      "source": [
        "series7['beta':'sigma']"
      ],
      "execution_count": null,
      "outputs": [
        {
          "output_type": "error",
          "ename": "KeyError",
          "evalue": "ignored",
          "traceback": [
            "\u001b[0;31m---------------------------------------------------------------------------\u001b[0m",
            "\u001b[0;31mKeyError\u001b[0m                                  Traceback (most recent call last)",
            "\u001b[0;32m<ipython-input-120-3a653f6dc2ec>\u001b[0m in \u001b[0;36m<module>\u001b[0;34m()\u001b[0m\n\u001b[0;32m----> 1\u001b[0;31m \u001b[0mseries7\u001b[0m\u001b[0;34m[\u001b[0m\u001b[0;34m'beta'\u001b[0m\u001b[0;34m:\u001b[0m\u001b[0;34m'sigma'\u001b[0m\u001b[0;34m]\u001b[0m\u001b[0;34m\u001b[0m\u001b[0;34m\u001b[0m\u001b[0m\n\u001b[0m",
            "\u001b[0;32m/usr/local/lib/python3.7/dist-packages/pandas/core/series.py\u001b[0m in \u001b[0;36m__getitem__\u001b[0;34m(self, key)\u001b[0m\n\u001b[1;32m    904\u001b[0m             \u001b[0;32mreturn\u001b[0m \u001b[0mself\u001b[0m\u001b[0;34m.\u001b[0m\u001b[0m_get_values\u001b[0m\u001b[0;34m(\u001b[0m\u001b[0mkey\u001b[0m\u001b[0;34m)\u001b[0m\u001b[0;34m\u001b[0m\u001b[0;34m\u001b[0m\u001b[0m\n\u001b[1;32m    905\u001b[0m \u001b[0;34m\u001b[0m\u001b[0m\n\u001b[0;32m--> 906\u001b[0;31m         \u001b[0;32mreturn\u001b[0m \u001b[0mself\u001b[0m\u001b[0;34m.\u001b[0m\u001b[0m_get_with\u001b[0m\u001b[0;34m(\u001b[0m\u001b[0mkey\u001b[0m\u001b[0;34m)\u001b[0m\u001b[0;34m\u001b[0m\u001b[0;34m\u001b[0m\u001b[0m\n\u001b[0m\u001b[1;32m    907\u001b[0m \u001b[0;34m\u001b[0m\u001b[0m\n\u001b[1;32m    908\u001b[0m     \u001b[0;32mdef\u001b[0m \u001b[0m_get_with\u001b[0m\u001b[0;34m(\u001b[0m\u001b[0mself\u001b[0m\u001b[0;34m,\u001b[0m \u001b[0mkey\u001b[0m\u001b[0;34m)\u001b[0m\u001b[0;34m:\u001b[0m\u001b[0;34m\u001b[0m\u001b[0;34m\u001b[0m\u001b[0m\n",
            "\u001b[0;32m/usr/local/lib/python3.7/dist-packages/pandas/core/series.py\u001b[0m in \u001b[0;36m_get_with\u001b[0;34m(self, key)\u001b[0m\n\u001b[1;32m    911\u001b[0m             \u001b[0;31m# _convert_slice_indexer to determine if this slice is positional\u001b[0m\u001b[0;34m\u001b[0m\u001b[0;34m\u001b[0m\u001b[0;34m\u001b[0m\u001b[0m\n\u001b[1;32m    912\u001b[0m             \u001b[0;31m#  or label based, and if the latter, convert to positional\u001b[0m\u001b[0;34m\u001b[0m\u001b[0;34m\u001b[0m\u001b[0;34m\u001b[0m\u001b[0m\n\u001b[0;32m--> 913\u001b[0;31m             \u001b[0mslobj\u001b[0m \u001b[0;34m=\u001b[0m \u001b[0mself\u001b[0m\u001b[0;34m.\u001b[0m\u001b[0mindex\u001b[0m\u001b[0;34m.\u001b[0m\u001b[0m_convert_slice_indexer\u001b[0m\u001b[0;34m(\u001b[0m\u001b[0mkey\u001b[0m\u001b[0;34m,\u001b[0m \u001b[0mkind\u001b[0m\u001b[0;34m=\u001b[0m\u001b[0;34m\"getitem\"\u001b[0m\u001b[0;34m)\u001b[0m\u001b[0;34m\u001b[0m\u001b[0;34m\u001b[0m\u001b[0m\n\u001b[0m\u001b[1;32m    914\u001b[0m             \u001b[0;32mreturn\u001b[0m \u001b[0mself\u001b[0m\u001b[0;34m.\u001b[0m\u001b[0m_slice\u001b[0m\u001b[0;34m(\u001b[0m\u001b[0mslobj\u001b[0m\u001b[0;34m)\u001b[0m\u001b[0;34m\u001b[0m\u001b[0;34m\u001b[0m\u001b[0m\n\u001b[1;32m    915\u001b[0m         \u001b[0;32melif\u001b[0m \u001b[0misinstance\u001b[0m\u001b[0;34m(\u001b[0m\u001b[0mkey\u001b[0m\u001b[0;34m,\u001b[0m \u001b[0mABCDataFrame\u001b[0m\u001b[0;34m)\u001b[0m\u001b[0;34m:\u001b[0m\u001b[0;34m\u001b[0m\u001b[0;34m\u001b[0m\u001b[0m\n",
            "\u001b[0;32m/usr/local/lib/python3.7/dist-packages/pandas/core/indexes/base.py\u001b[0m in \u001b[0;36m_convert_slice_indexer\u001b[0;34m(self, key, kind)\u001b[0m\n\u001b[1;32m   3191\u001b[0m             \u001b[0mindexer\u001b[0m \u001b[0;34m=\u001b[0m \u001b[0mkey\u001b[0m\u001b[0;34m\u001b[0m\u001b[0;34m\u001b[0m\u001b[0m\n\u001b[1;32m   3192\u001b[0m         \u001b[0;32melse\u001b[0m\u001b[0;34m:\u001b[0m\u001b[0;34m\u001b[0m\u001b[0;34m\u001b[0m\u001b[0m\n\u001b[0;32m-> 3193\u001b[0;31m             \u001b[0mindexer\u001b[0m \u001b[0;34m=\u001b[0m \u001b[0mself\u001b[0m\u001b[0;34m.\u001b[0m\u001b[0mslice_indexer\u001b[0m\u001b[0;34m(\u001b[0m\u001b[0mstart\u001b[0m\u001b[0;34m,\u001b[0m \u001b[0mstop\u001b[0m\u001b[0;34m,\u001b[0m \u001b[0mstep\u001b[0m\u001b[0;34m,\u001b[0m \u001b[0mkind\u001b[0m\u001b[0;34m=\u001b[0m\u001b[0mkind\u001b[0m\u001b[0;34m)\u001b[0m\u001b[0;34m\u001b[0m\u001b[0;34m\u001b[0m\u001b[0m\n\u001b[0m\u001b[1;32m   3194\u001b[0m \u001b[0;34m\u001b[0m\u001b[0m\n\u001b[1;32m   3195\u001b[0m         \u001b[0;32mreturn\u001b[0m \u001b[0mindexer\u001b[0m\u001b[0;34m\u001b[0m\u001b[0;34m\u001b[0m\u001b[0m\n",
            "\u001b[0;32m/usr/local/lib/python3.7/dist-packages/pandas/core/indexes/base.py\u001b[0m in \u001b[0;36mslice_indexer\u001b[0;34m(self, start, end, step, kind)\u001b[0m\n\u001b[1;32m   4967\u001b[0m         \u001b[0mslice\u001b[0m\u001b[0;34m(\u001b[0m\u001b[0;36m1\u001b[0m\u001b[0;34m,\u001b[0m \u001b[0;36m3\u001b[0m\u001b[0;34m,\u001b[0m \u001b[0;32mNone\u001b[0m\u001b[0;34m)\u001b[0m\u001b[0;34m\u001b[0m\u001b[0;34m\u001b[0m\u001b[0m\n\u001b[1;32m   4968\u001b[0m         \"\"\"\n\u001b[0;32m-> 4969\u001b[0;31m         \u001b[0mstart_slice\u001b[0m\u001b[0;34m,\u001b[0m \u001b[0mend_slice\u001b[0m \u001b[0;34m=\u001b[0m \u001b[0mself\u001b[0m\u001b[0;34m.\u001b[0m\u001b[0mslice_locs\u001b[0m\u001b[0;34m(\u001b[0m\u001b[0mstart\u001b[0m\u001b[0;34m,\u001b[0m \u001b[0mend\u001b[0m\u001b[0;34m,\u001b[0m \u001b[0mstep\u001b[0m\u001b[0;34m=\u001b[0m\u001b[0mstep\u001b[0m\u001b[0;34m,\u001b[0m \u001b[0mkind\u001b[0m\u001b[0;34m=\u001b[0m\u001b[0mkind\u001b[0m\u001b[0;34m)\u001b[0m\u001b[0;34m\u001b[0m\u001b[0;34m\u001b[0m\u001b[0m\n\u001b[0m\u001b[1;32m   4970\u001b[0m \u001b[0;34m\u001b[0m\u001b[0m\n\u001b[1;32m   4971\u001b[0m         \u001b[0;31m# return a slice\u001b[0m\u001b[0;34m\u001b[0m\u001b[0;34m\u001b[0m\u001b[0;34m\u001b[0m\u001b[0m\n",
            "\u001b[0;32m/usr/local/lib/python3.7/dist-packages/pandas/core/indexes/base.py\u001b[0m in \u001b[0;36mslice_locs\u001b[0;34m(self, start, end, step, kind)\u001b[0m\n\u001b[1;32m   5170\u001b[0m         \u001b[0mstart_slice\u001b[0m \u001b[0;34m=\u001b[0m \u001b[0;32mNone\u001b[0m\u001b[0;34m\u001b[0m\u001b[0;34m\u001b[0m\u001b[0m\n\u001b[1;32m   5171\u001b[0m         \u001b[0;32mif\u001b[0m \u001b[0mstart\u001b[0m \u001b[0;32mis\u001b[0m \u001b[0;32mnot\u001b[0m \u001b[0;32mNone\u001b[0m\u001b[0;34m:\u001b[0m\u001b[0;34m\u001b[0m\u001b[0;34m\u001b[0m\u001b[0m\n\u001b[0;32m-> 5172\u001b[0;31m             \u001b[0mstart_slice\u001b[0m \u001b[0;34m=\u001b[0m \u001b[0mself\u001b[0m\u001b[0;34m.\u001b[0m\u001b[0mget_slice_bound\u001b[0m\u001b[0;34m(\u001b[0m\u001b[0mstart\u001b[0m\u001b[0;34m,\u001b[0m \u001b[0;34m\"left\"\u001b[0m\u001b[0;34m,\u001b[0m \u001b[0mkind\u001b[0m\u001b[0;34m)\u001b[0m\u001b[0;34m\u001b[0m\u001b[0;34m\u001b[0m\u001b[0m\n\u001b[0m\u001b[1;32m   5173\u001b[0m         \u001b[0;32mif\u001b[0m \u001b[0mstart_slice\u001b[0m \u001b[0;32mis\u001b[0m \u001b[0;32mNone\u001b[0m\u001b[0;34m:\u001b[0m\u001b[0;34m\u001b[0m\u001b[0;34m\u001b[0m\u001b[0m\n\u001b[1;32m   5174\u001b[0m             \u001b[0mstart_slice\u001b[0m \u001b[0;34m=\u001b[0m \u001b[0;36m0\u001b[0m\u001b[0;34m\u001b[0m\u001b[0;34m\u001b[0m\u001b[0m\n",
            "\u001b[0;32m/usr/local/lib/python3.7/dist-packages/pandas/core/indexes/base.py\u001b[0m in \u001b[0;36mget_slice_bound\u001b[0;34m(self, label, side, kind)\u001b[0m\n\u001b[1;32m   5103\u001b[0m             \u001b[0;32mif\u001b[0m \u001b[0misinstance\u001b[0m\u001b[0;34m(\u001b[0m\u001b[0mslc\u001b[0m\u001b[0;34m,\u001b[0m \u001b[0mnp\u001b[0m\u001b[0;34m.\u001b[0m\u001b[0mndarray\u001b[0m\u001b[0;34m)\u001b[0m\u001b[0;34m:\u001b[0m\u001b[0;34m\u001b[0m\u001b[0;34m\u001b[0m\u001b[0m\n\u001b[1;32m   5104\u001b[0m                 raise KeyError(\n\u001b[0;32m-> 5105\u001b[0;31m                     \u001b[0;34mf\"Cannot get {side} slice bound for non-unique \"\u001b[0m\u001b[0;34m\u001b[0m\u001b[0;34m\u001b[0m\u001b[0m\n\u001b[0m\u001b[1;32m   5106\u001b[0m                     \u001b[0;34mf\"label: {repr(original_label)}\"\u001b[0m\u001b[0;34m\u001b[0m\u001b[0;34m\u001b[0m\u001b[0m\n\u001b[1;32m   5107\u001b[0m                 )\n",
            "\u001b[0;31mKeyError\u001b[0m: \"Cannot get left slice bound for non-unique label: 'beta'\""
          ]
        }
      ]
    },
    {
      "cell_type": "code",
      "metadata": {
        "id": "doNcKcSCUCWf"
      },
      "source": [
        "series7['alpha':'sigma'] = 1.3"
      ],
      "execution_count": null,
      "outputs": []
    },
    {
      "cell_type": "code",
      "metadata": {
        "id": "To9_QInZUV8I",
        "colab": {
          "base_uri": "https://localhost:8080/"
        },
        "outputId": "2d32007f-fc1b-4b23-b0ae-6e7bfc8b7ce4"
      },
      "source": [
        "series7"
      ],
      "execution_count": null,
      "outputs": [
        {
          "output_type": "execute_result",
          "data": {
            "text/plain": [
              "beta     1.1\n",
              "alpha    1.3\n",
              "beta     1.3\n",
              "sigma    1.3\n",
              "dtype: float64"
            ]
          },
          "metadata": {},
          "execution_count": 122
        }
      ]
    },
    {
      "cell_type": "markdown",
      "metadata": {
        "id": "9STadrP1UZ1w"
      },
      "source": [
        "* working with dataframe"
      ]
    },
    {
      "cell_type": "code",
      "metadata": {
        "id": "QHakPzt8UXMR",
        "colab": {
          "base_uri": "https://localhost:8080/",
          "height": 142
        },
        "outputId": "e39e11ab-e611-4b1c-ba5a-242cbf6c141a"
      },
      "source": [
        "df5"
      ],
      "execution_count": null,
      "outputs": [
        {
          "output_type": "execute_result",
          "data": {
            "text/html": [
              "<div>\n",
              "<style scoped>\n",
              "    .dataframe tbody tr th:only-of-type {\n",
              "        vertical-align: middle;\n",
              "    }\n",
              "\n",
              "    .dataframe tbody tr th {\n",
              "        vertical-align: top;\n",
              "    }\n",
              "\n",
              "    .dataframe thead th {\n",
              "        text-align: right;\n",
              "    }\n",
              "</style>\n",
              "<table border=\"1\" class=\"dataframe\">\n",
              "  <thead>\n",
              "    <tr style=\"text-align: right;\">\n",
              "      <th></th>\n",
              "      <th>Delhi</th>\n",
              "      <th>Mumbai</th>\n",
              "      <th>Bangalore</th>\n",
              "    </tr>\n",
              "  </thead>\n",
              "  <tbody>\n",
              "    <tr>\n",
              "      <th>a</th>\n",
              "      <td>0.0</td>\n",
              "      <td>1.0</td>\n",
              "      <td>2.0</td>\n",
              "    </tr>\n",
              "    <tr>\n",
              "      <th>c</th>\n",
              "      <td>3.0</td>\n",
              "      <td>4.0</td>\n",
              "      <td>5.0</td>\n",
              "    </tr>\n",
              "    <tr>\n",
              "      <th>d</th>\n",
              "      <td>6.0</td>\n",
              "      <td>7.0</td>\n",
              "      <td>8.0</td>\n",
              "    </tr>\n",
              "  </tbody>\n",
              "</table>\n",
              "</div>"
            ],
            "text/plain": [
              "   Delhi  Mumbai  Bangalore\n",
              "a    0.0     1.0        2.0\n",
              "c    3.0     4.0        5.0\n",
              "d    6.0     7.0        8.0"
            ]
          },
          "metadata": {},
          "execution_count": 123
        }
      ]
    },
    {
      "cell_type": "markdown",
      "metadata": {
        "id": "kCf6yTF-Uenb"
      },
      "source": [
        "* accessing columns"
      ]
    },
    {
      "cell_type": "code",
      "metadata": {
        "id": "wvKAeFwrUdmE",
        "colab": {
          "base_uri": "https://localhost:8080/"
        },
        "outputId": "49f10c6c-af10-46d7-a4fc-c8f2876c0046"
      },
      "source": [
        "df5['Delhi']"
      ],
      "execution_count": null,
      "outputs": [
        {
          "output_type": "execute_result",
          "data": {
            "text/plain": [
              "a    0.0\n",
              "c    3.0\n",
              "d    6.0\n",
              "Name: Delhi, dtype: float64"
            ]
          },
          "metadata": {},
          "execution_count": 124
        }
      ]
    },
    {
      "cell_type": "code",
      "metadata": {
        "id": "KSsg7wV-Uh1J",
        "colab": {
          "base_uri": "https://localhost:8080/",
          "height": 142
        },
        "outputId": "bdeb6ff6-cc20-43d4-9d83-9830d63cd0fa"
      },
      "source": [
        "df5[['Delhi', 'Bangalore']]"
      ],
      "execution_count": null,
      "outputs": [
        {
          "output_type": "execute_result",
          "data": {
            "text/html": [
              "<div>\n",
              "<style scoped>\n",
              "    .dataframe tbody tr th:only-of-type {\n",
              "        vertical-align: middle;\n",
              "    }\n",
              "\n",
              "    .dataframe tbody tr th {\n",
              "        vertical-align: top;\n",
              "    }\n",
              "\n",
              "    .dataframe thead th {\n",
              "        text-align: right;\n",
              "    }\n",
              "</style>\n",
              "<table border=\"1\" class=\"dataframe\">\n",
              "  <thead>\n",
              "    <tr style=\"text-align: right;\">\n",
              "      <th></th>\n",
              "      <th>Delhi</th>\n",
              "      <th>Bangalore</th>\n",
              "    </tr>\n",
              "  </thead>\n",
              "  <tbody>\n",
              "    <tr>\n",
              "      <th>a</th>\n",
              "      <td>0.0</td>\n",
              "      <td>2.0</td>\n",
              "    </tr>\n",
              "    <tr>\n",
              "      <th>c</th>\n",
              "      <td>3.0</td>\n",
              "      <td>5.0</td>\n",
              "    </tr>\n",
              "    <tr>\n",
              "      <th>d</th>\n",
              "      <td>6.0</td>\n",
              "      <td>8.0</td>\n",
              "    </tr>\n",
              "  </tbody>\n",
              "</table>\n",
              "</div>"
            ],
            "text/plain": [
              "   Delhi  Bangalore\n",
              "a    0.0        2.0\n",
              "c    3.0        5.0\n",
              "d    6.0        8.0"
            ]
          },
          "metadata": {},
          "execution_count": 125
        }
      ]
    },
    {
      "cell_type": "markdown",
      "metadata": {
        "id": "_3KsfXDLUndk"
      },
      "source": [
        "* slicing rows"
      ]
    },
    {
      "cell_type": "code",
      "metadata": {
        "id": "nKc0zWTZUmYV",
        "colab": {
          "base_uri": "https://localhost:8080/",
          "height": 110
        },
        "outputId": "d49cb6a5-f50a-4729-cae8-17cc8d1f16bc"
      },
      "source": [
        "df5[:2]"
      ],
      "execution_count": null,
      "outputs": [
        {
          "output_type": "execute_result",
          "data": {
            "text/html": [
              "<div>\n",
              "<style scoped>\n",
              "    .dataframe tbody tr th:only-of-type {\n",
              "        vertical-align: middle;\n",
              "    }\n",
              "\n",
              "    .dataframe tbody tr th {\n",
              "        vertical-align: top;\n",
              "    }\n",
              "\n",
              "    .dataframe thead th {\n",
              "        text-align: right;\n",
              "    }\n",
              "</style>\n",
              "<table border=\"1\" class=\"dataframe\">\n",
              "  <thead>\n",
              "    <tr style=\"text-align: right;\">\n",
              "      <th></th>\n",
              "      <th>Delhi</th>\n",
              "      <th>Mumbai</th>\n",
              "      <th>Bangalore</th>\n",
              "    </tr>\n",
              "  </thead>\n",
              "  <tbody>\n",
              "    <tr>\n",
              "      <th>a</th>\n",
              "      <td>0.0</td>\n",
              "      <td>1.0</td>\n",
              "      <td>2.0</td>\n",
              "    </tr>\n",
              "    <tr>\n",
              "      <th>c</th>\n",
              "      <td>3.0</td>\n",
              "      <td>4.0</td>\n",
              "      <td>5.0</td>\n",
              "    </tr>\n",
              "  </tbody>\n",
              "</table>\n",
              "</div>"
            ],
            "text/plain": [
              "   Delhi  Mumbai  Bangalore\n",
              "a    0.0     1.0        2.0\n",
              "c    3.0     4.0        5.0"
            ]
          },
          "metadata": {},
          "execution_count": 126
        }
      ]
    },
    {
      "cell_type": "code",
      "metadata": {
        "id": "MQoxyQAqUqMz",
        "colab": {
          "base_uri": "https://localhost:8080/",
          "height": 80
        },
        "outputId": "100a63d1-e1ae-4dbb-bb6a-d0426c041773"
      },
      "source": [
        "df5[1:2]"
      ],
      "execution_count": null,
      "outputs": [
        {
          "output_type": "execute_result",
          "data": {
            "text/html": [
              "<div>\n",
              "<style scoped>\n",
              "    .dataframe tbody tr th:only-of-type {\n",
              "        vertical-align: middle;\n",
              "    }\n",
              "\n",
              "    .dataframe tbody tr th {\n",
              "        vertical-align: top;\n",
              "    }\n",
              "\n",
              "    .dataframe thead th {\n",
              "        text-align: right;\n",
              "    }\n",
              "</style>\n",
              "<table border=\"1\" class=\"dataframe\">\n",
              "  <thead>\n",
              "    <tr style=\"text-align: right;\">\n",
              "      <th></th>\n",
              "      <th>Delhi</th>\n",
              "      <th>Mumbai</th>\n",
              "      <th>Bangalore</th>\n",
              "    </tr>\n",
              "  </thead>\n",
              "  <tbody>\n",
              "    <tr>\n",
              "      <th>c</th>\n",
              "      <td>3.0</td>\n",
              "      <td>4.0</td>\n",
              "      <td>5.0</td>\n",
              "    </tr>\n",
              "  </tbody>\n",
              "</table>\n",
              "</div>"
            ],
            "text/plain": [
              "   Delhi  Mumbai  Bangalore\n",
              "c    3.0     4.0        5.0"
            ]
          },
          "metadata": {},
          "execution_count": 127
        }
      ]
    },
    {
      "cell_type": "markdown",
      "metadata": {
        "id": "gNmPSYNuUuIy"
      },
      "source": [
        "* filtering rows"
      ]
    },
    {
      "cell_type": "code",
      "metadata": {
        "id": "H5VAOQyhUsCW",
        "colab": {
          "base_uri": "https://localhost:8080/",
          "height": 80
        },
        "outputId": "8dd54fa4-6ee8-4e39-8ea9-71f28182cf5b"
      },
      "source": [
        "df5[df5['Bangalore']>5]"
      ],
      "execution_count": null,
      "outputs": [
        {
          "output_type": "execute_result",
          "data": {
            "text/html": [
              "<div>\n",
              "<style scoped>\n",
              "    .dataframe tbody tr th:only-of-type {\n",
              "        vertical-align: middle;\n",
              "    }\n",
              "\n",
              "    .dataframe tbody tr th {\n",
              "        vertical-align: top;\n",
              "    }\n",
              "\n",
              "    .dataframe thead th {\n",
              "        text-align: right;\n",
              "    }\n",
              "</style>\n",
              "<table border=\"1\" class=\"dataframe\">\n",
              "  <thead>\n",
              "    <tr style=\"text-align: right;\">\n",
              "      <th></th>\n",
              "      <th>Delhi</th>\n",
              "      <th>Mumbai</th>\n",
              "      <th>Bangalore</th>\n",
              "    </tr>\n",
              "  </thead>\n",
              "  <tbody>\n",
              "    <tr>\n",
              "      <th>d</th>\n",
              "      <td>6.0</td>\n",
              "      <td>7.0</td>\n",
              "      <td>8.0</td>\n",
              "    </tr>\n",
              "  </tbody>\n",
              "</table>\n",
              "</div>"
            ],
            "text/plain": [
              "   Delhi  Mumbai  Bangalore\n",
              "d    6.0     7.0        8.0"
            ]
          },
          "metadata": {},
          "execution_count": 128
        }
      ]
    },
    {
      "cell_type": "markdown",
      "metadata": {
        "id": "X9lkMlDHU3Gu"
      },
      "source": [
        "* working with a boolean dataframe"
      ]
    },
    {
      "cell_type": "code",
      "metadata": {
        "id": "fBMXub1cU13t",
        "colab": {
          "base_uri": "https://localhost:8080/",
          "height": 142
        },
        "outputId": "590e13d7-8685-494f-a9cc-ae8bb548b05e"
      },
      "source": [
        "df5 < 5"
      ],
      "execution_count": null,
      "outputs": [
        {
          "output_type": "execute_result",
          "data": {
            "text/html": [
              "<div>\n",
              "<style scoped>\n",
              "    .dataframe tbody tr th:only-of-type {\n",
              "        vertical-align: middle;\n",
              "    }\n",
              "\n",
              "    .dataframe tbody tr th {\n",
              "        vertical-align: top;\n",
              "    }\n",
              "\n",
              "    .dataframe thead th {\n",
              "        text-align: right;\n",
              "    }\n",
              "</style>\n",
              "<table border=\"1\" class=\"dataframe\">\n",
              "  <thead>\n",
              "    <tr style=\"text-align: right;\">\n",
              "      <th></th>\n",
              "      <th>Delhi</th>\n",
              "      <th>Mumbai</th>\n",
              "      <th>Bangalore</th>\n",
              "    </tr>\n",
              "  </thead>\n",
              "  <tbody>\n",
              "    <tr>\n",
              "      <th>a</th>\n",
              "      <td>True</td>\n",
              "      <td>True</td>\n",
              "      <td>True</td>\n",
              "    </tr>\n",
              "    <tr>\n",
              "      <th>c</th>\n",
              "      <td>True</td>\n",
              "      <td>True</td>\n",
              "      <td>False</td>\n",
              "    </tr>\n",
              "    <tr>\n",
              "      <th>d</th>\n",
              "      <td>False</td>\n",
              "      <td>False</td>\n",
              "      <td>False</td>\n",
              "    </tr>\n",
              "  </tbody>\n",
              "</table>\n",
              "</div>"
            ],
            "text/plain": [
              "   Delhi  Mumbai  Bangalore\n",
              "a   True    True       True\n",
              "c   True    True      False\n",
              "d  False   False      False"
            ]
          },
          "metadata": {},
          "execution_count": 129
        }
      ]
    },
    {
      "cell_type": "code",
      "metadata": {
        "id": "VJyK4NQeU74L",
        "colab": {
          "base_uri": "https://localhost:8080/",
          "height": 142
        },
        "outputId": "35f9f0b2-4932-4835-ae19-6d18bf3a83c1"
      },
      "source": [
        "df5[df5<5]"
      ],
      "execution_count": null,
      "outputs": [
        {
          "output_type": "execute_result",
          "data": {
            "text/html": [
              "<div>\n",
              "<style scoped>\n",
              "    .dataframe tbody tr th:only-of-type {\n",
              "        vertical-align: middle;\n",
              "    }\n",
              "\n",
              "    .dataframe tbody tr th {\n",
              "        vertical-align: top;\n",
              "    }\n",
              "\n",
              "    .dataframe thead th {\n",
              "        text-align: right;\n",
              "    }\n",
              "</style>\n",
              "<table border=\"1\" class=\"dataframe\">\n",
              "  <thead>\n",
              "    <tr style=\"text-align: right;\">\n",
              "      <th></th>\n",
              "      <th>Delhi</th>\n",
              "      <th>Mumbai</th>\n",
              "      <th>Bangalore</th>\n",
              "    </tr>\n",
              "  </thead>\n",
              "  <tbody>\n",
              "    <tr>\n",
              "      <th>a</th>\n",
              "      <td>0.0</td>\n",
              "      <td>1.0</td>\n",
              "      <td>2.0</td>\n",
              "    </tr>\n",
              "    <tr>\n",
              "      <th>c</th>\n",
              "      <td>3.0</td>\n",
              "      <td>4.0</td>\n",
              "      <td>NaN</td>\n",
              "    </tr>\n",
              "    <tr>\n",
              "      <th>d</th>\n",
              "      <td>NaN</td>\n",
              "      <td>NaN</td>\n",
              "      <td>NaN</td>\n",
              "    </tr>\n",
              "  </tbody>\n",
              "</table>\n",
              "</div>"
            ],
            "text/plain": [
              "   Delhi  Mumbai  Bangalore\n",
              "a    0.0     1.0        2.0\n",
              "c    3.0     4.0        NaN\n",
              "d    NaN     NaN        NaN"
            ]
          },
          "metadata": {},
          "execution_count": 130
        }
      ]
    },
    {
      "cell_type": "code",
      "metadata": {
        "id": "tTSRZSCJVDEZ"
      },
      "source": [
        "df5[df5<5] = 0"
      ],
      "execution_count": null,
      "outputs": []
    },
    {
      "cell_type": "code",
      "metadata": {
        "id": "GZQaejjnVH02",
        "colab": {
          "base_uri": "https://localhost:8080/",
          "height": 142
        },
        "outputId": "0cf5d3a9-a5de-4819-856b-96bc98698b51"
      },
      "source": [
        "df5"
      ],
      "execution_count": null,
      "outputs": [
        {
          "output_type": "execute_result",
          "data": {
            "text/html": [
              "<div>\n",
              "<style scoped>\n",
              "    .dataframe tbody tr th:only-of-type {\n",
              "        vertical-align: middle;\n",
              "    }\n",
              "\n",
              "    .dataframe tbody tr th {\n",
              "        vertical-align: top;\n",
              "    }\n",
              "\n",
              "    .dataframe thead th {\n",
              "        text-align: right;\n",
              "    }\n",
              "</style>\n",
              "<table border=\"1\" class=\"dataframe\">\n",
              "  <thead>\n",
              "    <tr style=\"text-align: right;\">\n",
              "      <th></th>\n",
              "      <th>Delhi</th>\n",
              "      <th>Mumbai</th>\n",
              "      <th>Bangalore</th>\n",
              "    </tr>\n",
              "  </thead>\n",
              "  <tbody>\n",
              "    <tr>\n",
              "      <th>a</th>\n",
              "      <td>0.0</td>\n",
              "      <td>0.0</td>\n",
              "      <td>0.0</td>\n",
              "    </tr>\n",
              "    <tr>\n",
              "      <th>c</th>\n",
              "      <td>0.0</td>\n",
              "      <td>0.0</td>\n",
              "      <td>5.0</td>\n",
              "    </tr>\n",
              "    <tr>\n",
              "      <th>d</th>\n",
              "      <td>6.0</td>\n",
              "      <td>7.0</td>\n",
              "      <td>8.0</td>\n",
              "    </tr>\n",
              "  </tbody>\n",
              "</table>\n",
              "</div>"
            ],
            "text/plain": [
              "   Delhi  Mumbai  Bangalore\n",
              "a    0.0     0.0        0.0\n",
              "c    0.0     0.0        5.0\n",
              "d    6.0     7.0        8.0"
            ]
          },
          "metadata": {},
          "execution_count": 132
        }
      ]
    },
    {
      "cell_type": "markdown",
      "metadata": {
        "id": "MBKfs5UiVU-S"
      },
      "source": [
        "* indexing operators loc and iloc\n",
        "* loc is used with axis labels\n",
        "* iloc is used with integer values corresponding to axis labels"
      ]
    },
    {
      "cell_type": "code",
      "metadata": {
        "id": "8AoYG0DOVNNO",
        "colab": {
          "base_uri": "https://localhost:8080/",
          "height": 142
        },
        "outputId": "111bfbf0-0abd-4942-e95b-9e969b69775a"
      },
      "source": [
        "df5"
      ],
      "execution_count": null,
      "outputs": [
        {
          "output_type": "execute_result",
          "data": {
            "text/html": [
              "<div>\n",
              "<style scoped>\n",
              "    .dataframe tbody tr th:only-of-type {\n",
              "        vertical-align: middle;\n",
              "    }\n",
              "\n",
              "    .dataframe tbody tr th {\n",
              "        vertical-align: top;\n",
              "    }\n",
              "\n",
              "    .dataframe thead th {\n",
              "        text-align: right;\n",
              "    }\n",
              "</style>\n",
              "<table border=\"1\" class=\"dataframe\">\n",
              "  <thead>\n",
              "    <tr style=\"text-align: right;\">\n",
              "      <th></th>\n",
              "      <th>Delhi</th>\n",
              "      <th>Mumbai</th>\n",
              "      <th>Bangalore</th>\n",
              "    </tr>\n",
              "  </thead>\n",
              "  <tbody>\n",
              "    <tr>\n",
              "      <th>a</th>\n",
              "      <td>0.0</td>\n",
              "      <td>0.0</td>\n",
              "      <td>0.0</td>\n",
              "    </tr>\n",
              "    <tr>\n",
              "      <th>c</th>\n",
              "      <td>0.0</td>\n",
              "      <td>0.0</td>\n",
              "      <td>5.0</td>\n",
              "    </tr>\n",
              "    <tr>\n",
              "      <th>d</th>\n",
              "      <td>6.0</td>\n",
              "      <td>7.0</td>\n",
              "      <td>8.0</td>\n",
              "    </tr>\n",
              "  </tbody>\n",
              "</table>\n",
              "</div>"
            ],
            "text/plain": [
              "   Delhi  Mumbai  Bangalore\n",
              "a    0.0     0.0        0.0\n",
              "c    0.0     0.0        5.0\n",
              "d    6.0     7.0        8.0"
            ]
          },
          "metadata": {},
          "execution_count": 133
        }
      ]
    },
    {
      "cell_type": "code",
      "metadata": {
        "id": "q2Djck1IVsGI",
        "colab": {
          "base_uri": "https://localhost:8080/"
        },
        "outputId": "1c152274-a5ab-46f2-b1c0-f6976fb023b9"
      },
      "source": [
        "df5.loc['a', 'Delhi']"
      ],
      "execution_count": null,
      "outputs": [
        {
          "output_type": "execute_result",
          "data": {
            "text/plain": [
              "0.0"
            ]
          },
          "metadata": {},
          "execution_count": 134
        }
      ]
    },
    {
      "cell_type": "code",
      "metadata": {
        "id": "2iShJI5sVwym",
        "colab": {
          "base_uri": "https://localhost:8080/"
        },
        "outputId": "d3cdf761-0daa-4177-8aa6-8a2bd575b822"
      },
      "source": [
        "df5.loc['a',['Delhi', 'Bangalore']]"
      ],
      "execution_count": null,
      "outputs": [
        {
          "output_type": "execute_result",
          "data": {
            "text/plain": [
              "Delhi        0.0\n",
              "Bangalore    0.0\n",
              "Name: a, dtype: float64"
            ]
          },
          "metadata": {},
          "execution_count": 135
        }
      ]
    },
    {
      "cell_type": "code",
      "metadata": {
        "id": "w0lVlsIWV34Q",
        "colab": {
          "base_uri": "https://localhost:8080/",
          "height": 320
        },
        "outputId": "54801eba-65d7-47a3-99f1-4e43b3b7ee24"
      },
      "source": [
        "df5.loc[['a', 'b'], ['Delhi', 'Bangalore']]"
      ],
      "execution_count": null,
      "outputs": [
        {
          "output_type": "error",
          "ename": "KeyError",
          "evalue": "ignored",
          "traceback": [
            "\u001b[0;31m---------------------------------------------------------------------------\u001b[0m",
            "\u001b[0;31mKeyError\u001b[0m                                  Traceback (most recent call last)",
            "\u001b[0;32m<ipython-input-136-aec352c4e12d>\u001b[0m in \u001b[0;36m<module>\u001b[0;34m()\u001b[0m\n\u001b[0;32m----> 1\u001b[0;31m \u001b[0mdf5\u001b[0m\u001b[0;34m.\u001b[0m\u001b[0mloc\u001b[0m\u001b[0;34m[\u001b[0m\u001b[0;34m[\u001b[0m\u001b[0;34m'a'\u001b[0m\u001b[0;34m,\u001b[0m \u001b[0;34m'b'\u001b[0m\u001b[0;34m]\u001b[0m\u001b[0;34m,\u001b[0m \u001b[0;34m[\u001b[0m\u001b[0;34m'Delhi'\u001b[0m\u001b[0;34m,\u001b[0m \u001b[0;34m'Bangalore'\u001b[0m\u001b[0;34m]\u001b[0m\u001b[0;34m]\u001b[0m\u001b[0;34m\u001b[0m\u001b[0;34m\u001b[0m\u001b[0m\n\u001b[0m",
            "\u001b[0;32m/usr/local/lib/python3.7/dist-packages/pandas/core/indexing.py\u001b[0m in \u001b[0;36m__getitem__\u001b[0;34m(self, key)\u001b[0m\n\u001b[1;32m    871\u001b[0m                     \u001b[0;31m# AttributeError for IntervalTree get_value\u001b[0m\u001b[0;34m\u001b[0m\u001b[0;34m\u001b[0m\u001b[0;34m\u001b[0m\u001b[0m\n\u001b[1;32m    872\u001b[0m                     \u001b[0;32mpass\u001b[0m\u001b[0;34m\u001b[0m\u001b[0;34m\u001b[0m\u001b[0m\n\u001b[0;32m--> 873\u001b[0;31m             \u001b[0;32mreturn\u001b[0m \u001b[0mself\u001b[0m\u001b[0;34m.\u001b[0m\u001b[0m_getitem_tuple\u001b[0m\u001b[0;34m(\u001b[0m\u001b[0mkey\u001b[0m\u001b[0;34m)\u001b[0m\u001b[0;34m\u001b[0m\u001b[0;34m\u001b[0m\u001b[0m\n\u001b[0m\u001b[1;32m    874\u001b[0m         \u001b[0;32melse\u001b[0m\u001b[0;34m:\u001b[0m\u001b[0;34m\u001b[0m\u001b[0;34m\u001b[0m\u001b[0m\n\u001b[1;32m    875\u001b[0m             \u001b[0;31m# we by definition only have the 0th axis\u001b[0m\u001b[0;34m\u001b[0m\u001b[0;34m\u001b[0m\u001b[0;34m\u001b[0m\u001b[0m\n",
            "\u001b[0;32m/usr/local/lib/python3.7/dist-packages/pandas/core/indexing.py\u001b[0m in \u001b[0;36m_getitem_tuple\u001b[0;34m(self, tup)\u001b[0m\n\u001b[1;32m   1051\u001b[0m         \u001b[0;31m# ugly hack for GH #836\u001b[0m\u001b[0;34m\u001b[0m\u001b[0;34m\u001b[0m\u001b[0;34m\u001b[0m\u001b[0m\n\u001b[1;32m   1052\u001b[0m         \u001b[0;32mif\u001b[0m \u001b[0mself\u001b[0m\u001b[0;34m.\u001b[0m\u001b[0m_multi_take_opportunity\u001b[0m\u001b[0;34m(\u001b[0m\u001b[0mtup\u001b[0m\u001b[0;34m)\u001b[0m\u001b[0;34m:\u001b[0m\u001b[0;34m\u001b[0m\u001b[0;34m\u001b[0m\u001b[0m\n\u001b[0;32m-> 1053\u001b[0;31m             \u001b[0;32mreturn\u001b[0m \u001b[0mself\u001b[0m\u001b[0;34m.\u001b[0m\u001b[0m_multi_take\u001b[0m\u001b[0;34m(\u001b[0m\u001b[0mtup\u001b[0m\u001b[0;34m)\u001b[0m\u001b[0;34m\u001b[0m\u001b[0;34m\u001b[0m\u001b[0m\n\u001b[0m\u001b[1;32m   1054\u001b[0m \u001b[0;34m\u001b[0m\u001b[0m\n\u001b[1;32m   1055\u001b[0m         \u001b[0;32mreturn\u001b[0m \u001b[0mself\u001b[0m\u001b[0;34m.\u001b[0m\u001b[0m_getitem_tuple_same_dim\u001b[0m\u001b[0;34m(\u001b[0m\u001b[0mtup\u001b[0m\u001b[0;34m)\u001b[0m\u001b[0;34m\u001b[0m\u001b[0;34m\u001b[0m\u001b[0m\n",
            "\u001b[0;32m/usr/local/lib/python3.7/dist-packages/pandas/core/indexing.py\u001b[0m in \u001b[0;36m_multi_take\u001b[0;34m(self, tup)\u001b[0m\n\u001b[1;32m   1003\u001b[0m         d = {\n\u001b[1;32m   1004\u001b[0m             \u001b[0maxis\u001b[0m\u001b[0;34m:\u001b[0m \u001b[0mself\u001b[0m\u001b[0;34m.\u001b[0m\u001b[0m_get_listlike_indexer\u001b[0m\u001b[0;34m(\u001b[0m\u001b[0mkey\u001b[0m\u001b[0;34m,\u001b[0m \u001b[0maxis\u001b[0m\u001b[0;34m)\u001b[0m\u001b[0;34m\u001b[0m\u001b[0;34m\u001b[0m\u001b[0m\n\u001b[0;32m-> 1005\u001b[0;31m             \u001b[0;32mfor\u001b[0m \u001b[0;34m(\u001b[0m\u001b[0mkey\u001b[0m\u001b[0;34m,\u001b[0m \u001b[0maxis\u001b[0m\u001b[0;34m)\u001b[0m \u001b[0;32min\u001b[0m \u001b[0mzip\u001b[0m\u001b[0;34m(\u001b[0m\u001b[0mtup\u001b[0m\u001b[0;34m,\u001b[0m \u001b[0mself\u001b[0m\u001b[0;34m.\u001b[0m\u001b[0mobj\u001b[0m\u001b[0;34m.\u001b[0m\u001b[0m_AXIS_ORDERS\u001b[0m\u001b[0;34m)\u001b[0m\u001b[0;34m\u001b[0m\u001b[0;34m\u001b[0m\u001b[0m\n\u001b[0m\u001b[1;32m   1006\u001b[0m         }\n\u001b[1;32m   1007\u001b[0m         \u001b[0;32mreturn\u001b[0m \u001b[0mself\u001b[0m\u001b[0;34m.\u001b[0m\u001b[0mobj\u001b[0m\u001b[0;34m.\u001b[0m\u001b[0m_reindex_with_indexers\u001b[0m\u001b[0;34m(\u001b[0m\u001b[0md\u001b[0m\u001b[0;34m,\u001b[0m \u001b[0mcopy\u001b[0m\u001b[0;34m=\u001b[0m\u001b[0;32mTrue\u001b[0m\u001b[0;34m,\u001b[0m \u001b[0mallow_dups\u001b[0m\u001b[0;34m=\u001b[0m\u001b[0;32mTrue\u001b[0m\u001b[0;34m)\u001b[0m\u001b[0;34m\u001b[0m\u001b[0;34m\u001b[0m\u001b[0m\n",
            "\u001b[0;32m/usr/local/lib/python3.7/dist-packages/pandas/core/indexing.py\u001b[0m in \u001b[0;36m<dictcomp>\u001b[0;34m(.0)\u001b[0m\n\u001b[1;32m   1003\u001b[0m         d = {\n\u001b[1;32m   1004\u001b[0m             \u001b[0maxis\u001b[0m\u001b[0;34m:\u001b[0m \u001b[0mself\u001b[0m\u001b[0;34m.\u001b[0m\u001b[0m_get_listlike_indexer\u001b[0m\u001b[0;34m(\u001b[0m\u001b[0mkey\u001b[0m\u001b[0;34m,\u001b[0m \u001b[0maxis\u001b[0m\u001b[0;34m)\u001b[0m\u001b[0;34m\u001b[0m\u001b[0;34m\u001b[0m\u001b[0m\n\u001b[0;32m-> 1005\u001b[0;31m             \u001b[0;32mfor\u001b[0m \u001b[0;34m(\u001b[0m\u001b[0mkey\u001b[0m\u001b[0;34m,\u001b[0m \u001b[0maxis\u001b[0m\u001b[0;34m)\u001b[0m \u001b[0;32min\u001b[0m \u001b[0mzip\u001b[0m\u001b[0;34m(\u001b[0m\u001b[0mtup\u001b[0m\u001b[0;34m,\u001b[0m \u001b[0mself\u001b[0m\u001b[0;34m.\u001b[0m\u001b[0mobj\u001b[0m\u001b[0;34m.\u001b[0m\u001b[0m_AXIS_ORDERS\u001b[0m\u001b[0;34m)\u001b[0m\u001b[0;34m\u001b[0m\u001b[0;34m\u001b[0m\u001b[0m\n\u001b[0m\u001b[1;32m   1006\u001b[0m         }\n\u001b[1;32m   1007\u001b[0m         \u001b[0;32mreturn\u001b[0m \u001b[0mself\u001b[0m\u001b[0;34m.\u001b[0m\u001b[0mobj\u001b[0m\u001b[0;34m.\u001b[0m\u001b[0m_reindex_with_indexers\u001b[0m\u001b[0;34m(\u001b[0m\u001b[0md\u001b[0m\u001b[0;34m,\u001b[0m \u001b[0mcopy\u001b[0m\u001b[0;34m=\u001b[0m\u001b[0;32mTrue\u001b[0m\u001b[0;34m,\u001b[0m \u001b[0mallow_dups\u001b[0m\u001b[0;34m=\u001b[0m\u001b[0;32mTrue\u001b[0m\u001b[0;34m)\u001b[0m\u001b[0;34m\u001b[0m\u001b[0;34m\u001b[0m\u001b[0m\n",
            "\u001b[0;32m/usr/local/lib/python3.7/dist-packages/pandas/core/indexing.py\u001b[0m in \u001b[0;36m_get_listlike_indexer\u001b[0;34m(self, key, axis, raise_missing)\u001b[0m\n\u001b[1;32m   1252\u001b[0m             \u001b[0mkeyarr\u001b[0m\u001b[0;34m,\u001b[0m \u001b[0mindexer\u001b[0m\u001b[0;34m,\u001b[0m \u001b[0mnew_indexer\u001b[0m \u001b[0;34m=\u001b[0m \u001b[0max\u001b[0m\u001b[0;34m.\u001b[0m\u001b[0m_reindex_non_unique\u001b[0m\u001b[0;34m(\u001b[0m\u001b[0mkeyarr\u001b[0m\u001b[0;34m)\u001b[0m\u001b[0;34m\u001b[0m\u001b[0;34m\u001b[0m\u001b[0m\n\u001b[1;32m   1253\u001b[0m \u001b[0;34m\u001b[0m\u001b[0m\n\u001b[0;32m-> 1254\u001b[0;31m         \u001b[0mself\u001b[0m\u001b[0;34m.\u001b[0m\u001b[0m_validate_read_indexer\u001b[0m\u001b[0;34m(\u001b[0m\u001b[0mkeyarr\u001b[0m\u001b[0;34m,\u001b[0m \u001b[0mindexer\u001b[0m\u001b[0;34m,\u001b[0m \u001b[0maxis\u001b[0m\u001b[0;34m,\u001b[0m \u001b[0mraise_missing\u001b[0m\u001b[0;34m=\u001b[0m\u001b[0mraise_missing\u001b[0m\u001b[0;34m)\u001b[0m\u001b[0;34m\u001b[0m\u001b[0;34m\u001b[0m\u001b[0m\n\u001b[0m\u001b[1;32m   1255\u001b[0m         \u001b[0;32mreturn\u001b[0m \u001b[0mkeyarr\u001b[0m\u001b[0;34m,\u001b[0m \u001b[0mindexer\u001b[0m\u001b[0;34m\u001b[0m\u001b[0;34m\u001b[0m\u001b[0m\n\u001b[1;32m   1256\u001b[0m \u001b[0;34m\u001b[0m\u001b[0m\n",
            "\u001b[0;32m/usr/local/lib/python3.7/dist-packages/pandas/core/indexing.py\u001b[0m in \u001b[0;36m_validate_read_indexer\u001b[0;34m(self, key, indexer, axis, raise_missing)\u001b[0m\n\u001b[1;32m   1314\u001b[0m                 \u001b[0;32mwith\u001b[0m \u001b[0moption_context\u001b[0m\u001b[0;34m(\u001b[0m\u001b[0;34m\"display.max_seq_items\"\u001b[0m\u001b[0;34m,\u001b[0m \u001b[0;36m10\u001b[0m\u001b[0;34m,\u001b[0m \u001b[0;34m\"display.width\"\u001b[0m\u001b[0;34m,\u001b[0m \u001b[0;36m80\u001b[0m\u001b[0;34m)\u001b[0m\u001b[0;34m:\u001b[0m\u001b[0;34m\u001b[0m\u001b[0;34m\u001b[0m\u001b[0m\n\u001b[1;32m   1315\u001b[0m                     raise KeyError(\n\u001b[0;32m-> 1316\u001b[0;31m                         \u001b[0;34m\"Passing list-likes to .loc or [] with any missing labels \"\u001b[0m\u001b[0;34m\u001b[0m\u001b[0;34m\u001b[0m\u001b[0m\n\u001b[0m\u001b[1;32m   1317\u001b[0m                         \u001b[0;34m\"is no longer supported. \"\u001b[0m\u001b[0;34m\u001b[0m\u001b[0;34m\u001b[0m\u001b[0m\n\u001b[1;32m   1318\u001b[0m                         \u001b[0;34mf\"The following labels were missing: {not_found}. \"\u001b[0m\u001b[0;34m\u001b[0m\u001b[0;34m\u001b[0m\u001b[0m\n",
            "\u001b[0;31mKeyError\u001b[0m: \"Passing list-likes to .loc or [] with any missing labels is no longer supported. The following labels were missing: Index(['b'], dtype='object'). See https://pandas.pydata.org/pandas-docs/stable/user_guide/indexing.html#deprecate-loc-reindex-listlike\""
          ]
        }
      ]
    },
    {
      "cell_type": "code",
      "metadata": {
        "id": "VBy_2fSpWDYt",
        "colab": {
          "base_uri": "https://localhost:8080/",
          "height": 110
        },
        "outputId": "1239f019-5f27-45cb-9cb3-8e0771449547"
      },
      "source": [
        "df5.loc[['a', 'd'], ['Delhi', 'Bangalore']]"
      ],
      "execution_count": null,
      "outputs": [
        {
          "output_type": "execute_result",
          "data": {
            "text/html": [
              "<div>\n",
              "<style scoped>\n",
              "    .dataframe tbody tr th:only-of-type {\n",
              "        vertical-align: middle;\n",
              "    }\n",
              "\n",
              "    .dataframe tbody tr th {\n",
              "        vertical-align: top;\n",
              "    }\n",
              "\n",
              "    .dataframe thead th {\n",
              "        text-align: right;\n",
              "    }\n",
              "</style>\n",
              "<table border=\"1\" class=\"dataframe\">\n",
              "  <thead>\n",
              "    <tr style=\"text-align: right;\">\n",
              "      <th></th>\n",
              "      <th>Delhi</th>\n",
              "      <th>Bangalore</th>\n",
              "    </tr>\n",
              "  </thead>\n",
              "  <tbody>\n",
              "    <tr>\n",
              "      <th>a</th>\n",
              "      <td>0.0</td>\n",
              "      <td>0.0</td>\n",
              "    </tr>\n",
              "    <tr>\n",
              "      <th>d</th>\n",
              "      <td>6.0</td>\n",
              "      <td>8.0</td>\n",
              "    </tr>\n",
              "  </tbody>\n",
              "</table>\n",
              "</div>"
            ],
            "text/plain": [
              "   Delhi  Bangalore\n",
              "a    0.0        0.0\n",
              "d    6.0        8.0"
            ]
          },
          "metadata": {},
          "execution_count": 137
        }
      ]
    },
    {
      "cell_type": "code",
      "metadata": {
        "id": "Mn9qeJlBWJVt",
        "colab": {
          "base_uri": "https://localhost:8080/"
        },
        "outputId": "6ddcb650-18b8-42c2-83d3-a349c9bce152"
      },
      "source": [
        "df5.iloc[0,0]"
      ],
      "execution_count": null,
      "outputs": [
        {
          "output_type": "execute_result",
          "data": {
            "text/plain": [
              "0.0"
            ]
          },
          "metadata": {},
          "execution_count": 138
        }
      ]
    },
    {
      "cell_type": "code",
      "metadata": {
        "id": "XRD8DrQcWP1o",
        "colab": {
          "base_uri": "https://localhost:8080/"
        },
        "outputId": "d6f46774-2006-4c28-d57d-207e46f32019"
      },
      "source": [
        "df5.iloc[0, [0,1]]"
      ],
      "execution_count": null,
      "outputs": [
        {
          "output_type": "execute_result",
          "data": {
            "text/plain": [
              "Delhi     0.0\n",
              "Mumbai    0.0\n",
              "Name: a, dtype: float64"
            ]
          },
          "metadata": {},
          "execution_count": 139
        }
      ]
    },
    {
      "cell_type": "code",
      "metadata": {
        "id": "S9bWcvAQWUID",
        "colab": {
          "base_uri": "https://localhost:8080/",
          "height": 110
        },
        "outputId": "80a239a2-1921-4f72-bcf9-9ce517a0cb16"
      },
      "source": [
        "df5.iloc[[0,1], [0,1]]"
      ],
      "execution_count": null,
      "outputs": [
        {
          "output_type": "execute_result",
          "data": {
            "text/html": [
              "<div>\n",
              "<style scoped>\n",
              "    .dataframe tbody tr th:only-of-type {\n",
              "        vertical-align: middle;\n",
              "    }\n",
              "\n",
              "    .dataframe tbody tr th {\n",
              "        vertical-align: top;\n",
              "    }\n",
              "\n",
              "    .dataframe thead th {\n",
              "        text-align: right;\n",
              "    }\n",
              "</style>\n",
              "<table border=\"1\" class=\"dataframe\">\n",
              "  <thead>\n",
              "    <tr style=\"text-align: right;\">\n",
              "      <th></th>\n",
              "      <th>Delhi</th>\n",
              "      <th>Mumbai</th>\n",
              "    </tr>\n",
              "  </thead>\n",
              "  <tbody>\n",
              "    <tr>\n",
              "      <th>a</th>\n",
              "      <td>0.0</td>\n",
              "      <td>0.0</td>\n",
              "    </tr>\n",
              "    <tr>\n",
              "      <th>c</th>\n",
              "      <td>0.0</td>\n",
              "      <td>0.0</td>\n",
              "    </tr>\n",
              "  </tbody>\n",
              "</table>\n",
              "</div>"
            ],
            "text/plain": [
              "   Delhi  Mumbai\n",
              "a    0.0     0.0\n",
              "c    0.0     0.0"
            ]
          },
          "metadata": {},
          "execution_count": 140
        }
      ]
    },
    {
      "cell_type": "code",
      "metadata": {
        "id": "mJio9rHKWXwa",
        "colab": {
          "base_uri": "https://localhost:8080/"
        },
        "outputId": "9aec41ad-e0ac-4ede-d71b-4fa3e5caa278"
      },
      "source": [
        "df5.iloc[1]"
      ],
      "execution_count": null,
      "outputs": [
        {
          "output_type": "execute_result",
          "data": {
            "text/plain": [
              "Delhi        0.0\n",
              "Mumbai       0.0\n",
              "Bangalore    5.0\n",
              "Name: c, dtype: float64"
            ]
          },
          "metadata": {},
          "execution_count": 141
        }
      ]
    },
    {
      "cell_type": "code",
      "metadata": {
        "id": "xu5kjXsOWacB",
        "colab": {
          "base_uri": "https://localhost:8080/",
          "height": 110
        },
        "outputId": "0782a06f-8f14-4428-c662-8959e3f7346b"
      },
      "source": [
        "df5.iloc[[1,2], [2,0,1]]"
      ],
      "execution_count": null,
      "outputs": [
        {
          "output_type": "execute_result",
          "data": {
            "text/html": [
              "<div>\n",
              "<style scoped>\n",
              "    .dataframe tbody tr th:only-of-type {\n",
              "        vertical-align: middle;\n",
              "    }\n",
              "\n",
              "    .dataframe tbody tr th {\n",
              "        vertical-align: top;\n",
              "    }\n",
              "\n",
              "    .dataframe thead th {\n",
              "        text-align: right;\n",
              "    }\n",
              "</style>\n",
              "<table border=\"1\" class=\"dataframe\">\n",
              "  <thead>\n",
              "    <tr style=\"text-align: right;\">\n",
              "      <th></th>\n",
              "      <th>Bangalore</th>\n",
              "      <th>Delhi</th>\n",
              "      <th>Mumbai</th>\n",
              "    </tr>\n",
              "  </thead>\n",
              "  <tbody>\n",
              "    <tr>\n",
              "      <th>c</th>\n",
              "      <td>5.0</td>\n",
              "      <td>0.0</td>\n",
              "      <td>0.0</td>\n",
              "    </tr>\n",
              "    <tr>\n",
              "      <th>d</th>\n",
              "      <td>8.0</td>\n",
              "      <td>6.0</td>\n",
              "      <td>7.0</td>\n",
              "    </tr>\n",
              "  </tbody>\n",
              "</table>\n",
              "</div>"
            ],
            "text/plain": [
              "   Bangalore  Delhi  Mumbai\n",
              "c        5.0    0.0     0.0\n",
              "d        8.0    6.0     7.0"
            ]
          },
          "metadata": {},
          "execution_count": 142
        }
      ]
    },
    {
      "cell_type": "markdown",
      "metadata": {
        "id": "IadhW8Q7Wjrj"
      },
      "source": [
        "* slicing with loc and iloc"
      ]
    },
    {
      "cell_type": "code",
      "metadata": {
        "id": "KWtKatyaWfwe",
        "colab": {
          "base_uri": "https://localhost:8080/"
        },
        "outputId": "fbedbcda-7442-4ce4-edd8-2dc7d9751c9c"
      },
      "source": [
        "df5.loc[:'c', 'Delhi']"
      ],
      "execution_count": null,
      "outputs": [
        {
          "output_type": "execute_result",
          "data": {
            "text/plain": [
              "a    0.0\n",
              "c    0.0\n",
              "Name: Delhi, dtype: float64"
            ]
          },
          "metadata": {},
          "execution_count": 143
        }
      ]
    },
    {
      "cell_type": "code",
      "metadata": {
        "id": "Pkxwpa8zWqds",
        "colab": {
          "base_uri": "https://localhost:8080/"
        },
        "outputId": "5f247ae8-8342-4066-e773-6b88c5fe4c55"
      },
      "source": [
        "df5.loc['c':'d', 'Delhi']"
      ],
      "execution_count": null,
      "outputs": [
        {
          "output_type": "execute_result",
          "data": {
            "text/plain": [
              "c    0.0\n",
              "d    6.0\n",
              "Name: Delhi, dtype: float64"
            ]
          },
          "metadata": {},
          "execution_count": 144
        }
      ]
    },
    {
      "cell_type": "code",
      "metadata": {
        "id": "-ogn_HcQWvig",
        "colab": {
          "base_uri": "https://localhost:8080/",
          "height": 110
        },
        "outputId": "02dfdca7-1974-4d2d-a235-600ad4cfd77a"
      },
      "source": [
        "df5.loc['c':'d', 'Delhi':'Bangalore']"
      ],
      "execution_count": null,
      "outputs": [
        {
          "output_type": "execute_result",
          "data": {
            "text/html": [
              "<div>\n",
              "<style scoped>\n",
              "    .dataframe tbody tr th:only-of-type {\n",
              "        vertical-align: middle;\n",
              "    }\n",
              "\n",
              "    .dataframe tbody tr th {\n",
              "        vertical-align: top;\n",
              "    }\n",
              "\n",
              "    .dataframe thead th {\n",
              "        text-align: right;\n",
              "    }\n",
              "</style>\n",
              "<table border=\"1\" class=\"dataframe\">\n",
              "  <thead>\n",
              "    <tr style=\"text-align: right;\">\n",
              "      <th></th>\n",
              "      <th>Delhi</th>\n",
              "      <th>Mumbai</th>\n",
              "      <th>Bangalore</th>\n",
              "    </tr>\n",
              "  </thead>\n",
              "  <tbody>\n",
              "    <tr>\n",
              "      <th>c</th>\n",
              "      <td>0.0</td>\n",
              "      <td>0.0</td>\n",
              "      <td>5.0</td>\n",
              "    </tr>\n",
              "    <tr>\n",
              "      <th>d</th>\n",
              "      <td>6.0</td>\n",
              "      <td>7.0</td>\n",
              "      <td>8.0</td>\n",
              "    </tr>\n",
              "  </tbody>\n",
              "</table>\n",
              "</div>"
            ],
            "text/plain": [
              "   Delhi  Mumbai  Bangalore\n",
              "c    0.0     0.0        5.0\n",
              "d    6.0     7.0        8.0"
            ]
          },
          "metadata": {},
          "execution_count": 145
        }
      ]
    },
    {
      "cell_type": "code",
      "metadata": {
        "id": "euf-ncdVW2Aw",
        "colab": {
          "base_uri": "https://localhost:8080/",
          "height": 142
        },
        "outputId": "f9b3ce51-8b02-41b2-a443-d4ab8f4123cb"
      },
      "source": [
        "df5.iloc[:, 1:2]"
      ],
      "execution_count": null,
      "outputs": [
        {
          "output_type": "execute_result",
          "data": {
            "text/html": [
              "<div>\n",
              "<style scoped>\n",
              "    .dataframe tbody tr th:only-of-type {\n",
              "        vertical-align: middle;\n",
              "    }\n",
              "\n",
              "    .dataframe tbody tr th {\n",
              "        vertical-align: top;\n",
              "    }\n",
              "\n",
              "    .dataframe thead th {\n",
              "        text-align: right;\n",
              "    }\n",
              "</style>\n",
              "<table border=\"1\" class=\"dataframe\">\n",
              "  <thead>\n",
              "    <tr style=\"text-align: right;\">\n",
              "      <th></th>\n",
              "      <th>Mumbai</th>\n",
              "    </tr>\n",
              "  </thead>\n",
              "  <tbody>\n",
              "    <tr>\n",
              "      <th>a</th>\n",
              "      <td>0.0</td>\n",
              "    </tr>\n",
              "    <tr>\n",
              "      <th>c</th>\n",
              "      <td>0.0</td>\n",
              "    </tr>\n",
              "    <tr>\n",
              "      <th>d</th>\n",
              "      <td>7.0</td>\n",
              "    </tr>\n",
              "  </tbody>\n",
              "</table>\n",
              "</div>"
            ],
            "text/plain": [
              "   Mumbai\n",
              "a     0.0\n",
              "c     0.0\n",
              "d     7.0"
            ]
          },
          "metadata": {},
          "execution_count": 146
        }
      ]
    },
    {
      "cell_type": "code",
      "metadata": {
        "id": "pU7KwLImXIgP",
        "colab": {
          "base_uri": "https://localhost:8080/",
          "height": 80
        },
        "outputId": "fc94f87f-cc9c-42c9-aafd-5554e0d1917a"
      },
      "source": [
        "df5.iloc[:,0:2][df5.Mumbai != 0]"
      ],
      "execution_count": null,
      "outputs": [
        {
          "output_type": "execute_result",
          "data": {
            "text/html": [
              "<div>\n",
              "<style scoped>\n",
              "    .dataframe tbody tr th:only-of-type {\n",
              "        vertical-align: middle;\n",
              "    }\n",
              "\n",
              "    .dataframe tbody tr th {\n",
              "        vertical-align: top;\n",
              "    }\n",
              "\n",
              "    .dataframe thead th {\n",
              "        text-align: right;\n",
              "    }\n",
              "</style>\n",
              "<table border=\"1\" class=\"dataframe\">\n",
              "  <thead>\n",
              "    <tr style=\"text-align: right;\">\n",
              "      <th></th>\n",
              "      <th>Delhi</th>\n",
              "      <th>Mumbai</th>\n",
              "    </tr>\n",
              "  </thead>\n",
              "  <tbody>\n",
              "    <tr>\n",
              "      <th>d</th>\n",
              "      <td>6.0</td>\n",
              "      <td>7.0</td>\n",
              "    </tr>\n",
              "  </tbody>\n",
              "</table>\n",
              "</div>"
            ],
            "text/plain": [
              "   Delhi  Mumbai\n",
              "d    6.0     7.0"
            ]
          },
          "metadata": {},
          "execution_count": 147
        }
      ]
    },
    {
      "cell_type": "markdown",
      "metadata": {
        "id": "Ic9OHusVXW_f"
      },
      "source": [
        "* more on integer indexing"
      ]
    },
    {
      "cell_type": "code",
      "metadata": {
        "id": "EG9iMJa3XSvt",
        "colab": {
          "base_uri": "https://localhost:8080/"
        },
        "outputId": "c412ac38-af10-4897-fc4f-642d49534472"
      },
      "source": [
        "series11"
      ],
      "execution_count": null,
      "outputs": [
        {
          "output_type": "execute_result",
          "data": {
            "text/plain": [
              "0      blue\n",
              "1      blue\n",
              "2    purple\n",
              "3    purple\n",
              "4    yellow\n",
              "5    yellow\n",
              "dtype: object"
            ]
          },
          "metadata": {},
          "execution_count": 148
        }
      ]
    },
    {
      "cell_type": "markdown",
      "metadata": {
        "id": "vALp25iaXfG1"
      },
      "source": [
        "* fail due to inference ambiguity (label - based indexing or position-based)"
      ]
    },
    {
      "cell_type": "code",
      "metadata": {
        "id": "l_4w2YgCXdK3",
        "colab": {
          "base_uri": "https://localhost:8080/",
          "height": 421
        },
        "outputId": "167402e0-2147-45fc-eb2d-04fbe2789122"
      },
      "source": [
        "series11[-3]"
      ],
      "execution_count": null,
      "outputs": [
        {
          "output_type": "error",
          "ename": "KeyError",
          "evalue": "ignored",
          "traceback": [
            "\u001b[0;31m---------------------------------------------------------------------------\u001b[0m",
            "\u001b[0;31mValueError\u001b[0m                                Traceback (most recent call last)",
            "\u001b[0;32m/usr/local/lib/python3.7/dist-packages/pandas/core/indexes/range.py\u001b[0m in \u001b[0;36mget_loc\u001b[0;34m(self, key, method, tolerance)\u001b[0m\n\u001b[1;32m    354\u001b[0m                 \u001b[0;32mtry\u001b[0m\u001b[0;34m:\u001b[0m\u001b[0;34m\u001b[0m\u001b[0;34m\u001b[0m\u001b[0m\n\u001b[0;32m--> 355\u001b[0;31m                     \u001b[0;32mreturn\u001b[0m \u001b[0mself\u001b[0m\u001b[0;34m.\u001b[0m\u001b[0m_range\u001b[0m\u001b[0;34m.\u001b[0m\u001b[0mindex\u001b[0m\u001b[0;34m(\u001b[0m\u001b[0mnew_key\u001b[0m\u001b[0;34m)\u001b[0m\u001b[0;34m\u001b[0m\u001b[0;34m\u001b[0m\u001b[0m\n\u001b[0m\u001b[1;32m    356\u001b[0m                 \u001b[0;32mexcept\u001b[0m \u001b[0mValueError\u001b[0m \u001b[0;32mas\u001b[0m \u001b[0merr\u001b[0m\u001b[0;34m:\u001b[0m\u001b[0;34m\u001b[0m\u001b[0;34m\u001b[0m\u001b[0m\n",
            "\u001b[0;31mValueError\u001b[0m: -3 is not in range",
            "\nThe above exception was the direct cause of the following exception:\n",
            "\u001b[0;31mKeyError\u001b[0m                                  Traceback (most recent call last)",
            "\u001b[0;32m<ipython-input-149-84108f2400db>\u001b[0m in \u001b[0;36m<module>\u001b[0;34m()\u001b[0m\n\u001b[0;32m----> 1\u001b[0;31m \u001b[0mseries11\u001b[0m\u001b[0;34m[\u001b[0m\u001b[0;34m-\u001b[0m\u001b[0;36m3\u001b[0m\u001b[0;34m]\u001b[0m\u001b[0;34m\u001b[0m\u001b[0;34m\u001b[0m\u001b[0m\n\u001b[0m",
            "\u001b[0;32m/usr/local/lib/python3.7/dist-packages/pandas/core/series.py\u001b[0m in \u001b[0;36m__getitem__\u001b[0;34m(self, key)\u001b[0m\n\u001b[1;32m    880\u001b[0m \u001b[0;34m\u001b[0m\u001b[0m\n\u001b[1;32m    881\u001b[0m         \u001b[0;32melif\u001b[0m \u001b[0mkey_is_scalar\u001b[0m\u001b[0;34m:\u001b[0m\u001b[0;34m\u001b[0m\u001b[0;34m\u001b[0m\u001b[0m\n\u001b[0;32m--> 882\u001b[0;31m             \u001b[0;32mreturn\u001b[0m \u001b[0mself\u001b[0m\u001b[0;34m.\u001b[0m\u001b[0m_get_value\u001b[0m\u001b[0;34m(\u001b[0m\u001b[0mkey\u001b[0m\u001b[0;34m)\u001b[0m\u001b[0;34m\u001b[0m\u001b[0;34m\u001b[0m\u001b[0m\n\u001b[0m\u001b[1;32m    883\u001b[0m \u001b[0;34m\u001b[0m\u001b[0m\n\u001b[1;32m    884\u001b[0m         \u001b[0;32mif\u001b[0m \u001b[0mis_hashable\u001b[0m\u001b[0;34m(\u001b[0m\u001b[0mkey\u001b[0m\u001b[0;34m)\u001b[0m\u001b[0;34m:\u001b[0m\u001b[0;34m\u001b[0m\u001b[0;34m\u001b[0m\u001b[0m\n",
            "\u001b[0;32m/usr/local/lib/python3.7/dist-packages/pandas/core/series.py\u001b[0m in \u001b[0;36m_get_value\u001b[0;34m(self, label, takeable)\u001b[0m\n\u001b[1;32m    988\u001b[0m \u001b[0;34m\u001b[0m\u001b[0m\n\u001b[1;32m    989\u001b[0m         \u001b[0;31m# Similar to Index.get_value, but we do not fall back to positional\u001b[0m\u001b[0;34m\u001b[0m\u001b[0;34m\u001b[0m\u001b[0;34m\u001b[0m\u001b[0m\n\u001b[0;32m--> 990\u001b[0;31m         \u001b[0mloc\u001b[0m \u001b[0;34m=\u001b[0m \u001b[0mself\u001b[0m\u001b[0;34m.\u001b[0m\u001b[0mindex\u001b[0m\u001b[0;34m.\u001b[0m\u001b[0mget_loc\u001b[0m\u001b[0;34m(\u001b[0m\u001b[0mlabel\u001b[0m\u001b[0;34m)\u001b[0m\u001b[0;34m\u001b[0m\u001b[0;34m\u001b[0m\u001b[0m\n\u001b[0m\u001b[1;32m    991\u001b[0m         \u001b[0;32mreturn\u001b[0m \u001b[0mself\u001b[0m\u001b[0;34m.\u001b[0m\u001b[0mindex\u001b[0m\u001b[0;34m.\u001b[0m\u001b[0m_get_values_for_loc\u001b[0m\u001b[0;34m(\u001b[0m\u001b[0mself\u001b[0m\u001b[0;34m,\u001b[0m \u001b[0mloc\u001b[0m\u001b[0;34m,\u001b[0m \u001b[0mlabel\u001b[0m\u001b[0;34m)\u001b[0m\u001b[0;34m\u001b[0m\u001b[0;34m\u001b[0m\u001b[0m\n\u001b[1;32m    992\u001b[0m \u001b[0;34m\u001b[0m\u001b[0m\n",
            "\u001b[0;32m/usr/local/lib/python3.7/dist-packages/pandas/core/indexes/range.py\u001b[0m in \u001b[0;36mget_loc\u001b[0;34m(self, key, method, tolerance)\u001b[0m\n\u001b[1;32m    355\u001b[0m                     \u001b[0;32mreturn\u001b[0m \u001b[0mself\u001b[0m\u001b[0;34m.\u001b[0m\u001b[0m_range\u001b[0m\u001b[0;34m.\u001b[0m\u001b[0mindex\u001b[0m\u001b[0;34m(\u001b[0m\u001b[0mnew_key\u001b[0m\u001b[0;34m)\u001b[0m\u001b[0;34m\u001b[0m\u001b[0;34m\u001b[0m\u001b[0m\n\u001b[1;32m    356\u001b[0m                 \u001b[0;32mexcept\u001b[0m \u001b[0mValueError\u001b[0m \u001b[0;32mas\u001b[0m \u001b[0merr\u001b[0m\u001b[0;34m:\u001b[0m\u001b[0;34m\u001b[0m\u001b[0;34m\u001b[0m\u001b[0m\n\u001b[0;32m--> 357\u001b[0;31m                     \u001b[0;32mraise\u001b[0m \u001b[0mKeyError\u001b[0m\u001b[0;34m(\u001b[0m\u001b[0mkey\u001b[0m\u001b[0;34m)\u001b[0m \u001b[0;32mfrom\u001b[0m \u001b[0merr\u001b[0m\u001b[0;34m\u001b[0m\u001b[0;34m\u001b[0m\u001b[0m\n\u001b[0m\u001b[1;32m    358\u001b[0m             \u001b[0;32mraise\u001b[0m \u001b[0mKeyError\u001b[0m\u001b[0;34m(\u001b[0m\u001b[0mkey\u001b[0m\u001b[0;34m)\u001b[0m\u001b[0;34m\u001b[0m\u001b[0;34m\u001b[0m\u001b[0m\n\u001b[1;32m    359\u001b[0m         \u001b[0;32mreturn\u001b[0m \u001b[0msuper\u001b[0m\u001b[0;34m(\u001b[0m\u001b[0;34m)\u001b[0m\u001b[0;34m.\u001b[0m\u001b[0mget_loc\u001b[0m\u001b[0;34m(\u001b[0m\u001b[0mkey\u001b[0m\u001b[0;34m,\u001b[0m \u001b[0mmethod\u001b[0m\u001b[0;34m=\u001b[0m\u001b[0mmethod\u001b[0m\u001b[0;34m,\u001b[0m \u001b[0mtolerance\u001b[0m\u001b[0;34m=\u001b[0m\u001b[0mtolerance\u001b[0m\u001b[0;34m)\u001b[0m\u001b[0;34m\u001b[0m\u001b[0;34m\u001b[0m\u001b[0m\n",
            "\u001b[0;31mKeyError\u001b[0m: -3"
          ]
        }
      ]
    },
    {
      "cell_type": "code",
      "metadata": {
        "id": "yrhuqFGIXs0R",
        "colab": {
          "base_uri": "https://localhost:8080/"
        },
        "outputId": "ba6355b1-2b3d-4f7a-e862-efc1d281cea1"
      },
      "source": [
        "series7"
      ],
      "execution_count": null,
      "outputs": [
        {
          "output_type": "execute_result",
          "data": {
            "text/plain": [
              "beta     1.1\n",
              "alpha    1.3\n",
              "beta     1.3\n",
              "sigma    1.3\n",
              "dtype: float64"
            ]
          },
          "metadata": {},
          "execution_count": 150
        }
      ]
    },
    {
      "cell_type": "markdown",
      "metadata": {
        "id": "ScmgA3uEYKJ0"
      },
      "source": [
        "* Succeeds due to inference ambiguity (label-based indexing or position-based)"
      ]
    },
    {
      "cell_type": "code",
      "metadata": {
        "id": "EUxUf8-1X5xV",
        "colab": {
          "base_uri": "https://localhost:8080/"
        },
        "outputId": "555adccc-26d5-465c-98e7-353542f92be5"
      },
      "source": [
        "series7[-1]"
      ],
      "execution_count": null,
      "outputs": [
        {
          "output_type": "execute_result",
          "data": {
            "text/plain": [
              "1.3"
            ]
          },
          "metadata": {},
          "execution_count": 151
        }
      ]
    },
    {
      "cell_type": "markdown",
      "metadata": {
        "id": "6zYCz1feYahp"
      },
      "source": [
        "* Example: arithmetic between abjects with unmatched indexes\n",
        "* for matched indices, operation woul be applied\n",
        "* for unmatched indices, a union of unmatched indices with NaN values is kept "
      ]
    },
    {
      "cell_type": "code",
      "metadata": {
        "id": "XUoaxLsQYXQz"
      },
      "source": [
        "series12 = pd.Series([7.3, -2.5, 3.4, 1.5], index = ['a', 'c', 'd', 'e'])"
      ],
      "execution_count": null,
      "outputs": []
    },
    {
      "cell_type": "code",
      "metadata": {
        "id": "CMCf2xAeZAT2",
        "colab": {
          "base_uri": "https://localhost:8080/"
        },
        "outputId": "08cdae1b-ae71-4df3-addc-5d45fef00bf5"
      },
      "source": [
        "series12"
      ],
      "execution_count": null,
      "outputs": [
        {
          "output_type": "execute_result",
          "data": {
            "text/plain": [
              "a    7.3\n",
              "c   -2.5\n",
              "d    3.4\n",
              "e    1.5\n",
              "dtype: float64"
            ]
          },
          "metadata": {},
          "execution_count": 153
        }
      ]
    },
    {
      "cell_type": "markdown",
      "metadata": {
        "id": "aNUzc8I4OxOT"
      },
      "source": [
        "**Lecture 29 Database Using Python - Pandas - Part IV**"
      ]
    },
    {
      "cell_type": "code",
      "metadata": {
        "id": "1OgK-NeqZBau"
      },
      "source": [
        "series13 = pd.Series([-2.1, 3.6, -1.5, 4, 3.1], index= ['a', 'c', 'e','f','g'])"
      ],
      "execution_count": null,
      "outputs": []
    },
    {
      "cell_type": "code",
      "metadata": {
        "id": "DOe17hkbkUw0",
        "colab": {
          "base_uri": "https://localhost:8080/"
        },
        "outputId": "7b3bf1e2-3436-45c8-8119-2c25e15cdd61"
      },
      "source": [
        "series13"
      ],
      "execution_count": null,
      "outputs": [
        {
          "output_type": "execute_result",
          "data": {
            "text/plain": [
              "a   -2.1\n",
              "c    3.6\n",
              "e   -1.5\n",
              "f    4.0\n",
              "g    3.1\n",
              "dtype: float64"
            ]
          },
          "metadata": {},
          "execution_count": 155
        }
      ]
    },
    {
      "cell_type": "code",
      "metadata": {
        "id": "sI3br6W1kVfM",
        "colab": {
          "base_uri": "https://localhost:8080/"
        },
        "outputId": "a00b0629-ca62-4617-917b-508962fa2fb3"
      },
      "source": [
        "series12 + series13"
      ],
      "execution_count": null,
      "outputs": [
        {
          "output_type": "execute_result",
          "data": {
            "text/plain": [
              "a    5.2\n",
              "c    1.1\n",
              "d    NaN\n",
              "e    0.0\n",
              "f    NaN\n",
              "g    NaN\n",
              "dtype: float64"
            ]
          },
          "metadata": {},
          "execution_count": 156
        }
      ]
    },
    {
      "cell_type": "code",
      "metadata": {
        "id": "myZU-gh6kZF1",
        "colab": {
          "base_uri": "https://localhost:8080/",
          "height": 142
        },
        "outputId": "0eba7087-87f2-4f66-ce2b-0a70b37c6b09"
      },
      "source": [
        "df5"
      ],
      "execution_count": null,
      "outputs": [
        {
          "output_type": "execute_result",
          "data": {
            "text/html": [
              "<div>\n",
              "<style scoped>\n",
              "    .dataframe tbody tr th:only-of-type {\n",
              "        vertical-align: middle;\n",
              "    }\n",
              "\n",
              "    .dataframe tbody tr th {\n",
              "        vertical-align: top;\n",
              "    }\n",
              "\n",
              "    .dataframe thead th {\n",
              "        text-align: right;\n",
              "    }\n",
              "</style>\n",
              "<table border=\"1\" class=\"dataframe\">\n",
              "  <thead>\n",
              "    <tr style=\"text-align: right;\">\n",
              "      <th></th>\n",
              "      <th>Delhi</th>\n",
              "      <th>Mumbai</th>\n",
              "      <th>Bangalore</th>\n",
              "    </tr>\n",
              "  </thead>\n",
              "  <tbody>\n",
              "    <tr>\n",
              "      <th>a</th>\n",
              "      <td>0.0</td>\n",
              "      <td>0.0</td>\n",
              "      <td>0.0</td>\n",
              "    </tr>\n",
              "    <tr>\n",
              "      <th>c</th>\n",
              "      <td>0.0</td>\n",
              "      <td>0.0</td>\n",
              "      <td>5.0</td>\n",
              "    </tr>\n",
              "    <tr>\n",
              "      <th>d</th>\n",
              "      <td>6.0</td>\n",
              "      <td>7.0</td>\n",
              "      <td>8.0</td>\n",
              "    </tr>\n",
              "  </tbody>\n",
              "</table>\n",
              "</div>"
            ],
            "text/plain": [
              "   Delhi  Mumbai  Bangalore\n",
              "a    0.0     0.0        0.0\n",
              "c    0.0     0.0        5.0\n",
              "d    6.0     7.0        8.0"
            ]
          },
          "metadata": {},
          "execution_count": 157
        }
      ]
    },
    {
      "cell_type": "code",
      "metadata": {
        "id": "Bi0E5Q7tkfN-",
        "colab": {
          "base_uri": "https://localhost:8080/",
          "height": 142
        },
        "outputId": "dbca42bc-2541-4007-8b07-807b76f87d16"
      },
      "source": [
        "df4"
      ],
      "execution_count": null,
      "outputs": [
        {
          "output_type": "execute_result",
          "data": {
            "text/html": [
              "<div>\n",
              "<style scoped>\n",
              "    .dataframe tbody tr th:only-of-type {\n",
              "        vertical-align: middle;\n",
              "    }\n",
              "\n",
              "    .dataframe tbody tr th {\n",
              "        vertical-align: top;\n",
              "    }\n",
              "\n",
              "    .dataframe thead th {\n",
              "        text-align: right;\n",
              "    }\n",
              "</style>\n",
              "<table border=\"1\" class=\"dataframe\">\n",
              "  <thead>\n",
              "    <tr style=\"text-align: right;\">\n",
              "      <th></th>\n",
              "      <th>Delhi</th>\n",
              "      <th>Mumbai</th>\n",
              "      <th>Bangalore</th>\n",
              "    </tr>\n",
              "  </thead>\n",
              "  <tbody>\n",
              "    <tr>\n",
              "      <th>a</th>\n",
              "      <td>0</td>\n",
              "      <td>1</td>\n",
              "      <td>2</td>\n",
              "    </tr>\n",
              "    <tr>\n",
              "      <th>c</th>\n",
              "      <td>3</td>\n",
              "      <td>4</td>\n",
              "      <td>5</td>\n",
              "    </tr>\n",
              "    <tr>\n",
              "      <th>d</th>\n",
              "      <td>6</td>\n",
              "      <td>7</td>\n",
              "      <td>8</td>\n",
              "    </tr>\n",
              "  </tbody>\n",
              "</table>\n",
              "</div>"
            ],
            "text/plain": [
              "   Delhi  Mumbai  Bangalore\n",
              "a      0       1          2\n",
              "c      3       4          5\n",
              "d      6       7          8"
            ]
          },
          "metadata": {},
          "execution_count": 158
        }
      ]
    },
    {
      "cell_type": "code",
      "metadata": {
        "id": "FWH-Puxykg8a",
        "colab": {
          "base_uri": "https://localhost:8080/",
          "height": 142
        },
        "outputId": "c01ed076-07f0-4a26-b8a7-4e5a6a3ae14b"
      },
      "source": [
        "df4.reindex(['a', 'b','c','d'])\n",
        "df4"
      ],
      "execution_count": null,
      "outputs": [
        {
          "output_type": "execute_result",
          "data": {
            "text/html": [
              "<div>\n",
              "<style scoped>\n",
              "    .dataframe tbody tr th:only-of-type {\n",
              "        vertical-align: middle;\n",
              "    }\n",
              "\n",
              "    .dataframe tbody tr th {\n",
              "        vertical-align: top;\n",
              "    }\n",
              "\n",
              "    .dataframe thead th {\n",
              "        text-align: right;\n",
              "    }\n",
              "</style>\n",
              "<table border=\"1\" class=\"dataframe\">\n",
              "  <thead>\n",
              "    <tr style=\"text-align: right;\">\n",
              "      <th></th>\n",
              "      <th>Delhi</th>\n",
              "      <th>Mumbai</th>\n",
              "      <th>Bangalore</th>\n",
              "    </tr>\n",
              "  </thead>\n",
              "  <tbody>\n",
              "    <tr>\n",
              "      <th>a</th>\n",
              "      <td>0</td>\n",
              "      <td>1</td>\n",
              "      <td>2</td>\n",
              "    </tr>\n",
              "    <tr>\n",
              "      <th>c</th>\n",
              "      <td>3</td>\n",
              "      <td>4</td>\n",
              "      <td>5</td>\n",
              "    </tr>\n",
              "    <tr>\n",
              "      <th>d</th>\n",
              "      <td>6</td>\n",
              "      <td>7</td>\n",
              "      <td>8</td>\n",
              "    </tr>\n",
              "  </tbody>\n",
              "</table>\n",
              "</div>"
            ],
            "text/plain": [
              "   Delhi  Mumbai  Bangalore\n",
              "a      0       1          2\n",
              "c      3       4          5\n",
              "d      6       7          8"
            ]
          },
          "metadata": {},
          "execution_count": 159
        }
      ]
    },
    {
      "cell_type": "code",
      "metadata": {
        "id": "dT_MNYPDkp3Q",
        "colab": {
          "base_uri": "https://localhost:8080/",
          "height": 142
        },
        "outputId": "e0dd17ca-ff15-4f24-b07c-95e6edbc58f5"
      },
      "source": [
        "df4 + df5"
      ],
      "execution_count": null,
      "outputs": [
        {
          "output_type": "execute_result",
          "data": {
            "text/html": [
              "<div>\n",
              "<style scoped>\n",
              "    .dataframe tbody tr th:only-of-type {\n",
              "        vertical-align: middle;\n",
              "    }\n",
              "\n",
              "    .dataframe tbody tr th {\n",
              "        vertical-align: top;\n",
              "    }\n",
              "\n",
              "    .dataframe thead th {\n",
              "        text-align: right;\n",
              "    }\n",
              "</style>\n",
              "<table border=\"1\" class=\"dataframe\">\n",
              "  <thead>\n",
              "    <tr style=\"text-align: right;\">\n",
              "      <th></th>\n",
              "      <th>Delhi</th>\n",
              "      <th>Mumbai</th>\n",
              "      <th>Bangalore</th>\n",
              "    </tr>\n",
              "  </thead>\n",
              "  <tbody>\n",
              "    <tr>\n",
              "      <th>a</th>\n",
              "      <td>0.0</td>\n",
              "      <td>1.0</td>\n",
              "      <td>2.0</td>\n",
              "    </tr>\n",
              "    <tr>\n",
              "      <th>c</th>\n",
              "      <td>3.0</td>\n",
              "      <td>4.0</td>\n",
              "      <td>10.0</td>\n",
              "    </tr>\n",
              "    <tr>\n",
              "      <th>d</th>\n",
              "      <td>12.0</td>\n",
              "      <td>14.0</td>\n",
              "      <td>16.0</td>\n",
              "    </tr>\n",
              "  </tbody>\n",
              "</table>\n",
              "</div>"
            ],
            "text/plain": [
              "   Delhi  Mumbai  Bangalore\n",
              "a    0.0     1.0        2.0\n",
              "c    3.0     4.0       10.0\n",
              "d   12.0    14.0       16.0"
            ]
          },
          "metadata": {},
          "execution_count": 160
        }
      ]
    },
    {
      "cell_type": "markdown",
      "metadata": {
        "id": "rCV1UBhykzSv"
      },
      "source": [
        "* Filling values in the operation involving unmatched indices\n",
        "* Uising add method\n",
        "* fill NaNs in df5 with 0s"
      ]
    },
    {
      "cell_type": "code",
      "metadata": {
        "id": "gpYuQy3FkxWu",
        "colab": {
          "base_uri": "https://localhost:8080/",
          "height": 142
        },
        "outputId": "bc7b57bc-f5cd-4139-9635-d6100643a909"
      },
      "source": [
        "df4.add(df5, fill_value=0) # doesn't work since df4 still has NaN values"
      ],
      "execution_count": null,
      "outputs": [
        {
          "output_type": "execute_result",
          "data": {
            "text/html": [
              "<div>\n",
              "<style scoped>\n",
              "    .dataframe tbody tr th:only-of-type {\n",
              "        vertical-align: middle;\n",
              "    }\n",
              "\n",
              "    .dataframe tbody tr th {\n",
              "        vertical-align: top;\n",
              "    }\n",
              "\n",
              "    .dataframe thead th {\n",
              "        text-align: right;\n",
              "    }\n",
              "</style>\n",
              "<table border=\"1\" class=\"dataframe\">\n",
              "  <thead>\n",
              "    <tr style=\"text-align: right;\">\n",
              "      <th></th>\n",
              "      <th>Delhi</th>\n",
              "      <th>Mumbai</th>\n",
              "      <th>Bangalore</th>\n",
              "    </tr>\n",
              "  </thead>\n",
              "  <tbody>\n",
              "    <tr>\n",
              "      <th>a</th>\n",
              "      <td>0.0</td>\n",
              "      <td>1.0</td>\n",
              "      <td>2.0</td>\n",
              "    </tr>\n",
              "    <tr>\n",
              "      <th>c</th>\n",
              "      <td>3.0</td>\n",
              "      <td>4.0</td>\n",
              "      <td>10.0</td>\n",
              "    </tr>\n",
              "    <tr>\n",
              "      <th>d</th>\n",
              "      <td>12.0</td>\n",
              "      <td>14.0</td>\n",
              "      <td>16.0</td>\n",
              "    </tr>\n",
              "  </tbody>\n",
              "</table>\n",
              "</div>"
            ],
            "text/plain": [
              "   Delhi  Mumbai  Bangalore\n",
              "a    0.0     1.0        2.0\n",
              "c    3.0     4.0       10.0\n",
              "d   12.0    14.0       16.0"
            ]
          },
          "metadata": {},
          "execution_count": 161
        }
      ]
    },
    {
      "cell_type": "code",
      "metadata": {
        "id": "mRcb6e97lDeh",
        "colab": {
          "base_uri": "https://localhost:8080/",
          "height": 142
        },
        "outputId": "78599ec0-2a54-4374-d5a1-273ac7277cce"
      },
      "source": [
        "df4[1:2] = 2\n",
        "df4"
      ],
      "execution_count": null,
      "outputs": [
        {
          "output_type": "execute_result",
          "data": {
            "text/html": [
              "<div>\n",
              "<style scoped>\n",
              "    .dataframe tbody tr th:only-of-type {\n",
              "        vertical-align: middle;\n",
              "    }\n",
              "\n",
              "    .dataframe tbody tr th {\n",
              "        vertical-align: top;\n",
              "    }\n",
              "\n",
              "    .dataframe thead th {\n",
              "        text-align: right;\n",
              "    }\n",
              "</style>\n",
              "<table border=\"1\" class=\"dataframe\">\n",
              "  <thead>\n",
              "    <tr style=\"text-align: right;\">\n",
              "      <th></th>\n",
              "      <th>Delhi</th>\n",
              "      <th>Mumbai</th>\n",
              "      <th>Bangalore</th>\n",
              "    </tr>\n",
              "  </thead>\n",
              "  <tbody>\n",
              "    <tr>\n",
              "      <th>a</th>\n",
              "      <td>0</td>\n",
              "      <td>1</td>\n",
              "      <td>2</td>\n",
              "    </tr>\n",
              "    <tr>\n",
              "      <th>c</th>\n",
              "      <td>2</td>\n",
              "      <td>2</td>\n",
              "      <td>2</td>\n",
              "    </tr>\n",
              "    <tr>\n",
              "      <th>d</th>\n",
              "      <td>6</td>\n",
              "      <td>7</td>\n",
              "      <td>8</td>\n",
              "    </tr>\n",
              "  </tbody>\n",
              "</table>\n",
              "</div>"
            ],
            "text/plain": [
              "   Delhi  Mumbai  Bangalore\n",
              "a      0       1          2\n",
              "c      2       2          2\n",
              "d      6       7          8"
            ]
          },
          "metadata": {},
          "execution_count": 162
        }
      ]
    },
    {
      "cell_type": "code",
      "metadata": {
        "id": "9v4bA59ClOYx",
        "colab": {
          "base_uri": "https://localhost:8080/",
          "height": 142
        },
        "outputId": "687ed3bc-ecfc-4f7c-914e-64768114b8b9"
      },
      "source": [
        "df4.add(df5, fill_value = 0)"
      ],
      "execution_count": null,
      "outputs": [
        {
          "output_type": "execute_result",
          "data": {
            "text/html": [
              "<div>\n",
              "<style scoped>\n",
              "    .dataframe tbody tr th:only-of-type {\n",
              "        vertical-align: middle;\n",
              "    }\n",
              "\n",
              "    .dataframe tbody tr th {\n",
              "        vertical-align: top;\n",
              "    }\n",
              "\n",
              "    .dataframe thead th {\n",
              "        text-align: right;\n",
              "    }\n",
              "</style>\n",
              "<table border=\"1\" class=\"dataframe\">\n",
              "  <thead>\n",
              "    <tr style=\"text-align: right;\">\n",
              "      <th></th>\n",
              "      <th>Delhi</th>\n",
              "      <th>Mumbai</th>\n",
              "      <th>Bangalore</th>\n",
              "    </tr>\n",
              "  </thead>\n",
              "  <tbody>\n",
              "    <tr>\n",
              "      <th>a</th>\n",
              "      <td>0.0</td>\n",
              "      <td>1.0</td>\n",
              "      <td>2.0</td>\n",
              "    </tr>\n",
              "    <tr>\n",
              "      <th>c</th>\n",
              "      <td>2.0</td>\n",
              "      <td>2.0</td>\n",
              "      <td>7.0</td>\n",
              "    </tr>\n",
              "    <tr>\n",
              "      <th>d</th>\n",
              "      <td>12.0</td>\n",
              "      <td>14.0</td>\n",
              "      <td>16.0</td>\n",
              "    </tr>\n",
              "  </tbody>\n",
              "</table>\n",
              "</div>"
            ],
            "text/plain": [
              "   Delhi  Mumbai  Bangalore\n",
              "a    0.0     1.0        2.0\n",
              "c    2.0     2.0        7.0\n",
              "d   12.0    14.0       16.0"
            ]
          },
          "metadata": {},
          "execution_count": 163
        }
      ]
    },
    {
      "cell_type": "markdown",
      "metadata": {
        "id": "LM6R3vlNlmNI"
      },
      "source": [
        "* using div method"
      ]
    },
    {
      "cell_type": "code",
      "metadata": {
        "id": "EDoKM3_7lj9y",
        "colab": {
          "base_uri": "https://localhost:8080/",
          "height": 142
        },
        "outputId": "f57948e5-a383-4f24-dae5-d404fad675c4"
      },
      "source": [
        "2/df4"
      ],
      "execution_count": null,
      "outputs": [
        {
          "output_type": "execute_result",
          "data": {
            "text/html": [
              "<div>\n",
              "<style scoped>\n",
              "    .dataframe tbody tr th:only-of-type {\n",
              "        vertical-align: middle;\n",
              "    }\n",
              "\n",
              "    .dataframe tbody tr th {\n",
              "        vertical-align: top;\n",
              "    }\n",
              "\n",
              "    .dataframe thead th {\n",
              "        text-align: right;\n",
              "    }\n",
              "</style>\n",
              "<table border=\"1\" class=\"dataframe\">\n",
              "  <thead>\n",
              "    <tr style=\"text-align: right;\">\n",
              "      <th></th>\n",
              "      <th>Delhi</th>\n",
              "      <th>Mumbai</th>\n",
              "      <th>Bangalore</th>\n",
              "    </tr>\n",
              "  </thead>\n",
              "  <tbody>\n",
              "    <tr>\n",
              "      <th>a</th>\n",
              "      <td>inf</td>\n",
              "      <td>2.000000</td>\n",
              "      <td>1.00</td>\n",
              "    </tr>\n",
              "    <tr>\n",
              "      <th>c</th>\n",
              "      <td>1.000000</td>\n",
              "      <td>1.000000</td>\n",
              "      <td>1.00</td>\n",
              "    </tr>\n",
              "    <tr>\n",
              "      <th>d</th>\n",
              "      <td>0.333333</td>\n",
              "      <td>0.285714</td>\n",
              "      <td>0.25</td>\n",
              "    </tr>\n",
              "  </tbody>\n",
              "</table>\n",
              "</div>"
            ],
            "text/plain": [
              "      Delhi    Mumbai  Bangalore\n",
              "a       inf  2.000000       1.00\n",
              "c  1.000000  1.000000       1.00\n",
              "d  0.333333  0.285714       0.25"
            ]
          },
          "metadata": {},
          "execution_count": 164
        }
      ]
    },
    {
      "cell_type": "code",
      "metadata": {
        "id": "oP_lZcVnltY5",
        "colab": {
          "base_uri": "https://localhost:8080/",
          "height": 142
        },
        "outputId": "08ff0a98-cd1b-425c-8657-7c89f4068931"
      },
      "source": [
        "df4.div(2)"
      ],
      "execution_count": null,
      "outputs": [
        {
          "output_type": "execute_result",
          "data": {
            "text/html": [
              "<div>\n",
              "<style scoped>\n",
              "    .dataframe tbody tr th:only-of-type {\n",
              "        vertical-align: middle;\n",
              "    }\n",
              "\n",
              "    .dataframe tbody tr th {\n",
              "        vertical-align: top;\n",
              "    }\n",
              "\n",
              "    .dataframe thead th {\n",
              "        text-align: right;\n",
              "    }\n",
              "</style>\n",
              "<table border=\"1\" class=\"dataframe\">\n",
              "  <thead>\n",
              "    <tr style=\"text-align: right;\">\n",
              "      <th></th>\n",
              "      <th>Delhi</th>\n",
              "      <th>Mumbai</th>\n",
              "      <th>Bangalore</th>\n",
              "    </tr>\n",
              "  </thead>\n",
              "  <tbody>\n",
              "    <tr>\n",
              "      <th>a</th>\n",
              "      <td>0.0</td>\n",
              "      <td>0.5</td>\n",
              "      <td>1.0</td>\n",
              "    </tr>\n",
              "    <tr>\n",
              "      <th>c</th>\n",
              "      <td>1.0</td>\n",
              "      <td>1.0</td>\n",
              "      <td>1.0</td>\n",
              "    </tr>\n",
              "    <tr>\n",
              "      <th>d</th>\n",
              "      <td>3.0</td>\n",
              "      <td>3.5</td>\n",
              "      <td>4.0</td>\n",
              "    </tr>\n",
              "  </tbody>\n",
              "</table>\n",
              "</div>"
            ],
            "text/plain": [
              "   Delhi  Mumbai  Bangalore\n",
              "a    0.0     0.5        1.0\n",
              "c    1.0     1.0        1.0\n",
              "d    3.0     3.5        4.0"
            ]
          },
          "metadata": {},
          "execution_count": 165
        }
      ]
    },
    {
      "cell_type": "markdown",
      "metadata": {
        "id": "6RZFmTRyly0f"
      },
      "source": [
        "* rdiv method: div with argument filpped"
      ]
    },
    {
      "cell_type": "code",
      "metadata": {
        "id": "9fgQkzaElplg",
        "colab": {
          "base_uri": "https://localhost:8080/",
          "height": 142
        },
        "outputId": "a1da541a-fe56-48de-f66b-d9d9308d638c"
      },
      "source": [
        "df4.rdiv(2)"
      ],
      "execution_count": null,
      "outputs": [
        {
          "output_type": "execute_result",
          "data": {
            "text/html": [
              "<div>\n",
              "<style scoped>\n",
              "    .dataframe tbody tr th:only-of-type {\n",
              "        vertical-align: middle;\n",
              "    }\n",
              "\n",
              "    .dataframe tbody tr th {\n",
              "        vertical-align: top;\n",
              "    }\n",
              "\n",
              "    .dataframe thead th {\n",
              "        text-align: right;\n",
              "    }\n",
              "</style>\n",
              "<table border=\"1\" class=\"dataframe\">\n",
              "  <thead>\n",
              "    <tr style=\"text-align: right;\">\n",
              "      <th></th>\n",
              "      <th>Delhi</th>\n",
              "      <th>Mumbai</th>\n",
              "      <th>Bangalore</th>\n",
              "    </tr>\n",
              "  </thead>\n",
              "  <tbody>\n",
              "    <tr>\n",
              "      <th>a</th>\n",
              "      <td>inf</td>\n",
              "      <td>2.000000</td>\n",
              "      <td>1.00</td>\n",
              "    </tr>\n",
              "    <tr>\n",
              "      <th>c</th>\n",
              "      <td>1.000000</td>\n",
              "      <td>1.000000</td>\n",
              "      <td>1.00</td>\n",
              "    </tr>\n",
              "    <tr>\n",
              "      <th>d</th>\n",
              "      <td>0.333333</td>\n",
              "      <td>0.285714</td>\n",
              "      <td>0.25</td>\n",
              "    </tr>\n",
              "  </tbody>\n",
              "</table>\n",
              "</div>"
            ],
            "text/plain": [
              "      Delhi    Mumbai  Bangalore\n",
              "a       inf  2.000000       1.00\n",
              "c  1.000000  1.000000       1.00\n",
              "d  0.333333  0.285714       0.25"
            ]
          },
          "metadata": {},
          "execution_count": 166
        }
      ]
    },
    {
      "cell_type": "markdown",
      "metadata": {
        "id": "NWm8ZPrMl-_O"
      },
      "source": [
        "* Example: arithmetic between dataframe and series\n",
        "* similar to 2darray and 1darray scenario\n",
        "* let's first consider 2darray and 1darray "
      ]
    },
    {
      "cell_type": "code",
      "metadata": {
        "id": "sc64UgjDl4-n"
      },
      "source": [
        "arr = np.arange(12.).reshape((3,4))"
      ],
      "execution_count": null,
      "outputs": []
    },
    {
      "cell_type": "code",
      "metadata": {
        "id": "TZBXCbQSmUzp",
        "colab": {
          "base_uri": "https://localhost:8080/"
        },
        "outputId": "074db2dc-cdd2-45ea-8f0a-fd8baa0dd4c5"
      },
      "source": [
        "arr"
      ],
      "execution_count": null,
      "outputs": [
        {
          "output_type": "execute_result",
          "data": {
            "text/plain": [
              "array([[ 0.,  1.,  2.,  3.],\n",
              "       [ 4.,  5.,  6.,  7.],\n",
              "       [ 8.,  9., 10., 11.]])"
            ]
          },
          "metadata": {},
          "execution_count": 168
        }
      ]
    },
    {
      "cell_type": "code",
      "metadata": {
        "id": "iBCgFnt8mVjx",
        "colab": {
          "base_uri": "https://localhost:8080/"
        },
        "outputId": "d06d8cd5-79a8-42df-b57d-d58ad9b587c5"
      },
      "source": [
        "arr.shape"
      ],
      "execution_count": null,
      "outputs": [
        {
          "output_type": "execute_result",
          "data": {
            "text/plain": [
              "(3, 4)"
            ]
          },
          "metadata": {},
          "execution_count": 169
        }
      ]
    },
    {
      "cell_type": "code",
      "metadata": {
        "id": "1jfSz_WDmY3y",
        "colab": {
          "base_uri": "https://localhost:8080/"
        },
        "outputId": "ff167a45-3a00-438b-969a-ff62dcc9c0e1"
      },
      "source": [
        "arr[0]"
      ],
      "execution_count": null,
      "outputs": [
        {
          "output_type": "execute_result",
          "data": {
            "text/plain": [
              "array([0., 1., 2., 3.])"
            ]
          },
          "metadata": {},
          "execution_count": 170
        }
      ]
    },
    {
      "cell_type": "code",
      "metadata": {
        "id": "v2QaLBwimb3a",
        "colab": {
          "base_uri": "https://localhost:8080/"
        },
        "outputId": "b2a6b9b0-3362-48e9-c7c3-e02eed8d308b"
      },
      "source": [
        "arr[0].shape"
      ],
      "execution_count": null,
      "outputs": [
        {
          "output_type": "execute_result",
          "data": {
            "text/plain": [
              "(4,)"
            ]
          },
          "metadata": {},
          "execution_count": 171
        }
      ]
    },
    {
      "cell_type": "markdown",
      "metadata": {
        "id": "taHQ_Y_Cmgli"
      },
      "source": [
        "* Difference between 2darray and 1darray\n",
        "* \"broadcasting\" happens: subtraction is performed once for each row\n"
      ]
    },
    {
      "cell_type": "code",
      "metadata": {
        "id": "KsktNyovmeCL",
        "colab": {
          "base_uri": "https://localhost:8080/"
        },
        "outputId": "8aedacf2-5631-4ad2-b858-b47270bdda3b"
      },
      "source": [
        "arr - arr[0]"
      ],
      "execution_count": null,
      "outputs": [
        {
          "output_type": "execute_result",
          "data": {
            "text/plain": [
              "array([[0., 0., 0., 0.],\n",
              "       [4., 4., 4., 4.],\n",
              "       [8., 8., 8., 8.]])"
            ]
          },
          "metadata": {},
          "execution_count": 172
        }
      ]
    },
    {
      "cell_type": "code",
      "metadata": {
        "id": "71I_AbcUm3o4",
        "colab": {
          "base_uri": "https://localhost:8080/",
          "height": 142
        },
        "outputId": "e52c7231-f33f-43a8-c8d6-c25ebfda29df"
      },
      "source": [
        "df4"
      ],
      "execution_count": null,
      "outputs": [
        {
          "output_type": "execute_result",
          "data": {
            "text/html": [
              "<div>\n",
              "<style scoped>\n",
              "    .dataframe tbody tr th:only-of-type {\n",
              "        vertical-align: middle;\n",
              "    }\n",
              "\n",
              "    .dataframe tbody tr th {\n",
              "        vertical-align: top;\n",
              "    }\n",
              "\n",
              "    .dataframe thead th {\n",
              "        text-align: right;\n",
              "    }\n",
              "</style>\n",
              "<table border=\"1\" class=\"dataframe\">\n",
              "  <thead>\n",
              "    <tr style=\"text-align: right;\">\n",
              "      <th></th>\n",
              "      <th>Delhi</th>\n",
              "      <th>Mumbai</th>\n",
              "      <th>Bangalore</th>\n",
              "    </tr>\n",
              "  </thead>\n",
              "  <tbody>\n",
              "    <tr>\n",
              "      <th>a</th>\n",
              "      <td>0</td>\n",
              "      <td>1</td>\n",
              "      <td>2</td>\n",
              "    </tr>\n",
              "    <tr>\n",
              "      <th>c</th>\n",
              "      <td>2</td>\n",
              "      <td>2</td>\n",
              "      <td>2</td>\n",
              "    </tr>\n",
              "    <tr>\n",
              "      <th>d</th>\n",
              "      <td>6</td>\n",
              "      <td>7</td>\n",
              "      <td>8</td>\n",
              "    </tr>\n",
              "  </tbody>\n",
              "</table>\n",
              "</div>"
            ],
            "text/plain": [
              "   Delhi  Mumbai  Bangalore\n",
              "a      0       1          2\n",
              "c      2       2          2\n",
              "d      6       7          8"
            ]
          },
          "metadata": {},
          "execution_count": 173
        }
      ]
    },
    {
      "cell_type": "code",
      "metadata": {
        "id": "usYsxg_Tm4-R"
      },
      "source": [
        "series0_df4 = df4.iloc[0]"
      ],
      "execution_count": null,
      "outputs": []
    },
    {
      "cell_type": "code",
      "metadata": {
        "id": "1rRmSr3wnIl8",
        "colab": {
          "base_uri": "https://localhost:8080/"
        },
        "outputId": "bcc54b48-0d18-4d28-b729-465e56d14fe0"
      },
      "source": [
        "series0_df4"
      ],
      "execution_count": null,
      "outputs": [
        {
          "output_type": "execute_result",
          "data": {
            "text/plain": [
              "Delhi        0\n",
              "Mumbai       1\n",
              "Bangalore    2\n",
              "Name: a, dtype: int64"
            ]
          },
          "metadata": {},
          "execution_count": 175
        }
      ]
    },
    {
      "cell_type": "markdown",
      "metadata": {
        "id": "Lc5IN3f9nLpp"
      },
      "source": [
        "* Broadcasting over the rows"
      ]
    },
    {
      "cell_type": "code",
      "metadata": {
        "id": "dQbI9jtynJv4",
        "colab": {
          "base_uri": "https://localhost:8080/",
          "height": 142
        },
        "outputId": "c4fa5601-435d-4074-b413-11c602f072db"
      },
      "source": [
        "df4 - series0_df4"
      ],
      "execution_count": null,
      "outputs": [
        {
          "output_type": "execute_result",
          "data": {
            "text/html": [
              "<div>\n",
              "<style scoped>\n",
              "    .dataframe tbody tr th:only-of-type {\n",
              "        vertical-align: middle;\n",
              "    }\n",
              "\n",
              "    .dataframe tbody tr th {\n",
              "        vertical-align: top;\n",
              "    }\n",
              "\n",
              "    .dataframe thead th {\n",
              "        text-align: right;\n",
              "    }\n",
              "</style>\n",
              "<table border=\"1\" class=\"dataframe\">\n",
              "  <thead>\n",
              "    <tr style=\"text-align: right;\">\n",
              "      <th></th>\n",
              "      <th>Delhi</th>\n",
              "      <th>Mumbai</th>\n",
              "      <th>Bangalore</th>\n",
              "    </tr>\n",
              "  </thead>\n",
              "  <tbody>\n",
              "    <tr>\n",
              "      <th>a</th>\n",
              "      <td>0</td>\n",
              "      <td>0</td>\n",
              "      <td>0</td>\n",
              "    </tr>\n",
              "    <tr>\n",
              "      <th>c</th>\n",
              "      <td>2</td>\n",
              "      <td>1</td>\n",
              "      <td>0</td>\n",
              "    </tr>\n",
              "    <tr>\n",
              "      <th>d</th>\n",
              "      <td>6</td>\n",
              "      <td>6</td>\n",
              "      <td>6</td>\n",
              "    </tr>\n",
              "  </tbody>\n",
              "</table>\n",
              "</div>"
            ],
            "text/plain": [
              "   Delhi  Mumbai  Bangalore\n",
              "a      0       0          0\n",
              "c      2       1          0\n",
              "d      6       6          6"
            ]
          },
          "metadata": {},
          "execution_count": 176
        }
      ]
    },
    {
      "cell_type": "markdown",
      "metadata": {
        "id": "5BHVoYM7nTjX"
      },
      "source": [
        "* for unmatched indices, a union of unmatched indices with NaN values is kept"
      ]
    },
    {
      "cell_type": "code",
      "metadata": {
        "id": "GkoeeTANnSLC",
        "colab": {
          "base_uri": "https://localhost:8080/"
        },
        "outputId": "6a38e285-0787-4da7-ce72-14ec0824f63a"
      },
      "source": [
        "series14 = pd.Series(range(3), index=['Delhi', 'Hyderabad', 'Bangalore'])\n",
        "series14"
      ],
      "execution_count": null,
      "outputs": [
        {
          "output_type": "execute_result",
          "data": {
            "text/plain": [
              "Delhi        0\n",
              "Hyderabad    1\n",
              "Bangalore    2\n",
              "dtype: int64"
            ]
          },
          "metadata": {},
          "execution_count": 177
        }
      ]
    },
    {
      "cell_type": "code",
      "metadata": {
        "id": "hZ5Dsd3Tnwff",
        "colab": {
          "base_uri": "https://localhost:8080/",
          "height": 142
        },
        "outputId": "cf92f4fb-a211-46ad-865d-9533f4cf702d"
      },
      "source": [
        "df4"
      ],
      "execution_count": null,
      "outputs": [
        {
          "output_type": "execute_result",
          "data": {
            "text/html": [
              "<div>\n",
              "<style scoped>\n",
              "    .dataframe tbody tr th:only-of-type {\n",
              "        vertical-align: middle;\n",
              "    }\n",
              "\n",
              "    .dataframe tbody tr th {\n",
              "        vertical-align: top;\n",
              "    }\n",
              "\n",
              "    .dataframe thead th {\n",
              "        text-align: right;\n",
              "    }\n",
              "</style>\n",
              "<table border=\"1\" class=\"dataframe\">\n",
              "  <thead>\n",
              "    <tr style=\"text-align: right;\">\n",
              "      <th></th>\n",
              "      <th>Delhi</th>\n",
              "      <th>Mumbai</th>\n",
              "      <th>Bangalore</th>\n",
              "    </tr>\n",
              "  </thead>\n",
              "  <tbody>\n",
              "    <tr>\n",
              "      <th>a</th>\n",
              "      <td>0</td>\n",
              "      <td>1</td>\n",
              "      <td>2</td>\n",
              "    </tr>\n",
              "    <tr>\n",
              "      <th>c</th>\n",
              "      <td>2</td>\n",
              "      <td>2</td>\n",
              "      <td>2</td>\n",
              "    </tr>\n",
              "    <tr>\n",
              "      <th>d</th>\n",
              "      <td>6</td>\n",
              "      <td>7</td>\n",
              "      <td>8</td>\n",
              "    </tr>\n",
              "  </tbody>\n",
              "</table>\n",
              "</div>"
            ],
            "text/plain": [
              "   Delhi  Mumbai  Bangalore\n",
              "a      0       1          2\n",
              "c      2       2          2\n",
              "d      6       7          8"
            ]
          },
          "metadata": {},
          "execution_count": 178
        }
      ]
    },
    {
      "cell_type": "code",
      "metadata": {
        "id": "xFznUFTQnntR",
        "colab": {
          "base_uri": "https://localhost:8080/",
          "height": 142
        },
        "outputId": "44878ea0-5bab-4958-e2d5-ccb2779afd6d"
      },
      "source": [
        "df4 + series14"
      ],
      "execution_count": null,
      "outputs": [
        {
          "output_type": "execute_result",
          "data": {
            "text/html": [
              "<div>\n",
              "<style scoped>\n",
              "    .dataframe tbody tr th:only-of-type {\n",
              "        vertical-align: middle;\n",
              "    }\n",
              "\n",
              "    .dataframe tbody tr th {\n",
              "        vertical-align: top;\n",
              "    }\n",
              "\n",
              "    .dataframe thead th {\n",
              "        text-align: right;\n",
              "    }\n",
              "</style>\n",
              "<table border=\"1\" class=\"dataframe\">\n",
              "  <thead>\n",
              "    <tr style=\"text-align: right;\">\n",
              "      <th></th>\n",
              "      <th>Bangalore</th>\n",
              "      <th>Delhi</th>\n",
              "      <th>Hyderabad</th>\n",
              "      <th>Mumbai</th>\n",
              "    </tr>\n",
              "  </thead>\n",
              "  <tbody>\n",
              "    <tr>\n",
              "      <th>a</th>\n",
              "      <td>4.0</td>\n",
              "      <td>0.0</td>\n",
              "      <td>NaN</td>\n",
              "      <td>NaN</td>\n",
              "    </tr>\n",
              "    <tr>\n",
              "      <th>c</th>\n",
              "      <td>4.0</td>\n",
              "      <td>2.0</td>\n",
              "      <td>NaN</td>\n",
              "      <td>NaN</td>\n",
              "    </tr>\n",
              "    <tr>\n",
              "      <th>d</th>\n",
              "      <td>10.0</td>\n",
              "      <td>6.0</td>\n",
              "      <td>NaN</td>\n",
              "      <td>NaN</td>\n",
              "    </tr>\n",
              "  </tbody>\n",
              "</table>\n",
              "</div>"
            ],
            "text/plain": [
              "   Bangalore  Delhi  Hyderabad  Mumbai\n",
              "a        4.0    0.0        NaN     NaN\n",
              "c        4.0    2.0        NaN     NaN\n",
              "d       10.0    6.0        NaN     NaN"
            ]
          },
          "metadata": {},
          "execution_count": 179
        }
      ]
    },
    {
      "cell_type": "markdown",
      "metadata": {
        "id": "UQgoBkPYn6k2"
      },
      "source": [
        "* Broadcast over the columns\n",
        "* using various arithematic methods\n",
        "* e.g, sub method for subtraction: match index axis and broadcast over columns"
      ]
    },
    {
      "cell_type": "code",
      "metadata": {
        "id": "YBviXgGxnrTU"
      },
      "source": [
        "series15 = df4['Mumbai']"
      ],
      "execution_count": null,
      "outputs": []
    },
    {
      "cell_type": "code",
      "metadata": {
        "id": "RhDbmLrzoOrL",
        "colab": {
          "base_uri": "https://localhost:8080/"
        },
        "outputId": "10ba3eb1-4ed6-4279-8e61-6a6a2d4b3e2c"
      },
      "source": [
        "series15"
      ],
      "execution_count": null,
      "outputs": [
        {
          "output_type": "execute_result",
          "data": {
            "text/plain": [
              "a    1\n",
              "c    2\n",
              "d    7\n",
              "Name: Mumbai, dtype: int64"
            ]
          },
          "metadata": {},
          "execution_count": 181
        }
      ]
    },
    {
      "cell_type": "code",
      "metadata": {
        "id": "yXckCPg8oPwG",
        "colab": {
          "base_uri": "https://localhost:8080/",
          "height": 142
        },
        "outputId": "709887d9-d260-48c8-98b1-cf872f1791f9"
      },
      "source": [
        "df4"
      ],
      "execution_count": null,
      "outputs": [
        {
          "output_type": "execute_result",
          "data": {
            "text/html": [
              "<div>\n",
              "<style scoped>\n",
              "    .dataframe tbody tr th:only-of-type {\n",
              "        vertical-align: middle;\n",
              "    }\n",
              "\n",
              "    .dataframe tbody tr th {\n",
              "        vertical-align: top;\n",
              "    }\n",
              "\n",
              "    .dataframe thead th {\n",
              "        text-align: right;\n",
              "    }\n",
              "</style>\n",
              "<table border=\"1\" class=\"dataframe\">\n",
              "  <thead>\n",
              "    <tr style=\"text-align: right;\">\n",
              "      <th></th>\n",
              "      <th>Delhi</th>\n",
              "      <th>Mumbai</th>\n",
              "      <th>Bangalore</th>\n",
              "    </tr>\n",
              "  </thead>\n",
              "  <tbody>\n",
              "    <tr>\n",
              "      <th>a</th>\n",
              "      <td>0</td>\n",
              "      <td>1</td>\n",
              "      <td>2</td>\n",
              "    </tr>\n",
              "    <tr>\n",
              "      <th>c</th>\n",
              "      <td>2</td>\n",
              "      <td>2</td>\n",
              "      <td>2</td>\n",
              "    </tr>\n",
              "    <tr>\n",
              "      <th>d</th>\n",
              "      <td>6</td>\n",
              "      <td>7</td>\n",
              "      <td>8</td>\n",
              "    </tr>\n",
              "  </tbody>\n",
              "</table>\n",
              "</div>"
            ],
            "text/plain": [
              "   Delhi  Mumbai  Bangalore\n",
              "a      0       1          2\n",
              "c      2       2          2\n",
              "d      6       7          8"
            ]
          },
          "metadata": {},
          "execution_count": 182
        }
      ]
    },
    {
      "cell_type": "code",
      "metadata": {
        "id": "BhUlj8C9oQ8n",
        "colab": {
          "base_uri": "https://localhost:8080/",
          "height": 142
        },
        "outputId": "e0b6b5c4-d47f-4b5f-c93a-0f8af90ae4f3"
      },
      "source": [
        "df4.sub(series15, axis = 'index')"
      ],
      "execution_count": null,
      "outputs": [
        {
          "output_type": "execute_result",
          "data": {
            "text/html": [
              "<div>\n",
              "<style scoped>\n",
              "    .dataframe tbody tr th:only-of-type {\n",
              "        vertical-align: middle;\n",
              "    }\n",
              "\n",
              "    .dataframe tbody tr th {\n",
              "        vertical-align: top;\n",
              "    }\n",
              "\n",
              "    .dataframe thead th {\n",
              "        text-align: right;\n",
              "    }\n",
              "</style>\n",
              "<table border=\"1\" class=\"dataframe\">\n",
              "  <thead>\n",
              "    <tr style=\"text-align: right;\">\n",
              "      <th></th>\n",
              "      <th>Delhi</th>\n",
              "      <th>Mumbai</th>\n",
              "      <th>Bangalore</th>\n",
              "    </tr>\n",
              "  </thead>\n",
              "  <tbody>\n",
              "    <tr>\n",
              "      <th>a</th>\n",
              "      <td>-1</td>\n",
              "      <td>0</td>\n",
              "      <td>1</td>\n",
              "    </tr>\n",
              "    <tr>\n",
              "      <th>c</th>\n",
              "      <td>0</td>\n",
              "      <td>0</td>\n",
              "      <td>0</td>\n",
              "    </tr>\n",
              "    <tr>\n",
              "      <th>d</th>\n",
              "      <td>-1</td>\n",
              "      <td>0</td>\n",
              "      <td>1</td>\n",
              "    </tr>\n",
              "  </tbody>\n",
              "</table>\n",
              "</div>"
            ],
            "text/plain": [
              "   Delhi  Mumbai  Bangalore\n",
              "a     -1       0          1\n",
              "c      0       0          0\n",
              "d     -1       0          1"
            ]
          },
          "metadata": {},
          "execution_count": 183
        }
      ]
    },
    {
      "cell_type": "markdown",
      "metadata": {
        "id": "TGZE9bfaoYzf"
      },
      "source": [
        "* Example : applying functions and methods\n",
        "* Numpy element-wise array functions"
      ]
    },
    {
      "cell_type": "code",
      "metadata": {
        "id": "Vdw8-njqoXGN",
        "colab": {
          "base_uri": "https://localhost:8080/",
          "height": 142
        },
        "outputId": "5a61d108-7b93-4d21-c587-eb67b30046a9"
      },
      "source": [
        "df4"
      ],
      "execution_count": null,
      "outputs": [
        {
          "output_type": "execute_result",
          "data": {
            "text/html": [
              "<div>\n",
              "<style scoped>\n",
              "    .dataframe tbody tr th:only-of-type {\n",
              "        vertical-align: middle;\n",
              "    }\n",
              "\n",
              "    .dataframe tbody tr th {\n",
              "        vertical-align: top;\n",
              "    }\n",
              "\n",
              "    .dataframe thead th {\n",
              "        text-align: right;\n",
              "    }\n",
              "</style>\n",
              "<table border=\"1\" class=\"dataframe\">\n",
              "  <thead>\n",
              "    <tr style=\"text-align: right;\">\n",
              "      <th></th>\n",
              "      <th>Delhi</th>\n",
              "      <th>Mumbai</th>\n",
              "      <th>Bangalore</th>\n",
              "    </tr>\n",
              "  </thead>\n",
              "  <tbody>\n",
              "    <tr>\n",
              "      <th>a</th>\n",
              "      <td>0</td>\n",
              "      <td>1</td>\n",
              "      <td>2</td>\n",
              "    </tr>\n",
              "    <tr>\n",
              "      <th>c</th>\n",
              "      <td>2</td>\n",
              "      <td>2</td>\n",
              "      <td>2</td>\n",
              "    </tr>\n",
              "    <tr>\n",
              "      <th>d</th>\n",
              "      <td>6</td>\n",
              "      <td>7</td>\n",
              "      <td>8</td>\n",
              "    </tr>\n",
              "  </tbody>\n",
              "</table>\n",
              "</div>"
            ],
            "text/plain": [
              "   Delhi  Mumbai  Bangalore\n",
              "a      0       1          2\n",
              "c      2       2          2\n",
              "d      6       7          8"
            ]
          },
          "metadata": {},
          "execution_count": 184
        }
      ]
    },
    {
      "cell_type": "markdown",
      "metadata": {
        "id": "-j071OXkojbn"
      },
      "source": [
        "* Absolute value of each element in the dataframe"
      ]
    },
    {
      "cell_type": "code",
      "metadata": {
        "id": "TmRJwi8Yoh0m",
        "colab": {
          "base_uri": "https://localhost:8080/",
          "height": 142
        },
        "outputId": "3983324f-0d11-4df6-8fc1-291ae981c3f0"
      },
      "source": [
        "np.abs(df4)"
      ],
      "execution_count": null,
      "outputs": [
        {
          "output_type": "execute_result",
          "data": {
            "text/html": [
              "<div>\n",
              "<style scoped>\n",
              "    .dataframe tbody tr th:only-of-type {\n",
              "        vertical-align: middle;\n",
              "    }\n",
              "\n",
              "    .dataframe tbody tr th {\n",
              "        vertical-align: top;\n",
              "    }\n",
              "\n",
              "    .dataframe thead th {\n",
              "        text-align: right;\n",
              "    }\n",
              "</style>\n",
              "<table border=\"1\" class=\"dataframe\">\n",
              "  <thead>\n",
              "    <tr style=\"text-align: right;\">\n",
              "      <th></th>\n",
              "      <th>Delhi</th>\n",
              "      <th>Mumbai</th>\n",
              "      <th>Bangalore</th>\n",
              "    </tr>\n",
              "  </thead>\n",
              "  <tbody>\n",
              "    <tr>\n",
              "      <th>a</th>\n",
              "      <td>0</td>\n",
              "      <td>1</td>\n",
              "      <td>2</td>\n",
              "    </tr>\n",
              "    <tr>\n",
              "      <th>c</th>\n",
              "      <td>2</td>\n",
              "      <td>2</td>\n",
              "      <td>2</td>\n",
              "    </tr>\n",
              "    <tr>\n",
              "      <th>d</th>\n",
              "      <td>6</td>\n",
              "      <td>7</td>\n",
              "      <td>8</td>\n",
              "    </tr>\n",
              "  </tbody>\n",
              "</table>\n",
              "</div>"
            ],
            "text/plain": [
              "   Delhi  Mumbai  Bangalore\n",
              "a      0       1          2\n",
              "c      2       2          2\n",
              "d      6       7          8"
            ]
          },
          "metadata": {},
          "execution_count": 185
        }
      ]
    },
    {
      "cell_type": "markdown",
      "metadata": {
        "id": "gw9p8m-4orSR"
      },
      "source": [
        "* Dataframe methods\n",
        "* apply method : used to apply a function on all columns or rows (1darrays)\n",
        "* e.g., difference between max and min value of a series"
      ]
    },
    {
      "cell_type": "code",
      "metadata": {
        "id": "x0xZnl51opRS"
      },
      "source": [
        "f = lambda x: x.max() - x.min()"
      ],
      "execution_count": null,
      "outputs": []
    },
    {
      "cell_type": "markdown",
      "metadata": {
        "id": "QbSAQsE0pDKi"
      },
      "source": [
        "* broadcast over the columns\n"
      ]
    },
    {
      "cell_type": "code",
      "metadata": {
        "id": "WLw1vjHnpBvv",
        "colab": {
          "base_uri": "https://localhost:8080/"
        },
        "outputId": "febbf950-aaab-40a2-905e-129d2f0c8360"
      },
      "source": [
        "df4.apply(f)"
      ],
      "execution_count": null,
      "outputs": [
        {
          "output_type": "execute_result",
          "data": {
            "text/plain": [
              "Delhi        6\n",
              "Mumbai       6\n",
              "Bangalore    6\n",
              "dtype: int64"
            ]
          },
          "metadata": {},
          "execution_count": 187
        }
      ]
    },
    {
      "cell_type": "markdown",
      "metadata": {
        "id": "UWdYFIb-pKfu"
      },
      "source": [
        "* broadcaste over the rows"
      ]
    },
    {
      "cell_type": "code",
      "metadata": {
        "id": "V7a2hc2rpIfq",
        "colab": {
          "base_uri": "https://localhost:8080/"
        },
        "outputId": "4de3eac4-4c1a-4add-dd81-326ab499501f"
      },
      "source": [
        "df4.apply(f, axis='columns')"
      ],
      "execution_count": null,
      "outputs": [
        {
          "output_type": "execute_result",
          "data": {
            "text/plain": [
              "a    2\n",
              "c    0\n",
              "d    2\n",
              "dtype: int64"
            ]
          },
          "metadata": {},
          "execution_count": 188
        }
      ]
    },
    {
      "cell_type": "markdown",
      "metadata": {
        "id": "0k-McU2qpXKV"
      },
      "source": [
        "* sum method"
      ]
    },
    {
      "cell_type": "code",
      "metadata": {
        "id": "KuuBYhNWpQ4A",
        "colab": {
          "base_uri": "https://localhost:8080/"
        },
        "outputId": "d2e0e0de-b806-407e-e295-8cb43c40b6f1"
      },
      "source": [
        "df4.sum() # column sums"
      ],
      "execution_count": null,
      "outputs": [
        {
          "output_type": "execute_result",
          "data": {
            "text/plain": [
              "Delhi         8\n",
              "Mumbai       10\n",
              "Bangalore    12\n",
              "dtype: int64"
            ]
          },
          "metadata": {},
          "execution_count": 189
        }
      ]
    },
    {
      "cell_type": "code",
      "metadata": {
        "id": "vls6qiMPpbTb",
        "colab": {
          "base_uri": "https://localhost:8080/"
        },
        "outputId": "b7b01989-b444-43ea-f2a1-df8d4494b604"
      },
      "source": [
        "df4.sum(axis = 'columns')"
      ],
      "execution_count": null,
      "outputs": [
        {
          "output_type": "execute_result",
          "data": {
            "text/plain": [
              "a     3\n",
              "c     6\n",
              "d    21\n",
              "dtype: int64"
            ]
          },
          "metadata": {},
          "execution_count": 190
        }
      ]
    },
    {
      "cell_type": "markdown",
      "metadata": {
        "id": "PzcqX0hVpgHP"
      },
      "source": [
        "* mean method"
      ]
    },
    {
      "cell_type": "code",
      "metadata": {
        "id": "PS9eqWeZpp8F",
        "colab": {
          "base_uri": "https://localhost:8080/",
          "height": 142
        },
        "outputId": "78037c75-b4b1-431f-b2db-52474c688c6d"
      },
      "source": [
        "df4"
      ],
      "execution_count": null,
      "outputs": [
        {
          "output_type": "execute_result",
          "data": {
            "text/html": [
              "<div>\n",
              "<style scoped>\n",
              "    .dataframe tbody tr th:only-of-type {\n",
              "        vertical-align: middle;\n",
              "    }\n",
              "\n",
              "    .dataframe tbody tr th {\n",
              "        vertical-align: top;\n",
              "    }\n",
              "\n",
              "    .dataframe thead th {\n",
              "        text-align: right;\n",
              "    }\n",
              "</style>\n",
              "<table border=\"1\" class=\"dataframe\">\n",
              "  <thead>\n",
              "    <tr style=\"text-align: right;\">\n",
              "      <th></th>\n",
              "      <th>Delhi</th>\n",
              "      <th>Mumbai</th>\n",
              "      <th>Bangalore</th>\n",
              "    </tr>\n",
              "  </thead>\n",
              "  <tbody>\n",
              "    <tr>\n",
              "      <th>a</th>\n",
              "      <td>0</td>\n",
              "      <td>1</td>\n",
              "      <td>2</td>\n",
              "    </tr>\n",
              "    <tr>\n",
              "      <th>c</th>\n",
              "      <td>2</td>\n",
              "      <td>2</td>\n",
              "      <td>2</td>\n",
              "    </tr>\n",
              "    <tr>\n",
              "      <th>d</th>\n",
              "      <td>6</td>\n",
              "      <td>7</td>\n",
              "      <td>8</td>\n",
              "    </tr>\n",
              "  </tbody>\n",
              "</table>\n",
              "</div>"
            ],
            "text/plain": [
              "   Delhi  Mumbai  Bangalore\n",
              "a      0       1          2\n",
              "c      2       2          2\n",
              "d      6       7          8"
            ]
          },
          "metadata": {},
          "execution_count": 191
        }
      ]
    },
    {
      "cell_type": "code",
      "metadata": {
        "id": "l_t0fkIRpe4H",
        "colab": {
          "base_uri": "https://localhost:8080/"
        },
        "outputId": "8f0bb9a9-1252-4ff6-82e3-a162fd8c441f"
      },
      "source": [
        "df4.mean()"
      ],
      "execution_count": null,
      "outputs": [
        {
          "output_type": "execute_result",
          "data": {
            "text/plain": [
              "Delhi        2.666667\n",
              "Mumbai       3.333333\n",
              "Bangalore    4.000000\n",
              "dtype: float64"
            ]
          },
          "metadata": {},
          "execution_count": 192
        }
      ]
    },
    {
      "cell_type": "code",
      "metadata": {
        "id": "CO0n9MUgpjcK",
        "colab": {
          "base_uri": "https://localhost:8080/"
        },
        "outputId": "75403852-5c1d-412a-c570-5a7c62e7f5b9"
      },
      "source": [
        "df4.mean(axis = 1)"
      ],
      "execution_count": null,
      "outputs": [
        {
          "output_type": "execute_result",
          "data": {
            "text/plain": [
              "a    1.0\n",
              "c    2.0\n",
              "d    7.0\n",
              "dtype: float64"
            ]
          },
          "metadata": {},
          "execution_count": 193
        }
      ]
    },
    {
      "cell_type": "code",
      "metadata": {
        "id": "9Nh3gQfhpyyY",
        "colab": {
          "base_uri": "https://localhost:8080/"
        },
        "outputId": "ea8a1c7a-0c24-422b-b784-d8f0ab1613ad"
      },
      "source": [
        "df4.mean(axis = 0)"
      ],
      "execution_count": null,
      "outputs": [
        {
          "output_type": "execute_result",
          "data": {
            "text/plain": [
              "Delhi        2.666667\n",
              "Mumbai       3.333333\n",
              "Bangalore    4.000000\n",
              "dtype: float64"
            ]
          },
          "metadata": {},
          "execution_count": 194
        }
      ]
    },
    {
      "cell_type": "code",
      "metadata": {
        "id": "THYlNBe9p22a",
        "colab": {
          "base_uri": "https://localhost:8080/"
        },
        "outputId": "912d6c7d-9587-43a2-ddc4-a2e3e5e2caf0"
      },
      "source": [
        "df4.mean(axis = 'columns') # row means"
      ],
      "execution_count": null,
      "outputs": [
        {
          "output_type": "execute_result",
          "data": {
            "text/plain": [
              "a    1.0\n",
              "c    2.0\n",
              "d    7.0\n",
              "dtype: float64"
            ]
          },
          "metadata": {},
          "execution_count": 195
        }
      ]
    },
    {
      "cell_type": "markdown",
      "metadata": {
        "id": "07mdWT52p9qD"
      },
      "source": [
        "* returning multiple values using series"
      ]
    },
    {
      "cell_type": "code",
      "metadata": {
        "id": "E0fg_EPnp6VL"
      },
      "source": [
        "def f1(x):\n",
        "  return pd.Series([x.min(), x.max()], index = ['min', 'max'])"
      ],
      "execution_count": null,
      "outputs": []
    },
    {
      "cell_type": "code",
      "metadata": {
        "id": "RIkzSmzUqLn9",
        "colab": {
          "base_uri": "https://localhost:8080/",
          "height": 110
        },
        "outputId": "b726f9dc-c7e5-4d40-b9b6-ee65e45c1717"
      },
      "source": [
        "df4.apply(f1)"
      ],
      "execution_count": null,
      "outputs": [
        {
          "output_type": "execute_result",
          "data": {
            "text/html": [
              "<div>\n",
              "<style scoped>\n",
              "    .dataframe tbody tr th:only-of-type {\n",
              "        vertical-align: middle;\n",
              "    }\n",
              "\n",
              "    .dataframe tbody tr th {\n",
              "        vertical-align: top;\n",
              "    }\n",
              "\n",
              "    .dataframe thead th {\n",
              "        text-align: right;\n",
              "    }\n",
              "</style>\n",
              "<table border=\"1\" class=\"dataframe\">\n",
              "  <thead>\n",
              "    <tr style=\"text-align: right;\">\n",
              "      <th></th>\n",
              "      <th>Delhi</th>\n",
              "      <th>Mumbai</th>\n",
              "      <th>Bangalore</th>\n",
              "    </tr>\n",
              "  </thead>\n",
              "  <tbody>\n",
              "    <tr>\n",
              "      <th>min</th>\n",
              "      <td>0</td>\n",
              "      <td>1</td>\n",
              "      <td>2</td>\n",
              "    </tr>\n",
              "    <tr>\n",
              "      <th>max</th>\n",
              "      <td>6</td>\n",
              "      <td>7</td>\n",
              "      <td>8</td>\n",
              "    </tr>\n",
              "  </tbody>\n",
              "</table>\n",
              "</div>"
            ],
            "text/plain": [
              "     Delhi  Mumbai  Bangalore\n",
              "min      0       1          2\n",
              "max      6       7          8"
            ]
          },
          "metadata": {},
          "execution_count": 197
        }
      ]
    },
    {
      "cell_type": "markdown",
      "metadata": {
        "id": "arSg4qNhqSvp"
      },
      "source": [
        "* Element - wise Python method\n",
        "* e.g., compute a formatted string from each floating point value\n",
        "* using applymap method"
      ]
    },
    {
      "cell_type": "code",
      "metadata": {
        "id": "_OpXVz8LqOWD"
      },
      "source": [
        "f2 = lambda x : '%.2f' % x"
      ],
      "execution_count": null,
      "outputs": []
    },
    {
      "cell_type": "code",
      "metadata": {
        "id": "Jv9pqm_gqnnf",
        "colab": {
          "base_uri": "https://localhost:8080/",
          "height": 142
        },
        "outputId": "f1216dfc-4ffd-42be-a396-0704ebf85963"
      },
      "source": [
        "df4.applymap(f2)"
      ],
      "execution_count": null,
      "outputs": [
        {
          "output_type": "execute_result",
          "data": {
            "text/html": [
              "<div>\n",
              "<style scoped>\n",
              "    .dataframe tbody tr th:only-of-type {\n",
              "        vertical-align: middle;\n",
              "    }\n",
              "\n",
              "    .dataframe tbody tr th {\n",
              "        vertical-align: top;\n",
              "    }\n",
              "\n",
              "    .dataframe thead th {\n",
              "        text-align: right;\n",
              "    }\n",
              "</style>\n",
              "<table border=\"1\" class=\"dataframe\">\n",
              "  <thead>\n",
              "    <tr style=\"text-align: right;\">\n",
              "      <th></th>\n",
              "      <th>Delhi</th>\n",
              "      <th>Mumbai</th>\n",
              "      <th>Bangalore</th>\n",
              "    </tr>\n",
              "  </thead>\n",
              "  <tbody>\n",
              "    <tr>\n",
              "      <th>a</th>\n",
              "      <td>0.00</td>\n",
              "      <td>1.00</td>\n",
              "      <td>2.00</td>\n",
              "    </tr>\n",
              "    <tr>\n",
              "      <th>c</th>\n",
              "      <td>2.00</td>\n",
              "      <td>2.00</td>\n",
              "      <td>2.00</td>\n",
              "    </tr>\n",
              "    <tr>\n",
              "      <th>d</th>\n",
              "      <td>6.00</td>\n",
              "      <td>7.00</td>\n",
              "      <td>8.00</td>\n",
              "    </tr>\n",
              "  </tbody>\n",
              "</table>\n",
              "</div>"
            ],
            "text/plain": [
              "  Delhi Mumbai Bangalore\n",
              "a  0.00   1.00      2.00\n",
              "c  2.00   2.00      2.00\n",
              "d  6.00   7.00      8.00"
            ]
          },
          "metadata": {},
          "execution_count": 199
        }
      ]
    },
    {
      "cell_type": "markdown",
      "metadata": {
        "id": "XFEUnOtRq2hE"
      },
      "source": [
        "* using map method for series"
      ]
    },
    {
      "cell_type": "code",
      "metadata": {
        "id": "BHCfrX8cqqrA",
        "colab": {
          "base_uri": "https://localhost:8080/"
        },
        "outputId": "650889bd-5831-4abd-fb8c-065bf0e78ea3"
      },
      "source": [
        "df4['Delhi'].map(f2)"
      ],
      "execution_count": null,
      "outputs": [
        {
          "output_type": "execute_result",
          "data": {
            "text/plain": [
              "a    0.00\n",
              "c    2.00\n",
              "d    6.00\n",
              "Name: Delhi, dtype: object"
            ]
          },
          "metadata": {},
          "execution_count": 200
        }
      ]
    },
    {
      "cell_type": "markdown",
      "metadata": {
        "id": "-e4arDBUq-Ke"
      },
      "source": [
        "* sorting by index using sort_index method (default: ascending order)"
      ]
    },
    {
      "cell_type": "code",
      "metadata": {
        "id": "cJ4ssYrLq9Ag"
      },
      "source": [
        "series16 = pd.Series([4,7,-3,2], index = ['d', 'a', 'b','c'])"
      ],
      "execution_count": null,
      "outputs": []
    },
    {
      "cell_type": "code",
      "metadata": {
        "id": "I4w9SuAPrPOq",
        "colab": {
          "base_uri": "https://localhost:8080/"
        },
        "outputId": "8e308ee9-5e6f-4cff-ae49-a62b7daec6bb"
      },
      "source": [
        "series16"
      ],
      "execution_count": null,
      "outputs": [
        {
          "output_type": "execute_result",
          "data": {
            "text/plain": [
              "d    4\n",
              "a    7\n",
              "b   -3\n",
              "c    2\n",
              "dtype: int64"
            ]
          },
          "metadata": {},
          "execution_count": 202
        }
      ]
    },
    {
      "cell_type": "code",
      "metadata": {
        "id": "WCqMfmBBrQPj",
        "colab": {
          "base_uri": "https://localhost:8080/"
        },
        "outputId": "ca4b9afd-9b7c-4173-cca8-607cd089ca06"
      },
      "source": [
        "series16.sort_index()"
      ],
      "execution_count": null,
      "outputs": [
        {
          "output_type": "execute_result",
          "data": {
            "text/plain": [
              "a    7\n",
              "b   -3\n",
              "c    2\n",
              "d    4\n",
              "dtype: int64"
            ]
          },
          "metadata": {},
          "execution_count": 203
        }
      ]
    },
    {
      "cell_type": "code",
      "metadata": {
        "id": "W3JcgA-ArYKF"
      },
      "source": [
        "df6 = pd.DataFrame(np.arange(8).reshape((2,4)), index = ['three', 'one'], columns=['d','a','b','c'])"
      ],
      "execution_count": null,
      "outputs": []
    },
    {
      "cell_type": "code",
      "metadata": {
        "id": "aJeyj3FBrsge",
        "colab": {
          "base_uri": "https://localhost:8080/",
          "height": 110
        },
        "outputId": "37c14f80-dcca-45a1-abc6-f3ab054558c4"
      },
      "source": [
        "df6"
      ],
      "execution_count": null,
      "outputs": [
        {
          "output_type": "execute_result",
          "data": {
            "text/html": [
              "<div>\n",
              "<style scoped>\n",
              "    .dataframe tbody tr th:only-of-type {\n",
              "        vertical-align: middle;\n",
              "    }\n",
              "\n",
              "    .dataframe tbody tr th {\n",
              "        vertical-align: top;\n",
              "    }\n",
              "\n",
              "    .dataframe thead th {\n",
              "        text-align: right;\n",
              "    }\n",
              "</style>\n",
              "<table border=\"1\" class=\"dataframe\">\n",
              "  <thead>\n",
              "    <tr style=\"text-align: right;\">\n",
              "      <th></th>\n",
              "      <th>d</th>\n",
              "      <th>a</th>\n",
              "      <th>b</th>\n",
              "      <th>c</th>\n",
              "    </tr>\n",
              "  </thead>\n",
              "  <tbody>\n",
              "    <tr>\n",
              "      <th>three</th>\n",
              "      <td>0</td>\n",
              "      <td>1</td>\n",
              "      <td>2</td>\n",
              "      <td>3</td>\n",
              "    </tr>\n",
              "    <tr>\n",
              "      <th>one</th>\n",
              "      <td>4</td>\n",
              "      <td>5</td>\n",
              "      <td>6</td>\n",
              "      <td>7</td>\n",
              "    </tr>\n",
              "  </tbody>\n",
              "</table>\n",
              "</div>"
            ],
            "text/plain": [
              "       d  a  b  c\n",
              "three  0  1  2  3\n",
              "one    4  5  6  7"
            ]
          },
          "metadata": {},
          "execution_count": 205
        }
      ]
    },
    {
      "cell_type": "markdown",
      "metadata": {
        "id": "Adah1-AErvvC"
      },
      "source": [
        "* sorting the row index column"
      ]
    },
    {
      "cell_type": "code",
      "metadata": {
        "id": "LxD51Fc5rtxv",
        "colab": {
          "base_uri": "https://localhost:8080/",
          "height": 110
        },
        "outputId": "f3eaf5f8-ce4b-4e38-f583-2ccfcab99341"
      },
      "source": [
        "df6.sort_index()"
      ],
      "execution_count": null,
      "outputs": [
        {
          "output_type": "execute_result",
          "data": {
            "text/html": [
              "<div>\n",
              "<style scoped>\n",
              "    .dataframe tbody tr th:only-of-type {\n",
              "        vertical-align: middle;\n",
              "    }\n",
              "\n",
              "    .dataframe tbody tr th {\n",
              "        vertical-align: top;\n",
              "    }\n",
              "\n",
              "    .dataframe thead th {\n",
              "        text-align: right;\n",
              "    }\n",
              "</style>\n",
              "<table border=\"1\" class=\"dataframe\">\n",
              "  <thead>\n",
              "    <tr style=\"text-align: right;\">\n",
              "      <th></th>\n",
              "      <th>d</th>\n",
              "      <th>a</th>\n",
              "      <th>b</th>\n",
              "      <th>c</th>\n",
              "    </tr>\n",
              "  </thead>\n",
              "  <tbody>\n",
              "    <tr>\n",
              "      <th>one</th>\n",
              "      <td>4</td>\n",
              "      <td>5</td>\n",
              "      <td>6</td>\n",
              "      <td>7</td>\n",
              "    </tr>\n",
              "    <tr>\n",
              "      <th>three</th>\n",
              "      <td>0</td>\n",
              "      <td>1</td>\n",
              "      <td>2</td>\n",
              "      <td>3</td>\n",
              "    </tr>\n",
              "  </tbody>\n",
              "</table>\n",
              "</div>"
            ],
            "text/plain": [
              "       d  a  b  c\n",
              "one    4  5  6  7\n",
              "three  0  1  2  3"
            ]
          },
          "metadata": {},
          "execution_count": 206
        }
      ]
    },
    {
      "cell_type": "code",
      "metadata": {
        "id": "9e4RacNKr4AC",
        "colab": {
          "base_uri": "https://localhost:8080/",
          "height": 110
        },
        "outputId": "093ebb6a-1884-488c-e082-267286c55368"
      },
      "source": [
        "df6.sort_values(by='a')"
      ],
      "execution_count": null,
      "outputs": [
        {
          "output_type": "execute_result",
          "data": {
            "text/html": [
              "<div>\n",
              "<style scoped>\n",
              "    .dataframe tbody tr th:only-of-type {\n",
              "        vertical-align: middle;\n",
              "    }\n",
              "\n",
              "    .dataframe tbody tr th {\n",
              "        vertical-align: top;\n",
              "    }\n",
              "\n",
              "    .dataframe thead th {\n",
              "        text-align: right;\n",
              "    }\n",
              "</style>\n",
              "<table border=\"1\" class=\"dataframe\">\n",
              "  <thead>\n",
              "    <tr style=\"text-align: right;\">\n",
              "      <th></th>\n",
              "      <th>d</th>\n",
              "      <th>a</th>\n",
              "      <th>b</th>\n",
              "      <th>c</th>\n",
              "    </tr>\n",
              "  </thead>\n",
              "  <tbody>\n",
              "    <tr>\n",
              "      <th>three</th>\n",
              "      <td>0</td>\n",
              "      <td>1</td>\n",
              "      <td>2</td>\n",
              "      <td>3</td>\n",
              "    </tr>\n",
              "    <tr>\n",
              "      <th>one</th>\n",
              "      <td>4</td>\n",
              "      <td>5</td>\n",
              "      <td>6</td>\n",
              "      <td>7</td>\n",
              "    </tr>\n",
              "  </tbody>\n",
              "</table>\n",
              "</div>"
            ],
            "text/plain": [
              "       d  a  b  c\n",
              "three  0  1  2  3\n",
              "one    4  5  6  7"
            ]
          },
          "metadata": {},
          "execution_count": 207
        }
      ]
    },
    {
      "cell_type": "markdown",
      "metadata": {
        "id": "hfFMNnuKsC25"
      },
      "source": [
        "* sorting the column index row"
      ]
    },
    {
      "cell_type": "code",
      "metadata": {
        "id": "82w0xqGbr7iN",
        "colab": {
          "base_uri": "https://localhost:8080/",
          "height": 110
        },
        "outputId": "963206d8-bbe5-40b7-88cf-4cbf5506299b"
      },
      "source": [
        "df6.sort_index(axis = 1)"
      ],
      "execution_count": null,
      "outputs": [
        {
          "output_type": "execute_result",
          "data": {
            "text/html": [
              "<div>\n",
              "<style scoped>\n",
              "    .dataframe tbody tr th:only-of-type {\n",
              "        vertical-align: middle;\n",
              "    }\n",
              "\n",
              "    .dataframe tbody tr th {\n",
              "        vertical-align: top;\n",
              "    }\n",
              "\n",
              "    .dataframe thead th {\n",
              "        text-align: right;\n",
              "    }\n",
              "</style>\n",
              "<table border=\"1\" class=\"dataframe\">\n",
              "  <thead>\n",
              "    <tr style=\"text-align: right;\">\n",
              "      <th></th>\n",
              "      <th>a</th>\n",
              "      <th>b</th>\n",
              "      <th>c</th>\n",
              "      <th>d</th>\n",
              "    </tr>\n",
              "  </thead>\n",
              "  <tbody>\n",
              "    <tr>\n",
              "      <th>three</th>\n",
              "      <td>1</td>\n",
              "      <td>2</td>\n",
              "      <td>3</td>\n",
              "      <td>0</td>\n",
              "    </tr>\n",
              "    <tr>\n",
              "      <th>one</th>\n",
              "      <td>5</td>\n",
              "      <td>6</td>\n",
              "      <td>7</td>\n",
              "      <td>4</td>\n",
              "    </tr>\n",
              "  </tbody>\n",
              "</table>\n",
              "</div>"
            ],
            "text/plain": [
              "       a  b  c  d\n",
              "three  1  2  3  0\n",
              "one    5  6  7  4"
            ]
          },
          "metadata": {},
          "execution_count": 208
        }
      ]
    },
    {
      "cell_type": "code",
      "metadata": {
        "id": "E3925ZgasJ56",
        "colab": {
          "base_uri": "https://localhost:8080/",
          "height": 110
        },
        "outputId": "c240d936-a8da-4ecd-b4f2-636b8703fa5b"
      },
      "source": [
        "df6.sort_index(axis=1, ascending=False)"
      ],
      "execution_count": null,
      "outputs": [
        {
          "output_type": "execute_result",
          "data": {
            "text/html": [
              "<div>\n",
              "<style scoped>\n",
              "    .dataframe tbody tr th:only-of-type {\n",
              "        vertical-align: middle;\n",
              "    }\n",
              "\n",
              "    .dataframe tbody tr th {\n",
              "        vertical-align: top;\n",
              "    }\n",
              "\n",
              "    .dataframe thead th {\n",
              "        text-align: right;\n",
              "    }\n",
              "</style>\n",
              "<table border=\"1\" class=\"dataframe\">\n",
              "  <thead>\n",
              "    <tr style=\"text-align: right;\">\n",
              "      <th></th>\n",
              "      <th>d</th>\n",
              "      <th>c</th>\n",
              "      <th>b</th>\n",
              "      <th>a</th>\n",
              "    </tr>\n",
              "  </thead>\n",
              "  <tbody>\n",
              "    <tr>\n",
              "      <th>three</th>\n",
              "      <td>0</td>\n",
              "      <td>3</td>\n",
              "      <td>2</td>\n",
              "      <td>1</td>\n",
              "    </tr>\n",
              "    <tr>\n",
              "      <th>one</th>\n",
              "      <td>4</td>\n",
              "      <td>7</td>\n",
              "      <td>6</td>\n",
              "      <td>5</td>\n",
              "    </tr>\n",
              "  </tbody>\n",
              "</table>\n",
              "</div>"
            ],
            "text/plain": [
              "       d  c  b  a\n",
              "three  0  3  2  1\n",
              "one    4  7  6  5"
            ]
          },
          "metadata": {},
          "execution_count": 209
        }
      ]
    },
    {
      "cell_type": "markdown",
      "metadata": {
        "id": "xEmWLo13sXCb"
      },
      "source": [
        "* sorting by values sort_values method (NaN values at end)"
      ]
    },
    {
      "cell_type": "code",
      "metadata": {
        "id": "ccEVPi1osTem",
        "colab": {
          "base_uri": "https://localhost:8080/"
        },
        "outputId": "a20c8ec4-5ba9-4231-f44d-e4bf16bfb756"
      },
      "source": [
        "series6.sort_values()"
      ],
      "execution_count": null,
      "outputs": [
        {
          "output_type": "execute_result",
          "data": {
            "text/plain": [
              "1   -2.5\n",
              "2    0.0\n",
              "0    1.5\n",
              "dtype: float64"
            ]
          },
          "metadata": {},
          "execution_count": 210
        }
      ]
    },
    {
      "cell_type": "code",
      "metadata": {
        "id": "1uLQeNiMsgpd"
      },
      "source": [
        "df7 = pd.DataFrame({'b': [4,7,-3,2], 'a':[0,1,0,1]})"
      ],
      "execution_count": null,
      "outputs": []
    },
    {
      "cell_type": "code",
      "metadata": {
        "id": "KW7CXV48ssR9",
        "colab": {
          "base_uri": "https://localhost:8080/",
          "height": 172
        },
        "outputId": "73628904-f916-4336-df77-ef0d11bcd918"
      },
      "source": [
        "df7"
      ],
      "execution_count": null,
      "outputs": [
        {
          "output_type": "execute_result",
          "data": {
            "text/html": [
              "<div>\n",
              "<style scoped>\n",
              "    .dataframe tbody tr th:only-of-type {\n",
              "        vertical-align: middle;\n",
              "    }\n",
              "\n",
              "    .dataframe tbody tr th {\n",
              "        vertical-align: top;\n",
              "    }\n",
              "\n",
              "    .dataframe thead th {\n",
              "        text-align: right;\n",
              "    }\n",
              "</style>\n",
              "<table border=\"1\" class=\"dataframe\">\n",
              "  <thead>\n",
              "    <tr style=\"text-align: right;\">\n",
              "      <th></th>\n",
              "      <th>b</th>\n",
              "      <th>a</th>\n",
              "    </tr>\n",
              "  </thead>\n",
              "  <tbody>\n",
              "    <tr>\n",
              "      <th>0</th>\n",
              "      <td>4</td>\n",
              "      <td>0</td>\n",
              "    </tr>\n",
              "    <tr>\n",
              "      <th>1</th>\n",
              "      <td>7</td>\n",
              "      <td>1</td>\n",
              "    </tr>\n",
              "    <tr>\n",
              "      <th>2</th>\n",
              "      <td>-3</td>\n",
              "      <td>0</td>\n",
              "    </tr>\n",
              "    <tr>\n",
              "      <th>3</th>\n",
              "      <td>2</td>\n",
              "      <td>1</td>\n",
              "    </tr>\n",
              "  </tbody>\n",
              "</table>\n",
              "</div>"
            ],
            "text/plain": [
              "   b  a\n",
              "0  4  0\n",
              "1  7  1\n",
              "2 -3  0\n",
              "3  2  1"
            ]
          },
          "metadata": {},
          "execution_count": 212
        }
      ]
    },
    {
      "cell_type": "markdown",
      "metadata": {
        "id": "wyveEEyvsuwM"
      },
      "source": [
        "* using one column"
      ]
    },
    {
      "cell_type": "code",
      "metadata": {
        "id": "A5dYMOBxss3r",
        "colab": {
          "base_uri": "https://localhost:8080/",
          "height": 172
        },
        "outputId": "f9275b73-53e4-4670-8a63-675919ab1714"
      },
      "source": [
        "df7.sort_values(by= 'b')"
      ],
      "execution_count": null,
      "outputs": [
        {
          "output_type": "execute_result",
          "data": {
            "text/html": [
              "<div>\n",
              "<style scoped>\n",
              "    .dataframe tbody tr th:only-of-type {\n",
              "        vertical-align: middle;\n",
              "    }\n",
              "\n",
              "    .dataframe tbody tr th {\n",
              "        vertical-align: top;\n",
              "    }\n",
              "\n",
              "    .dataframe thead th {\n",
              "        text-align: right;\n",
              "    }\n",
              "</style>\n",
              "<table border=\"1\" class=\"dataframe\">\n",
              "  <thead>\n",
              "    <tr style=\"text-align: right;\">\n",
              "      <th></th>\n",
              "      <th>b</th>\n",
              "      <th>a</th>\n",
              "    </tr>\n",
              "  </thead>\n",
              "  <tbody>\n",
              "    <tr>\n",
              "      <th>2</th>\n",
              "      <td>-3</td>\n",
              "      <td>0</td>\n",
              "    </tr>\n",
              "    <tr>\n",
              "      <th>3</th>\n",
              "      <td>2</td>\n",
              "      <td>1</td>\n",
              "    </tr>\n",
              "    <tr>\n",
              "      <th>0</th>\n",
              "      <td>4</td>\n",
              "      <td>0</td>\n",
              "    </tr>\n",
              "    <tr>\n",
              "      <th>1</th>\n",
              "      <td>7</td>\n",
              "      <td>1</td>\n",
              "    </tr>\n",
              "  </tbody>\n",
              "</table>\n",
              "</div>"
            ],
            "text/plain": [
              "   b  a\n",
              "2 -3  0\n",
              "3  2  1\n",
              "0  4  0\n",
              "1  7  1"
            ]
          },
          "metadata": {},
          "execution_count": 213
        }
      ]
    },
    {
      "cell_type": "markdown",
      "metadata": {
        "id": "QwZRmbGGs4lU"
      },
      "source": [
        "* using multiple columns"
      ]
    },
    {
      "cell_type": "code",
      "metadata": {
        "id": "2jx7M9OMsznG",
        "colab": {
          "base_uri": "https://localhost:8080/",
          "height": 172
        },
        "outputId": "4506f9a7-41f9-4218-b5c3-75a9371e8660"
      },
      "source": [
        "df7.sort_values(by = ['a', 'b'])"
      ],
      "execution_count": null,
      "outputs": [
        {
          "output_type": "execute_result",
          "data": {
            "text/html": [
              "<div>\n",
              "<style scoped>\n",
              "    .dataframe tbody tr th:only-of-type {\n",
              "        vertical-align: middle;\n",
              "    }\n",
              "\n",
              "    .dataframe tbody tr th {\n",
              "        vertical-align: top;\n",
              "    }\n",
              "\n",
              "    .dataframe thead th {\n",
              "        text-align: right;\n",
              "    }\n",
              "</style>\n",
              "<table border=\"1\" class=\"dataframe\">\n",
              "  <thead>\n",
              "    <tr style=\"text-align: right;\">\n",
              "      <th></th>\n",
              "      <th>b</th>\n",
              "      <th>a</th>\n",
              "    </tr>\n",
              "  </thead>\n",
              "  <tbody>\n",
              "    <tr>\n",
              "      <th>2</th>\n",
              "      <td>-3</td>\n",
              "      <td>0</td>\n",
              "    </tr>\n",
              "    <tr>\n",
              "      <th>0</th>\n",
              "      <td>4</td>\n",
              "      <td>0</td>\n",
              "    </tr>\n",
              "    <tr>\n",
              "      <th>3</th>\n",
              "      <td>2</td>\n",
              "      <td>1</td>\n",
              "    </tr>\n",
              "    <tr>\n",
              "      <th>1</th>\n",
              "      <td>7</td>\n",
              "      <td>1</td>\n",
              "    </tr>\n",
              "  </tbody>\n",
              "</table>\n",
              "</div>"
            ],
            "text/plain": [
              "   b  a\n",
              "2 -3  0\n",
              "0  4  0\n",
              "3  2  1\n",
              "1  7  1"
            ]
          },
          "metadata": {},
          "execution_count": 214
        }
      ]
    },
    {
      "cell_type": "markdown",
      "metadata": {
        "id": "StgcROgZtC0h"
      },
      "source": [
        "* ranking by value using rank method (default: ascending order)\n",
        "* default: breaks ties by assigning each group the mean rank\n"
      ]
    },
    {
      "cell_type": "code",
      "metadata": {
        "id": "xgo2Aa1rtApF"
      },
      "source": [
        "series17 = pd.Series([7, -5, 7, 4, 2, 0, 4])"
      ],
      "execution_count": null,
      "outputs": []
    },
    {
      "cell_type": "code",
      "metadata": {
        "id": "m0ofUpIbtYzX",
        "colab": {
          "base_uri": "https://localhost:8080/"
        },
        "outputId": "f097c591-5e69-4911-8140-0efb76e286a8"
      },
      "source": [
        "series17"
      ],
      "execution_count": null,
      "outputs": [
        {
          "output_type": "execute_result",
          "data": {
            "text/plain": [
              "0    7\n",
              "1   -5\n",
              "2    7\n",
              "3    4\n",
              "4    2\n",
              "5    0\n",
              "6    4\n",
              "dtype: int64"
            ]
          },
          "metadata": {},
          "execution_count": 216
        }
      ]
    },
    {
      "cell_type": "code",
      "metadata": {
        "id": "s5f5lxBEtZrO",
        "colab": {
          "base_uri": "https://localhost:8080/"
        },
        "outputId": "e2498f56-7e90-4ea4-b3e8-3d8ae1b2696b"
      },
      "source": [
        "series17.rank()"
      ],
      "execution_count": null,
      "outputs": [
        {
          "output_type": "execute_result",
          "data": {
            "text/plain": [
              "0    6.5\n",
              "1    1.0\n",
              "2    6.5\n",
              "3    4.5\n",
              "4    3.0\n",
              "5    2.0\n",
              "6    4.5\n",
              "dtype: float64"
            ]
          },
          "metadata": {},
          "execution_count": 217
        }
      ]
    },
    {
      "cell_type": "markdown",
      "metadata": {
        "id": "sZsqIZWctrKt"
      },
      "source": [
        "* break ties using order of listing\n",
        "* use method argument\n",
        "* e.g,. to break ties element listed first would be rated first"
      ]
    },
    {
      "cell_type": "code",
      "metadata": {
        "id": "B-LfXg_mtd18",
        "colab": {
          "base_uri": "https://localhost:8080/"
        },
        "outputId": "b8605fe4-b2ef-430e-bb9c-0be27ae9215a"
      },
      "source": [
        "series17.rank(method = 'first')"
      ],
      "execution_count": null,
      "outputs": [
        {
          "output_type": "execute_result",
          "data": {
            "text/plain": [
              "0    6.0\n",
              "1    1.0\n",
              "2    7.0\n",
              "3    4.0\n",
              "4    3.0\n",
              "5    2.0\n",
              "6    5.0\n",
              "dtype: float64"
            ]
          },
          "metadata": {},
          "execution_count": 218
        }
      ]
    },
    {
      "cell_type": "code",
      "metadata": {
        "id": "QXcxZMfat89q",
        "colab": {
          "base_uri": "https://localhost:8080/"
        },
        "outputId": "19e0c3f7-b812-4acb-bd60-086df47066e3"
      },
      "source": [
        "series17.rank(method = 'first', ascending=False)"
      ],
      "execution_count": null,
      "outputs": [
        {
          "output_type": "execute_result",
          "data": {
            "text/plain": [
              "0    1.0\n",
              "1    7.0\n",
              "2    2.0\n",
              "3    3.0\n",
              "4    5.0\n",
              "5    6.0\n",
              "6    4.0\n",
              "dtype: float64"
            ]
          },
          "metadata": {},
          "execution_count": 219
        }
      ]
    },
    {
      "cell_type": "code",
      "metadata": {
        "id": "GXUKOMkduJxy",
        "colab": {
          "base_uri": "https://localhost:8080/",
          "height": 172
        },
        "outputId": "ec7400de-805e-4ba4-ae74-f72b2bd85de0"
      },
      "source": [
        "df7"
      ],
      "execution_count": null,
      "outputs": [
        {
          "output_type": "execute_result",
          "data": {
            "text/html": [
              "<div>\n",
              "<style scoped>\n",
              "    .dataframe tbody tr th:only-of-type {\n",
              "        vertical-align: middle;\n",
              "    }\n",
              "\n",
              "    .dataframe tbody tr th {\n",
              "        vertical-align: top;\n",
              "    }\n",
              "\n",
              "    .dataframe thead th {\n",
              "        text-align: right;\n",
              "    }\n",
              "</style>\n",
              "<table border=\"1\" class=\"dataframe\">\n",
              "  <thead>\n",
              "    <tr style=\"text-align: right;\">\n",
              "      <th></th>\n",
              "      <th>b</th>\n",
              "      <th>a</th>\n",
              "    </tr>\n",
              "  </thead>\n",
              "  <tbody>\n",
              "    <tr>\n",
              "      <th>0</th>\n",
              "      <td>4</td>\n",
              "      <td>0</td>\n",
              "    </tr>\n",
              "    <tr>\n",
              "      <th>1</th>\n",
              "      <td>7</td>\n",
              "      <td>1</td>\n",
              "    </tr>\n",
              "    <tr>\n",
              "      <th>2</th>\n",
              "      <td>-3</td>\n",
              "      <td>0</td>\n",
              "    </tr>\n",
              "    <tr>\n",
              "      <th>3</th>\n",
              "      <td>2</td>\n",
              "      <td>1</td>\n",
              "    </tr>\n",
              "  </tbody>\n",
              "</table>\n",
              "</div>"
            ],
            "text/plain": [
              "   b  a\n",
              "0  4  0\n",
              "1  7  1\n",
              "2 -3  0\n",
              "3  2  1"
            ]
          },
          "metadata": {},
          "execution_count": 220
        }
      ]
    },
    {
      "cell_type": "markdown",
      "metadata": {
        "id": "16KhZlPYufbo"
      },
      "source": [
        "* along the column by camparing row elements"
      ]
    },
    {
      "cell_type": "code",
      "metadata": {
        "id": "2vNzBDz-uorD",
        "colab": {
          "base_uri": "https://localhost:8080/",
          "height": 172
        },
        "outputId": "f5ab661b-75d2-4b3c-f4a7-268859e8e729"
      },
      "source": [
        "df7"
      ],
      "execution_count": null,
      "outputs": [
        {
          "output_type": "execute_result",
          "data": {
            "text/html": [
              "<div>\n",
              "<style scoped>\n",
              "    .dataframe tbody tr th:only-of-type {\n",
              "        vertical-align: middle;\n",
              "    }\n",
              "\n",
              "    .dataframe tbody tr th {\n",
              "        vertical-align: top;\n",
              "    }\n",
              "\n",
              "    .dataframe thead th {\n",
              "        text-align: right;\n",
              "    }\n",
              "</style>\n",
              "<table border=\"1\" class=\"dataframe\">\n",
              "  <thead>\n",
              "    <tr style=\"text-align: right;\">\n",
              "      <th></th>\n",
              "      <th>b</th>\n",
              "      <th>a</th>\n",
              "    </tr>\n",
              "  </thead>\n",
              "  <tbody>\n",
              "    <tr>\n",
              "      <th>0</th>\n",
              "      <td>4</td>\n",
              "      <td>0</td>\n",
              "    </tr>\n",
              "    <tr>\n",
              "      <th>1</th>\n",
              "      <td>7</td>\n",
              "      <td>1</td>\n",
              "    </tr>\n",
              "    <tr>\n",
              "      <th>2</th>\n",
              "      <td>-3</td>\n",
              "      <td>0</td>\n",
              "    </tr>\n",
              "    <tr>\n",
              "      <th>3</th>\n",
              "      <td>2</td>\n",
              "      <td>1</td>\n",
              "    </tr>\n",
              "  </tbody>\n",
              "</table>\n",
              "</div>"
            ],
            "text/plain": [
              "   b  a\n",
              "0  4  0\n",
              "1  7  1\n",
              "2 -3  0\n",
              "3  2  1"
            ]
          },
          "metadata": {},
          "execution_count": 221
        }
      ]
    },
    {
      "cell_type": "code",
      "metadata": {
        "id": "-2-e1QS0uash",
        "colab": {
          "base_uri": "https://localhost:8080/",
          "height": 172
        },
        "outputId": "a9a0c437-0482-4228-d78b-a9e4e19fca11"
      },
      "source": [
        "df7.rank()"
      ],
      "execution_count": null,
      "outputs": [
        {
          "output_type": "execute_result",
          "data": {
            "text/html": [
              "<div>\n",
              "<style scoped>\n",
              "    .dataframe tbody tr th:only-of-type {\n",
              "        vertical-align: middle;\n",
              "    }\n",
              "\n",
              "    .dataframe tbody tr th {\n",
              "        vertical-align: top;\n",
              "    }\n",
              "\n",
              "    .dataframe thead th {\n",
              "        text-align: right;\n",
              "    }\n",
              "</style>\n",
              "<table border=\"1\" class=\"dataframe\">\n",
              "  <thead>\n",
              "    <tr style=\"text-align: right;\">\n",
              "      <th></th>\n",
              "      <th>b</th>\n",
              "      <th>a</th>\n",
              "    </tr>\n",
              "  </thead>\n",
              "  <tbody>\n",
              "    <tr>\n",
              "      <th>0</th>\n",
              "      <td>3.0</td>\n",
              "      <td>1.5</td>\n",
              "    </tr>\n",
              "    <tr>\n",
              "      <th>1</th>\n",
              "      <td>4.0</td>\n",
              "      <td>3.5</td>\n",
              "    </tr>\n",
              "    <tr>\n",
              "      <th>2</th>\n",
              "      <td>1.0</td>\n",
              "      <td>1.5</td>\n",
              "    </tr>\n",
              "    <tr>\n",
              "      <th>3</th>\n",
              "      <td>2.0</td>\n",
              "      <td>3.5</td>\n",
              "    </tr>\n",
              "  </tbody>\n",
              "</table>\n",
              "</div>"
            ],
            "text/plain": [
              "     b    a\n",
              "0  3.0  1.5\n",
              "1  4.0  3.5\n",
              "2  1.0  1.5\n",
              "3  2.0  3.5"
            ]
          },
          "metadata": {},
          "execution_count": 222
        }
      ]
    },
    {
      "cell_type": "markdown",
      "metadata": {
        "id": "ajTY8u36uw6D"
      },
      "source": [
        "* along the row by camparing column elements"
      ]
    },
    {
      "cell_type": "code",
      "metadata": {
        "id": "71rlhCDYulo1",
        "colab": {
          "base_uri": "https://localhost:8080/",
          "height": 172
        },
        "outputId": "bd26d046-b3aa-4bb0-f023-322779816ea6"
      },
      "source": [
        "df7.rank(axis = 'columns')"
      ],
      "execution_count": null,
      "outputs": [
        {
          "output_type": "execute_result",
          "data": {
            "text/html": [
              "<div>\n",
              "<style scoped>\n",
              "    .dataframe tbody tr th:only-of-type {\n",
              "        vertical-align: middle;\n",
              "    }\n",
              "\n",
              "    .dataframe tbody tr th {\n",
              "        vertical-align: top;\n",
              "    }\n",
              "\n",
              "    .dataframe thead th {\n",
              "        text-align: right;\n",
              "    }\n",
              "</style>\n",
              "<table border=\"1\" class=\"dataframe\">\n",
              "  <thead>\n",
              "    <tr style=\"text-align: right;\">\n",
              "      <th></th>\n",
              "      <th>b</th>\n",
              "      <th>a</th>\n",
              "    </tr>\n",
              "  </thead>\n",
              "  <tbody>\n",
              "    <tr>\n",
              "      <th>0</th>\n",
              "      <td>2.0</td>\n",
              "      <td>1.0</td>\n",
              "    </tr>\n",
              "    <tr>\n",
              "      <th>1</th>\n",
              "      <td>2.0</td>\n",
              "      <td>1.0</td>\n",
              "    </tr>\n",
              "    <tr>\n",
              "      <th>2</th>\n",
              "      <td>1.0</td>\n",
              "      <td>2.0</td>\n",
              "    </tr>\n",
              "    <tr>\n",
              "      <th>3</th>\n",
              "      <td>2.0</td>\n",
              "      <td>1.0</td>\n",
              "    </tr>\n",
              "  </tbody>\n",
              "</table>\n",
              "</div>"
            ],
            "text/plain": [
              "     b    a\n",
              "0  2.0  1.0\n",
              "1  2.0  1.0\n",
              "2  1.0  2.0\n",
              "3  2.0  1.0"
            ]
          },
          "metadata": {},
          "execution_count": 223
        }
      ]
    },
    {
      "cell_type": "markdown",
      "metadata": {
        "id": "xyM9Dz1pu608"
      },
      "source": [
        "* Example: axes with duplicate labels\n",
        "* many pandas functions require unique axis labels, but not all"
      ]
    },
    {
      "cell_type": "code",
      "metadata": {
        "id": "5ZBXv88ju3xM",
        "colab": {
          "base_uri": "https://localhost:8080/"
        },
        "outputId": "3b786fdc-d996-451e-c05b-c25709e310fb"
      },
      "source": [
        "series7"
      ],
      "execution_count": null,
      "outputs": [
        {
          "output_type": "execute_result",
          "data": {
            "text/plain": [
              "beta     1.1\n",
              "alpha    1.3\n",
              "beta     1.3\n",
              "sigma    1.3\n",
              "dtype: float64"
            ]
          },
          "metadata": {},
          "execution_count": 224
        }
      ]
    },
    {
      "cell_type": "markdown",
      "metadata": {
        "id": "RDdWkcV2vXjE"
      },
      "source": [
        "* checking uniqueness of labels\n",
        "* using 'is_unique' property of indixes"
      ]
    },
    {
      "cell_type": "code",
      "metadata": {
        "id": "BlnfI_0pvMoO",
        "colab": {
          "base_uri": "https://localhost:8080/"
        },
        "outputId": "a0c2be13-48a3-42fc-e9bd-c701c1ded447"
      },
      "source": [
        "series7.index.is_unique"
      ],
      "execution_count": null,
      "outputs": [
        {
          "output_type": "execute_result",
          "data": {
            "text/plain": [
              "False"
            ]
          },
          "metadata": {},
          "execution_count": 225
        }
      ]
    },
    {
      "cell_type": "markdown",
      "metadata": {
        "id": "nwJpXbjhvq3h"
      },
      "source": [
        "* changes in accessing elements using non-unique indexes"
      ]
    },
    {
      "cell_type": "code",
      "metadata": {
        "id": "1aq1hBbGvmU0",
        "colab": {
          "base_uri": "https://localhost:8080/"
        },
        "outputId": "d77ca338-b3f1-4509-855d-46cc4ddfe4c9"
      },
      "source": [
        "series7['alpha'] # a scalar value is returned"
      ],
      "execution_count": null,
      "outputs": [
        {
          "output_type": "execute_result",
          "data": {
            "text/plain": [
              "1.3"
            ]
          },
          "metadata": {},
          "execution_count": 226
        }
      ]
    },
    {
      "cell_type": "code",
      "metadata": {
        "id": "Mug5yUDWv51m",
        "colab": {
          "base_uri": "https://localhost:8080/"
        },
        "outputId": "b6bd76d3-5106-4bb4-c5c2-a21d76edece0"
      },
      "source": [
        "series7['beta'] # a series is returned"
      ],
      "execution_count": null,
      "outputs": [
        {
          "output_type": "execute_result",
          "data": {
            "text/plain": [
              "beta    1.1\n",
              "beta    1.3\n",
              "dtype: float64"
            ]
          },
          "metadata": {},
          "execution_count": 227
        }
      ]
    },
    {
      "cell_type": "code",
      "metadata": {
        "id": "nabowcZmwTp7"
      },
      "source": [
        "import numpy as np\n"
      ],
      "execution_count": null,
      "outputs": []
    },
    {
      "cell_type": "code",
      "metadata": {
        "id": "jffLAFQJv9-T"
      },
      "source": [
        "df8 = pd.DataFrame(np.random.randn(5,3), index = ['a', 'a', 'b', 'b','c'])"
      ],
      "execution_count": null,
      "outputs": []
    },
    {
      "cell_type": "code",
      "metadata": {
        "id": "4e-MRa-TwL4z",
        "colab": {
          "base_uri": "https://localhost:8080/",
          "height": 203
        },
        "outputId": "9d93255c-3e6f-469f-e86e-9ce573c0bfae"
      },
      "source": [
        "df8"
      ],
      "execution_count": null,
      "outputs": [
        {
          "output_type": "execute_result",
          "data": {
            "text/html": [
              "<div>\n",
              "<style scoped>\n",
              "    .dataframe tbody tr th:only-of-type {\n",
              "        vertical-align: middle;\n",
              "    }\n",
              "\n",
              "    .dataframe tbody tr th {\n",
              "        vertical-align: top;\n",
              "    }\n",
              "\n",
              "    .dataframe thead th {\n",
              "        text-align: right;\n",
              "    }\n",
              "</style>\n",
              "<table border=\"1\" class=\"dataframe\">\n",
              "  <thead>\n",
              "    <tr style=\"text-align: right;\">\n",
              "      <th></th>\n",
              "      <th>0</th>\n",
              "      <th>1</th>\n",
              "      <th>2</th>\n",
              "    </tr>\n",
              "  </thead>\n",
              "  <tbody>\n",
              "    <tr>\n",
              "      <th>a</th>\n",
              "      <td>1.622386</td>\n",
              "      <td>-1.556661</td>\n",
              "      <td>-1.002333</td>\n",
              "    </tr>\n",
              "    <tr>\n",
              "      <th>a</th>\n",
              "      <td>0.962694</td>\n",
              "      <td>-0.997598</td>\n",
              "      <td>0.285303</td>\n",
              "    </tr>\n",
              "    <tr>\n",
              "      <th>b</th>\n",
              "      <td>0.135394</td>\n",
              "      <td>1.091393</td>\n",
              "      <td>-0.845039</td>\n",
              "    </tr>\n",
              "    <tr>\n",
              "      <th>b</th>\n",
              "      <td>0.361762</td>\n",
              "      <td>0.709599</td>\n",
              "      <td>1.626005</td>\n",
              "    </tr>\n",
              "    <tr>\n",
              "      <th>c</th>\n",
              "      <td>1.082687</td>\n",
              "      <td>1.082867</td>\n",
              "      <td>-1.439095</td>\n",
              "    </tr>\n",
              "  </tbody>\n",
              "</table>\n",
              "</div>"
            ],
            "text/plain": [
              "          0         1         2\n",
              "a  1.622386 -1.556661 -1.002333\n",
              "a  0.962694 -0.997598  0.285303\n",
              "b  0.135394  1.091393 -0.845039\n",
              "b  0.361762  0.709599  1.626005\n",
              "c  1.082687  1.082867 -1.439095"
            ]
          },
          "metadata": {},
          "execution_count": 230
        }
      ]
    },
    {
      "cell_type": "code",
      "metadata": {
        "id": "612me3jHwa7v",
        "colab": {
          "base_uri": "https://localhost:8080/",
          "height": 110
        },
        "outputId": "57c4c5c7-3d23-4a80-f1b6-94e662f41c5f"
      },
      "source": [
        "df8.loc['b'] # a dataframe is returned"
      ],
      "execution_count": null,
      "outputs": [
        {
          "output_type": "execute_result",
          "data": {
            "text/html": [
              "<div>\n",
              "<style scoped>\n",
              "    .dataframe tbody tr th:only-of-type {\n",
              "        vertical-align: middle;\n",
              "    }\n",
              "\n",
              "    .dataframe tbody tr th {\n",
              "        vertical-align: top;\n",
              "    }\n",
              "\n",
              "    .dataframe thead th {\n",
              "        text-align: right;\n",
              "    }\n",
              "</style>\n",
              "<table border=\"1\" class=\"dataframe\">\n",
              "  <thead>\n",
              "    <tr style=\"text-align: right;\">\n",
              "      <th></th>\n",
              "      <th>0</th>\n",
              "      <th>1</th>\n",
              "      <th>2</th>\n",
              "    </tr>\n",
              "  </thead>\n",
              "  <tbody>\n",
              "    <tr>\n",
              "      <th>b</th>\n",
              "      <td>0.135394</td>\n",
              "      <td>1.091393</td>\n",
              "      <td>-0.845039</td>\n",
              "    </tr>\n",
              "    <tr>\n",
              "      <th>b</th>\n",
              "      <td>0.361762</td>\n",
              "      <td>0.709599</td>\n",
              "      <td>1.626005</td>\n",
              "    </tr>\n",
              "  </tbody>\n",
              "</table>\n",
              "</div>"
            ],
            "text/plain": [
              "          0         1         2\n",
              "b  0.135394  1.091393 -0.845039\n",
              "b  0.361762  0.709599  1.626005"
            ]
          },
          "metadata": {},
          "execution_count": 231
        }
      ]
    },
    {
      "cell_type": "code",
      "metadata": {
        "id": "paLZ5RTCwgmg",
        "colab": {
          "base_uri": "https://localhost:8080/"
        },
        "outputId": "fc6b048b-7aa7-4ff4-d1f9-c8777063123f"
      },
      "source": [
        "df8.loc['c'] # a series returned"
      ],
      "execution_count": null,
      "outputs": [
        {
          "output_type": "execute_result",
          "data": {
            "text/plain": [
              "0    1.082687\n",
              "1    1.082867\n",
              "2   -1.439095\n",
              "Name: c, dtype: float64"
            ]
          },
          "metadata": {},
          "execution_count": 232
        }
      ]
    },
    {
      "cell_type": "markdown",
      "metadata": {
        "id": "oEfNVl7RwnoT"
      },
      "source": [
        "* Descriptive statistics"
      ]
    },
    {
      "cell_type": "code",
      "metadata": {
        "id": "QvWHNrfYwjxL"
      },
      "source": [
        "df9 = pd.DataFrame([[1.4, np.nan], [7.1, -4.5], [np.nan, np.nan], [0.75, -1.3]], index=['a', 'b','c','d'] , columns=['one', 'two'])"
      ],
      "execution_count": null,
      "outputs": []
    },
    {
      "cell_type": "code",
      "metadata": {
        "id": "q0YVJ7bexD80",
        "colab": {
          "base_uri": "https://localhost:8080/",
          "height": 172
        },
        "outputId": "7e4b19f8-5af1-468c-8369-9668467207e3"
      },
      "source": [
        "df9"
      ],
      "execution_count": null,
      "outputs": [
        {
          "output_type": "execute_result",
          "data": {
            "text/html": [
              "<div>\n",
              "<style scoped>\n",
              "    .dataframe tbody tr th:only-of-type {\n",
              "        vertical-align: middle;\n",
              "    }\n",
              "\n",
              "    .dataframe tbody tr th {\n",
              "        vertical-align: top;\n",
              "    }\n",
              "\n",
              "    .dataframe thead th {\n",
              "        text-align: right;\n",
              "    }\n",
              "</style>\n",
              "<table border=\"1\" class=\"dataframe\">\n",
              "  <thead>\n",
              "    <tr style=\"text-align: right;\">\n",
              "      <th></th>\n",
              "      <th>one</th>\n",
              "      <th>two</th>\n",
              "    </tr>\n",
              "  </thead>\n",
              "  <tbody>\n",
              "    <tr>\n",
              "      <th>a</th>\n",
              "      <td>1.40</td>\n",
              "      <td>NaN</td>\n",
              "    </tr>\n",
              "    <tr>\n",
              "      <th>b</th>\n",
              "      <td>7.10</td>\n",
              "      <td>-4.5</td>\n",
              "    </tr>\n",
              "    <tr>\n",
              "      <th>c</th>\n",
              "      <td>NaN</td>\n",
              "      <td>NaN</td>\n",
              "    </tr>\n",
              "    <tr>\n",
              "      <th>d</th>\n",
              "      <td>0.75</td>\n",
              "      <td>-1.3</td>\n",
              "    </tr>\n",
              "  </tbody>\n",
              "</table>\n",
              "</div>"
            ],
            "text/plain": [
              "    one  two\n",
              "a  1.40  NaN\n",
              "b  7.10 -4.5\n",
              "c   NaN  NaN\n",
              "d  0.75 -1.3"
            ]
          },
          "metadata": {},
          "execution_count": 234
        }
      ]
    },
    {
      "cell_type": "markdown",
      "metadata": {
        "id": "Vtb0j1lXxpSy"
      },
      "source": [
        "* column sum"
      ]
    },
    {
      "cell_type": "code",
      "metadata": {
        "id": "XZbLM8tbxEgB",
        "colab": {
          "base_uri": "https://localhost:8080/"
        },
        "outputId": "4ce7db61-4036-45c9-aae1-a9f57e238622"
      },
      "source": [
        "df9.sum() # NaN values are excluded"
      ],
      "execution_count": null,
      "outputs": [
        {
          "output_type": "execute_result",
          "data": {
            "text/plain": [
              "one    9.25\n",
              "two   -5.80\n",
              "dtype: float64"
            ]
          },
          "metadata": {},
          "execution_count": 235
        }
      ]
    },
    {
      "cell_type": "markdown",
      "metadata": {
        "id": "f-E9A5JaxyAP"
      },
      "source": [
        "* row sums"
      ]
    },
    {
      "cell_type": "code",
      "metadata": {
        "id": "RAlS1nBYxshg",
        "colab": {
          "base_uri": "https://localhost:8080/"
        },
        "outputId": "51b802e9-838c-4183-d504-43105a7894af"
      },
      "source": [
        "df9.sum(axis = 1)"
      ],
      "execution_count": null,
      "outputs": [
        {
          "output_type": "execute_result",
          "data": {
            "text/plain": [
              "a    1.40\n",
              "b    2.60\n",
              "c    0.00\n",
              "d   -0.55\n",
              "dtype: float64"
            ]
          },
          "metadata": {},
          "execution_count": 236
        }
      ]
    },
    {
      "cell_type": "markdown",
      "metadata": {
        "id": "zLoQMIBgx4kr"
      },
      "source": [
        "* skipna argument (default is True)"
      ]
    },
    {
      "cell_type": "code",
      "metadata": {
        "id": "1xuvGtXUx1R2",
        "colab": {
          "base_uri": "https://localhost:8080/"
        },
        "outputId": "ff15ccef-7989-4c00-afc9-aca359105382"
      },
      "source": [
        "df9.sum(axis = 'columns', skipna=False)"
      ],
      "execution_count": null,
      "outputs": [
        {
          "output_type": "execute_result",
          "data": {
            "text/plain": [
              "a     NaN\n",
              "b    2.60\n",
              "c     NaN\n",
              "d   -0.55\n",
              "dtype: float64"
            ]
          },
          "metadata": {},
          "execution_count": 237
        }
      ]
    },
    {
      "cell_type": "markdown",
      "metadata": {
        "id": "dMeGed4SyG3v"
      },
      "source": [
        "* column means"
      ]
    },
    {
      "cell_type": "code",
      "metadata": {
        "id": "iGWB7-gRyBj5",
        "colab": {
          "base_uri": "https://localhost:8080/"
        },
        "outputId": "c7d06ccf-83fd-4cb4-89ad-90ad8cbaaa52"
      },
      "source": [
        "df9.mean()"
      ],
      "execution_count": null,
      "outputs": [
        {
          "output_type": "execute_result",
          "data": {
            "text/plain": [
              "one    3.083333\n",
              "two   -2.900000\n",
              "dtype: float64"
            ]
          },
          "metadata": {},
          "execution_count": 238
        }
      ]
    },
    {
      "cell_type": "markdown",
      "metadata": {
        "id": "nrdlPY8pyLVy"
      },
      "source": [
        "* column and row indexes of the maximumn value"
      ]
    },
    {
      "cell_type": "code",
      "metadata": {
        "id": "-48KcpEEyU9g",
        "colab": {
          "base_uri": "https://localhost:8080/",
          "height": 172
        },
        "outputId": "55cf8214-8bab-4ade-820d-3a7b28030cbe"
      },
      "source": [
        "df9"
      ],
      "execution_count": null,
      "outputs": [
        {
          "output_type": "execute_result",
          "data": {
            "text/html": [
              "<div>\n",
              "<style scoped>\n",
              "    .dataframe tbody tr th:only-of-type {\n",
              "        vertical-align: middle;\n",
              "    }\n",
              "\n",
              "    .dataframe tbody tr th {\n",
              "        vertical-align: top;\n",
              "    }\n",
              "\n",
              "    .dataframe thead th {\n",
              "        text-align: right;\n",
              "    }\n",
              "</style>\n",
              "<table border=\"1\" class=\"dataframe\">\n",
              "  <thead>\n",
              "    <tr style=\"text-align: right;\">\n",
              "      <th></th>\n",
              "      <th>one</th>\n",
              "      <th>two</th>\n",
              "    </tr>\n",
              "  </thead>\n",
              "  <tbody>\n",
              "    <tr>\n",
              "      <th>a</th>\n",
              "      <td>1.40</td>\n",
              "      <td>NaN</td>\n",
              "    </tr>\n",
              "    <tr>\n",
              "      <th>b</th>\n",
              "      <td>7.10</td>\n",
              "      <td>-4.5</td>\n",
              "    </tr>\n",
              "    <tr>\n",
              "      <th>c</th>\n",
              "      <td>NaN</td>\n",
              "      <td>NaN</td>\n",
              "    </tr>\n",
              "    <tr>\n",
              "      <th>d</th>\n",
              "      <td>0.75</td>\n",
              "      <td>-1.3</td>\n",
              "    </tr>\n",
              "  </tbody>\n",
              "</table>\n",
              "</div>"
            ],
            "text/plain": [
              "    one  two\n",
              "a  1.40  NaN\n",
              "b  7.10 -4.5\n",
              "c   NaN  NaN\n",
              "d  0.75 -1.3"
            ]
          },
          "metadata": {},
          "execution_count": 239
        }
      ]
    },
    {
      "cell_type": "code",
      "metadata": {
        "id": "Tv4xrm97yJq5",
        "colab": {
          "base_uri": "https://localhost:8080/"
        },
        "outputId": "73037922-01cf-4e03-f35f-bd68a115100c"
      },
      "source": [
        "df9.idxmax()"
      ],
      "execution_count": null,
      "outputs": [
        {
          "output_type": "execute_result",
          "data": {
            "text/plain": [
              "one    b\n",
              "two    d\n",
              "dtype: object"
            ]
          },
          "metadata": {},
          "execution_count": 240
        }
      ]
    },
    {
      "cell_type": "code",
      "metadata": {
        "id": "8AId1Nx_yTre",
        "colab": {
          "base_uri": "https://localhost:8080/",
          "height": 172
        },
        "outputId": "2ec9b0de-711a-4139-b59d-12c7360c0600"
      },
      "source": [
        "df9"
      ],
      "execution_count": null,
      "outputs": [
        {
          "output_type": "execute_result",
          "data": {
            "text/html": [
              "<div>\n",
              "<style scoped>\n",
              "    .dataframe tbody tr th:only-of-type {\n",
              "        vertical-align: middle;\n",
              "    }\n",
              "\n",
              "    .dataframe tbody tr th {\n",
              "        vertical-align: top;\n",
              "    }\n",
              "\n",
              "    .dataframe thead th {\n",
              "        text-align: right;\n",
              "    }\n",
              "</style>\n",
              "<table border=\"1\" class=\"dataframe\">\n",
              "  <thead>\n",
              "    <tr style=\"text-align: right;\">\n",
              "      <th></th>\n",
              "      <th>one</th>\n",
              "      <th>two</th>\n",
              "    </tr>\n",
              "  </thead>\n",
              "  <tbody>\n",
              "    <tr>\n",
              "      <th>a</th>\n",
              "      <td>1.40</td>\n",
              "      <td>NaN</td>\n",
              "    </tr>\n",
              "    <tr>\n",
              "      <th>b</th>\n",
              "      <td>7.10</td>\n",
              "      <td>-4.5</td>\n",
              "    </tr>\n",
              "    <tr>\n",
              "      <th>c</th>\n",
              "      <td>NaN</td>\n",
              "      <td>NaN</td>\n",
              "    </tr>\n",
              "    <tr>\n",
              "      <th>d</th>\n",
              "      <td>0.75</td>\n",
              "      <td>-1.3</td>\n",
              "    </tr>\n",
              "  </tbody>\n",
              "</table>\n",
              "</div>"
            ],
            "text/plain": [
              "    one  two\n",
              "a  1.40  NaN\n",
              "b  7.10 -4.5\n",
              "c   NaN  NaN\n",
              "d  0.75 -1.3"
            ]
          },
          "metadata": {},
          "execution_count": 241
        }
      ]
    },
    {
      "cell_type": "code",
      "metadata": {
        "id": "aXnRDifKyZjc",
        "colab": {
          "base_uri": "https://localhost:8080/"
        },
        "outputId": "6c38dcaf-dacd-47a8-8045-d458d123cab5"
      },
      "source": [
        "df9.idxmin()"
      ],
      "execution_count": null,
      "outputs": [
        {
          "output_type": "execute_result",
          "data": {
            "text/plain": [
              "one    d\n",
              "two    b\n",
              "dtype: object"
            ]
          },
          "metadata": {},
          "execution_count": 242
        }
      ]
    },
    {
      "cell_type": "markdown",
      "metadata": {
        "id": "5rKKola9yfoa"
      },
      "source": [
        "* column cumulative sums"
      ]
    },
    {
      "cell_type": "code",
      "metadata": {
        "id": "ebcKEhFRypH-",
        "colab": {
          "base_uri": "https://localhost:8080/",
          "height": 172
        },
        "outputId": "637d502e-0cf1-4a0c-a412-e675324d3cab"
      },
      "source": [
        "df9"
      ],
      "execution_count": null,
      "outputs": [
        {
          "output_type": "execute_result",
          "data": {
            "text/html": [
              "<div>\n",
              "<style scoped>\n",
              "    .dataframe tbody tr th:only-of-type {\n",
              "        vertical-align: middle;\n",
              "    }\n",
              "\n",
              "    .dataframe tbody tr th {\n",
              "        vertical-align: top;\n",
              "    }\n",
              "\n",
              "    .dataframe thead th {\n",
              "        text-align: right;\n",
              "    }\n",
              "</style>\n",
              "<table border=\"1\" class=\"dataframe\">\n",
              "  <thead>\n",
              "    <tr style=\"text-align: right;\">\n",
              "      <th></th>\n",
              "      <th>one</th>\n",
              "      <th>two</th>\n",
              "    </tr>\n",
              "  </thead>\n",
              "  <tbody>\n",
              "    <tr>\n",
              "      <th>a</th>\n",
              "      <td>1.40</td>\n",
              "      <td>NaN</td>\n",
              "    </tr>\n",
              "    <tr>\n",
              "      <th>b</th>\n",
              "      <td>7.10</td>\n",
              "      <td>-4.5</td>\n",
              "    </tr>\n",
              "    <tr>\n",
              "      <th>c</th>\n",
              "      <td>NaN</td>\n",
              "      <td>NaN</td>\n",
              "    </tr>\n",
              "    <tr>\n",
              "      <th>d</th>\n",
              "      <td>0.75</td>\n",
              "      <td>-1.3</td>\n",
              "    </tr>\n",
              "  </tbody>\n",
              "</table>\n",
              "</div>"
            ],
            "text/plain": [
              "    one  two\n",
              "a  1.40  NaN\n",
              "b  7.10 -4.5\n",
              "c   NaN  NaN\n",
              "d  0.75 -1.3"
            ]
          },
          "metadata": {},
          "execution_count": 243
        }
      ]
    },
    {
      "cell_type": "code",
      "metadata": {
        "id": "NyyjPQtZye4q",
        "colab": {
          "base_uri": "https://localhost:8080/",
          "height": 172
        },
        "outputId": "e3130229-dabd-4f08-89e3-a2b25253bfde"
      },
      "source": [
        "df9.cumsum()"
      ],
      "execution_count": null,
      "outputs": [
        {
          "output_type": "execute_result",
          "data": {
            "text/html": [
              "<div>\n",
              "<style scoped>\n",
              "    .dataframe tbody tr th:only-of-type {\n",
              "        vertical-align: middle;\n",
              "    }\n",
              "\n",
              "    .dataframe tbody tr th {\n",
              "        vertical-align: top;\n",
              "    }\n",
              "\n",
              "    .dataframe thead th {\n",
              "        text-align: right;\n",
              "    }\n",
              "</style>\n",
              "<table border=\"1\" class=\"dataframe\">\n",
              "  <thead>\n",
              "    <tr style=\"text-align: right;\">\n",
              "      <th></th>\n",
              "      <th>one</th>\n",
              "      <th>two</th>\n",
              "    </tr>\n",
              "  </thead>\n",
              "  <tbody>\n",
              "    <tr>\n",
              "      <th>a</th>\n",
              "      <td>1.40</td>\n",
              "      <td>NaN</td>\n",
              "    </tr>\n",
              "    <tr>\n",
              "      <th>b</th>\n",
              "      <td>8.50</td>\n",
              "      <td>-4.5</td>\n",
              "    </tr>\n",
              "    <tr>\n",
              "      <th>c</th>\n",
              "      <td>NaN</td>\n",
              "      <td>NaN</td>\n",
              "    </tr>\n",
              "    <tr>\n",
              "      <th>d</th>\n",
              "      <td>9.25</td>\n",
              "      <td>-5.8</td>\n",
              "    </tr>\n",
              "  </tbody>\n",
              "</table>\n",
              "</div>"
            ],
            "text/plain": [
              "    one  two\n",
              "a  1.40  NaN\n",
              "b  8.50 -4.5\n",
              "c   NaN  NaN\n",
              "d  9.25 -5.8"
            ]
          },
          "metadata": {},
          "execution_count": 244
        }
      ]
    },
    {
      "cell_type": "markdown",
      "metadata": {
        "id": "roTXVMpOysje"
      },
      "source": [
        "* multiple statistics using describe method"
      ]
    },
    {
      "cell_type": "code",
      "metadata": {
        "id": "9Ahrpbjhyj9R",
        "colab": {
          "base_uri": "https://localhost:8080/",
          "height": 295
        },
        "outputId": "0a4544b5-802f-4c5d-d2c1-afbae11e7243"
      },
      "source": [
        "df9.describe()"
      ],
      "execution_count": null,
      "outputs": [
        {
          "output_type": "execute_result",
          "data": {
            "text/html": [
              "<div>\n",
              "<style scoped>\n",
              "    .dataframe tbody tr th:only-of-type {\n",
              "        vertical-align: middle;\n",
              "    }\n",
              "\n",
              "    .dataframe tbody tr th {\n",
              "        vertical-align: top;\n",
              "    }\n",
              "\n",
              "    .dataframe thead th {\n",
              "        text-align: right;\n",
              "    }\n",
              "</style>\n",
              "<table border=\"1\" class=\"dataframe\">\n",
              "  <thead>\n",
              "    <tr style=\"text-align: right;\">\n",
              "      <th></th>\n",
              "      <th>one</th>\n",
              "      <th>two</th>\n",
              "    </tr>\n",
              "  </thead>\n",
              "  <tbody>\n",
              "    <tr>\n",
              "      <th>count</th>\n",
              "      <td>3.000000</td>\n",
              "      <td>2.000000</td>\n",
              "    </tr>\n",
              "    <tr>\n",
              "      <th>mean</th>\n",
              "      <td>3.083333</td>\n",
              "      <td>-2.900000</td>\n",
              "    </tr>\n",
              "    <tr>\n",
              "      <th>std</th>\n",
              "      <td>3.493685</td>\n",
              "      <td>2.262742</td>\n",
              "    </tr>\n",
              "    <tr>\n",
              "      <th>min</th>\n",
              "      <td>0.750000</td>\n",
              "      <td>-4.500000</td>\n",
              "    </tr>\n",
              "    <tr>\n",
              "      <th>25%</th>\n",
              "      <td>1.075000</td>\n",
              "      <td>-3.700000</td>\n",
              "    </tr>\n",
              "    <tr>\n",
              "      <th>50%</th>\n",
              "      <td>1.400000</td>\n",
              "      <td>-2.900000</td>\n",
              "    </tr>\n",
              "    <tr>\n",
              "      <th>75%</th>\n",
              "      <td>4.250000</td>\n",
              "      <td>-2.100000</td>\n",
              "    </tr>\n",
              "    <tr>\n",
              "      <th>max</th>\n",
              "      <td>7.100000</td>\n",
              "      <td>-1.300000</td>\n",
              "    </tr>\n",
              "  </tbody>\n",
              "</table>\n",
              "</div>"
            ],
            "text/plain": [
              "            one       two\n",
              "count  3.000000  2.000000\n",
              "mean   3.083333 -2.900000\n",
              "std    3.493685  2.262742\n",
              "min    0.750000 -4.500000\n",
              "25%    1.075000 -3.700000\n",
              "50%    1.400000 -2.900000\n",
              "75%    4.250000 -2.100000\n",
              "max    7.100000 -1.300000"
            ]
          },
          "metadata": {},
          "execution_count": 245
        }
      ]
    },
    {
      "cell_type": "markdown",
      "metadata": {
        "id": "RwNSu5xBy0Xy"
      },
      "source": [
        "* describe method for non-numeric data"
      ]
    },
    {
      "cell_type": "code",
      "metadata": {
        "id": "98oK-Pm8yzDa",
        "colab": {
          "base_uri": "https://localhost:8080/"
        },
        "outputId": "517fdb33-b4cc-49e0-f478-c952e239bf9f"
      },
      "source": [
        "pd.Series(['a','b','b','c']*4).describe()"
      ],
      "execution_count": null,
      "outputs": [
        {
          "output_type": "execute_result",
          "data": {
            "text/plain": [
              "count     16\n",
              "unique     3\n",
              "top        b\n",
              "freq       8\n",
              "dtype: object"
            ]
          },
          "metadata": {},
          "execution_count": 246
        }
      ]
    },
    {
      "cell_type": "code",
      "metadata": {
        "id": "xGaJXMi3zAVb",
        "colab": {
          "base_uri": "https://localhost:8080/"
        },
        "outputId": "34b268fa-82cf-4e80-f8bd-33d7bf2c9f67"
      },
      "source": [
        "pd.Series(['a', 'a','b','c']*4)"
      ],
      "execution_count": null,
      "outputs": [
        {
          "output_type": "execute_result",
          "data": {
            "text/plain": [
              "0     a\n",
              "1     a\n",
              "2     b\n",
              "3     c\n",
              "4     a\n",
              "5     a\n",
              "6     b\n",
              "7     c\n",
              "8     a\n",
              "9     a\n",
              "10    b\n",
              "11    c\n",
              "12    a\n",
              "13    a\n",
              "14    b\n",
              "15    c\n",
              "dtype: object"
            ]
          },
          "metadata": {},
          "execution_count": 247
        }
      ]
    },
    {
      "cell_type": "markdown",
      "metadata": {
        "id": "s_PWcV0szOOr"
      },
      "source": [
        "* correlation and covariance\n",
        "* computed from a pair of variables\n",
        "* Example : obtain stock prices and volumes data from yahoo! Finance\n",
        "* Using pandas_datareader module\n",
        "* install pandas - datareader using anaconda navigator\n",
        "* or using anaconda prompt : conda install pandas - datareader\n",
        "* then "
      ]
    },
    {
      "cell_type": "code",
      "metadata": {
        "id": "aWPuMbolzMY5"
      },
      "source": [
        "import pandas_datareader as web"
      ],
      "execution_count": null,
      "outputs": []
    },
    {
      "cell_type": "markdown",
      "metadata": {
        "id": "dvnDnQg4z7Vr"
      },
      "source": [
        "* download the ticker level data\n",
        "* using get_data_yahoo function"
      ]
    },
    {
      "cell_type": "code",
      "metadata": {
        "id": "bpmy7Q99z6BH",
        "colab": {
          "base_uri": "https://localhost:8080/",
          "height": 471
        },
        "outputId": "c52b5a6b-ccc7-47fe-da16-5af9cdba6b9b"
      },
      "source": [
        "dataset = {ticker: web.get_data_yahoo(ticker) for ticker in ['AAPL', 'IBM', 'MSFT', 'GOOG']}"
      ],
      "execution_count": null,
      "outputs": [
        {
          "output_type": "error",
          "ename": "RemoteDataError",
          "evalue": "ignored",
          "traceback": [
            "\u001b[0;31m---------------------------------------------------------------------------\u001b[0m",
            "\u001b[0;31mRemoteDataError\u001b[0m                           Traceback (most recent call last)",
            "\u001b[0;32m<ipython-input-249-a04ab7286535>\u001b[0m in \u001b[0;36m<module>\u001b[0;34m()\u001b[0m\n\u001b[0;32m----> 1\u001b[0;31m \u001b[0mdataset\u001b[0m \u001b[0;34m=\u001b[0m \u001b[0;34m{\u001b[0m\u001b[0mticker\u001b[0m\u001b[0;34m:\u001b[0m \u001b[0mweb\u001b[0m\u001b[0;34m.\u001b[0m\u001b[0mget_data_yahoo\u001b[0m\u001b[0;34m(\u001b[0m\u001b[0mticker\u001b[0m\u001b[0;34m)\u001b[0m \u001b[0;32mfor\u001b[0m \u001b[0mticker\u001b[0m \u001b[0;32min\u001b[0m \u001b[0;34m[\u001b[0m\u001b[0;34m'AAPL'\u001b[0m\u001b[0;34m,\u001b[0m \u001b[0;34m'IBM'\u001b[0m\u001b[0;34m,\u001b[0m \u001b[0;34m'MSFT'\u001b[0m\u001b[0;34m,\u001b[0m \u001b[0;34m'GOOG'\u001b[0m\u001b[0;34m]\u001b[0m\u001b[0;34m}\u001b[0m\u001b[0;34m\u001b[0m\u001b[0;34m\u001b[0m\u001b[0m\n\u001b[0m",
            "\u001b[0;32m<ipython-input-249-a04ab7286535>\u001b[0m in \u001b[0;36m<dictcomp>\u001b[0;34m(.0)\u001b[0m\n\u001b[0;32m----> 1\u001b[0;31m \u001b[0mdataset\u001b[0m \u001b[0;34m=\u001b[0m \u001b[0;34m{\u001b[0m\u001b[0mticker\u001b[0m\u001b[0;34m:\u001b[0m \u001b[0mweb\u001b[0m\u001b[0;34m.\u001b[0m\u001b[0mget_data_yahoo\u001b[0m\u001b[0;34m(\u001b[0m\u001b[0mticker\u001b[0m\u001b[0;34m)\u001b[0m \u001b[0;32mfor\u001b[0m \u001b[0mticker\u001b[0m \u001b[0;32min\u001b[0m \u001b[0;34m[\u001b[0m\u001b[0;34m'AAPL'\u001b[0m\u001b[0;34m,\u001b[0m \u001b[0;34m'IBM'\u001b[0m\u001b[0;34m,\u001b[0m \u001b[0;34m'MSFT'\u001b[0m\u001b[0;34m,\u001b[0m \u001b[0;34m'GOOG'\u001b[0m\u001b[0;34m]\u001b[0m\u001b[0;34m}\u001b[0m\u001b[0;34m\u001b[0m\u001b[0;34m\u001b[0m\u001b[0m\n\u001b[0m",
            "\u001b[0;32m/usr/local/lib/python3.7/dist-packages/pandas_datareader/data.py\u001b[0m in \u001b[0;36mget_data_yahoo\u001b[0;34m(*args, **kwargs)\u001b[0m\n\u001b[1;32m     84\u001b[0m \u001b[0;34m\u001b[0m\u001b[0m\n\u001b[1;32m     85\u001b[0m \u001b[0;32mdef\u001b[0m \u001b[0mget_data_yahoo\u001b[0m\u001b[0;34m(\u001b[0m\u001b[0;34m*\u001b[0m\u001b[0margs\u001b[0m\u001b[0;34m,\u001b[0m \u001b[0;34m**\u001b[0m\u001b[0mkwargs\u001b[0m\u001b[0;34m)\u001b[0m\u001b[0;34m:\u001b[0m\u001b[0;34m\u001b[0m\u001b[0;34m\u001b[0m\u001b[0m\n\u001b[0;32m---> 86\u001b[0;31m     \u001b[0;32mreturn\u001b[0m \u001b[0mYahooDailyReader\u001b[0m\u001b[0;34m(\u001b[0m\u001b[0;34m*\u001b[0m\u001b[0margs\u001b[0m\u001b[0;34m,\u001b[0m \u001b[0;34m**\u001b[0m\u001b[0mkwargs\u001b[0m\u001b[0;34m)\u001b[0m\u001b[0;34m.\u001b[0m\u001b[0mread\u001b[0m\u001b[0;34m(\u001b[0m\u001b[0;34m)\u001b[0m\u001b[0;34m\u001b[0m\u001b[0;34m\u001b[0m\u001b[0m\n\u001b[0m\u001b[1;32m     87\u001b[0m \u001b[0;34m\u001b[0m\u001b[0m\n\u001b[1;32m     88\u001b[0m \u001b[0;34m\u001b[0m\u001b[0m\n",
            "\u001b[0;32m/usr/local/lib/python3.7/dist-packages/pandas_datareader/base.py\u001b[0m in \u001b[0;36mread\u001b[0;34m(self)\u001b[0m\n\u001b[1;32m    251\u001b[0m         \u001b[0;31m# If a single symbol, (e.g., 'GOOG')\u001b[0m\u001b[0;34m\u001b[0m\u001b[0;34m\u001b[0m\u001b[0;34m\u001b[0m\u001b[0m\n\u001b[1;32m    252\u001b[0m         \u001b[0;32mif\u001b[0m \u001b[0misinstance\u001b[0m\u001b[0;34m(\u001b[0m\u001b[0mself\u001b[0m\u001b[0;34m.\u001b[0m\u001b[0msymbols\u001b[0m\u001b[0;34m,\u001b[0m \u001b[0;34m(\u001b[0m\u001b[0mstring_types\u001b[0m\u001b[0;34m,\u001b[0m \u001b[0mint\u001b[0m\u001b[0;34m)\u001b[0m\u001b[0;34m)\u001b[0m\u001b[0;34m:\u001b[0m\u001b[0;34m\u001b[0m\u001b[0;34m\u001b[0m\u001b[0m\n\u001b[0;32m--> 253\u001b[0;31m             \u001b[0mdf\u001b[0m \u001b[0;34m=\u001b[0m \u001b[0mself\u001b[0m\u001b[0;34m.\u001b[0m\u001b[0m_read_one_data\u001b[0m\u001b[0;34m(\u001b[0m\u001b[0mself\u001b[0m\u001b[0;34m.\u001b[0m\u001b[0murl\u001b[0m\u001b[0;34m,\u001b[0m \u001b[0mparams\u001b[0m\u001b[0;34m=\u001b[0m\u001b[0mself\u001b[0m\u001b[0;34m.\u001b[0m\u001b[0m_get_params\u001b[0m\u001b[0;34m(\u001b[0m\u001b[0mself\u001b[0m\u001b[0;34m.\u001b[0m\u001b[0msymbols\u001b[0m\u001b[0;34m)\u001b[0m\u001b[0;34m)\u001b[0m\u001b[0;34m\u001b[0m\u001b[0;34m\u001b[0m\u001b[0m\n\u001b[0m\u001b[1;32m    254\u001b[0m         \u001b[0;31m# Or multiple symbols, (e.g., ['GOOG', 'AAPL', 'MSFT'])\u001b[0m\u001b[0;34m\u001b[0m\u001b[0;34m\u001b[0m\u001b[0;34m\u001b[0m\u001b[0m\n\u001b[1;32m    255\u001b[0m         \u001b[0;32melif\u001b[0m \u001b[0misinstance\u001b[0m\u001b[0;34m(\u001b[0m\u001b[0mself\u001b[0m\u001b[0;34m.\u001b[0m\u001b[0msymbols\u001b[0m\u001b[0;34m,\u001b[0m \u001b[0mDataFrame\u001b[0m\u001b[0;34m)\u001b[0m\u001b[0;34m:\u001b[0m\u001b[0;34m\u001b[0m\u001b[0;34m\u001b[0m\u001b[0m\n",
            "\u001b[0;32m/usr/local/lib/python3.7/dist-packages/pandas_datareader/yahoo/daily.py\u001b[0m in \u001b[0;36m_read_one_data\u001b[0;34m(self, url, params)\u001b[0m\n\u001b[1;32m    151\u001b[0m         \u001b[0murl\u001b[0m \u001b[0;34m=\u001b[0m \u001b[0murl\u001b[0m\u001b[0;34m.\u001b[0m\u001b[0mformat\u001b[0m\u001b[0;34m(\u001b[0m\u001b[0msymbol\u001b[0m\u001b[0;34m)\u001b[0m\u001b[0;34m\u001b[0m\u001b[0;34m\u001b[0m\u001b[0m\n\u001b[1;32m    152\u001b[0m \u001b[0;34m\u001b[0m\u001b[0m\n\u001b[0;32m--> 153\u001b[0;31m         \u001b[0mresp\u001b[0m \u001b[0;34m=\u001b[0m \u001b[0mself\u001b[0m\u001b[0;34m.\u001b[0m\u001b[0m_get_response\u001b[0m\u001b[0;34m(\u001b[0m\u001b[0murl\u001b[0m\u001b[0;34m,\u001b[0m \u001b[0mparams\u001b[0m\u001b[0;34m=\u001b[0m\u001b[0mparams\u001b[0m\u001b[0;34m)\u001b[0m\u001b[0;34m\u001b[0m\u001b[0;34m\u001b[0m\u001b[0m\n\u001b[0m\u001b[1;32m    154\u001b[0m         \u001b[0mptrn\u001b[0m \u001b[0;34m=\u001b[0m \u001b[0;34mr\"root\\.App\\.main = (.*?);\\n}\\(this\\)\\);\"\u001b[0m\u001b[0;34m\u001b[0m\u001b[0;34m\u001b[0m\u001b[0m\n\u001b[1;32m    155\u001b[0m         \u001b[0;32mtry\u001b[0m\u001b[0;34m:\u001b[0m\u001b[0;34m\u001b[0m\u001b[0;34m\u001b[0m\u001b[0m\n",
            "\u001b[0;32m/usr/local/lib/python3.7/dist-packages/pandas_datareader/base.py\u001b[0m in \u001b[0;36m_get_response\u001b[0;34m(self, url, params, headers)\u001b[0m\n\u001b[1;32m    179\u001b[0m             \u001b[0mmsg\u001b[0m \u001b[0;34m+=\u001b[0m \u001b[0;34m\"\\nResponse Text:\\n{0}\"\u001b[0m\u001b[0;34m.\u001b[0m\u001b[0mformat\u001b[0m\u001b[0;34m(\u001b[0m\u001b[0mlast_response_text\u001b[0m\u001b[0;34m)\u001b[0m\u001b[0;34m\u001b[0m\u001b[0;34m\u001b[0m\u001b[0m\n\u001b[1;32m    180\u001b[0m \u001b[0;34m\u001b[0m\u001b[0m\n\u001b[0;32m--> 181\u001b[0;31m         \u001b[0;32mraise\u001b[0m \u001b[0mRemoteDataError\u001b[0m\u001b[0;34m(\u001b[0m\u001b[0mmsg\u001b[0m\u001b[0;34m)\u001b[0m\u001b[0;34m\u001b[0m\u001b[0;34m\u001b[0m\u001b[0m\n\u001b[0m\u001b[1;32m    182\u001b[0m \u001b[0;34m\u001b[0m\u001b[0m\n\u001b[1;32m    183\u001b[0m     \u001b[0;32mdef\u001b[0m \u001b[0m_get_crumb\u001b[0m\u001b[0;34m(\u001b[0m\u001b[0mself\u001b[0m\u001b[0;34m,\u001b[0m \u001b[0;34m*\u001b[0m\u001b[0margs\u001b[0m\u001b[0;34m)\u001b[0m\u001b[0;34m:\u001b[0m\u001b[0;34m\u001b[0m\u001b[0;34m\u001b[0m\u001b[0m\n",
            "\u001b[0;31mRemoteDataError\u001b[0m: Unable to read URL: https://finance.yahoo.com/quote/AAPL/history?period1=1476158400&period2=1633924799&interval=1d&frequency=1d&filter=history\nResponse Text:\nb'<!DOCTYPE html>\\n  <html lang=\"en-us\"><head>\\n  <meta http-equiv=\"content-type\" content=\"text/html; charset=UTF-8\">\\n      <meta charset=\"utf-8\">\\n      <title>Yahoo</title>\\n      <meta name=\"viewport\" content=\"width=device-width,initial-scale=1,minimal-ui\">\\n      <meta http-equiv=\"X-UA-Compatible\" content=\"IE=edge,chrome=1\">\\n      <style>\\n  html {\\n      height: 100%;\\n  }\\n  body {\\n      background: #fafafc url(https://s.yimg.com/nn/img/sad-panda-201402200631.png) 50% 50%;\\n      background-size: cover;\\n      height: 100%;\\n      text-align: center;\\n      font: 300 18px \"helvetica neue\", helvetica, verdana, tahoma, arial, sans-serif;\\n  }\\n  table {\\n      height: 100%;\\n      width: 100%;\\n      table-layout: fixed;\\n      border-collapse: collapse;\\n      border-spacing: 0;\\n      border: none;\\n  }\\n  h1 {\\n      font-size: 42px;\\n      font-weight: 400;\\n      color: #400090;\\n  }\\n  p {\\n      color: #1A1A1A;\\n  }\\n  #message-1 {\\n      font-weight: bold;\\n      margin: 0;\\n  }\\n  #message-2 {\\n      display: inline-block;\\n      *display: inline;\\n      zoom: 1;\\n      max-width: 17em;\\n      _width: 17em;\\n  }\\n      </style>\\n  <script>\\n    document.write(\\'<img src=\"//geo.yahoo.com/b?s=1197757129&t=\\'+new Date().getTime()+\\'&src=aws&err_url=\\'+encodeURIComponent(document.URL)+\\'&err=%<pssc>&test=\\'+encodeURIComponent(\\'%<{Bucket}cqh[:200]>\\')+\\'\" width=\"0px\" height=\"0px\"/>\\');var beacon = new Image();beacon.src=\"//bcn.fp.yahoo.com/p?s=1197757129&t=\"+ne..."
          ]
        }
      ]
    },
    {
      "cell_type": "markdown",
      "metadata": {
        "id": "We--jkJo1pOy"
      },
      "source": [
        "* unique values using unique method"
      ]
    },
    {
      "cell_type": "code",
      "metadata": {
        "id": "YTgYCBdn0ocg"
      },
      "source": [
        "series18 = pd.Series(['c', 'a','d','a','a', 'b','b','c','c'])"
      ],
      "execution_count": null,
      "outputs": []
    },
    {
      "cell_type": "code",
      "metadata": {
        "id": "rKq2igyf12wc"
      },
      "source": [
        "unq = series18.unique()"
      ],
      "execution_count": null,
      "outputs": []
    },
    {
      "cell_type": "code",
      "metadata": {
        "id": "AtnwgnX716O4",
        "colab": {
          "base_uri": "https://localhost:8080/"
        },
        "outputId": "79f09ae3-5adc-4405-b9ed-4c02b82a8548"
      },
      "source": [
        "unq"
      ],
      "execution_count": null,
      "outputs": [
        {
          "output_type": "execute_result",
          "data": {
            "text/plain": [
              "array(['c', 'a', 'd', 'b'], dtype=object)"
            ]
          },
          "metadata": {},
          "execution_count": 252
        }
      ]
    },
    {
      "cell_type": "code",
      "metadata": {
        "id": "dTSfthF0173G"
      },
      "source": [
        "unq.sort()"
      ],
      "execution_count": null,
      "outputs": []
    },
    {
      "cell_type": "code",
      "metadata": {
        "id": "F7m41G1V19ov",
        "colab": {
          "base_uri": "https://localhost:8080/"
        },
        "outputId": "01854f20-9b5a-4bee-b6cf-874db6d5a769"
      },
      "source": [
        "unq"
      ],
      "execution_count": null,
      "outputs": [
        {
          "output_type": "execute_result",
          "data": {
            "text/plain": [
              "array(['a', 'b', 'c', 'd'], dtype=object)"
            ]
          },
          "metadata": {},
          "execution_count": 254
        }
      ]
    },
    {
      "cell_type": "markdown",
      "metadata": {
        "id": "UJVUcJAi2EmK"
      },
      "source": [
        "* containing value frequencies using value_counts method"
      ]
    },
    {
      "cell_type": "code",
      "metadata": {
        "id": "sJpKoUYI1_YD",
        "colab": {
          "base_uri": "https://localhost:8080/"
        },
        "outputId": "33190958-ef98-4034-dadc-505568c393fe"
      },
      "source": [
        "series18.value_counts()"
      ],
      "execution_count": null,
      "outputs": [
        {
          "output_type": "execute_result",
          "data": {
            "text/plain": [
              "a    3\n",
              "c    3\n",
              "b    2\n",
              "d    1\n",
              "dtype: int64"
            ]
          },
          "metadata": {},
          "execution_count": 255
        }
      ]
    },
    {
      "cell_type": "markdown",
      "metadata": {
        "id": "p1Lz36wc2Q7v"
      },
      "source": [
        "* using pandas value_counts function"
      ]
    },
    {
      "cell_type": "code",
      "metadata": {
        "id": "fmyd3vvA2P4J",
        "colab": {
          "base_uri": "https://localhost:8080/"
        },
        "outputId": "10b9e5a5-3af9-45d6-ec1d-46f062961c68"
      },
      "source": [
        "pd.value_counts(series18.values, sort = False)"
      ],
      "execution_count": null,
      "outputs": [
        {
          "output_type": "execute_result",
          "data": {
            "text/plain": [
              "b    2\n",
              "c    3\n",
              "a    3\n",
              "d    1\n",
              "dtype: int64"
            ]
          },
          "metadata": {},
          "execution_count": 256
        }
      ]
    },
    {
      "cell_type": "markdown",
      "metadata": {
        "id": "6Yldv7o72fj8"
      },
      "source": [
        "* filter presence or absence of an element\n",
        "* using isin method"
      ]
    },
    {
      "cell_type": "code",
      "metadata": {
        "id": "8k3vk6M02aBv",
        "colab": {
          "base_uri": "https://localhost:8080/"
        },
        "outputId": "1c3ca1ff-3738-4eda-e5ca-6abbfb550d0d"
      },
      "source": [
        "series18.isin(['b'])"
      ],
      "execution_count": null,
      "outputs": [
        {
          "output_type": "execute_result",
          "data": {
            "text/plain": [
              "0    False\n",
              "1    False\n",
              "2    False\n",
              "3    False\n",
              "4    False\n",
              "5     True\n",
              "6     True\n",
              "7    False\n",
              "8    False\n",
              "dtype: bool"
            ]
          },
          "metadata": {},
          "execution_count": 257
        }
      ]
    },
    {
      "cell_type": "code",
      "metadata": {
        "id": "npxUoTI_2qPK",
        "colab": {
          "base_uri": "https://localhost:8080/"
        },
        "outputId": "042b52c8-76b7-4f3b-8aeb-bd44ea9e0af7"
      },
      "source": [
        "series18.isin(['b', 'c'])"
      ],
      "execution_count": null,
      "outputs": [
        {
          "output_type": "execute_result",
          "data": {
            "text/plain": [
              "0     True\n",
              "1    False\n",
              "2    False\n",
              "3    False\n",
              "4    False\n",
              "5     True\n",
              "6     True\n",
              "7     True\n",
              "8     True\n",
              "dtype: bool"
            ]
          },
          "metadata": {},
          "execution_count": 258
        }
      ]
    },
    {
      "cell_type": "code",
      "metadata": {
        "id": "1OB7NmV22zzZ"
      },
      "source": [
        "filter1 = series18.isin(['b', 'c'])\n"
      ],
      "execution_count": null,
      "outputs": []
    },
    {
      "cell_type": "code",
      "metadata": {
        "id": "3huFVACj3BCh",
        "colab": {
          "base_uri": "https://localhost:8080/"
        },
        "outputId": "24f39f72-4de5-474a-c259-52b3894d5623"
      },
      "source": [
        "series18[filter1]"
      ],
      "execution_count": null,
      "outputs": [
        {
          "output_type": "execute_result",
          "data": {
            "text/plain": [
              "0    c\n",
              "5    b\n",
              "6    b\n",
              "7    c\n",
              "8    c\n",
              "dtype: object"
            ]
          },
          "metadata": {},
          "execution_count": 260
        }
      ]
    },
    {
      "cell_type": "markdown",
      "metadata": {
        "id": "uNHdEbS03Qf0"
      },
      "source": [
        "* Compute frequencies in multiple related columns"
      ]
    },
    {
      "cell_type": "code",
      "metadata": {
        "id": "7iLKBmgw3L7-"
      },
      "source": [
        "df10 = pd.DataFrame({'Qu1': [1,3,4,3,4], 'Qu2':[2,3,1,2,3], 'Qu3': [1,5,2,4,4]})"
      ],
      "execution_count": null,
      "outputs": []
    },
    {
      "cell_type": "code",
      "metadata": {
        "id": "FDjy5Dol3jey",
        "colab": {
          "base_uri": "https://localhost:8080/",
          "height": 203
        },
        "outputId": "4c6e7a86-4c96-4dd1-9e7c-79b462ec2fba"
      },
      "source": [
        "df10"
      ],
      "execution_count": null,
      "outputs": [
        {
          "output_type": "execute_result",
          "data": {
            "text/html": [
              "<div>\n",
              "<style scoped>\n",
              "    .dataframe tbody tr th:only-of-type {\n",
              "        vertical-align: middle;\n",
              "    }\n",
              "\n",
              "    .dataframe tbody tr th {\n",
              "        vertical-align: top;\n",
              "    }\n",
              "\n",
              "    .dataframe thead th {\n",
              "        text-align: right;\n",
              "    }\n",
              "</style>\n",
              "<table border=\"1\" class=\"dataframe\">\n",
              "  <thead>\n",
              "    <tr style=\"text-align: right;\">\n",
              "      <th></th>\n",
              "      <th>Qu1</th>\n",
              "      <th>Qu2</th>\n",
              "      <th>Qu3</th>\n",
              "    </tr>\n",
              "  </thead>\n",
              "  <tbody>\n",
              "    <tr>\n",
              "      <th>0</th>\n",
              "      <td>1</td>\n",
              "      <td>2</td>\n",
              "      <td>1</td>\n",
              "    </tr>\n",
              "    <tr>\n",
              "      <th>1</th>\n",
              "      <td>3</td>\n",
              "      <td>3</td>\n",
              "      <td>5</td>\n",
              "    </tr>\n",
              "    <tr>\n",
              "      <th>2</th>\n",
              "      <td>4</td>\n",
              "      <td>1</td>\n",
              "      <td>2</td>\n",
              "    </tr>\n",
              "    <tr>\n",
              "      <th>3</th>\n",
              "      <td>3</td>\n",
              "      <td>2</td>\n",
              "      <td>4</td>\n",
              "    </tr>\n",
              "    <tr>\n",
              "      <th>4</th>\n",
              "      <td>4</td>\n",
              "      <td>3</td>\n",
              "      <td>4</td>\n",
              "    </tr>\n",
              "  </tbody>\n",
              "</table>\n",
              "</div>"
            ],
            "text/plain": [
              "   Qu1  Qu2  Qu3\n",
              "0    1    2    1\n",
              "1    3    3    5\n",
              "2    4    1    2\n",
              "3    3    2    4\n",
              "4    4    3    4"
            ]
          },
          "metadata": {},
          "execution_count": 262
        }
      ]
    },
    {
      "cell_type": "markdown",
      "metadata": {
        "id": "POx-0OLO3mRv"
      },
      "source": [
        "* row labels indicate the distinct values of the dataframe\n",
        "* values indicate the count of these distict  values in the respective columns"
      ]
    },
    {
      "cell_type": "code",
      "metadata": {
        "id": "d56ehBlS3kA_",
        "colab": {
          "base_uri": "https://localhost:8080/",
          "height": 203
        },
        "outputId": "e0140927-b6db-440f-b875-e5ef652fcf5f"
      },
      "source": [
        "df10.apply(pd.value_counts)"
      ],
      "execution_count": null,
      "outputs": [
        {
          "output_type": "execute_result",
          "data": {
            "text/html": [
              "<div>\n",
              "<style scoped>\n",
              "    .dataframe tbody tr th:only-of-type {\n",
              "        vertical-align: middle;\n",
              "    }\n",
              "\n",
              "    .dataframe tbody tr th {\n",
              "        vertical-align: top;\n",
              "    }\n",
              "\n",
              "    .dataframe thead th {\n",
              "        text-align: right;\n",
              "    }\n",
              "</style>\n",
              "<table border=\"1\" class=\"dataframe\">\n",
              "  <thead>\n",
              "    <tr style=\"text-align: right;\">\n",
              "      <th></th>\n",
              "      <th>Qu1</th>\n",
              "      <th>Qu2</th>\n",
              "      <th>Qu3</th>\n",
              "    </tr>\n",
              "  </thead>\n",
              "  <tbody>\n",
              "    <tr>\n",
              "      <th>1</th>\n",
              "      <td>1.0</td>\n",
              "      <td>1.0</td>\n",
              "      <td>1.0</td>\n",
              "    </tr>\n",
              "    <tr>\n",
              "      <th>2</th>\n",
              "      <td>NaN</td>\n",
              "      <td>2.0</td>\n",
              "      <td>1.0</td>\n",
              "    </tr>\n",
              "    <tr>\n",
              "      <th>3</th>\n",
              "      <td>2.0</td>\n",
              "      <td>2.0</td>\n",
              "      <td>NaN</td>\n",
              "    </tr>\n",
              "    <tr>\n",
              "      <th>4</th>\n",
              "      <td>2.0</td>\n",
              "      <td>NaN</td>\n",
              "      <td>2.0</td>\n",
              "    </tr>\n",
              "    <tr>\n",
              "      <th>5</th>\n",
              "      <td>NaN</td>\n",
              "      <td>NaN</td>\n",
              "      <td>1.0</td>\n",
              "    </tr>\n",
              "  </tbody>\n",
              "</table>\n",
              "</div>"
            ],
            "text/plain": [
              "   Qu1  Qu2  Qu3\n",
              "1  1.0  1.0  1.0\n",
              "2  NaN  2.0  1.0\n",
              "3  2.0  2.0  NaN\n",
              "4  2.0  NaN  2.0\n",
              "5  NaN  NaN  1.0"
            ]
          },
          "metadata": {},
          "execution_count": 263
        }
      ]
    },
    {
      "cell_type": "markdown",
      "metadata": {
        "id": "ZeIXe5P43_a_"
      },
      "source": [
        "* fill NaN with 0s"
      ]
    },
    {
      "cell_type": "code",
      "metadata": {
        "id": "JmVRdSFg36gp",
        "colab": {
          "base_uri": "https://localhost:8080/",
          "height": 203
        },
        "outputId": "79f8fa76-c888-4231-ee7b-86beb8feb2a8"
      },
      "source": [
        "df10.apply(pd.value_counts).fillna(0)"
      ],
      "execution_count": null,
      "outputs": [
        {
          "output_type": "execute_result",
          "data": {
            "text/html": [
              "<div>\n",
              "<style scoped>\n",
              "    .dataframe tbody tr th:only-of-type {\n",
              "        vertical-align: middle;\n",
              "    }\n",
              "\n",
              "    .dataframe tbody tr th {\n",
              "        vertical-align: top;\n",
              "    }\n",
              "\n",
              "    .dataframe thead th {\n",
              "        text-align: right;\n",
              "    }\n",
              "</style>\n",
              "<table border=\"1\" class=\"dataframe\">\n",
              "  <thead>\n",
              "    <tr style=\"text-align: right;\">\n",
              "      <th></th>\n",
              "      <th>Qu1</th>\n",
              "      <th>Qu2</th>\n",
              "      <th>Qu3</th>\n",
              "    </tr>\n",
              "  </thead>\n",
              "  <tbody>\n",
              "    <tr>\n",
              "      <th>1</th>\n",
              "      <td>1.0</td>\n",
              "      <td>1.0</td>\n",
              "      <td>1.0</td>\n",
              "    </tr>\n",
              "    <tr>\n",
              "      <th>2</th>\n",
              "      <td>0.0</td>\n",
              "      <td>2.0</td>\n",
              "      <td>1.0</td>\n",
              "    </tr>\n",
              "    <tr>\n",
              "      <th>3</th>\n",
              "      <td>2.0</td>\n",
              "      <td>2.0</td>\n",
              "      <td>0.0</td>\n",
              "    </tr>\n",
              "    <tr>\n",
              "      <th>4</th>\n",
              "      <td>2.0</td>\n",
              "      <td>0.0</td>\n",
              "      <td>2.0</td>\n",
              "    </tr>\n",
              "    <tr>\n",
              "      <th>5</th>\n",
              "      <td>0.0</td>\n",
              "      <td>0.0</td>\n",
              "      <td>1.0</td>\n",
              "    </tr>\n",
              "  </tbody>\n",
              "</table>\n",
              "</div>"
            ],
            "text/plain": [
              "   Qu1  Qu2  Qu3\n",
              "1  1.0  1.0  1.0\n",
              "2  0.0  2.0  1.0\n",
              "3  2.0  2.0  0.0\n",
              "4  2.0  0.0  2.0\n",
              "5  0.0  0.0  1.0"
            ]
          },
          "metadata": {},
          "execution_count": 264
        }
      ]
    },
    {
      "cell_type": "markdown",
      "metadata": {
        "id": "UxFje_eD4I5x"
      },
      "source": [
        "* End of Session on Python Pandas"
      ]
    },
    {
      "cell_type": "markdown",
      "metadata": {
        "id": "5_XDdO5a4PzF"
      },
      "source": [
        "**Lecture 30 Python Working with Data - PartI**"
      ]
    },
    {
      "cell_type": "markdown",
      "metadata": {
        "id": "rU4rQCwQ4ov2"
      },
      "source": [
        "* load requied library modules"
      ]
    },
    {
      "cell_type": "code",
      "metadata": {
        "id": "9QEPy2-D4Gcn"
      },
      "source": [
        "import numpy as np\n",
        "import pandas as pd\n",
        "from pandas import Series, DataFrame"
      ],
      "execution_count": null,
      "outputs": []
    },
    {
      "cell_type": "markdown",
      "metadata": {
        "id": "y01ZB2b140ng"
      },
      "source": [
        "* Working with csv files\n",
        "* reading a csv file into a dataframe\n",
        "* Example: ex1.csv\n",
        "*print file contents"
      ]
    },
    {
      "cell_type": "code",
      "metadata": {
        "colab": {
          "base_uri": "https://localhost:8080/"
        },
        "id": "n7YoO14r4zrr",
        "outputId": "379cc172-90a0-4ff7-d536-8202c9061508"
      },
      "source": [
        "%pycat ex1.csv"
      ],
      "execution_count": null,
      "outputs": [
        {
          "output_type": "stream",
          "name": "stdout",
          "text": [
            "Error: no such file, variable, URL, history range or macro\n"
          ]
        }
      ]
    },
    {
      "cell_type": "markdown",
      "metadata": {
        "id": "MofDDCkY5GWi"
      },
      "source": [
        "* using read_csv function"
      ]
    },
    {
      "cell_type": "markdown",
      "metadata": {
        "id": "Y_0CmmJUiu8e"
      },
      "source": [
        "* df = pd.read_csv('ex1.csv')\n",
        "* df"
      ]
    },
    {
      "cell_type": "markdown",
      "metadata": {
        "id": "lZegATkDjDXL"
      },
      "source": [
        "* reading file without header\n",
        "* pd.read_csv('ex2.csv', header = None)"
      ]
    },
    {
      "cell_type": "markdown",
      "metadata": {
        "id": "xmJ2tNyEjWwJ"
      },
      "source": [
        "* Specify header names\n",
        "* pd.read_csv('ex2.csv', name = ['a',  'b', 'c', 'd', 'message'])"
      ]
    },
    {
      "cell_type": "markdown",
      "metadata": {
        "id": "LNlFXCBFjuNQ"
      },
      "source": [
        "* skipping rows with unwanted data\n",
        "* pd.read_csv('ex4.csv', skiprows=[0,2,3])"
      ]
    },
    {
      "cell_type": "markdown",
      "metadata": {
        "id": "iha8HFHglMP-"
      },
      "source": [
        "* Writing a dataframe into a csv file\n",
        "* using to_csv method\n",
        "* df.to_csv('write1.csv')"
      ]
    },
    {
      "cell_type": "markdown",
      "metadata": {
        "id": "Aq9oUUQgl1h9"
      },
      "source": [
        "* Reading an excel file into a dataframe\n",
        "* reading multiple sheets in a file\n",
        "* It is faster to use ExcelFile function\n",
        "* On Excelfile object is returned"
      ]
    },
    {
      "cell_type": "markdown",
      "metadata": {
        "id": "4QlMojnHmNZy"
      },
      "source": [
        "* using read_excel function to create the dataframe\n",
        "* df3 = pd.read_excel('ex1.xlsx', 'sheet1')"
      ]
    },
    {
      "cell_type": "markdown",
      "metadata": {
        "id": "hdfFr7E-mv7j"
      },
      "source": [
        "* writing a dataframe into an excel file\n",
        "* using the ExcelWriter function (suitable for writing multiple sheets)\n",
        "* an ExcelWriter object is returned"
      ]
    },
    {
      "cell_type": "markdown",
      "metadata": {
        "id": "F8WeK1glnERY"
      },
      "source": [
        "* using to_excel function to write the dataframe\n",
        "* df3.to_excel(ew, 'sheet1')"
      ]
    },
    {
      "cell_type": "markdown",
      "metadata": {
        "id": "ybx0-Xw9nQw6"
      },
      "source": [
        "* save the write2.xlsx file using save method\n",
        "ew.save()"
      ]
    },
    {
      "cell_type": "markdown",
      "metadata": {
        "id": "7H_DbZZ4nb1p"
      },
      "source": [
        "* avoid ExcelWriter for one sheet\n",
        "* pass the file path to the to_excel function"
      ]
    },
    {
      "cell_type": "markdown",
      "metadata": {
        "id": "aCXsQqtdnmGl"
      },
      "source": [
        "* df3.to_excel('write3.xlsx')"
      ]
    },
    {
      "cell_type": "markdown",
      "metadata": {
        "id": "8HiDyEsWnwqn"
      },
      "source": [
        "* Working with Web APIs\n",
        "* sites offer public APIs to provide data feeds via JSON or some other format\n",
        "* using requests package (easy to use)"
      ]
    },
    {
      "cell_type": "code",
      "metadata": {
        "id": "49PMCIOM5DyB"
      },
      "source": [
        "import requests"
      ],
      "execution_count": null,
      "outputs": []
    },
    {
      "cell_type": "markdown",
      "metadata": {
        "id": "VhN0KyOeoNbB"
      },
      "source": [
        "* Example: GitHub website\n",
        "* e.ge, last 30 GitHub issues for pandas posted on GitHub"
      ]
    },
    {
      "cell_type": "code",
      "metadata": {
        "id": "9h744VzFoKhG"
      },
      "source": [
        "url = 'https://api.github.com/repos/pandas-dev/pandas/issues'"
      ],
      "execution_count": null,
      "outputs": []
    },
    {
      "cell_type": "markdown",
      "metadata": {
        "id": "OSDhzzmFom6k"
      },
      "source": [
        "* using get function \n",
        "* a response object is returned"
      ]
    },
    {
      "cell_type": "code",
      "metadata": {
        "id": "9HPaqeAeolCf"
      },
      "source": [
        "resp = requests.get(url)"
      ],
      "execution_count": null,
      "outputs": []
    },
    {
      "cell_type": "code",
      "metadata": {
        "colab": {
          "base_uri": "https://localhost:8080/"
        },
        "id": "_cjAh8rrowtU",
        "outputId": "6bbf47d5-8c3f-497e-e3d3-0fd0f7c384f8"
      },
      "source": [
        "resp"
      ],
      "execution_count": null,
      "outputs": [
        {
          "output_type": "execute_result",
          "data": {
            "text/plain": [
              "<Response [200]>"
            ]
          },
          "metadata": {},
          "execution_count": 270
        }
      ]
    },
    {
      "cell_type": "markdown",
      "metadata": {
        "id": "s2St7YMpo530"
      },
      "source": [
        "* using json method\n",
        "* to abtain a list of dicts having all the data on a GitHub issue page (except for comments)"
      ]
    },
    {
      "cell_type": "code",
      "metadata": {
        "id": "WpM2fnvaoyLl"
      },
      "source": [
        "v1 = resp.json()"
      ],
      "execution_count": null,
      "outputs": []
    },
    {
      "cell_type": "code",
      "metadata": {
        "colab": {
          "base_uri": "https://localhost:8080/"
        },
        "id": "nP-xMdaZpMfW",
        "outputId": "2f5dc697-6fd4-447e-f097-91743abbae03"
      },
      "source": [
        "v1"
      ],
      "execution_count": null,
      "outputs": [
        {
          "output_type": "execute_result",
          "data": {
            "text/plain": [
              "[{'active_lock_reason': None,\n",
              "  'assignee': None,\n",
              "  'assignees': [],\n",
              "  'author_association': 'CONTRIBUTOR',\n",
              "  'body': 'xref https://github.com/pandas-dev/pandas/pull/43952/checks?check_run_id=3849531985 as an exxample\\r\\n\\r\\nmaybe something got released / renamed? looks like an issue with coverage\\r\\n\\r\\n```\\r\\nFile \"/usr/share/miniconda/envs/pandas-dev/lib/python3.9/site-packages/pytest_cov/plugin.py\", line 126, in pytest_load_initial_conftests\\r\\n    plugin = CovPlugin(options, early_config.pluginmanager)\\r\\n  File \"/usr/share/miniconda/envs/pandas-dev/lib/python3.9/site-packages/pytest_cov/plugin.py\", line 175, in __init__\\r\\n    self.start(engine.DistMaster)\\r\\n  File \"/usr/share/miniconda/envs/pandas-dev/lib/python3.9/site-packages/pytest_cov/plugin.py\", line 199, in start\\r\\n    self.cov_controller.start()\\r\\n  File \"/usr/share/miniconda/envs/pandas-dev/lib/python3.9/site-packages/pytest_cov/engine.py\", line 44, in ensure_topdir_wrapper\\r\\n    return meth(self, *args, **kwargs)\\r\\n  File \"/usr/share/miniconda/envs/pandas-dev/lib/python3.9/site-packages/pytest_cov/engine.py\", line 267, in start\\r\\n    self.cov.start()\\r\\n  File \"/usr/share/miniconda/envs/pandas-dev/lib/python3.9/site-packages/coverage/control.py\", line 532, in start\\r\\n    self._init()\\r\\n  File \"/usr/share/miniconda/envs/pandas-dev/lib/python3.9/site-packages/coverage/control.py\", line 275, in _init\\r\\n    self._plugins = Plugins.load_plugins(self.config.plugins, self.config, self._debug)\\r\\n  File \"/usr/share/miniconda/envs/pandas-dev/lib/python3.9/site-packages/coverage/plugin_support.py\", line 41, in load_plugins\\r\\n    __import__(module)\\r\\nModuleNotFoundError: No module named \\'Cython\\'\\r\\n```\\r\\n\\r\\ncc @pandas-dev/pandas-core ',\n",
              "  'closed_at': None,\n",
              "  'comments': 0,\n",
              "  'comments_url': 'https://api.github.com/repos/pandas-dev/pandas/issues/43957/comments',\n",
              "  'created_at': '2021-10-10T14:37:20Z',\n",
              "  'events_url': 'https://api.github.com/repos/pandas-dev/pandas/issues/43957/events',\n",
              "  'html_url': 'https://github.com/pandas-dev/pandas/issues/43957',\n",
              "  'id': 1022001494,\n",
              "  'labels': [{'color': '75507B',\n",
              "    'default': False,\n",
              "    'description': 'Library building on various platforms',\n",
              "    'id': 129350,\n",
              "    'name': 'Build',\n",
              "    'node_id': 'MDU6TGFiZWwxMjkzNTA=',\n",
              "    'url': 'https://api.github.com/repos/pandas-dev/pandas/labels/Build'},\n",
              "   {'color': 'd93f0b',\n",
              "    'default': False,\n",
              "    'description': 'Required and optional dependencies',\n",
              "    'id': 527603109,\n",
              "    'name': 'Dependencies',\n",
              "    'node_id': 'MDU6TGFiZWw1Mjc2MDMxMDk=',\n",
              "    'url': 'https://api.github.com/repos/pandas-dev/pandas/labels/Dependencies'}],\n",
              "  'labels_url': 'https://api.github.com/repos/pandas-dev/pandas/issues/43957/labels{/name}',\n",
              "  'locked': False,\n",
              "  'milestone': {'closed_at': None,\n",
              "   'closed_issues': 822,\n",
              "   'created_at': '2021-06-09T18:28:42Z',\n",
              "   'creator': {'avatar_url': 'https://avatars.githubusercontent.com/u/953992?v=4',\n",
              "    'events_url': 'https://api.github.com/users/jreback/events{/privacy}',\n",
              "    'followers_url': 'https://api.github.com/users/jreback/followers',\n",
              "    'following_url': 'https://api.github.com/users/jreback/following{/other_user}',\n",
              "    'gists_url': 'https://api.github.com/users/jreback/gists{/gist_id}',\n",
              "    'gravatar_id': '',\n",
              "    'html_url': 'https://github.com/jreback',\n",
              "    'id': 953992,\n",
              "    'login': 'jreback',\n",
              "    'node_id': 'MDQ6VXNlcjk1Mzk5Mg==',\n",
              "    'organizations_url': 'https://api.github.com/users/jreback/orgs',\n",
              "    'received_events_url': 'https://api.github.com/users/jreback/received_events',\n",
              "    'repos_url': 'https://api.github.com/users/jreback/repos',\n",
              "    'site_admin': False,\n",
              "    'starred_url': 'https://api.github.com/users/jreback/starred{/owner}{/repo}',\n",
              "    'subscriptions_url': 'https://api.github.com/users/jreback/subscriptions',\n",
              "    'type': 'User',\n",
              "    'url': 'https://api.github.com/users/jreback'},\n",
              "   'description': '',\n",
              "   'due_on': '2021-12-31T08:00:00Z',\n",
              "   'html_url': 'https://github.com/pandas-dev/pandas/milestone/86',\n",
              "   'id': 6840253,\n",
              "   'labels_url': 'https://api.github.com/repos/pandas-dev/pandas/milestones/86/labels',\n",
              "   'node_id': 'MDk6TWlsZXN0b25lNjg0MDI1Mw==',\n",
              "   'number': 86,\n",
              "   'open_issues': 68,\n",
              "   'state': 'open',\n",
              "   'title': '1.4',\n",
              "   'updated_at': '2021-10-10T14:39:46Z',\n",
              "   'url': 'https://api.github.com/repos/pandas-dev/pandas/milestones/86'},\n",
              "  'node_id': 'I_kwDOAA0YD8486oFW',\n",
              "  'number': 43957,\n",
              "  'performed_via_github_app': None,\n",
              "  'reactions': {'+1': 0,\n",
              "   '-1': 0,\n",
              "   'confused': 0,\n",
              "   'eyes': 0,\n",
              "   'heart': 0,\n",
              "   'hooray': 0,\n",
              "   'laugh': 0,\n",
              "   'rocket': 0,\n",
              "   'total_count': 0,\n",
              "   'url': 'https://api.github.com/repos/pandas-dev/pandas/issues/43957/reactions'},\n",
              "  'repository_url': 'https://api.github.com/repos/pandas-dev/pandas',\n",
              "  'state': 'open',\n",
              "  'timeline_url': 'https://api.github.com/repos/pandas-dev/pandas/issues/43957/timeline',\n",
              "  'title': 'DEPS/BLD: 3.9 builds breaking with missing Cython',\n",
              "  'updated_at': '2021-10-10T14:38:17Z',\n",
              "  'url': 'https://api.github.com/repos/pandas-dev/pandas/issues/43957',\n",
              "  'user': {'avatar_url': 'https://avatars.githubusercontent.com/u/953992?v=4',\n",
              "   'events_url': 'https://api.github.com/users/jreback/events{/privacy}',\n",
              "   'followers_url': 'https://api.github.com/users/jreback/followers',\n",
              "   'following_url': 'https://api.github.com/users/jreback/following{/other_user}',\n",
              "   'gists_url': 'https://api.github.com/users/jreback/gists{/gist_id}',\n",
              "   'gravatar_id': '',\n",
              "   'html_url': 'https://github.com/jreback',\n",
              "   'id': 953992,\n",
              "   'login': 'jreback',\n",
              "   'node_id': 'MDQ6VXNlcjk1Mzk5Mg==',\n",
              "   'organizations_url': 'https://api.github.com/users/jreback/orgs',\n",
              "   'received_events_url': 'https://api.github.com/users/jreback/received_events',\n",
              "   'repos_url': 'https://api.github.com/users/jreback/repos',\n",
              "   'site_admin': False,\n",
              "   'starred_url': 'https://api.github.com/users/jreback/starred{/owner}{/repo}',\n",
              "   'subscriptions_url': 'https://api.github.com/users/jreback/subscriptions',\n",
              "   'type': 'User',\n",
              "   'url': 'https://api.github.com/users/jreback'}},\n",
              " {'active_lock_reason': None,\n",
              "  'assignee': None,\n",
              "  'assignees': [],\n",
              "  'author_association': 'NONE',\n",
              "  'body': 'I commonly deal with time-series data with gaps and would like Pandas to have the functionality to either apply a custom interpolation function which I can specify into .interpolate or have a dedicated time series data generator based on say the rolling N period values with some noise added to it for real-world applicability.',\n",
              "  'closed_at': None,\n",
              "  'comments': 3,\n",
              "  'comments_url': 'https://api.github.com/repos/pandas-dev/pandas/issues/43956/comments',\n",
              "  'created_at': '2021-10-10T12:21:34Z',\n",
              "  'events_url': 'https://api.github.com/repos/pandas-dev/pandas/issues/43956/events',\n",
              "  'html_url': 'https://github.com/pandas-dev/pandas/issues/43956',\n",
              "  'id': 1021969255,\n",
              "  'labels': [{'color': '4E9A06',\n",
              "    'default': False,\n",
              "    'description': None,\n",
              "    'id': 76812,\n",
              "    'name': 'Enhancement',\n",
              "    'node_id': 'MDU6TGFiZWw3NjgxMg==',\n",
              "    'url': 'https://api.github.com/repos/pandas-dev/pandas/labels/Enhancement'},\n",
              "   {'color': '0052cc',\n",
              "    'default': False,\n",
              "    'description': 'Issue that has not been reviewed by a pandas team member',\n",
              "    'id': 1954720290,\n",
              "    'name': 'Needs Triage',\n",
              "    'node_id': 'MDU6TGFiZWwxOTU0NzIwMjkw',\n",
              "    'url': 'https://api.github.com/repos/pandas-dev/pandas/labels/Needs%20Triage'}],\n",
              "  'labels_url': 'https://api.github.com/repos/pandas-dev/pandas/issues/43956/labels{/name}',\n",
              "  'locked': False,\n",
              "  'milestone': None,\n",
              "  'node_id': 'I_kwDOAA0YD8486gNn',\n",
              "  'number': 43956,\n",
              "  'performed_via_github_app': None,\n",
              "  'reactions': {'+1': 0,\n",
              "   '-1': 0,\n",
              "   'confused': 0,\n",
              "   'eyes': 0,\n",
              "   'heart': 0,\n",
              "   'hooray': 0,\n",
              "   'laugh': 0,\n",
              "   'rocket': 0,\n",
              "   'total_count': 0,\n",
              "   'url': 'https://api.github.com/repos/pandas-dev/pandas/issues/43956/reactions'},\n",
              "  'repository_url': 'https://api.github.com/repos/pandas-dev/pandas',\n",
              "  'state': 'open',\n",
              "  'timeline_url': 'https://api.github.com/repos/pandas-dev/pandas/issues/43956/timeline',\n",
              "  'title': 'ENH: Rolling TimeSeries Interpolation Methods',\n",
              "  'updated_at': '2021-10-10T16:02:51Z',\n",
              "  'url': 'https://api.github.com/repos/pandas-dev/pandas/issues/43956',\n",
              "  'user': {'avatar_url': 'https://avatars.githubusercontent.com/u/65822493?v=4',\n",
              "   'events_url': 'https://api.github.com/users/sweg44/events{/privacy}',\n",
              "   'followers_url': 'https://api.github.com/users/sweg44/followers',\n",
              "   'following_url': 'https://api.github.com/users/sweg44/following{/other_user}',\n",
              "   'gists_url': 'https://api.github.com/users/sweg44/gists{/gist_id}',\n",
              "   'gravatar_id': '',\n",
              "   'html_url': 'https://github.com/sweg44',\n",
              "   'id': 65822493,\n",
              "   'login': 'sweg44',\n",
              "   'node_id': 'MDQ6VXNlcjY1ODIyNDkz',\n",
              "   'organizations_url': 'https://api.github.com/users/sweg44/orgs',\n",
              "   'received_events_url': 'https://api.github.com/users/sweg44/received_events',\n",
              "   'repos_url': 'https://api.github.com/users/sweg44/repos',\n",
              "   'site_admin': False,\n",
              "   'starred_url': 'https://api.github.com/users/sweg44/starred{/owner}{/repo}',\n",
              "   'subscriptions_url': 'https://api.github.com/users/sweg44/subscriptions',\n",
              "   'type': 'User',\n",
              "   'url': 'https://api.github.com/users/sweg44'}},\n",
              " {'active_lock_reason': None,\n",
              "  'assignee': None,\n",
              "  'assignees': [],\n",
              "  'author_association': 'NONE',\n",
              "  'body': \"- [x] closes #43937\\r\\n- [x] tests added / passed\\r\\n- [x] Ensure all linting tests pass, see [here](https://pandas.pydata.org/pandas-docs/dev/development/contributing_codebase.html#pre-commit) for how to run them\\r\\n- [x] Cancel replace's doc list item text bold effect, detail could see below.\\r\\n\\r\\nFrom \\r\\n![image](https://user-images.githubusercontent.com/25895405/136691591-6aae6597-99e7-4ae4-bca6-1e7380b1cad4.png)\\r\\nTo\\r\\n![image](https://user-images.githubusercontent.com/25895405/136691594-c2b14ad8-c761-49c9-9ba3-b1a472280df7.png)\\r\\n\\r\\n\",\n",
              "  'closed_at': None,\n",
              "  'comments': 0,\n",
              "  'comments_url': 'https://api.github.com/repos/pandas-dev/pandas/issues/43955/comments',\n",
              "  'created_at': '2021-10-10T10:17:20Z',\n",
              "  'events_url': 'https://api.github.com/repos/pandas-dev/pandas/issues/43955/events',\n",
              "  'html_url': 'https://github.com/pandas-dev/pandas/pull/43955',\n",
              "  'id': 1021941239,\n",
              "  'labels': [],\n",
              "  'labels_url': 'https://api.github.com/repos/pandas-dev/pandas/issues/43955/labels{/name}',\n",
              "  'locked': False,\n",
              "  'milestone': None,\n",
              "  'node_id': 'PR_kwDOAA0YD84s-2kj',\n",
              "  'number': 43955,\n",
              "  'performed_via_github_app': None,\n",
              "  'pull_request': {'diff_url': 'https://github.com/pandas-dev/pandas/pull/43955.diff',\n",
              "   'html_url': 'https://github.com/pandas-dev/pandas/pull/43955',\n",
              "   'patch_url': 'https://github.com/pandas-dev/pandas/pull/43955.patch',\n",
              "   'url': 'https://api.github.com/repos/pandas-dev/pandas/pulls/43955'},\n",
              "  'reactions': {'+1': 0,\n",
              "   '-1': 0,\n",
              "   'confused': 0,\n",
              "   'eyes': 0,\n",
              "   'heart': 0,\n",
              "   'hooray': 0,\n",
              "   'laugh': 0,\n",
              "   'rocket': 0,\n",
              "   'total_count': 0,\n",
              "   'url': 'https://api.github.com/repos/pandas-dev/pandas/issues/43955/reactions'},\n",
              "  'repository_url': 'https://api.github.com/repos/pandas-dev/pandas',\n",
              "  'state': 'open',\n",
              "  'timeline_url': 'https://api.github.com/repos/pandas-dev/pandas/issues/43955/timeline',\n",
              "  'title': \"DOC: cancel replace's doc list item text bold effect\",\n",
              "  'updated_at': '2021-10-10T12:59:42Z',\n",
              "  'url': 'https://api.github.com/repos/pandas-dev/pandas/issues/43955',\n",
              "  'user': {'avatar_url': 'https://avatars.githubusercontent.com/u/25895405?v=4',\n",
              "   'events_url': 'https://api.github.com/users/Zeroto521/events{/privacy}',\n",
              "   'followers_url': 'https://api.github.com/users/Zeroto521/followers',\n",
              "   'following_url': 'https://api.github.com/users/Zeroto521/following{/other_user}',\n",
              "   'gists_url': 'https://api.github.com/users/Zeroto521/gists{/gist_id}',\n",
              "   'gravatar_id': '',\n",
              "   'html_url': 'https://github.com/Zeroto521',\n",
              "   'id': 25895405,\n",
              "   'login': 'Zeroto521',\n",
              "   'node_id': 'MDQ6VXNlcjI1ODk1NDA1',\n",
              "   'organizations_url': 'https://api.github.com/users/Zeroto521/orgs',\n",
              "   'received_events_url': 'https://api.github.com/users/Zeroto521/received_events',\n",
              "   'repos_url': 'https://api.github.com/users/Zeroto521/repos',\n",
              "   'site_admin': False,\n",
              "   'starred_url': 'https://api.github.com/users/Zeroto521/starred{/owner}{/repo}',\n",
              "   'subscriptions_url': 'https://api.github.com/users/Zeroto521/subscriptions',\n",
              "   'type': 'User',\n",
              "   'url': 'https://api.github.com/users/Zeroto521'}},\n",
              " {'active_lock_reason': None,\n",
              "  'assignee': None,\n",
              "  'assignees': [],\n",
              "  'author_association': 'MEMBER',\n",
              "  'body': '```\\r\\nimport pandas as pd\\r\\n\\r\\nidx = pd.Index([4, 5, 6])\\r\\n\\r\\n%timeit idx.insert(1, 19)\\r\\n26.7 µs ± 299 ns per loop (mean ± std. dev. of 7 runs, 10000 loops each)  # <- master\\r\\n15.5 µs ± 185 ns per loop (mean ± std. dev. of 7 runs, 100000 loops each)  # <- PR\\r\\n```',\n",
              "  'closed_at': None,\n",
              "  'comments': 0,\n",
              "  'comments_url': 'https://api.github.com/repos/pandas-dev/pandas/issues/43953/comments',\n",
              "  'created_at': '2021-10-10T04:03:53Z',\n",
              "  'events_url': 'https://api.github.com/repos/pandas-dev/pandas/issues/43953/events',\n",
              "  'html_url': 'https://github.com/pandas-dev/pandas/pull/43953',\n",
              "  'id': 1021873407,\n",
              "  'labels': [],\n",
              "  'labels_url': 'https://api.github.com/repos/pandas-dev/pandas/issues/43953/labels{/name}',\n",
              "  'locked': False,\n",
              "  'milestone': None,\n",
              "  'node_id': 'PR_kwDOAA0YD84s-rbf',\n",
              "  'number': 43953,\n",
              "  'performed_via_github_app': None,\n",
              "  'pull_request': {'diff_url': 'https://github.com/pandas-dev/pandas/pull/43953.diff',\n",
              "   'html_url': 'https://github.com/pandas-dev/pandas/pull/43953',\n",
              "   'patch_url': 'https://github.com/pandas-dev/pandas/pull/43953.patch',\n",
              "   'url': 'https://api.github.com/repos/pandas-dev/pandas/pulls/43953'},\n",
              "  'reactions': {'+1': 0,\n",
              "   '-1': 0,\n",
              "   'confused': 0,\n",
              "   'eyes': 0,\n",
              "   'heart': 0,\n",
              "   'hooray': 0,\n",
              "   'laugh': 0,\n",
              "   'rocket': 0,\n",
              "   'total_count': 0,\n",
              "   'url': 'https://api.github.com/repos/pandas-dev/pandas/issues/43953/reactions'},\n",
              "  'repository_url': 'https://api.github.com/repos/pandas-dev/pandas',\n",
              "  'state': 'open',\n",
              "  'timeline_url': 'https://api.github.com/repos/pandas-dev/pandas/issues/43953/timeline',\n",
              "  'title': 'PERF: Index.insert',\n",
              "  'updated_at': '2021-10-10T15:03:32Z',\n",
              "  'url': 'https://api.github.com/repos/pandas-dev/pandas/issues/43953',\n",
              "  'user': {'avatar_url': 'https://avatars.githubusercontent.com/u/8078968?v=4',\n",
              "   'events_url': 'https://api.github.com/users/jbrockmendel/events{/privacy}',\n",
              "   'followers_url': 'https://api.github.com/users/jbrockmendel/followers',\n",
              "   'following_url': 'https://api.github.com/users/jbrockmendel/following{/other_user}',\n",
              "   'gists_url': 'https://api.github.com/users/jbrockmendel/gists{/gist_id}',\n",
              "   'gravatar_id': '',\n",
              "   'html_url': 'https://github.com/jbrockmendel',\n",
              "   'id': 8078968,\n",
              "   'login': 'jbrockmendel',\n",
              "   'node_id': 'MDQ6VXNlcjgwNzg5Njg=',\n",
              "   'organizations_url': 'https://api.github.com/users/jbrockmendel/orgs',\n",
              "   'received_events_url': 'https://api.github.com/users/jbrockmendel/received_events',\n",
              "   'repos_url': 'https://api.github.com/users/jbrockmendel/repos',\n",
              "   'site_admin': False,\n",
              "   'starred_url': 'https://api.github.com/users/jbrockmendel/starred{/owner}{/repo}',\n",
              "   'subscriptions_url': 'https://api.github.com/users/jbrockmendel/subscriptions',\n",
              "   'type': 'User',\n",
              "   'url': 'https://api.github.com/users/jbrockmendel'}},\n",
              " {'active_lock_reason': None,\n",
              "  'assignee': None,\n",
              "  'assignees': [],\n",
              "  'author_association': 'MEMBER',\n",
              "  'body': '- [ ] closes #xxxx\\r\\n- [ ] tests added / passed\\r\\n- [ ] Ensure all linting tests pass, see [here](https://pandas.pydata.org/pandas-docs/dev/development/contributing_codebase.html#pre-commit) for how to run them\\r\\n- [ ] whatsnew entry\\r\\n',\n",
              "  'closed_at': None,\n",
              "  'comments': 2,\n",
              "  'comments_url': 'https://api.github.com/repos/pandas-dev/pandas/issues/43952/comments',\n",
              "  'created_at': '2021-10-10T03:42:18Z',\n",
              "  'events_url': 'https://api.github.com/repos/pandas-dev/pandas/issues/43952/events',\n",
              "  'html_url': 'https://github.com/pandas-dev/pandas/pull/43952',\n",
              "  'id': 1021870420,\n",
              "  'labels': [{'color': 'FCE94F',\n",
              "    'default': False,\n",
              "    'description': 'Internal refactoring of code',\n",
              "    'id': 127681,\n",
              "    'name': 'Refactor',\n",
              "    'node_id': 'MDU6TGFiZWwxMjc2ODE=',\n",
              "    'url': 'https://api.github.com/repos/pandas-dev/pandas/labels/Refactor'},\n",
              "   {'color': 'e99695',\n",
              "    'default': False,\n",
              "    'description': 'Related to the Index class or subclasses',\n",
              "    'id': 1218227310,\n",
              "    'name': 'Index',\n",
              "    'node_id': 'MDU6TGFiZWwxMjE4MjI3MzEw',\n",
              "    'url': 'https://api.github.com/repos/pandas-dev/pandas/labels/Index'}],\n",
              "  'labels_url': 'https://api.github.com/repos/pandas-dev/pandas/issues/43952/labels{/name}',\n",
              "  'locked': False,\n",
              "  'milestone': {'closed_at': None,\n",
              "   'closed_issues': 822,\n",
              "   'created_at': '2021-06-09T18:28:42Z',\n",
              "   'creator': {'avatar_url': 'https://avatars.githubusercontent.com/u/953992?v=4',\n",
              "    'events_url': 'https://api.github.com/users/jreback/events{/privacy}',\n",
              "    'followers_url': 'https://api.github.com/users/jreback/followers',\n",
              "    'following_url': 'https://api.github.com/users/jreback/following{/other_user}',\n",
              "    'gists_url': 'https://api.github.com/users/jreback/gists{/gist_id}',\n",
              "    'gravatar_id': '',\n",
              "    'html_url': 'https://github.com/jreback',\n",
              "    'id': 953992,\n",
              "    'login': 'jreback',\n",
              "    'node_id': 'MDQ6VXNlcjk1Mzk5Mg==',\n",
              "    'organizations_url': 'https://api.github.com/users/jreback/orgs',\n",
              "    'received_events_url': 'https://api.github.com/users/jreback/received_events',\n",
              "    'repos_url': 'https://api.github.com/users/jreback/repos',\n",
              "    'site_admin': False,\n",
              "    'starred_url': 'https://api.github.com/users/jreback/starred{/owner}{/repo}',\n",
              "    'subscriptions_url': 'https://api.github.com/users/jreback/subscriptions',\n",
              "    'type': 'User',\n",
              "    'url': 'https://api.github.com/users/jreback'},\n",
              "   'description': '',\n",
              "   'due_on': '2021-12-31T08:00:00Z',\n",
              "   'html_url': 'https://github.com/pandas-dev/pandas/milestone/86',\n",
              "   'id': 6840253,\n",
              "   'labels_url': 'https://api.github.com/repos/pandas-dev/pandas/milestones/86/labels',\n",
              "   'node_id': 'MDk6TWlsZXN0b25lNjg0MDI1Mw==',\n",
              "   'number': 86,\n",
              "   'open_issues': 68,\n",
              "   'state': 'open',\n",
              "   'title': '1.4',\n",
              "   'updated_at': '2021-10-10T14:39:46Z',\n",
              "   'url': 'https://api.github.com/repos/pandas-dev/pandas/milestones/86'},\n",
              "  'node_id': 'PR_kwDOAA0YD84s-q9w',\n",
              "  'number': 43952,\n",
              "  'performed_via_github_app': None,\n",
              "  'pull_request': {'diff_url': 'https://github.com/pandas-dev/pandas/pull/43952.diff',\n",
              "   'html_url': 'https://github.com/pandas-dev/pandas/pull/43952',\n",
              "   'patch_url': 'https://github.com/pandas-dev/pandas/pull/43952.patch',\n",
              "   'url': 'https://api.github.com/repos/pandas-dev/pandas/pulls/43952'},\n",
              "  'reactions': {'+1': 0,\n",
              "   '-1': 0,\n",
              "   'confused': 0,\n",
              "   'eyes': 0,\n",
              "   'heart': 0,\n",
              "   'hooray': 0,\n",
              "   'laugh': 0,\n",
              "   'rocket': 0,\n",
              "   'total_count': 0,\n",
              "   'url': 'https://api.github.com/repos/pandas-dev/pandas/issues/43952/reactions'},\n",
              "  'repository_url': 'https://api.github.com/repos/pandas-dev/pandas',\n",
              "  'state': 'open',\n",
              "  'timeline_url': 'https://api.github.com/repos/pandas-dev/pandas/issues/43952/timeline',\n",
              "  'title': 'REF: share RangeIndex methods',\n",
              "  'updated_at': '2021-10-10T15:04:36Z',\n",
              "  'url': 'https://api.github.com/repos/pandas-dev/pandas/issues/43952',\n",
              "  'user': {'avatar_url': 'https://avatars.githubusercontent.com/u/8078968?v=4',\n",
              "   'events_url': 'https://api.github.com/users/jbrockmendel/events{/privacy}',\n",
              "   'followers_url': 'https://api.github.com/users/jbrockmendel/followers',\n",
              "   'following_url': 'https://api.github.com/users/jbrockmendel/following{/other_user}',\n",
              "   'gists_url': 'https://api.github.com/users/jbrockmendel/gists{/gist_id}',\n",
              "   'gravatar_id': '',\n",
              "   'html_url': 'https://github.com/jbrockmendel',\n",
              "   'id': 8078968,\n",
              "   'login': 'jbrockmendel',\n",
              "   'node_id': 'MDQ6VXNlcjgwNzg5Njg=',\n",
              "   'organizations_url': 'https://api.github.com/users/jbrockmendel/orgs',\n",
              "   'received_events_url': 'https://api.github.com/users/jbrockmendel/received_events',\n",
              "   'repos_url': 'https://api.github.com/users/jbrockmendel/repos',\n",
              "   'site_admin': False,\n",
              "   'starred_url': 'https://api.github.com/users/jbrockmendel/starred{/owner}{/repo}',\n",
              "   'subscriptions_url': 'https://api.github.com/users/jbrockmendel/subscriptions',\n",
              "   'type': 'User',\n",
              "   'url': 'https://api.github.com/users/jbrockmendel'}},\n",
              " {'active_lock_reason': None,\n",
              "  'assignee': None,\n",
              "  'assignees': [],\n",
              "  'author_association': 'CONTRIBUTOR',\n",
              "  'body': 'Fixes #41610\\r\\n\\r\\nThe following is on top of (the not yet merged) #43855.\\r\\n\\r\\nThis PR does a few things:\\r\\n\\r\\n1. split `FilePathOrBuffer` apart to not mix basic types and generics\\r\\n2. use protocols instead of union of specific classes\\r\\n3. define many fine-grained protocols for the to/read methods/functions\\r\\n4. define `_typing.IO` (protocol) as a simpler alternative to `typing.IO` (class)\\r\\n\\r\\nTODO:\\r\\n\\r\\n - [ ] Do the protocol classes need further methods/attributes?\\r\\n - [ ] `get_handle` returns `_typing.IO`, could instead use many (more than ten) overloads to return the fine-grained protocols.',\n",
              "  'closed_at': None,\n",
              "  'comments': 0,\n",
              "  'comments_url': 'https://api.github.com/repos/pandas-dev/pandas/issues/43951/comments',\n",
              "  'created_at': '2021-10-10T02:23:24Z',\n",
              "  'events_url': 'https://api.github.com/repos/pandas-dev/pandas/issues/43951/events',\n",
              "  'html_url': 'https://github.com/pandas-dev/pandas/pull/43951',\n",
              "  'id': 1021859435,\n",
              "  'labels': [],\n",
              "  'labels_url': 'https://api.github.com/repos/pandas-dev/pandas/issues/43951/labels{/name}',\n",
              "  'locked': False,\n",
              "  'milestone': None,\n",
              "  'node_id': 'PR_kwDOAA0YD84s-pQY',\n",
              "  'number': 43951,\n",
              "  'performed_via_github_app': None,\n",
              "  'pull_request': {'diff_url': 'https://github.com/pandas-dev/pandas/pull/43951.diff',\n",
              "   'html_url': 'https://github.com/pandas-dev/pandas/pull/43951',\n",
              "   'patch_url': 'https://github.com/pandas-dev/pandas/pull/43951.patch',\n",
              "   'url': 'https://api.github.com/repos/pandas-dev/pandas/pulls/43951'},\n",
              "  'reactions': {'+1': 0,\n",
              "   '-1': 0,\n",
              "   'confused': 0,\n",
              "   'eyes': 0,\n",
              "   'heart': 0,\n",
              "   'hooray': 0,\n",
              "   'laugh': 0,\n",
              "   'rocket': 0,\n",
              "   'total_count': 0,\n",
              "   'url': 'https://api.github.com/repos/pandas-dev/pandas/issues/43951/reactions'},\n",
              "  'repository_url': 'https://api.github.com/repos/pandas-dev/pandas',\n",
              "  'state': 'open',\n",
              "  'timeline_url': 'https://api.github.com/repos/pandas-dev/pandas/issues/43951/timeline',\n",
              "  'title': 'TYP: Use Protocols for file-like objects in read/to_*',\n",
              "  'updated_at': '2021-10-10T03:22:12Z',\n",
              "  'url': 'https://api.github.com/repos/pandas-dev/pandas/issues/43951',\n",
              "  'user': {'avatar_url': 'https://avatars.githubusercontent.com/u/6618166?v=4',\n",
              "   'events_url': 'https://api.github.com/users/twoertwein/events{/privacy}',\n",
              "   'followers_url': 'https://api.github.com/users/twoertwein/followers',\n",
              "   'following_url': 'https://api.github.com/users/twoertwein/following{/other_user}',\n",
              "   'gists_url': 'https://api.github.com/users/twoertwein/gists{/gist_id}',\n",
              "   'gravatar_id': '',\n",
              "   'html_url': 'https://github.com/twoertwein',\n",
              "   'id': 6618166,\n",
              "   'login': 'twoertwein',\n",
              "   'node_id': 'MDQ6VXNlcjY2MTgxNjY=',\n",
              "   'organizations_url': 'https://api.github.com/users/twoertwein/orgs',\n",
              "   'received_events_url': 'https://api.github.com/users/twoertwein/received_events',\n",
              "   'repos_url': 'https://api.github.com/users/twoertwein/repos',\n",
              "   'site_admin': False,\n",
              "   'starred_url': 'https://api.github.com/users/twoertwein/starred{/owner}{/repo}',\n",
              "   'subscriptions_url': 'https://api.github.com/users/twoertwein/subscriptions',\n",
              "   'type': 'User',\n",
              "   'url': 'https://api.github.com/users/twoertwein'}},\n",
              " {'active_lock_reason': None,\n",
              "  'assignee': None,\n",
              "  'assignees': [],\n",
              "  'author_association': 'NONE',\n",
              "  'body': \"\\r\\n- [x] closes #3485\\r\\n- [] tests added / passed\\r\\n- [x] Ensure all linting tests pass, see [here](https://pandas.pydata.org/pandas-docs/dev/development/contributing_codebase.html#pre-commit) for how to run them\\r\\n- [ ] whatsnew entry\\r\\n``` python import pandas\\r\\nd = pandas.DataFrame([['hi,hi 2'],['bye','bye 2']], columns=['one','two'])\\r\\nprint(d.one.str.startswith(d.two))\\r\\n```\",\n",
              "  'closed_at': None,\n",
              "  'comments': 1,\n",
              "  'comments_url': 'https://api.github.com/repos/pandas-dev/pandas/issues/43950/comments',\n",
              "  'created_at': '2021-10-09T23:57:42Z',\n",
              "  'events_url': 'https://api.github.com/repos/pandas-dev/pandas/issues/43950/events',\n",
              "  'html_url': 'https://github.com/pandas-dev/pandas/pull/43950',\n",
              "  'id': 1021836797,\n",
              "  'labels': [],\n",
              "  'labels_url': 'https://api.github.com/repos/pandas-dev/pandas/issues/43950/labels{/name}',\n",
              "  'locked': False,\n",
              "  'milestone': None,\n",
              "  'node_id': 'PR_kwDOAA0YD84s-lff',\n",
              "  'number': 43950,\n",
              "  'performed_via_github_app': None,\n",
              "  'pull_request': {'diff_url': 'https://github.com/pandas-dev/pandas/pull/43950.diff',\n",
              "   'html_url': 'https://github.com/pandas-dev/pandas/pull/43950',\n",
              "   'patch_url': 'https://github.com/pandas-dev/pandas/pull/43950.patch',\n",
              "   'url': 'https://api.github.com/repos/pandas-dev/pandas/pulls/43950'},\n",
              "  'reactions': {'+1': 0,\n",
              "   '-1': 0,\n",
              "   'confused': 0,\n",
              "   'eyes': 0,\n",
              "   'heart': 0,\n",
              "   'hooray': 0,\n",
              "   'laugh': 0,\n",
              "   'rocket': 0,\n",
              "   'total_count': 0,\n",
              "   'url': 'https://api.github.com/repos/pandas-dev/pandas/issues/43950/reactions'},\n",
              "  'repository_url': 'https://api.github.com/repos/pandas-dev/pandas',\n",
              "  'state': 'open',\n",
              "  'timeline_url': 'https://api.github.com/repos/pandas-dev/pandas/issues/43950/timeline',\n",
              "  'title': 'fix bug #3485',\n",
              "  'updated_at': '2021-10-10T09:40:33Z',\n",
              "  'url': 'https://api.github.com/repos/pandas-dev/pandas/issues/43950',\n",
              "  'user': {'avatar_url': 'https://avatars.githubusercontent.com/u/22777525?v=4',\n",
              "   'events_url': 'https://api.github.com/users/oraby8/events{/privacy}',\n",
              "   'followers_url': 'https://api.github.com/users/oraby8/followers',\n",
              "   'following_url': 'https://api.github.com/users/oraby8/following{/other_user}',\n",
              "   'gists_url': 'https://api.github.com/users/oraby8/gists{/gist_id}',\n",
              "   'gravatar_id': '',\n",
              "   'html_url': 'https://github.com/oraby8',\n",
              "   'id': 22777525,\n",
              "   'login': 'oraby8',\n",
              "   'node_id': 'MDQ6VXNlcjIyNzc3NTI1',\n",
              "   'organizations_url': 'https://api.github.com/users/oraby8/orgs',\n",
              "   'received_events_url': 'https://api.github.com/users/oraby8/received_events',\n",
              "   'repos_url': 'https://api.github.com/users/oraby8/repos',\n",
              "   'site_admin': False,\n",
              "   'starred_url': 'https://api.github.com/users/oraby8/starred{/owner}{/repo}',\n",
              "   'subscriptions_url': 'https://api.github.com/users/oraby8/subscriptions',\n",
              "   'type': 'User',\n",
              "   'url': 'https://api.github.com/users/oraby8'}},\n",
              " {'active_lock_reason': None,\n",
              "  'assignee': None,\n",
              "  'assignees': [],\n",
              "  'author_association': 'NONE',\n",
              "  'body': 'Resolves #15585, resolves #25472, resolves #25288.\\r\\n\\r\\n- [x] closes #xxxx\\r\\n- [x] tests added / passed\\r\\n- [x] Ensure all linting tests pass, see [here](https://pandas.pydata.org/pandas-docs/dev/development/contributing_codebase.html#pre-commit) for how to run them\\r\\n- [ ] whatsnew entry',\n",
              "  'closed_at': None,\n",
              "  'comments': 2,\n",
              "  'comments_url': 'https://api.github.com/repos/pandas-dev/pandas/issues/43949/comments',\n",
              "  'created_at': '2021-10-09T23:34:51Z',\n",
              "  'events_url': 'https://api.github.com/repos/pandas-dev/pandas/issues/43949/events',\n",
              "  'html_url': 'https://github.com/pandas-dev/pandas/pull/43949',\n",
              "  'id': 1021833394,\n",
              "  'labels': [],\n",
              "  'labels_url': 'https://api.github.com/repos/pandas-dev/pandas/issues/43949/labels{/name}',\n",
              "  'locked': False,\n",
              "  'milestone': None,\n",
              "  'node_id': 'PR_kwDOAA0YD84s-k_N',\n",
              "  'number': 43949,\n",
              "  'performed_via_github_app': None,\n",
              "  'pull_request': {'diff_url': 'https://github.com/pandas-dev/pandas/pull/43949.diff',\n",
              "   'html_url': 'https://github.com/pandas-dev/pandas/pull/43949',\n",
              "   'patch_url': 'https://github.com/pandas-dev/pandas/pull/43949.patch',\n",
              "   'url': 'https://api.github.com/repos/pandas-dev/pandas/pulls/43949'},\n",
              "  'reactions': {'+1': 0,\n",
              "   '-1': 0,\n",
              "   'confused': 0,\n",
              "   'eyes': 0,\n",
              "   'heart': 0,\n",
              "   'hooray': 0,\n",
              "   'laugh': 0,\n",
              "   'rocket': 0,\n",
              "   'total_count': 0,\n",
              "   'url': 'https://api.github.com/repos/pandas-dev/pandas/issues/43949/reactions'},\n",
              "  'repository_url': 'https://api.github.com/repos/pandas-dev/pandas',\n",
              "  'state': 'open',\n",
              "  'timeline_url': 'https://api.github.com/repos/pandas-dev/pandas/issues/43949/timeline',\n",
              "  'title': 'Fix str dtype -> IntegerDtype conversions',\n",
              "  'updated_at': '2021-10-10T02:00:23Z',\n",
              "  'url': 'https://api.github.com/repos/pandas-dev/pandas/issues/43949',\n",
              "  'user': {'avatar_url': 'https://avatars.githubusercontent.com/u/67036?v=4',\n",
              "   'events_url': 'https://api.github.com/users/alexreg/events{/privacy}',\n",
              "   'followers_url': 'https://api.github.com/users/alexreg/followers',\n",
              "   'following_url': 'https://api.github.com/users/alexreg/following{/other_user}',\n",
              "   'gists_url': 'https://api.github.com/users/alexreg/gists{/gist_id}',\n",
              "   'gravatar_id': '',\n",
              "   'html_url': 'https://github.com/alexreg',\n",
              "   'id': 67036,\n",
              "   'login': 'alexreg',\n",
              "   'node_id': 'MDQ6VXNlcjY3MDM2',\n",
              "   'organizations_url': 'https://api.github.com/users/alexreg/orgs',\n",
              "   'received_events_url': 'https://api.github.com/users/alexreg/received_events',\n",
              "   'repos_url': 'https://api.github.com/users/alexreg/repos',\n",
              "   'site_admin': False,\n",
              "   'starred_url': 'https://api.github.com/users/alexreg/starred{/owner}{/repo}',\n",
              "   'subscriptions_url': 'https://api.github.com/users/alexreg/subscriptions',\n",
              "   'type': 'User',\n",
              "   'url': 'https://api.github.com/users/alexreg'}},\n",
              " {'active_lock_reason': None,\n",
              "  'assignee': None,\n",
              "  'assignees': [],\n",
              "  'author_association': 'CONTRIBUTOR',\n",
              "  'body': '….\\r\\n\\r\\n- [x] closes #43944\\r\\n- [x] tests added / passed\\r\\n- [x] Ensure all linting tests pass, see [here](https://pandas.pydata.org/pandas-docs/dev/development/contributing_codebase.html#pre-commit) for how to run them\\r\\n- [x] whatsnew entry\\r\\n',\n",
              "  'closed_at': None,\n",
              "  'comments': 1,\n",
              "  'comments_url': 'https://api.github.com/repos/pandas-dev/pandas/issues/43945/comments',\n",
              "  'created_at': '2021-10-09T22:44:19Z',\n",
              "  'events_url': 'https://api.github.com/repos/pandas-dev/pandas/issues/43945/events',\n",
              "  'html_url': 'https://github.com/pandas-dev/pandas/pull/43945',\n",
              "  'id': 1021825216,\n",
              "  'labels': [],\n",
              "  'labels_url': 'https://api.github.com/repos/pandas-dev/pandas/issues/43945/labels{/name}',\n",
              "  'locked': False,\n",
              "  'milestone': None,\n",
              "  'node_id': 'PR_kwDOAA0YD84s-jsU',\n",
              "  'number': 43945,\n",
              "  'performed_via_github_app': None,\n",
              "  'pull_request': {'diff_url': 'https://github.com/pandas-dev/pandas/pull/43945.diff',\n",
              "   'html_url': 'https://github.com/pandas-dev/pandas/pull/43945',\n",
              "   'patch_url': 'https://github.com/pandas-dev/pandas/pull/43945.patch',\n",
              "   'url': 'https://api.github.com/repos/pandas-dev/pandas/pulls/43945'},\n",
              "  'reactions': {'+1': 0,\n",
              "   '-1': 0,\n",
              "   'confused': 0,\n",
              "   'eyes': 0,\n",
              "   'heart': 0,\n",
              "   'hooray': 0,\n",
              "   'laugh': 0,\n",
              "   'rocket': 0,\n",
              "   'total_count': 0,\n",
              "   'url': 'https://api.github.com/repos/pandas-dev/pandas/issues/43945/reactions'},\n",
              "  'repository_url': 'https://api.github.com/repos/pandas-dev/pandas',\n",
              "  'state': 'open',\n",
              "  'timeline_url': 'https://api.github.com/repos/pandas-dev/pandas/issues/43945/timeline',\n",
              "  'title': '[FIX] rolling to respect duplicate datetime indices on the right bound of centered windows',\n",
              "  'updated_at': '2021-10-09T22:57:07Z',\n",
              "  'url': 'https://api.github.com/repos/pandas-dev/pandas/issues/43945',\n",
              "  'user': {'avatar_url': 'https://avatars.githubusercontent.com/u/22431999?v=4',\n",
              "   'events_url': 'https://api.github.com/users/rosagold/events{/privacy}',\n",
              "   'followers_url': 'https://api.github.com/users/rosagold/followers',\n",
              "   'following_url': 'https://api.github.com/users/rosagold/following{/other_user}',\n",
              "   'gists_url': 'https://api.github.com/users/rosagold/gists{/gist_id}',\n",
              "   'gravatar_id': '',\n",
              "   'html_url': 'https://github.com/rosagold',\n",
              "   'id': 22431999,\n",
              "   'login': 'rosagold',\n",
              "   'node_id': 'MDQ6VXNlcjIyNDMxOTk5',\n",
              "   'organizations_url': 'https://api.github.com/users/rosagold/orgs',\n",
              "   'received_events_url': 'https://api.github.com/users/rosagold/received_events',\n",
              "   'repos_url': 'https://api.github.com/users/rosagold/repos',\n",
              "   'site_admin': False,\n",
              "   'starred_url': 'https://api.github.com/users/rosagold/starred{/owner}{/repo}',\n",
              "   'subscriptions_url': 'https://api.github.com/users/rosagold/subscriptions',\n",
              "   'type': 'User',\n",
              "   'url': 'https://api.github.com/users/rosagold'}},\n",
              " {'active_lock_reason': None,\n",
              "  'assignee': None,\n",
              "  'assignees': [],\n",
              "  'author_association': 'CONTRIBUTOR',\n",
              "  'body': \"### \\r\\n\\r\\n- [X] I have checked that this issue has not already been reported.\\r\\n\\r\\n- [X] I have confirmed this bug exists on the [latest version](https://pandas.pydata.org/docs/whatsnew/index.html) of pandas.\\r\\n\\r\\n- [X] I have confirmed this bug exists on the master branch of pandas.\\r\\n\\r\\n\\r\\n### Reproducible Example\\r\\n\\r\\n```python\\r\\nimport pandas as pd\\r\\nindex = pd.DatetimeIndex([\\r\\n    '2020-01-01', '2020-01-01',\\r\\n    '2020-01-02', '2020-01-02',\\r\\n    '2020-01-03', '2020-01-03',\\r\\n    '2020-01-04', '2020-01-04',\\r\\n])\\r\\ns = pd.Series([1]*8, index=index, dtype=float)\\r\\n\\r\\ns.rolling('2D', center=True).sum()\\r\\n\\r\\n>> Out[6]: \\r\\n2020-01-01    4.0\\r\\n2020-01-01    4.0\\r\\n2020-01-02    3.0\\r\\n2020-01-02    4.0\\r\\n2020-01-03    3.0\\r\\n2020-01-03    4.0\\r\\n2020-01-04    2.0\\r\\n2020-01-04    2.0\\r\\ndtype: float64\\r\\n```\\r\\n\\r\\n\\r\\n### Issue Description\\r\\n\\r\\nthe right window bound is not respected for **centered** datetime windows. \\r\\n\\r\\nThis differs somewhat from issue #20712 and does not change the behavior discussed there..\\r\\n\\r\\ni prepared a PR for this.  \\r\\n \\r\\n\\r\\n### Expected Behavior\\r\\n\\r\\n```python\\r\\ns.rolling('2D', center=True).sum()\\r\\nOut[4]: \\r\\n2020-01-01    4.0\\r\\n2020-01-01    4.0\\r\\n2020-01-02    4.0\\r\\n2020-01-02    4.0\\r\\n2020-01-03    4.0\\r\\n2020-01-03    4.0\\r\\n2020-01-04    2.0\\r\\n2020-01-04    2.0\\r\\ndtype: float64\\r\\n```\\r\\n\\r\\n### Installed Versions\\r\\n\\r\\n<details>\\r\\n\\r\\nINSTALLED VERSIONS\\r\\n------------------\\r\\ncommit           : d30aeeba0c79fb8e4b651a8f528e87c3de8cb898\\r\\npython           : 3.8.12.final.0\\r\\npython-bits      : 64\\r\\nOS               : Linux\\r\\nOS-release       : 5.4.0-88-generic\\r\\nVersion          : #99-Ubuntu SMP Thu Sep 23 17:29:00 UTC 2021\\r\\nmachine          : x86_64\\r\\nprocessor        : x86_64\\r\\nbyteorder        : little\\r\\nLC_ALL           : None\\r\\nLANG             : en_US.UTF-8\\r\\nLOCALE           : en_US.UTF-8\\r\\npandas           : 1.4.0.dev0+857.gd30aeeba0c\\r\\nnumpy            : 1.21.2\\r\\npytz             : 2021.1\\r\\ndateutil         : 2.8.2\\r\\npip              : 21.2.4\\r\\nsetuptools       : 58.2.0\\r\\nCython           : 0.29.24\\r\\npytest           : 6.2.5\\r\\nhypothesis       : 6.23.1\\r\\nsphinx           : 4.2.0\\r\\nblosc            : None\\r\\nfeather          : None\\r\\nxlsxwriter       : 3.0.1\\r\\nlxml.etree       : 4.6.3\\r\\nhtml5lib         : 1.1\\r\\npymysql          : None\\r\\npsycopg2         : None\\r\\njinja2           : 3.0.1\\r\\nIPython          : 7.28.0\\r\\npandas_datareader: None\\r\\nbs4              : 4.10.0\\r\\nbottleneck       : 1.3.2\\r\\nfsspec           : 2021.10.0\\r\\nfastparquet      : 0.7.1\\r\\ngcsfs            : 2021.10.0\\r\\nmatplotlib       : 3.4.3\\r\\nnumexpr          : 2.7.3\\r\\nodfpy            : None\\r\\nopenpyxl         : 3.0.9\\r\\npandas_gbq       : None\\r\\npyarrow          : 5.0.0\\r\\npyxlsb           : None\\r\\ns3fs             : 2021.10.0\\r\\nscipy            : 1.7.1\\r\\nsqlalchemy       : 1.4.25\\r\\ntables           : 3.6.1\\r\\ntabulate         : 0.8.9\\r\\nxarray           : 0.18.2\\r\\nxlrd             : 2.0.1\\r\\nxlwt             : 1.3.0\\r\\nnumba            : 0.53.1\\r\\n\\r\\n</details>\",\n",
              "  'closed_at': None,\n",
              "  'comments': 0,\n",
              "  'comments_url': 'https://api.github.com/repos/pandas-dev/pandas/issues/43944/comments',\n",
              "  'created_at': '2021-10-09T22:42:18Z',\n",
              "  'events_url': 'https://api.github.com/repos/pandas-dev/pandas/issues/43944/events',\n",
              "  'html_url': 'https://github.com/pandas-dev/pandas/issues/43944',\n",
              "  'id': 1021824860,\n",
              "  'labels': [{'color': 'e10c02',\n",
              "    'default': False,\n",
              "    'description': None,\n",
              "    'id': 76811,\n",
              "    'name': 'Bug',\n",
              "    'node_id': 'MDU6TGFiZWw3NjgxMQ==',\n",
              "    'url': 'https://api.github.com/repos/pandas-dev/pandas/labels/Bug'},\n",
              "   {'color': '0052cc',\n",
              "    'default': False,\n",
              "    'description': 'Issue that has not been reviewed by a pandas team member',\n",
              "    'id': 1954720290,\n",
              "    'name': 'Needs Triage',\n",
              "    'node_id': 'MDU6TGFiZWwxOTU0NzIwMjkw',\n",
              "    'url': 'https://api.github.com/repos/pandas-dev/pandas/labels/Needs%20Triage'}],\n",
              "  'labels_url': 'https://api.github.com/repos/pandas-dev/pandas/issues/43944/labels{/name}',\n",
              "  'locked': False,\n",
              "  'milestone': None,\n",
              "  'node_id': 'I_kwDOAA0YD848589c',\n",
              "  'number': 43944,\n",
              "  'performed_via_github_app': None,\n",
              "  'reactions': {'+1': 0,\n",
              "   '-1': 0,\n",
              "   'confused': 0,\n",
              "   'eyes': 0,\n",
              "   'heart': 0,\n",
              "   'hooray': 0,\n",
              "   'laugh': 0,\n",
              "   'rocket': 0,\n",
              "   'total_count': 0,\n",
              "   'url': 'https://api.github.com/repos/pandas-dev/pandas/issues/43944/reactions'},\n",
              "  'repository_url': 'https://api.github.com/repos/pandas-dev/pandas',\n",
              "  'state': 'open',\n",
              "  'timeline_url': 'https://api.github.com/repos/pandas-dev/pandas/issues/43944/timeline',\n",
              "  'title': 'BUG: rolling on centered datetimelike windows disrespect duplicate indices',\n",
              "  'updated_at': '2021-10-09T22:47:23Z',\n",
              "  'url': 'https://api.github.com/repos/pandas-dev/pandas/issues/43944',\n",
              "  'user': {'avatar_url': 'https://avatars.githubusercontent.com/u/22431999?v=4',\n",
              "   'events_url': 'https://api.github.com/users/rosagold/events{/privacy}',\n",
              "   'followers_url': 'https://api.github.com/users/rosagold/followers',\n",
              "   'following_url': 'https://api.github.com/users/rosagold/following{/other_user}',\n",
              "   'gists_url': 'https://api.github.com/users/rosagold/gists{/gist_id}',\n",
              "   'gravatar_id': '',\n",
              "   'html_url': 'https://github.com/rosagold',\n",
              "   'id': 22431999,\n",
              "   'login': 'rosagold',\n",
              "   'node_id': 'MDQ6VXNlcjIyNDMxOTk5',\n",
              "   'organizations_url': 'https://api.github.com/users/rosagold/orgs',\n",
              "   'received_events_url': 'https://api.github.com/users/rosagold/received_events',\n",
              "   'repos_url': 'https://api.github.com/users/rosagold/repos',\n",
              "   'site_admin': False,\n",
              "   'starred_url': 'https://api.github.com/users/rosagold/starred{/owner}{/repo}',\n",
              "   'subscriptions_url': 'https://api.github.com/users/rosagold/subscriptions',\n",
              "   'type': 'User',\n",
              "   'url': 'https://api.github.com/users/rosagold'}},\n",
              " {'active_lock_reason': None,\n",
              "  'assignee': None,\n",
              "  'assignees': [],\n",
              "  'author_association': 'CONTRIBUTOR',\n",
              "  'body': '- [x] closes #43814 \\r\\n- [x] tests added / passed\\r\\n- [x] Ensure all linting tests pass, see [here](https://pandas.pydata.org/pandas-docs/dev/development/contributing_codebase.html#pre-commit) for how to run them\\r\\n- [ ] whatsnew entry\\r\\n',\n",
              "  'closed_at': None,\n",
              "  'comments': 2,\n",
              "  'comments_url': 'https://api.github.com/repos/pandas-dev/pandas/issues/43943/comments',\n",
              "  'created_at': '2021-10-09T21:12:50Z',\n",
              "  'events_url': 'https://api.github.com/repos/pandas-dev/pandas/issues/43943/events',\n",
              "  'html_url': 'https://github.com/pandas-dev/pandas/pull/43943',\n",
              "  'id': 1021807224,\n",
              "  'labels': [],\n",
              "  'labels_url': 'https://api.github.com/repos/pandas-dev/pandas/issues/43943/labels{/name}',\n",
              "  'locked': False,\n",
              "  'milestone': None,\n",
              "  'node_id': 'PR_kwDOAA0YD84s-gho',\n",
              "  'number': 43943,\n",
              "  'performed_via_github_app': None,\n",
              "  'pull_request': {'diff_url': 'https://github.com/pandas-dev/pandas/pull/43943.diff',\n",
              "   'html_url': 'https://github.com/pandas-dev/pandas/pull/43943',\n",
              "   'patch_url': 'https://github.com/pandas-dev/pandas/pull/43943.patch',\n",
              "   'url': 'https://api.github.com/repos/pandas-dev/pandas/pulls/43943'},\n",
              "  'reactions': {'+1': 0,\n",
              "   '-1': 0,\n",
              "   'confused': 0,\n",
              "   'eyes': 0,\n",
              "   'heart': 0,\n",
              "   'hooray': 0,\n",
              "   'laugh': 0,\n",
              "   'rocket': 0,\n",
              "   'total_count': 0,\n",
              "   'url': 'https://api.github.com/repos/pandas-dev/pandas/issues/43943/reactions'},\n",
              "  'repository_url': 'https://api.github.com/repos/pandas-dev/pandas',\n",
              "  'state': 'open',\n",
              "  'timeline_url': 'https://api.github.com/repos/pandas-dev/pandas/issues/43943/timeline',\n",
              "  'title': 'Fix multiindex loc nan',\n",
              "  'updated_at': '2021-10-10T14:23:21Z',\n",
              "  'url': 'https://api.github.com/repos/pandas-dev/pandas/issues/43943',\n",
              "  'user': {'avatar_url': 'https://avatars.githubusercontent.com/u/31857876?v=4',\n",
              "   'events_url': 'https://api.github.com/users/CloseChoice/events{/privacy}',\n",
              "   'followers_url': 'https://api.github.com/users/CloseChoice/followers',\n",
              "   'following_url': 'https://api.github.com/users/CloseChoice/following{/other_user}',\n",
              "   'gists_url': 'https://api.github.com/users/CloseChoice/gists{/gist_id}',\n",
              "   'gravatar_id': '',\n",
              "   'html_url': 'https://github.com/CloseChoice',\n",
              "   'id': 31857876,\n",
              "   'login': 'CloseChoice',\n",
              "   'node_id': 'MDQ6VXNlcjMxODU3ODc2',\n",
              "   'organizations_url': 'https://api.github.com/users/CloseChoice/orgs',\n",
              "   'received_events_url': 'https://api.github.com/users/CloseChoice/received_events',\n",
              "   'repos_url': 'https://api.github.com/users/CloseChoice/repos',\n",
              "   'site_admin': False,\n",
              "   'starred_url': 'https://api.github.com/users/CloseChoice/starred{/owner}{/repo}',\n",
              "   'subscriptions_url': 'https://api.github.com/users/CloseChoice/subscriptions',\n",
              "   'type': 'User',\n",
              "   'url': 'https://api.github.com/users/CloseChoice'}},\n",
              " {'active_lock_reason': None,\n",
              "  'assignee': None,\n",
              "  'assignees': [],\n",
              "  'author_association': 'NONE',\n",
              "  'body': 'Adds simple examples to docstrings for `add_categories`, `remove_categories`, and `remove_unused_categories`.\\r\\n',\n",
              "  'closed_at': None,\n",
              "  'comments': 0,\n",
              "  'comments_url': 'https://api.github.com/repos/pandas-dev/pandas/issues/43942/comments',\n",
              "  'created_at': '2021-10-09T17:00:32Z',\n",
              "  'events_url': 'https://api.github.com/repos/pandas-dev/pandas/issues/43942/events',\n",
              "  'html_url': 'https://github.com/pandas-dev/pandas/pull/43942',\n",
              "  'id': 1021755974,\n",
              "  'labels': [],\n",
              "  'labels_url': 'https://api.github.com/repos/pandas-dev/pandas/issues/43942/labels{/name}',\n",
              "  'locked': False,\n",
              "  'milestone': None,\n",
              "  'node_id': 'PR_kwDOAA0YD84s-Xwj',\n",
              "  'number': 43942,\n",
              "  'performed_via_github_app': None,\n",
              "  'pull_request': {'diff_url': 'https://github.com/pandas-dev/pandas/pull/43942.diff',\n",
              "   'html_url': 'https://github.com/pandas-dev/pandas/pull/43942',\n",
              "   'patch_url': 'https://github.com/pandas-dev/pandas/pull/43942.patch',\n",
              "   'url': 'https://api.github.com/repos/pandas-dev/pandas/pulls/43942'},\n",
              "  'reactions': {'+1': 0,\n",
              "   '-1': 0,\n",
              "   'confused': 0,\n",
              "   'eyes': 0,\n",
              "   'heart': 0,\n",
              "   'hooray': 0,\n",
              "   'laugh': 0,\n",
              "   'rocket': 0,\n",
              "   'total_count': 0,\n",
              "   'url': 'https://api.github.com/repos/pandas-dev/pandas/issues/43942/reactions'},\n",
              "  'repository_url': 'https://api.github.com/repos/pandas-dev/pandas',\n",
              "  'state': 'open',\n",
              "  'timeline_url': 'https://api.github.com/repos/pandas-dev/pandas/issues/43942/timeline',\n",
              "  'title': 'DOC: Add examples for categorical functions',\n",
              "  'updated_at': '2021-10-09T17:00:32Z',\n",
              "  'url': 'https://api.github.com/repos/pandas-dev/pandas/issues/43942',\n",
              "  'user': {'avatar_url': 'https://avatars.githubusercontent.com/u/5485577?v=4',\n",
              "   'events_url': 'https://api.github.com/users/AndrewEckart/events{/privacy}',\n",
              "   'followers_url': 'https://api.github.com/users/AndrewEckart/followers',\n",
              "   'following_url': 'https://api.github.com/users/AndrewEckart/following{/other_user}',\n",
              "   'gists_url': 'https://api.github.com/users/AndrewEckart/gists{/gist_id}',\n",
              "   'gravatar_id': '',\n",
              "   'html_url': 'https://github.com/AndrewEckart',\n",
              "   'id': 5485577,\n",
              "   'login': 'AndrewEckart',\n",
              "   'node_id': 'MDQ6VXNlcjU0ODU1Nzc=',\n",
              "   'organizations_url': 'https://api.github.com/users/AndrewEckart/orgs',\n",
              "   'received_events_url': 'https://api.github.com/users/AndrewEckart/received_events',\n",
              "   'repos_url': 'https://api.github.com/users/AndrewEckart/repos',\n",
              "   'site_admin': False,\n",
              "   'starred_url': 'https://api.github.com/users/AndrewEckart/starred{/owner}{/repo}',\n",
              "   'subscriptions_url': 'https://api.github.com/users/AndrewEckart/subscriptions',\n",
              "   'type': 'User',\n",
              "   'url': 'https://api.github.com/users/AndrewEckart'}},\n",
              " {'active_lock_reason': None,\n",
              "  'assignee': None,\n",
              "  'assignees': [],\n",
              "  'author_association': 'CONTRIBUTOR',\n",
              "  'body': '### \\n\\n- [X] I have checked that this issue has not already been reported.\\n\\n- [X] I have confirmed this bug exists on the [latest version](https://pandas.pydata.org/docs/whatsnew/index.html) of pandas.\\n\\n- [ ] I have confirmed this bug exists on the master branch of pandas.\\n\\n\\n### Reproducible Example\\n\\n```python\\nimport pandas as pd\\r\\n\\r\\nt = pd.to_datetime([\"2021-01-01\", \"2021-01-03\", \"2021-01-04\"])\\r\\nprint(t)\\r\\n\\r\\ndt = t.to_series().diff()\\r\\nprint(dt)\\r\\n\\r\\ndt.plot.hist()\\n```\\n\\n\\n### Issue Description\\n\\nI get this crash from the `dt.plot.hist()` call:\\r\\n\\r\\n```\\r\\n% python crash.py\\r\\nDatetimeIndex([\\'2021-01-01\\', \\'2021-01-03\\', \\'2021-01-04\\'], dtype=\\'datetime64[ns]\\', freq=None)\\r\\n2021-01-01      NaT\\r\\n2021-01-03   2 days\\r\\n2021-01-04   1 days\\r\\ndtype: timedelta64[ns]\\r\\nzsh: segmentation fault  python crash.py\\r\\n```\\n\\n### Expected Behavior\\n\\nNo segfault. Give a plot or some informative exception.\\n\\n### Installed Versions\\n\\nThis is with Python 3.9 on MacOS installed via conda-forge.\\r\\n\\r\\n<details>\\r\\n\\r\\n% cat environment.yml \\r\\nname: cement\\r\\n\\r\\nchannels:\\r\\n- conda-forge\\r\\n- nodefaults\\r\\n\\r\\ndependencies:\\r\\n- python==3.9\\r\\n- jupyterlab==3.1\\r\\n- pandas==1.3\\r\\n- scikit-learn==1.0\\r\\n- missingno\\r\\n- matplotlib\\r\\n- seaborn==0.11\\r\\n- dtale==1.56\\r\\n- pandas-profiling\\r\\n- sweetviz==2.1\\r\\n- hcrystalball==0.1.10\\r\\n- pip\\r\\n- pip:\\r\\n    - flaml\\r\\n\\r\\n</details>\\r\\n\\r\\n<details>\\r\\n\\r\\n>>> pd.show_versions()\\r\\n\\r\\nINSTALLED VERSIONS\\r\\n------------------\\r\\ncommit           : f00ed8f47020034e752baf0250483053340971b0\\r\\npython           : 3.9.0.final.0\\r\\npython-bits      : 64\\r\\nOS               : Darwin\\r\\nOS-release       : 20.6.0\\r\\nVersion          : Darwin Kernel Version 20.6.0: Mon Aug 30 06:12:21 PDT 2021; root:xnu-7195.141.6~3/RELEASE_X86_64\\r\\nmachine          : x86_64\\r\\nprocessor        : i386\\r\\nbyteorder        : little\\r\\nLC_ALL           : None\\r\\nLANG             : None\\r\\nLOCALE           : None.UTF-8\\r\\n\\r\\npandas           : 1.3.0\\r\\nnumpy            : 1.21.2\\r\\npytz             : 2021.1\\r\\ndateutil         : 2.8.2\\r\\npip              : 21.2.4\\r\\nsetuptools       : 58.0.4\\r\\nCython           : None\\r\\npytest           : None\\r\\nhypothesis       : None\\r\\nsphinx           : None\\r\\nblosc            : None\\r\\nfeather          : None\\r\\nxlsxwriter       : None\\r\\nlxml.etree       : None\\r\\nhtml5lib         : None\\r\\npymysql          : None\\r\\npsycopg2         : None\\r\\njinja2           : 3.0.1\\r\\nIPython          : 7.28.0\\r\\npandas_datareader: None\\r\\nbs4              : None\\r\\nbottleneck       : None\\r\\nfsspec           : None\\r\\nfastparquet      : None\\r\\ngcsfs            : None\\r\\nmatplotlib       : 3.4.3\\r\\nnumexpr          : None\\r\\nodfpy            : None\\r\\nopenpyxl         : 3.0.9\\r\\npandas_gbq       : None\\r\\npyarrow          : None\\r\\npyxlsb           : None\\r\\ns3fs             : None\\r\\nscipy            : 1.7.1\\r\\nsqlalchemy       : None\\r\\ntables           : None\\r\\ntabulate         : None\\r\\nxarray           : 0.19.0\\r\\nxlrd             : 2.0.1\\r\\nxlwt             : None\\r\\nnumba            : 0.53.1\\r\\n\\r\\n</details>\\r\\n',\n",
              "  'closed_at': None,\n",
              "  'comments': 1,\n",
              "  'comments_url': 'https://api.github.com/repos/pandas-dev/pandas/issues/43941/comments',\n",
              "  'created_at': '2021-10-09T11:22:06Z',\n",
              "  'events_url': 'https://api.github.com/repos/pandas-dev/pandas/issues/43941/events',\n",
              "  'html_url': 'https://github.com/pandas-dev/pandas/issues/43941',\n",
              "  'id': 1021683345,\n",
              "  'labels': [{'color': 'e10c02',\n",
              "    'default': False,\n",
              "    'description': None,\n",
              "    'id': 76811,\n",
              "    'name': 'Bug',\n",
              "    'node_id': 'MDU6TGFiZWw3NjgxMQ==',\n",
              "    'url': 'https://api.github.com/repos/pandas-dev/pandas/labels/Bug'},\n",
              "   {'color': '8AE234',\n",
              "    'default': False,\n",
              "    'description': None,\n",
              "    'id': 2413328,\n",
              "    'name': 'Visualization',\n",
              "    'node_id': 'MDU6TGFiZWwyNDEzMzI4',\n",
              "    'url': 'https://api.github.com/repos/pandas-dev/pandas/labels/Visualization'},\n",
              "   {'color': '5319e7',\n",
              "    'default': False,\n",
              "    'description': 'Timedelta data type',\n",
              "    'id': 49597148,\n",
              "    'name': 'Timedelta',\n",
              "    'node_id': 'MDU6TGFiZWw0OTU5NzE0OA==',\n",
              "    'url': 'https://api.github.com/repos/pandas-dev/pandas/labels/Timedelta'},\n",
              "   {'color': '36ede0',\n",
              "    'default': False,\n",
              "    'description': 'Non-Recoverable Error',\n",
              "    'id': 1121248195,\n",
              "    'name': 'Segfault',\n",
              "    'node_id': 'MDU6TGFiZWwxMTIxMjQ4MTk1',\n",
              "    'url': 'https://api.github.com/repos/pandas-dev/pandas/labels/Segfault'},\n",
              "   {'color': 'd8439a',\n",
              "    'default': False,\n",
              "    'description': 'Issue related to pandas dependency',\n",
              "    'id': 2533668378,\n",
              "    'name': 'Upstream issue',\n",
              "    'node_id': 'MDU6TGFiZWwyNTMzNjY4Mzc4',\n",
              "    'url': 'https://api.github.com/repos/pandas-dev/pandas/labels/Upstream%20issue'}],\n",
              "  'labels_url': 'https://api.github.com/repos/pandas-dev/pandas/issues/43941/labels{/name}',\n",
              "  'locked': False,\n",
              "  'milestone': None,\n",
              "  'node_id': 'I_kwDOAA0YD8485aaR',\n",
              "  'number': 43941,\n",
              "  'performed_via_github_app': None,\n",
              "  'reactions': {'+1': 0,\n",
              "   '-1': 0,\n",
              "   'confused': 0,\n",
              "   'eyes': 0,\n",
              "   'heart': 0,\n",
              "   'hooray': 0,\n",
              "   'laugh': 0,\n",
              "   'rocket': 0,\n",
              "   'total_count': 0,\n",
              "   'url': 'https://api.github.com/repos/pandas-dev/pandas/issues/43941/reactions'},\n",
              "  'repository_url': 'https://api.github.com/repos/pandas-dev/pandas',\n",
              "  'state': 'open',\n",
              "  'timeline_url': 'https://api.github.com/repos/pandas-dev/pandas/issues/43941/timeline',\n",
              "  'title': 'BUG: Series.plot.hist segfault for timedelta64 ',\n",
              "  'updated_at': '2021-10-09T15:45:12Z',\n",
              "  'url': 'https://api.github.com/repos/pandas-dev/pandas/issues/43941',\n",
              "  'user': {'avatar_url': 'https://avatars.githubusercontent.com/u/852409?v=4',\n",
              "   'events_url': 'https://api.github.com/users/cdeil/events{/privacy}',\n",
              "   'followers_url': 'https://api.github.com/users/cdeil/followers',\n",
              "   'following_url': 'https://api.github.com/users/cdeil/following{/other_user}',\n",
              "   'gists_url': 'https://api.github.com/users/cdeil/gists{/gist_id}',\n",
              "   'gravatar_id': '',\n",
              "   'html_url': 'https://github.com/cdeil',\n",
              "   'id': 852409,\n",
              "   'login': 'cdeil',\n",
              "   'node_id': 'MDQ6VXNlcjg1MjQwOQ==',\n",
              "   'organizations_url': 'https://api.github.com/users/cdeil/orgs',\n",
              "   'received_events_url': 'https://api.github.com/users/cdeil/received_events',\n",
              "   'repos_url': 'https://api.github.com/users/cdeil/repos',\n",
              "   'site_admin': False,\n",
              "   'starred_url': 'https://api.github.com/users/cdeil/starred{/owner}{/repo}',\n",
              "   'subscriptions_url': 'https://api.github.com/users/cdeil/subscriptions',\n",
              "   'type': 'User',\n",
              "   'url': 'https://api.github.com/users/cdeil'}},\n",
              " {'active_lock_reason': None,\n",
              "  'assignee': None,\n",
              "  'assignees': [],\n",
              "  'author_association': 'NONE',\n",
              "  'body': '### \\r\\n\\r\\n- [X] I have checked that this issue has not already been reported.\\r\\n\\r\\n- [X] I have confirmed this bug exists on the [latest version](https://pandas.pydata.org/docs/whatsnew/index.html) of pandas.\\r\\n\\r\\n- [ ] I have confirmed this bug exists on the master branch of pandas.\\r\\n\\r\\n\\r\\n### Reproducible Example\\r\\n\\r\\n```python\\r\\nimport pandas as pd\\r\\n\\r\\n\\r\\ndef map_func(dt):\\r\\n    if dt.month <= 2:\\r\\n        return dt.year + dt.month - 1\\r\\n    return dt.year + dt.month\\r\\n\\r\\n\\r\\ndict = {\\r\\n    \"Name\": [\"Tom\", \"Joseph\"],\\r\\n    \"Date\": [\"2021-10-01\", \"2021-11-01\"],\\r\\n}\\r\\ndf = pd.DataFrame(dict)\\r\\ndf = df.set_index(\"Date\")\\r\\ndf.index = pd.to_datetime(df.index)\\r\\nprint(f\"Result: {df.index.map(map_func)}\")\\r\\n```\\r\\n\\r\\n\\r\\n### Issue Description\\r\\n\\r\\nRunning the attached program in debugpy debugger produces different results than if I run it plainly.\\r\\n\\r\\nRunning it plainly with `/usr/bin/env /usr/bin/python3.9 test.py` produces output as expected:\\r\\n`Result: Int64Index([2031, 2032], dtype=\\'int64\\', name=\\'Date\\')`\\r\\n\\r\\nRunning it in debugpy with: \\r\\n`cd $USER/test_error ; /usr/bin/env /usr/bin/python3.9 $USER/.vscode/extensions/ms-python.python-2021.10.1317843341/pythonFiles/lib/python/debugpy/launcher 37319 -- $USER/test_error/test.py`\\r\\nproduces a crash on line 5. For some reason dt.month is the full index:\\r\\n`DatetimeIndex([\\'2021-10-01\\', \\'2021-11-01\\'], dtype=\\'datetime64[ns]\\', name=\\'Date\\', freq=None)`\\r\\nand not only a single date. \\r\\n\\r\\nNote that the debugpy command above is the auto generated command when using the VS code debugger (Run -> Start Debugging, or F5). Note that it also assumes that you are in the \\'$USER/test_error\\' directory.\\r\\n\\r\\nVS code version is 1.61.0 and Python extension version is v2021.10.1317843341.\\r\\n\\r\\nI\\'m posting it here, but I\\'m not sure if it\\'s a pandas, debugger or python issue. \\r\\n\\r\\n### Expected Behavior\\r\\n\\r\\nNo crash when running in debugpy, or at least the same result\\r\\n\\r\\n### Installed Versions\\r\\n\\r\\n\\r\\nINSTALLED VERSIONS\\r\\n------------------\\r\\ncommit           : 73c68257545b5f8530b7044f56647bd2db92e2ba\\r\\npython           : 3.9.6.final.0\\r\\npython-bits      : 64\\r\\nOS               : Linux\\r\\nOS-release       : 5.11.0-37-generic\\r\\nVersion          : #41~20.04.2-Ubuntu SMP Fri Sep 24 09:06:38 UTC 2021\\r\\nmachine          : x86_64\\r\\nprocessor        : x86_64\\r\\nbyteorder        : little\\r\\nLC_ALL           : None\\r\\nLANG             : en_US.UTF-8\\r\\nLOCALE           : en_US.UTF-8\\r\\n\\r\\npandas           : 1.3.3\\r\\nnumpy            : 1.21.2\\r\\npytz             : 2021.3\\r\\ndateutil         : 2.8.2\\r\\npip              : 21.2.4\\r\\nsetuptools       : 58.2.0\\r\\nCython           : 0.29.24\\r\\npytest           : None\\r\\nhypothesis       : None\\r\\nsphinx           : None\\r\\nblosc            : None\\r\\nfeather          : None\\r\\nxlsxwriter       : 3.0.1\\r\\nlxml.etree       : 4.6.3\\r\\nhtml5lib         : None\\r\\npymysql          : None\\r\\npsycopg2         : None\\r\\njinja2           : 3.0.2\\r\\nIPython          : None\\r\\npandas_datareader: None\\r\\nbs4              : 4.10.0\\r\\nbottleneck       : 1.3.2\\r\\nfsspec           : None\\r\\nfastparquet      : None\\r\\ngcsfs            : None\\r\\nmatplotlib       : 3.4.3\\r\\nnumexpr          : 2.7.3\\r\\nodfpy            : None\\r\\nopenpyxl         : 3.0.9\\r\\npandas_gbq       : None\\r\\npyarrow          : None\\r\\npyxlsb           : None\\r\\ns3fs             : None\\r\\nscipy            : 1.7.1\\r\\nsqlalchemy       : None\\r\\ntables           : 3.6.1\\r\\ntabulate         : None\\r\\nxarray           : None\\r\\nxlrd             : None\\r\\nxlwt             : None\\r\\nnumba            : None\\r\\nNone',\n",
              "  'closed_at': None,\n",
              "  'comments': 2,\n",
              "  'comments_url': 'https://api.github.com/repos/pandas-dev/pandas/issues/43940/comments',\n",
              "  'created_at': '2021-10-09T09:29:03Z',\n",
              "  'events_url': 'https://api.github.com/repos/pandas-dev/pandas/issues/43940/events',\n",
              "  'html_url': 'https://github.com/pandas-dev/pandas/issues/43940',\n",
              "  'id': 1021659702,\n",
              "  'labels': [{'color': 'e10c02',\n",
              "    'default': False,\n",
              "    'description': None,\n",
              "    'id': 76811,\n",
              "    'name': 'Bug',\n",
              "    'node_id': 'MDU6TGFiZWw3NjgxMQ==',\n",
              "    'url': 'https://api.github.com/repos/pandas-dev/pandas/labels/Bug'},\n",
              "   {'color': 'e99695',\n",
              "    'default': False,\n",
              "    'description': 'Related to the Index class or subclasses',\n",
              "    'id': 1218227310,\n",
              "    'name': 'Index',\n",
              "    'node_id': 'MDU6TGFiZWwxMjE4MjI3MzEw',\n",
              "    'url': 'https://api.github.com/repos/pandas-dev/pandas/labels/Index'},\n",
              "   {'color': '0052cc',\n",
              "    'default': False,\n",
              "    'description': 'Issue that has not been reviewed by a pandas team member',\n",
              "    'id': 1954720290,\n",
              "    'name': 'Needs Triage',\n",
              "    'node_id': 'MDU6TGFiZWwxOTU0NzIwMjkw',\n",
              "    'url': 'https://api.github.com/repos/pandas-dev/pandas/labels/Needs%20Triage'}],\n",
              "  'labels_url': 'https://api.github.com/repos/pandas-dev/pandas/issues/43940/labels{/name}',\n",
              "  'locked': False,\n",
              "  'milestone': None,\n",
              "  'node_id': 'I_kwDOAA0YD8485Uo2',\n",
              "  'number': 43940,\n",
              "  'performed_via_github_app': None,\n",
              "  'reactions': {'+1': 0,\n",
              "   '-1': 0,\n",
              "   'confused': 0,\n",
              "   'eyes': 0,\n",
              "   'heart': 0,\n",
              "   'hooray': 0,\n",
              "   'laugh': 0,\n",
              "   'rocket': 0,\n",
              "   'total_count': 0,\n",
              "   'url': 'https://api.github.com/repos/pandas-dev/pandas/issues/43940/reactions'},\n",
              "  'repository_url': 'https://api.github.com/repos/pandas-dev/pandas',\n",
              "  'state': 'open',\n",
              "  'timeline_url': 'https://api.github.com/repos/pandas-dev/pandas/issues/43940/timeline',\n",
              "  'title': 'BUG: pandas.DataFrame.index.map() works differently if debugpy debugger is attached',\n",
              "  'updated_at': '2021-10-10T06:46:00Z',\n",
              "  'url': 'https://api.github.com/repos/pandas-dev/pandas/issues/43940',\n",
              "  'user': {'avatar_url': 'https://avatars.githubusercontent.com/u/31469580?v=4',\n",
              "   'events_url': 'https://api.github.com/users/ember91/events{/privacy}',\n",
              "   'followers_url': 'https://api.github.com/users/ember91/followers',\n",
              "   'following_url': 'https://api.github.com/users/ember91/following{/other_user}',\n",
              "   'gists_url': 'https://api.github.com/users/ember91/gists{/gist_id}',\n",
              "   'gravatar_id': '',\n",
              "   'html_url': 'https://github.com/ember91',\n",
              "   'id': 31469580,\n",
              "   'login': 'ember91',\n",
              "   'node_id': 'MDQ6VXNlcjMxNDY5NTgw',\n",
              "   'organizations_url': 'https://api.github.com/users/ember91/orgs',\n",
              "   'received_events_url': 'https://api.github.com/users/ember91/received_events',\n",
              "   'repos_url': 'https://api.github.com/users/ember91/repos',\n",
              "   'site_admin': False,\n",
              "   'starred_url': 'https://api.github.com/users/ember91/starred{/owner}{/repo}',\n",
              "   'subscriptions_url': 'https://api.github.com/users/ember91/subscriptions',\n",
              "   'type': 'User',\n",
              "   'url': 'https://api.github.com/users/ember91'}},\n",
              " {'active_lock_reason': None,\n",
              "  'assignee': None,\n",
              "  'assignees': [],\n",
              "  'author_association': 'CONTRIBUTOR',\n",
              "  'body': '- [x] closes #43780 \\r\\n- [x] tests added / passed\\r\\n- [x] Ensure all linting tests pass, see [here](https://pandas.pydata.org/pandas-docs/dev/development/contributing_codebase.html#pre-commit) for how to run them\\r\\n- [ ] whatsnew entry\\r\\n\\r\\nMulti-column selection when the column labels are nested tuples, for example atomic labels of form `((1,),)` or MultiIndex having tuples at each level as reported in the issue raised error due to a condition in asarray_tuplesafe.\\r\\n\\r\\nA key list of form `[((1,))]` converts to `[[[1]]]` through the call to np.array, resulting in ndim>2. However, only the case ndim==2 was further handled, causing a multi-dimensional array to be returned and subsequently an error.\\r\\n\\r\\nThis extends the ndim==2 condition for nested-tuple keys, but excludes multi-dimensional arrays so that errors are raised in accordance with [test_getitem_ndarray_3d](https://github.com/pandas-dev/pandas/blob/d30aeeba0c79fb8e4b651a8f528e87c3de8cb898/pandas/tests/indexing/test_indexing.py#L73).\\r\\n\\r\\n\\r\\n',\n",
              "  'closed_at': None,\n",
              "  'comments': 0,\n",
              "  'comments_url': 'https://api.github.com/repos/pandas-dev/pandas/issues/43939/comments',\n",
              "  'created_at': '2021-10-09T08:39:38Z',\n",
              "  'events_url': 'https://api.github.com/repos/pandas-dev/pandas/issues/43939/events',\n",
              "  'html_url': 'https://github.com/pandas-dev/pandas/pull/43939',\n",
              "  'id': 1021648844,\n",
              "  'labels': [],\n",
              "  'labels_url': 'https://api.github.com/repos/pandas-dev/pandas/issues/43939/labels{/name}',\n",
              "  'locked': False,\n",
              "  'milestone': None,\n",
              "  'node_id': 'PR_kwDOAA0YD84s-F1c',\n",
              "  'number': 43939,\n",
              "  'performed_via_github_app': None,\n",
              "  'pull_request': {'diff_url': 'https://github.com/pandas-dev/pandas/pull/43939.diff',\n",
              "   'html_url': 'https://github.com/pandas-dev/pandas/pull/43939',\n",
              "   'patch_url': 'https://github.com/pandas-dev/pandas/pull/43939.patch',\n",
              "   'url': 'https://api.github.com/repos/pandas-dev/pandas/pulls/43939'},\n",
              "  'reactions': {'+1': 0,\n",
              "   '-1': 0,\n",
              "   'confused': 0,\n",
              "   'eyes': 0,\n",
              "   'heart': 0,\n",
              "   'hooray': 0,\n",
              "   'laugh': 0,\n",
              "   'rocket': 0,\n",
              "   'total_count': 0,\n",
              "   'url': 'https://api.github.com/repos/pandas-dev/pandas/issues/43939/reactions'},\n",
              "  'repository_url': 'https://api.github.com/repos/pandas-dev/pandas',\n",
              "  'state': 'open',\n",
              "  'timeline_url': 'https://api.github.com/repos/pandas-dev/pandas/issues/43939/timeline',\n",
              "  'title': 'BUG: fix Frame getitem when column keys are nested tuples',\n",
              "  'updated_at': '2021-10-09T08:39:38Z',\n",
              "  'url': 'https://api.github.com/repos/pandas-dev/pandas/issues/43939',\n",
              "  'user': {'avatar_url': 'https://avatars.githubusercontent.com/u/26993491?v=4',\n",
              "   'events_url': 'https://api.github.com/users/Svanazar/events{/privacy}',\n",
              "   'followers_url': 'https://api.github.com/users/Svanazar/followers',\n",
              "   'following_url': 'https://api.github.com/users/Svanazar/following{/other_user}',\n",
              "   'gists_url': 'https://api.github.com/users/Svanazar/gists{/gist_id}',\n",
              "   'gravatar_id': '',\n",
              "   'html_url': 'https://github.com/Svanazar',\n",
              "   'id': 26993491,\n",
              "   'login': 'Svanazar',\n",
              "   'node_id': 'MDQ6VXNlcjI2OTkzNDkx',\n",
              "   'organizations_url': 'https://api.github.com/users/Svanazar/orgs',\n",
              "   'received_events_url': 'https://api.github.com/users/Svanazar/received_events',\n",
              "   'repos_url': 'https://api.github.com/users/Svanazar/repos',\n",
              "   'site_admin': False,\n",
              "   'starred_url': 'https://api.github.com/users/Svanazar/starred{/owner}{/repo}',\n",
              "   'subscriptions_url': 'https://api.github.com/users/Svanazar/subscriptions',\n",
              "   'type': 'User',\n",
              "   'url': 'https://api.github.com/users/Svanazar'}},\n",
              " {'active_lock_reason': None,\n",
              "  'assignee': None,\n",
              "  'assignees': [],\n",
              "  'author_association': 'MEMBER',\n",
              "  'body': '- [ ] closes #xxxx\\r\\n- [x] tests added / passed\\r\\n- [x] Ensure all linting tests pass, see [here](https://pandas.pydata.org/pandas-docs/dev/development/contributing_codebase.html#pre-commit) for how to run them\\r\\n- [ ] whatsnew entry\\r\\n',\n",
              "  'closed_at': None,\n",
              "  'comments': 0,\n",
              "  'comments_url': 'https://api.github.com/repos/pandas-dev/pandas/issues/43938/comments',\n",
              "  'created_at': '2021-10-09T03:41:25Z',\n",
              "  'events_url': 'https://api.github.com/repos/pandas-dev/pandas/issues/43938/events',\n",
              "  'html_url': 'https://github.com/pandas-dev/pandas/pull/43938',\n",
              "  'id': 1021588473,\n",
              "  'labels': [],\n",
              "  'labels_url': 'https://api.github.com/repos/pandas-dev/pandas/issues/43938/labels{/name}',\n",
              "  'locked': False,\n",
              "  'milestone': None,\n",
              "  'node_id': 'PR_kwDOAA0YD84s975a',\n",
              "  'number': 43938,\n",
              "  'performed_via_github_app': None,\n",
              "  'pull_request': {'diff_url': 'https://github.com/pandas-dev/pandas/pull/43938.diff',\n",
              "   'html_url': 'https://github.com/pandas-dev/pandas/pull/43938',\n",
              "   'patch_url': 'https://github.com/pandas-dev/pandas/pull/43938.patch',\n",
              "   'url': 'https://api.github.com/repos/pandas-dev/pandas/pulls/43938'},\n",
              "  'reactions': {'+1': 0,\n",
              "   '-1': 0,\n",
              "   'confused': 0,\n",
              "   'eyes': 0,\n",
              "   'heart': 0,\n",
              "   'hooray': 0,\n",
              "   'laugh': 0,\n",
              "   'rocket': 0,\n",
              "   'total_count': 0,\n",
              "   'url': 'https://api.github.com/repos/pandas-dev/pandas/issues/43938/reactions'},\n",
              "  'repository_url': 'https://api.github.com/repos/pandas-dev/pandas',\n",
              "  'state': 'open',\n",
              "  'timeline_url': 'https://api.github.com/repos/pandas-dev/pandas/issues/43938/timeline',\n",
              "  'title': 'BUG: NumericIndex.append retain dtype',\n",
              "  'updated_at': '2021-10-09T03:41:25Z',\n",
              "  'url': 'https://api.github.com/repos/pandas-dev/pandas/issues/43938',\n",
              "  'user': {'avatar_url': 'https://avatars.githubusercontent.com/u/8078968?v=4',\n",
              "   'events_url': 'https://api.github.com/users/jbrockmendel/events{/privacy}',\n",
              "   'followers_url': 'https://api.github.com/users/jbrockmendel/followers',\n",
              "   'following_url': 'https://api.github.com/users/jbrockmendel/following{/other_user}',\n",
              "   'gists_url': 'https://api.github.com/users/jbrockmendel/gists{/gist_id}',\n",
              "   'gravatar_id': '',\n",
              "   'html_url': 'https://github.com/jbrockmendel',\n",
              "   'id': 8078968,\n",
              "   'login': 'jbrockmendel',\n",
              "   'node_id': 'MDQ6VXNlcjgwNzg5Njg=',\n",
              "   'organizations_url': 'https://api.github.com/users/jbrockmendel/orgs',\n",
              "   'received_events_url': 'https://api.github.com/users/jbrockmendel/received_events',\n",
              "   'repos_url': 'https://api.github.com/users/jbrockmendel/repos',\n",
              "   'site_admin': False,\n",
              "   'starred_url': 'https://api.github.com/users/jbrockmendel/starred{/owner}{/repo}',\n",
              "   'subscriptions_url': 'https://api.github.com/users/jbrockmendel/subscriptions',\n",
              "   'type': 'User',\n",
              "   'url': 'https://api.github.com/users/jbrockmendel'}},\n",
              " {'active_lock_reason': None,\n",
              "  'assignee': None,\n",
              "  'assignees': [],\n",
              "  'author_association': 'NONE',\n",
              "  'body': '### \\r\\n\\r\\n- [X] I have checked that the issue still exists on the latest versions of the docs on `master` [here](https://pandas.pydata.org/docs/dev/)\\r\\n\\r\\n\\r\\n### Location of the documentation\\r\\n\\r\\n- https://pandas.pydata.org/docs/dev/reference/api/pandas.DataFrame.replace.html\\r\\n- https://pandas.pydata.org/docs/dev/reference/api/pandas.Series.replace.html\\r\\n- and more \\r\\n\\r\\n### Documentation problem\\r\\n\\r\\nAs title.\\r\\n\\r\\n![image](https://user-images.githubusercontent.com/25895405/136639776-5085c41f-d591-498b-a083-d1e19979914e.png)\\r\\n\\r\\n\\r\\n### Suggested fix for documentation\\r\\n\\r\\nIn using sphinx experience, the following could fix that.\\r\\nNote that `numeric` and `replaced` have the same indent level.\\r\\n\\r\\n```diff\\r\\n            - numeric: numeric values equal to `to_replace` will be\\r\\n-                replaced with `value`\\r\\n+              replaced with `value`\\r\\n```\\r\\n\\r\\n```\\r\\n- numeric: numeric values equal to `to_replace` will be\\r\\n  replaced with `value`  \\r\\n```\\r\\n\\r\\nMy local test result.\\r\\n\\r\\n![image](https://user-images.githubusercontent.com/25895405/136640134-543e756d-ea5b-4a03-bb12-e549e761f423.png)\\r\\n',\n",
              "  'closed_at': None,\n",
              "  'comments': 2,\n",
              "  'comments_url': 'https://api.github.com/repos/pandas-dev/pandas/issues/43937/comments',\n",
              "  'created_at': '2021-10-09T02:06:07Z',\n",
              "  'events_url': 'https://api.github.com/repos/pandas-dev/pandas/issues/43937/events',\n",
              "  'html_url': 'https://github.com/pandas-dev/pandas/issues/43937',\n",
              "  'id': 1021570197,\n",
              "  'labels': [{'color': '3465A4',\n",
              "    'default': False,\n",
              "    'description': None,\n",
              "    'id': 134699,\n",
              "    'name': 'Docs',\n",
              "    'node_id': 'MDU6TGFiZWwxMzQ2OTk=',\n",
              "    'url': 'https://api.github.com/repos/pandas-dev/pandas/labels/Docs'},\n",
              "   {'color': '01a886',\n",
              "    'default': False,\n",
              "    'description': 'replace method',\n",
              "    'id': 1652721180,\n",
              "    'name': 'replace',\n",
              "    'node_id': 'MDU6TGFiZWwxNjUyNzIxMTgw',\n",
              "    'url': 'https://api.github.com/repos/pandas-dev/pandas/labels/replace'}],\n",
              "  'labels_url': 'https://api.github.com/repos/pandas-dev/pandas/issues/43937/labels{/name}',\n",
              "  'locked': False,\n",
              "  'milestone': {'closed_at': None,\n",
              "   'closed_issues': 776,\n",
              "   'created_at': '2015-01-13T10:53:19Z',\n",
              "   'creator': {'avatar_url': 'https://avatars.githubusercontent.com/u/953992?v=4',\n",
              "    'events_url': 'https://api.github.com/users/jreback/events{/privacy}',\n",
              "    'followers_url': 'https://api.github.com/users/jreback/followers',\n",
              "    'following_url': 'https://api.github.com/users/jreback/following{/other_user}',\n",
              "    'gists_url': 'https://api.github.com/users/jreback/gists{/gist_id}',\n",
              "    'gravatar_id': '',\n",
              "    'html_url': 'https://github.com/jreback',\n",
              "    'id': 953992,\n",
              "    'login': 'jreback',\n",
              "    'node_id': 'MDQ6VXNlcjk1Mzk5Mg==',\n",
              "    'organizations_url': 'https://api.github.com/users/jreback/orgs',\n",
              "    'received_events_url': 'https://api.github.com/users/jreback/received_events',\n",
              "    'repos_url': 'https://api.github.com/users/jreback/repos',\n",
              "    'site_admin': False,\n",
              "    'starred_url': 'https://api.github.com/users/jreback/starred{/owner}{/repo}',\n",
              "    'subscriptions_url': 'https://api.github.com/users/jreback/subscriptions',\n",
              "    'type': 'User',\n",
              "    'url': 'https://api.github.com/users/jreback'},\n",
              "   'description': 'Changes that would be nice to have in the next release. These issues are not blocking. They will be pushed to the next release if no one has time to fix them.',\n",
              "   'due_on': None,\n",
              "   'html_url': 'https://github.com/pandas-dev/pandas/milestone/32',\n",
              "   'id': 933188,\n",
              "   'labels_url': 'https://api.github.com/repos/pandas-dev/pandas/milestones/32/labels',\n",
              "   'node_id': 'MDk6TWlsZXN0b25lOTMzMTg4',\n",
              "   'number': 32,\n",
              "   'open_issues': 1075,\n",
              "   'state': 'open',\n",
              "   'title': 'Contributions Welcome',\n",
              "   'updated_at': '2021-10-09T16:16:13Z',\n",
              "   'url': 'https://api.github.com/repos/pandas-dev/pandas/milestones/32'},\n",
              "  'node_id': 'I_kwDOAA0YD8484-yV',\n",
              "  'number': 43937,\n",
              "  'performed_via_github_app': None,\n",
              "  'reactions': {'+1': 0,\n",
              "   '-1': 0,\n",
              "   'confused': 0,\n",
              "   'eyes': 0,\n",
              "   'heart': 0,\n",
              "   'hooray': 0,\n",
              "   'laugh': 0,\n",
              "   'rocket': 0,\n",
              "   'total_count': 0,\n",
              "   'url': 'https://api.github.com/repos/pandas-dev/pandas/issues/43937/reactions'},\n",
              "  'repository_url': 'https://api.github.com/repos/pandas-dev/pandas',\n",
              "  'state': 'open',\n",
              "  'timeline_url': 'https://api.github.com/repos/pandas-dev/pandas/issues/43937/timeline',\n",
              "  'title': 'DOC: sphinx doc list item text has strange bold effect',\n",
              "  'updated_at': '2021-10-09T15:56:02Z',\n",
              "  'url': 'https://api.github.com/repos/pandas-dev/pandas/issues/43937',\n",
              "  'user': {'avatar_url': 'https://avatars.githubusercontent.com/u/25895405?v=4',\n",
              "   'events_url': 'https://api.github.com/users/Zeroto521/events{/privacy}',\n",
              "   'followers_url': 'https://api.github.com/users/Zeroto521/followers',\n",
              "   'following_url': 'https://api.github.com/users/Zeroto521/following{/other_user}',\n",
              "   'gists_url': 'https://api.github.com/users/Zeroto521/gists{/gist_id}',\n",
              "   'gravatar_id': '',\n",
              "   'html_url': 'https://github.com/Zeroto521',\n",
              "   'id': 25895405,\n",
              "   'login': 'Zeroto521',\n",
              "   'node_id': 'MDQ6VXNlcjI1ODk1NDA1',\n",
              "   'organizations_url': 'https://api.github.com/users/Zeroto521/orgs',\n",
              "   'received_events_url': 'https://api.github.com/users/Zeroto521/received_events',\n",
              "   'repos_url': 'https://api.github.com/users/Zeroto521/repos',\n",
              "   'site_admin': False,\n",
              "   'starred_url': 'https://api.github.com/users/Zeroto521/starred{/owner}{/repo}',\n",
              "   'subscriptions_url': 'https://api.github.com/users/Zeroto521/subscriptions',\n",
              "   'type': 'User',\n",
              "   'url': 'https://api.github.com/users/Zeroto521'}},\n",
              " {'active_lock_reason': None,\n",
              "  'assignee': None,\n",
              "  'assignees': [],\n",
              "  'author_association': 'MEMBER',\n",
              "  'body': 'Needed for #43930',\n",
              "  'closed_at': None,\n",
              "  'comments': 0,\n",
              "  'comments_url': 'https://api.github.com/repos/pandas-dev/pandas/issues/43934/comments',\n",
              "  'created_at': '2021-10-08T21:50:40Z',\n",
              "  'events_url': 'https://api.github.com/repos/pandas-dev/pandas/issues/43934/events',\n",
              "  'html_url': 'https://github.com/pandas-dev/pandas/pull/43934',\n",
              "  'id': 1021494810,\n",
              "  'labels': [],\n",
              "  'labels_url': 'https://api.github.com/repos/pandas-dev/pandas/issues/43934/labels{/name}',\n",
              "  'locked': False,\n",
              "  'milestone': None,\n",
              "  'node_id': 'PR_kwDOAA0YD84s9qq2',\n",
              "  'number': 43934,\n",
              "  'performed_via_github_app': None,\n",
              "  'pull_request': {'diff_url': 'https://github.com/pandas-dev/pandas/pull/43934.diff',\n",
              "   'html_url': 'https://github.com/pandas-dev/pandas/pull/43934',\n",
              "   'patch_url': 'https://github.com/pandas-dev/pandas/pull/43934.patch',\n",
              "   'url': 'https://api.github.com/repos/pandas-dev/pandas/pulls/43934'},\n",
              "  'reactions': {'+1': 0,\n",
              "   '-1': 0,\n",
              "   'confused': 0,\n",
              "   'eyes': 0,\n",
              "   'heart': 0,\n",
              "   'hooray': 0,\n",
              "   'laugh': 0,\n",
              "   'rocket': 0,\n",
              "   'total_count': 0,\n",
              "   'url': 'https://api.github.com/repos/pandas-dev/pandas/issues/43934/reactions'},\n",
              "  'repository_url': 'https://api.github.com/repos/pandas-dev/pandas',\n",
              "  'state': 'open',\n",
              "  'timeline_url': 'https://api.github.com/repos/pandas-dev/pandas/issues/43934/timeline',\n",
              "  'title': 'REF: Share Index.delete',\n",
              "  'updated_at': '2021-10-08T21:50:40Z',\n",
              "  'url': 'https://api.github.com/repos/pandas-dev/pandas/issues/43934',\n",
              "  'user': {'avatar_url': 'https://avatars.githubusercontent.com/u/8078968?v=4',\n",
              "   'events_url': 'https://api.github.com/users/jbrockmendel/events{/privacy}',\n",
              "   'followers_url': 'https://api.github.com/users/jbrockmendel/followers',\n",
              "   'following_url': 'https://api.github.com/users/jbrockmendel/following{/other_user}',\n",
              "   'gists_url': 'https://api.github.com/users/jbrockmendel/gists{/gist_id}',\n",
              "   'gravatar_id': '',\n",
              "   'html_url': 'https://github.com/jbrockmendel',\n",
              "   'id': 8078968,\n",
              "   'login': 'jbrockmendel',\n",
              "   'node_id': 'MDQ6VXNlcjgwNzg5Njg=',\n",
              "   'organizations_url': 'https://api.github.com/users/jbrockmendel/orgs',\n",
              "   'received_events_url': 'https://api.github.com/users/jbrockmendel/received_events',\n",
              "   'repos_url': 'https://api.github.com/users/jbrockmendel/repos',\n",
              "   'site_admin': False,\n",
              "   'starred_url': 'https://api.github.com/users/jbrockmendel/starred{/owner}{/repo}',\n",
              "   'subscriptions_url': 'https://api.github.com/users/jbrockmendel/subscriptions',\n",
              "   'type': 'User',\n",
              "   'url': 'https://api.github.com/users/jbrockmendel'}},\n",
              " {'active_lock_reason': None,\n",
              "  'assignee': None,\n",
              "  'assignees': [],\n",
              "  'author_association': 'CONTRIBUTOR',\n",
              "  'body': '- [x] closes #40781 \\r\\n- [x] tests added / passed\\r\\n- [x] Ensure all linting tests pass, see [here](https://pandas.pydata.org/pandas-docs/dev/development/contributing.html#code-standards) for how to run them\\r\\n- [x] whatsnew entry\\r\\n',\n",
              "  'closed_at': None,\n",
              "  'comments': 1,\n",
              "  'comments_url': 'https://api.github.com/repos/pandas-dev/pandas/issues/43932/comments',\n",
              "  'created_at': '2021-10-08T18:24:21Z',\n",
              "  'events_url': 'https://api.github.com/repos/pandas-dev/pandas/issues/43932/events',\n",
              "  'html_url': 'https://github.com/pandas-dev/pandas/pull/43932',\n",
              "  'id': 1021361343,\n",
              "  'labels': [],\n",
              "  'labels_url': 'https://api.github.com/repos/pandas-dev/pandas/issues/43932/labels{/name}',\n",
              "  'locked': False,\n",
              "  'milestone': None,\n",
              "  'node_id': 'PR_kwDOAA0YD84s9Pu3',\n",
              "  'number': 43932,\n",
              "  'performed_via_github_app': None,\n",
              "  'pull_request': {'diff_url': 'https://github.com/pandas-dev/pandas/pull/43932.diff',\n",
              "   'html_url': 'https://github.com/pandas-dev/pandas/pull/43932',\n",
              "   'patch_url': 'https://github.com/pandas-dev/pandas/pull/43932.patch',\n",
              "   'url': 'https://api.github.com/repos/pandas-dev/pandas/pulls/43932'},\n",
              "  'reactions': {'+1': 0,\n",
              "   '-1': 0,\n",
              "   'confused': 0,\n",
              "   'eyes': 0,\n",
              "   'heart': 0,\n",
              "   'hooray': 0,\n",
              "   'laugh': 0,\n",
              "   'rocket': 0,\n",
              "   'total_count': 0,\n",
              "   'url': 'https://api.github.com/repos/pandas-dev/pandas/issues/43932/reactions'},\n",
              "  'repository_url': 'https://api.github.com/repos/pandas-dev/pandas',\n",
              "  'state': 'open',\n",
              "  'timeline_url': 'https://api.github.com/repos/pandas-dev/pandas/issues/43932/timeline',\n",
              "  'title': 'Raising ValueError when xlim and ylim contain non-int and non-float dtype elements #40889',\n",
              "  'updated_at': '2021-10-10T15:39:13Z',\n",
              "  'url': 'https://api.github.com/repos/pandas-dev/pandas/issues/43932',\n",
              "  'user': {'avatar_url': 'https://avatars.githubusercontent.com/u/23026528?v=4',\n",
              "   'events_url': 'https://api.github.com/users/regmibijay/events{/privacy}',\n",
              "   'followers_url': 'https://api.github.com/users/regmibijay/followers',\n",
              "   'following_url': 'https://api.github.com/users/regmibijay/following{/other_user}',\n",
              "   'gists_url': 'https://api.github.com/users/regmibijay/gists{/gist_id}',\n",
              "   'gravatar_id': '',\n",
              "   'html_url': 'https://github.com/regmibijay',\n",
              "   'id': 23026528,\n",
              "   'login': 'regmibijay',\n",
              "   'node_id': 'MDQ6VXNlcjIzMDI2NTI4',\n",
              "   'organizations_url': 'https://api.github.com/users/regmibijay/orgs',\n",
              "   'received_events_url': 'https://api.github.com/users/regmibijay/received_events',\n",
              "   'repos_url': 'https://api.github.com/users/regmibijay/repos',\n",
              "   'site_admin': False,\n",
              "   'starred_url': 'https://api.github.com/users/regmibijay/starred{/owner}{/repo}',\n",
              "   'subscriptions_url': 'https://api.github.com/users/regmibijay/subscriptions',\n",
              "   'type': 'User',\n",
              "   'url': 'https://api.github.com/users/regmibijay'}},\n",
              " {'active_lock_reason': None,\n",
              "  'assignee': None,\n",
              "  'assignees': [],\n",
              "  'author_association': 'NONE',\n",
              "  'body': '- [x] closes #38690\\r\\n',\n",
              "  'closed_at': None,\n",
              "  'comments': 2,\n",
              "  'comments_url': 'https://api.github.com/repos/pandas-dev/pandas/issues/43931/comments',\n",
              "  'created_at': '2021-10-08T17:21:27Z',\n",
              "  'events_url': 'https://api.github.com/repos/pandas-dev/pandas/issues/43931/events',\n",
              "  'html_url': 'https://github.com/pandas-dev/pandas/pull/43931',\n",
              "  'id': 1021318775,\n",
              "  'labels': [{'color': 'AFEEEE',\n",
              "    'default': False,\n",
              "    'description': None,\n",
              "    'id': 211840,\n",
              "    'name': 'Timeseries',\n",
              "    'node_id': 'MDU6TGFiZWwyMTE4NDA=',\n",
              "    'url': 'https://api.github.com/repos/pandas-dev/pandas/labels/Timeseries'},\n",
              "   {'color': '0b02e1',\n",
              "    'default': False,\n",
              "    'description': 'Related to indexing on series/frames, not to indexes themselves',\n",
              "    'id': 2822098,\n",
              "    'name': 'Indexing',\n",
              "    'node_id': 'MDU6TGFiZWwyODIyMDk4',\n",
              "    'url': 'https://api.github.com/repos/pandas-dev/pandas/labels/Indexing'},\n",
              "   {'color': 'ae68cc',\n",
              "    'default': False,\n",
              "    'description': 'Performance (ASV) benchmarks',\n",
              "    'id': 732775912,\n",
              "    'name': 'Benchmark',\n",
              "    'node_id': 'MDU6TGFiZWw3MzI3NzU5MTI=',\n",
              "    'url': 'https://api.github.com/repos/pandas-dev/pandas/labels/Benchmark'}],\n",
              "  'labels_url': 'https://api.github.com/repos/pandas-dev/pandas/issues/43931/labels{/name}',\n",
              "  'locked': False,\n",
              "  'milestone': {'closed_at': None,\n",
              "   'closed_issues': 822,\n",
              "   'created_at': '2021-06-09T18:28:42Z',\n",
              "   'creator': {'avatar_url': 'https://avatars.githubusercontent.com/u/953992?v=4',\n",
              "    'events_url': 'https://api.github.com/users/jreback/events{/privacy}',\n",
              "    'followers_url': 'https://api.github.com/users/jreback/followers',\n",
              "    'following_url': 'https://api.github.com/users/jreback/following{/other_user}',\n",
              "    'gists_url': 'https://api.github.com/users/jreback/gists{/gist_id}',\n",
              "    'gravatar_id': '',\n",
              "    'html_url': 'https://github.com/jreback',\n",
              "    'id': 953992,\n",
              "    'login': 'jreback',\n",
              "    'node_id': 'MDQ6VXNlcjk1Mzk5Mg==',\n",
              "    'organizations_url': 'https://api.github.com/users/jreback/orgs',\n",
              "    'received_events_url': 'https://api.github.com/users/jreback/received_events',\n",
              "    'repos_url': 'https://api.github.com/users/jreback/repos',\n",
              "    'site_admin': False,\n",
              "    'starred_url': 'https://api.github.com/users/jreback/starred{/owner}{/repo}',\n",
              "    'subscriptions_url': 'https://api.github.com/users/jreback/subscriptions',\n",
              "    'type': 'User',\n",
              "    'url': 'https://api.github.com/users/jreback'},\n",
              "   'description': '',\n",
              "   'due_on': '2021-12-31T08:00:00Z',\n",
              "   'html_url': 'https://github.com/pandas-dev/pandas/milestone/86',\n",
              "   'id': 6840253,\n",
              "   'labels_url': 'https://api.github.com/repos/pandas-dev/pandas/milestones/86/labels',\n",
              "   'node_id': 'MDk6TWlsZXN0b25lNjg0MDI1Mw==',\n",
              "   'number': 86,\n",
              "   'open_issues': 68,\n",
              "   'state': 'open',\n",
              "   'title': '1.4',\n",
              "   'updated_at': '2021-10-10T14:39:46Z',\n",
              "   'url': 'https://api.github.com/repos/pandas-dev/pandas/milestones/86'},\n",
              "  'node_id': 'PR_kwDOAA0YD84s9HR8',\n",
              "  'number': 43931,\n",
              "  'performed_via_github_app': None,\n",
              "  'pull_request': {'diff_url': 'https://github.com/pandas-dev/pandas/pull/43931.diff',\n",
              "   'html_url': 'https://github.com/pandas-dev/pandas/pull/43931',\n",
              "   'patch_url': 'https://github.com/pandas-dev/pandas/pull/43931.patch',\n",
              "   'url': 'https://api.github.com/repos/pandas-dev/pandas/pulls/43931'},\n",
              "  'reactions': {'+1': 0,\n",
              "   '-1': 0,\n",
              "   'confused': 0,\n",
              "   'eyes': 0,\n",
              "   'heart': 0,\n",
              "   'hooray': 0,\n",
              "   'laugh': 0,\n",
              "   'rocket': 0,\n",
              "   'total_count': 0,\n",
              "   'url': 'https://api.github.com/repos/pandas-dev/pandas/issues/43931/reactions'},\n",
              "  'repository_url': 'https://api.github.com/repos/pandas-dev/pandas',\n",
              "  'state': 'open',\n",
              "  'timeline_url': 'https://api.github.com/repos/pandas-dev/pandas/issues/43931/timeline',\n",
              "  'title': 'BENCH : Added benchmark for indexing with .loc for sorted/unsorted DatetimeIndex',\n",
              "  'updated_at': '2021-10-09T16:06:29Z',\n",
              "  'url': 'https://api.github.com/repos/pandas-dev/pandas/issues/43931',\n",
              "  'user': {'avatar_url': 'https://avatars.githubusercontent.com/u/35455325?v=4',\n",
              "   'events_url': 'https://api.github.com/users/sonalprabhu/events{/privacy}',\n",
              "   'followers_url': 'https://api.github.com/users/sonalprabhu/followers',\n",
              "   'following_url': 'https://api.github.com/users/sonalprabhu/following{/other_user}',\n",
              "   'gists_url': 'https://api.github.com/users/sonalprabhu/gists{/gist_id}',\n",
              "   'gravatar_id': '',\n",
              "   'html_url': 'https://github.com/sonalprabhu',\n",
              "   'id': 35455325,\n",
              "   'login': 'sonalprabhu',\n",
              "   'node_id': 'MDQ6VXNlcjM1NDU1MzI1',\n",
              "   'organizations_url': 'https://api.github.com/users/sonalprabhu/orgs',\n",
              "   'received_events_url': 'https://api.github.com/users/sonalprabhu/received_events',\n",
              "   'repos_url': 'https://api.github.com/users/sonalprabhu/repos',\n",
              "   'site_admin': False,\n",
              "   'starred_url': 'https://api.github.com/users/sonalprabhu/starred{/owner}{/repo}',\n",
              "   'subscriptions_url': 'https://api.github.com/users/sonalprabhu/subscriptions',\n",
              "   'type': 'User',\n",
              "   'url': 'https://api.github.com/users/sonalprabhu'}},\n",
              " {'active_lock_reason': None,\n",
              "  'assignee': None,\n",
              "  'assignees': [],\n",
              "  'author_association': 'MEMBER',\n",
              "  'body': 'Still TODO\\r\\n- [ ] 288 not-yet-passing tests (with --skip-slow --skip-db)\\r\\n- [ ] flesh out tests/extension/base/ea_index.py\\r\\n- [ ] deprecation cycle\\r\\n- [ ] optimize EAIndexEngine/NullableIndexEngine once #43870 is resolved\\r\\n- [ ] EA.putmask implementation ATM is just a stub (and needs tests)\\r\\n- [ ] whatsnew\\r\\n\\r\\ncc @jorisvandenbossche @TomAugspurger ',\n",
              "  'closed_at': None,\n",
              "  'comments': 2,\n",
              "  'comments_url': 'https://api.github.com/repos/pandas-dev/pandas/issues/43930/comments',\n",
              "  'created_at': '2021-10-08T17:02:57Z',\n",
              "  'events_url': 'https://api.github.com/repos/pandas-dev/pandas/issues/43930/events',\n",
              "  'html_url': 'https://github.com/pandas-dev/pandas/pull/43930',\n",
              "  'id': 1021305061,\n",
              "  'labels': [],\n",
              "  'labels_url': 'https://api.github.com/repos/pandas-dev/pandas/issues/43930/labels{/name}',\n",
              "  'locked': False,\n",
              "  'milestone': None,\n",
              "  'node_id': 'PR_kwDOAA0YD84s9ElJ',\n",
              "  'number': 43930,\n",
              "  'performed_via_github_app': None,\n",
              "  'pull_request': {'diff_url': 'https://github.com/pandas-dev/pandas/pull/43930.diff',\n",
              "   'html_url': 'https://github.com/pandas-dev/pandas/pull/43930',\n",
              "   'patch_url': 'https://github.com/pandas-dev/pandas/pull/43930.patch',\n",
              "   'url': 'https://api.github.com/repos/pandas-dev/pandas/pulls/43930'},\n",
              "  'reactions': {'+1': 0,\n",
              "   '-1': 0,\n",
              "   'confused': 0,\n",
              "   'eyes': 0,\n",
              "   'heart': 0,\n",
              "   'hooray': 0,\n",
              "   'laugh': 0,\n",
              "   'rocket': 0,\n",
              "   'total_count': 0,\n",
              "   'url': 'https://api.github.com/repos/pandas-dev/pandas/issues/43930/reactions'},\n",
              "  'repository_url': 'https://api.github.com/repos/pandas-dev/pandas',\n",
              "  'state': 'open',\n",
              "  'timeline_url': 'https://api.github.com/repos/pandas-dev/pandas/issues/43930/timeline',\n",
              "  'title': 'ENH/POC/WIP: EA-backed Index',\n",
              "  'updated_at': '2021-10-08T17:07:56Z',\n",
              "  'url': 'https://api.github.com/repos/pandas-dev/pandas/issues/43930',\n",
              "  'user': {'avatar_url': 'https://avatars.githubusercontent.com/u/8078968?v=4',\n",
              "   'events_url': 'https://api.github.com/users/jbrockmendel/events{/privacy}',\n",
              "   'followers_url': 'https://api.github.com/users/jbrockmendel/followers',\n",
              "   'following_url': 'https://api.github.com/users/jbrockmendel/following{/other_user}',\n",
              "   'gists_url': 'https://api.github.com/users/jbrockmendel/gists{/gist_id}',\n",
              "   'gravatar_id': '',\n",
              "   'html_url': 'https://github.com/jbrockmendel',\n",
              "   'id': 8078968,\n",
              "   'login': 'jbrockmendel',\n",
              "   'node_id': 'MDQ6VXNlcjgwNzg5Njg=',\n",
              "   'organizations_url': 'https://api.github.com/users/jbrockmendel/orgs',\n",
              "   'received_events_url': 'https://api.github.com/users/jbrockmendel/received_events',\n",
              "   'repos_url': 'https://api.github.com/users/jbrockmendel/repos',\n",
              "   'site_admin': False,\n",
              "   'starred_url': 'https://api.github.com/users/jbrockmendel/starred{/owner}{/repo}',\n",
              "   'subscriptions_url': 'https://api.github.com/users/jbrockmendel/subscriptions',\n",
              "   'type': 'User',\n",
              "   'url': 'https://api.github.com/users/jbrockmendel'}},\n",
              " {'active_lock_reason': None,\n",
              "  'assignee': None,\n",
              "  'assignees': [],\n",
              "  'author_association': 'CONTRIBUTOR',\n",
              "  'body': '### \\r\\n\\r\\n- [X] I have checked that this issue has not already been reported.\\r\\n\\r\\n- [X] I have confirmed this bug exists on the [latest version](https://pandas.pydata.org/docs/whatsnew/index.html) of pandas.\\r\\n\\r\\n- [ ] I have confirmed this bug exists on the master branch of pandas.\\r\\n\\r\\n\\r\\n### Reproducible Example\\r\\n\\r\\n```python\\r\\n>>> import pandas as pd\\r\\n>>> df = pd.DataFrame([60000.0, 60000.0], dtype=\"float16\")\\r\\n```\\r\\n\\r\\n\\r\\n```Python\\r\\n/Users/username/opt/miniconda3/lib/python3.7/site-packages/numpy/core/_methods.py:47: RuntimeWarning: overflow encountered in reduce\\r\\n  return umr_sum(a, axis, dtype, out, keepdims, initial, where)\\r\\n0    inf\\r\\ndtype: float16\\r\\n```\\r\\n\\r\\n\\r\\n### Issue Description\\r\\n\\r\\nI have read the source code of pandas recently, it seems that when pandas implement DataFrame.mean() method, it calculate the tot = elements.sum() first, and then divide by the count_of_elements secondly to get the mean_value. This could cause a overflow error even if the result shouldn\\'t be a number out of dtype range.\\r\\n\\r\\n### Expected Behavior\\r\\n\\r\\n1. The example should return 60000.0\\r\\n2. For any Float dtype Series/DataFrame, the mean method should work and do not overflow.\\r\\n\\r\\n### Installed Versions\\r\\n\\r\\n<details>\\r\\n\\r\\nINSTALLED VERSIONS\\r\\n------------------\\r\\ncommit           : 73c68257545b5f8530b7044f56647bd2db92e2ba\\r\\npython           : 3.7.6.final.0\\r\\npython-bits      : 64\\r\\nOS               : Darwin\\r\\nOS-release       : 18.7.0\\r\\nVersion          : Darwin Kernel Version 18.7.0: Tue Jun 22 19:37:08 PDT 2021; root:xnu-4903.278.70~1/RELEASE_X86_64\\r\\nmachine          : x86_64\\r\\nprocessor        : i386\\r\\nbyteorder        : little\\r\\nLC_ALL           : None\\r\\nLANG             : None\\r\\nLOCALE           : None.UTF-8\\r\\n\\r\\npandas           : 1.3.3\\r\\nnumpy            : 1.19.2\\r\\npytz             : 2021.1\\r\\ndateutil         : 2.8.1\\r\\npip              : 20.0.2\\r\\nsetuptools       : 45.2.0.post20200210\\r\\nCython           : 0.29.22\\r\\npytest           : None\\r\\nhypothesis       : None\\r\\nsphinx           : None\\r\\nblosc            : None\\r\\nfeather          : None\\r\\nxlsxwriter       : None\\r\\nlxml.etree       : None\\r\\nhtml5lib         : None\\r\\npymysql          : None\\r\\npsycopg2         : None\\r\\njinja2           : 2.11.3\\r\\nIPython          : 7.21.0\\r\\npandas_datareader: None\\r\\nbs4              : 4.9.3\\r\\nbottleneck       : None\\r\\nfsspec           : None\\r\\nfastparquet      : None\\r\\ngcsfs            : None\\r\\nmatplotlib       : None\\r\\nnumexpr          : None\\r\\nodfpy            : None\\r\\nopenpyxl         : None\\r\\npandas_gbq       : None\\r\\npyarrow          : 3.0.0\\r\\npyxlsb           : None\\r\\ns3fs             : None\\r\\nscipy            : 1.6.2\\r\\nsqlalchemy       : None\\r\\ntables           : None\\r\\ntabulate         : 0.8.9\\r\\nxarray           : None\\r\\nxlrd             : None\\r\\nxlwt             : None\\r\\nnumba            : 0.53.1\\r\\n\\r\\n</details>\\r\\n',\n",
              "  'closed_at': None,\n",
              "  'comments': 5,\n",
              "  'comments_url': 'https://api.github.com/repos/pandas-dev/pandas/issues/43929/comments',\n",
              "  'created_at': '2021-10-08T15:34:59Z',\n",
              "  'events_url': 'https://api.github.com/repos/pandas-dev/pandas/issues/43929/events',\n",
              "  'html_url': 'https://github.com/pandas-dev/pandas/issues/43929',\n",
              "  'id': 1021226013,\n",
              "  'labels': [{'color': 'e10c02',\n",
              "    'default': False,\n",
              "    'description': None,\n",
              "    'id': 76811,\n",
              "    'name': 'Bug',\n",
              "    'node_id': 'MDU6TGFiZWw3NjgxMQ==',\n",
              "    'url': 'https://api.github.com/repos/pandas-dev/pandas/labels/Bug'},\n",
              "   {'color': '0052cc',\n",
              "    'default': False,\n",
              "    'description': 'Issue that has not been reviewed by a pandas team member',\n",
              "    'id': 1954720290,\n",
              "    'name': 'Needs Triage',\n",
              "    'node_id': 'MDU6TGFiZWwxOTU0NzIwMjkw',\n",
              "    'url': 'https://api.github.com/repos/pandas-dev/pandas/labels/Needs%20Triage'}],\n",
              "  'labels_url': 'https://api.github.com/repos/pandas-dev/pandas/issues/43929/labels{/name}',\n",
              "  'locked': False,\n",
              "  'milestone': None,\n",
              "  'node_id': 'I_kwDOAA0YD8483qwd',\n",
              "  'number': 43929,\n",
              "  'performed_via_github_app': None,\n",
              "  'reactions': {'+1': 0,\n",
              "   '-1': 0,\n",
              "   'confused': 0,\n",
              "   'eyes': 0,\n",
              "   'heart': 0,\n",
              "   'hooray': 0,\n",
              "   'laugh': 0,\n",
              "   'rocket': 0,\n",
              "   'total_count': 0,\n",
              "   'url': 'https://api.github.com/repos/pandas-dev/pandas/issues/43929/reactions'},\n",
              "  'repository_url': 'https://api.github.com/repos/pandas-dev/pandas',\n",
              "  'state': 'open',\n",
              "  'timeline_url': 'https://api.github.com/repos/pandas-dev/pandas/issues/43929/timeline',\n",
              "  'title': 'BUG: Fix the `Float` type overflow issue for statistical functions.',\n",
              "  'updated_at': '2021-10-09T02:21:47Z',\n",
              "  'url': 'https://api.github.com/repos/pandas-dev/pandas/issues/43929',\n",
              "  'user': {'avatar_url': 'https://avatars.githubusercontent.com/u/33303747?v=4',\n",
              "   'events_url': 'https://api.github.com/users/tushushu/events{/privacy}',\n",
              "   'followers_url': 'https://api.github.com/users/tushushu/followers',\n",
              "   'following_url': 'https://api.github.com/users/tushushu/following{/other_user}',\n",
              "   'gists_url': 'https://api.github.com/users/tushushu/gists{/gist_id}',\n",
              "   'gravatar_id': '',\n",
              "   'html_url': 'https://github.com/tushushu',\n",
              "   'id': 33303747,\n",
              "   'login': 'tushushu',\n",
              "   'node_id': 'MDQ6VXNlcjMzMzAzNzQ3',\n",
              "   'organizations_url': 'https://api.github.com/users/tushushu/orgs',\n",
              "   'received_events_url': 'https://api.github.com/users/tushushu/received_events',\n",
              "   'repos_url': 'https://api.github.com/users/tushushu/repos',\n",
              "   'site_admin': False,\n",
              "   'starred_url': 'https://api.github.com/users/tushushu/starred{/owner}{/repo}',\n",
              "   'subscriptions_url': 'https://api.github.com/users/tushushu/subscriptions',\n",
              "   'type': 'User',\n",
              "   'url': 'https://api.github.com/users/tushushu'}},\n",
              " {'active_lock_reason': None,\n",
              "  'assignee': None,\n",
              "  'assignees': [],\n",
              "  'author_association': 'CONTRIBUTOR',\n",
              "  'body': 'Fixes a bug that no one has reported and probably no one cares about. But overlaps slightly with #42947, so I thought that I would make it a separate PR.\\r\\n\\r\\nCurrent behaviour: `df.groupby(df.iloc[1], axis=1).nth(0)` crashes ungracefully.',\n",
              "  'closed_at': None,\n",
              "  'comments': 2,\n",
              "  'comments_url': 'https://api.github.com/repos/pandas-dev/pandas/issues/43926/comments',\n",
              "  'created_at': '2021-10-08T13:50:09Z',\n",
              "  'events_url': 'https://api.github.com/repos/pandas-dev/pandas/issues/43926/events',\n",
              "  'html_url': 'https://github.com/pandas-dev/pandas/pull/43926',\n",
              "  'id': 1021120420,\n",
              "  'labels': [{'color': 'e10c02',\n",
              "    'default': False,\n",
              "    'description': None,\n",
              "    'id': 76811,\n",
              "    'name': 'Bug',\n",
              "    'node_id': 'MDU6TGFiZWw3NjgxMQ==',\n",
              "    'url': 'https://api.github.com/repos/pandas-dev/pandas/labels/Bug'},\n",
              "   {'color': '729FCF',\n",
              "    'default': False,\n",
              "    'description': None,\n",
              "    'id': 233160,\n",
              "    'name': 'Groupby',\n",
              "    'node_id': 'MDU6TGFiZWwyMzMxNjA=',\n",
              "    'url': 'https://api.github.com/repos/pandas-dev/pandas/labels/Groupby'}],\n",
              "  'labels_url': 'https://api.github.com/repos/pandas-dev/pandas/issues/43926/labels{/name}',\n",
              "  'locked': False,\n",
              "  'milestone': None,\n",
              "  'node_id': 'PR_kwDOAA0YD84s8gpp',\n",
              "  'number': 43926,\n",
              "  'performed_via_github_app': None,\n",
              "  'pull_request': {'diff_url': 'https://github.com/pandas-dev/pandas/pull/43926.diff',\n",
              "   'html_url': 'https://github.com/pandas-dev/pandas/pull/43926',\n",
              "   'patch_url': 'https://github.com/pandas-dev/pandas/pull/43926.patch',\n",
              "   'url': 'https://api.github.com/repos/pandas-dev/pandas/pulls/43926'},\n",
              "  'reactions': {'+1': 0,\n",
              "   '-1': 0,\n",
              "   'confused': 0,\n",
              "   'eyes': 0,\n",
              "   'heart': 0,\n",
              "   'hooray': 0,\n",
              "   'laugh': 0,\n",
              "   'rocket': 0,\n",
              "   'total_count': 0,\n",
              "   'url': 'https://api.github.com/repos/pandas-dev/pandas/issues/43926/reactions'},\n",
              "  'repository_url': 'https://api.github.com/repos/pandas-dev/pandas',\n",
              "  'state': 'open',\n",
              "  'timeline_url': 'https://api.github.com/repos/pandas-dev/pandas/issues/43926/timeline',\n",
              "  'title': 'BUG: Fix groupby nth with axis=1',\n",
              "  'updated_at': '2021-10-09T15:43:49Z',\n",
              "  'url': 'https://api.github.com/repos/pandas-dev/pandas/issues/43926',\n",
              "  'user': {'avatar_url': 'https://avatars.githubusercontent.com/u/8927258?v=4',\n",
              "   'events_url': 'https://api.github.com/users/johnzangwill/events{/privacy}',\n",
              "   'followers_url': 'https://api.github.com/users/johnzangwill/followers',\n",
              "   'following_url': 'https://api.github.com/users/johnzangwill/following{/other_user}',\n",
              "   'gists_url': 'https://api.github.com/users/johnzangwill/gists{/gist_id}',\n",
              "   'gravatar_id': '',\n",
              "   'html_url': 'https://github.com/johnzangwill',\n",
              "   'id': 8927258,\n",
              "   'login': 'johnzangwill',\n",
              "   'node_id': 'MDQ6VXNlcjg5MjcyNTg=',\n",
              "   'organizations_url': 'https://api.github.com/users/johnzangwill/orgs',\n",
              "   'received_events_url': 'https://api.github.com/users/johnzangwill/received_events',\n",
              "   'repos_url': 'https://api.github.com/users/johnzangwill/repos',\n",
              "   'site_admin': False,\n",
              "   'starred_url': 'https://api.github.com/users/johnzangwill/starred{/owner}{/repo}',\n",
              "   'subscriptions_url': 'https://api.github.com/users/johnzangwill/subscriptions',\n",
              "   'type': 'User',\n",
              "   'url': 'https://api.github.com/users/johnzangwill'}},\n",
              " {'active_lock_reason': None,\n",
              "  'assignee': None,\n",
              "  'assignees': [],\n",
              "  'author_association': 'NONE',\n",
              "  'body': \"- [ ] closes #xxxx\\r\\n- [x] tests added / passed\\r\\n- [ ] Ensure all linting tests pass, see [here](https://pandas.pydata.org/pandas-docs/dev/development/contributing_codebase.html#pre-commit) for how to run them\\r\\n- [ ] whatsnew entry\\r\\n\\r\\nHaven't found any discussion about Zstandard so far but I think it would be a valuable addition to the Pickle compression options.\",\n",
              "  'closed_at': None,\n",
              "  'comments': 1,\n",
              "  'comments_url': 'https://api.github.com/repos/pandas-dev/pandas/issues/43925/comments',\n",
              "  'created_at': '2021-10-08T13:44:52Z',\n",
              "  'events_url': 'https://api.github.com/repos/pandas-dev/pandas/issues/43925/events',\n",
              "  'html_url': 'https://github.com/pandas-dev/pandas/pull/43925',\n",
              "  'id': 1021115247,\n",
              "  'labels': [],\n",
              "  'labels_url': 'https://api.github.com/repos/pandas-dev/pandas/issues/43925/labels{/name}',\n",
              "  'locked': False,\n",
              "  'milestone': None,\n",
              "  'node_id': 'PR_kwDOAA0YD84s8fmY',\n",
              "  'number': 43925,\n",
              "  'performed_via_github_app': None,\n",
              "  'pull_request': {'diff_url': 'https://github.com/pandas-dev/pandas/pull/43925.diff',\n",
              "   'html_url': 'https://github.com/pandas-dev/pandas/pull/43925',\n",
              "   'patch_url': 'https://github.com/pandas-dev/pandas/pull/43925.patch',\n",
              "   'url': 'https://api.github.com/repos/pandas-dev/pandas/pulls/43925'},\n",
              "  'reactions': {'+1': 0,\n",
              "   '-1': 0,\n",
              "   'confused': 0,\n",
              "   'eyes': 0,\n",
              "   'heart': 0,\n",
              "   'hooray': 0,\n",
              "   'laugh': 0,\n",
              "   'rocket': 0,\n",
              "   'total_count': 0,\n",
              "   'url': 'https://api.github.com/repos/pandas-dev/pandas/issues/43925/reactions'},\n",
              "  'repository_url': 'https://api.github.com/repos/pandas-dev/pandas',\n",
              "  'state': 'open',\n",
              "  'timeline_url': 'https://api.github.com/repos/pandas-dev/pandas/issues/43925/timeline',\n",
              "  'title': 'Add Zstandard support to read_pickle/to_pickle',\n",
              "  'updated_at': '2021-10-08T13:50:19Z',\n",
              "  'url': 'https://api.github.com/repos/pandas-dev/pandas/issues/43925',\n",
              "  'user': {'avatar_url': 'https://avatars.githubusercontent.com/u/175722?v=4',\n",
              "   'events_url': 'https://api.github.com/users/jonashaag/events{/privacy}',\n",
              "   'followers_url': 'https://api.github.com/users/jonashaag/followers',\n",
              "   'following_url': 'https://api.github.com/users/jonashaag/following{/other_user}',\n",
              "   'gists_url': 'https://api.github.com/users/jonashaag/gists{/gist_id}',\n",
              "   'gravatar_id': '',\n",
              "   'html_url': 'https://github.com/jonashaag',\n",
              "   'id': 175722,\n",
              "   'login': 'jonashaag',\n",
              "   'node_id': 'MDQ6VXNlcjE3NTcyMg==',\n",
              "   'organizations_url': 'https://api.github.com/users/jonashaag/orgs',\n",
              "   'received_events_url': 'https://api.github.com/users/jonashaag/received_events',\n",
              "   'repos_url': 'https://api.github.com/users/jonashaag/repos',\n",
              "   'site_admin': False,\n",
              "   'starred_url': 'https://api.github.com/users/jonashaag/starred{/owner}{/repo}',\n",
              "   'subscriptions_url': 'https://api.github.com/users/jonashaag/subscriptions',\n",
              "   'type': 'User',\n",
              "   'url': 'https://api.github.com/users/jonashaag'}},\n",
              " {'active_lock_reason': None,\n",
              "  'assignee': None,\n",
              "  'assignees': [],\n",
              "  'author_association': 'MEMBER',\n",
              "  'body': '- [ ] closes #xxxx\\r\\n- [x] tests added / passed\\r\\n- [ ] Ensure all linting tests pass, see [here](https://pandas.pydata.org/pandas-docs/dev/development/contributing_codebase.html#pre-commit) for how to run them\\r\\n- [ ] whatsnew entry\\r\\n\\r\\nnp.mimum.reduce(frame) -> return Series instead of ndarray\\r\\n\\r\\nnp.maximum.reduce(series[dt64]) -> return Timestamp instead of np.datetime64\\r\\nnp.maximum.reduce(series[td64]) -> return Timedelta instead of np.timedelta64\\r\\nnp.maximum.reduce(DTA) -> return Timestamp instead of np.datetime64\\r\\nnp.maximum.reduce(TDA) -> return Timedelta instead of np.timedelta64\\r\\nnp.maximum.reduce(DTI) -> return Timestamp instead of np.datetime64\\r\\nnp.maximum.reduce(TDI) -> return Timedelta instead of np.timedelta64\\r\\n\\r\\nnp.maximum.reduce(integer_array) works instead of raising NotImplementedError\\r\\nnp.maximum.reduce(floating_array) works instead of raising NotImplementedError\\r\\nnp.maximum.reduce(Series[Int]) works instead of raising NotImplementedError\\r\\nnp.maximum.reduce(Series[Float]) works instead of raising NotImplementedError\\r\\n\\r\\nDitto for np.minimum.reduce',\n",
              "  'closed_at': None,\n",
              "  'comments': 0,\n",
              "  'comments_url': 'https://api.github.com/repos/pandas-dev/pandas/issues/43923/comments',\n",
              "  'created_at': '2021-10-08T03:53:14Z',\n",
              "  'events_url': 'https://api.github.com/repos/pandas-dev/pandas/issues/43923/events',\n",
              "  'html_url': 'https://github.com/pandas-dev/pandas/pull/43923',\n",
              "  'id': 1020669141,\n",
              "  'labels': [],\n",
              "  'labels_url': 'https://api.github.com/repos/pandas-dev/pandas/issues/43923/labels{/name}',\n",
              "  'locked': False,\n",
              "  'milestone': None,\n",
              "  'node_id': 'PR_kwDOAA0YD84s7GXU',\n",
              "  'number': 43923,\n",
              "  'performed_via_github_app': None,\n",
              "  'pull_request': {'diff_url': 'https://github.com/pandas-dev/pandas/pull/43923.diff',\n",
              "   'html_url': 'https://github.com/pandas-dev/pandas/pull/43923',\n",
              "   'patch_url': 'https://github.com/pandas-dev/pandas/pull/43923.patch',\n",
              "   'url': 'https://api.github.com/repos/pandas-dev/pandas/pulls/43923'},\n",
              "  'reactions': {'+1': 0,\n",
              "   '-1': 0,\n",
              "   'confused': 0,\n",
              "   'eyes': 0,\n",
              "   'heart': 0,\n",
              "   'hooray': 0,\n",
              "   'laugh': 0,\n",
              "   'rocket': 0,\n",
              "   'total_count': 0,\n",
              "   'url': 'https://api.github.com/repos/pandas-dev/pandas/issues/43923/reactions'},\n",
              "  'repository_url': 'https://api.github.com/repos/pandas-dev/pandas',\n",
              "  'state': 'open',\n",
              "  'timeline_url': 'https://api.github.com/repos/pandas-dev/pandas/issues/43923/timeline',\n",
              "  'title': 'ENH: __array_ufunc__ handle np.minimum.reduce',\n",
              "  'updated_at': '2021-10-08T03:53:14Z',\n",
              "  'url': 'https://api.github.com/repos/pandas-dev/pandas/issues/43923',\n",
              "  'user': {'avatar_url': 'https://avatars.githubusercontent.com/u/8078968?v=4',\n",
              "   'events_url': 'https://api.github.com/users/jbrockmendel/events{/privacy}',\n",
              "   'followers_url': 'https://api.github.com/users/jbrockmendel/followers',\n",
              "   'following_url': 'https://api.github.com/users/jbrockmendel/following{/other_user}',\n",
              "   'gists_url': 'https://api.github.com/users/jbrockmendel/gists{/gist_id}',\n",
              "   'gravatar_id': '',\n",
              "   'html_url': 'https://github.com/jbrockmendel',\n",
              "   'id': 8078968,\n",
              "   'login': 'jbrockmendel',\n",
              "   'node_id': 'MDQ6VXNlcjgwNzg5Njg=',\n",
              "   'organizations_url': 'https://api.github.com/users/jbrockmendel/orgs',\n",
              "   'received_events_url': 'https://api.github.com/users/jbrockmendel/received_events',\n",
              "   'repos_url': 'https://api.github.com/users/jbrockmendel/repos',\n",
              "   'site_admin': False,\n",
              "   'starred_url': 'https://api.github.com/users/jbrockmendel/starred{/owner}{/repo}',\n",
              "   'subscriptions_url': 'https://api.github.com/users/jbrockmendel/subscriptions',\n",
              "   'type': 'User',\n",
              "   'url': 'https://api.github.com/users/jbrockmendel'}},\n",
              " {'active_lock_reason': None,\n",
              "  'assignee': None,\n",
              "  'assignees': [],\n",
              "  'author_association': 'MEMBER',\n",
              "  'body': '- [ ] closes #xxxx\\r\\n- [x] tests added / passed\\r\\n- [x] Ensure all linting tests pass, see [here](https://pandas.pydata.org/pandas-docs/dev/development/contributing_codebase.html#pre-commit) for how to run them\\r\\n- [x] whatsnew entry\\r\\n',\n",
              "  'closed_at': None,\n",
              "  'comments': 4,\n",
              "  'comments_url': 'https://api.github.com/repos/pandas-dev/pandas/issues/43917/comments',\n",
              "  'created_at': '2021-10-07T21:19:58Z',\n",
              "  'events_url': 'https://api.github.com/repos/pandas-dev/pandas/issues/43917/events',\n",
              "  'html_url': 'https://github.com/pandas-dev/pandas/pull/43917',\n",
              "  'id': 1020472548,\n",
              "  'labels': [{'color': 'e10c02',\n",
              "    'default': False,\n",
              "    'description': None,\n",
              "    'id': 76811,\n",
              "    'name': 'Bug',\n",
              "    'node_id': 'MDU6TGFiZWw3NjgxMQ==',\n",
              "    'url': 'https://api.github.com/repos/pandas-dev/pandas/labels/Bug'},\n",
              "   {'color': 'e102d8',\n",
              "    'default': False,\n",
              "    'description': 'Unexpected or buggy dtype conversions',\n",
              "    'id': 31404521,\n",
              "    'name': 'Dtype Conversions',\n",
              "    'node_id': 'MDU6TGFiZWwzMTQwNDUyMQ==',\n",
              "    'url': 'https://api.github.com/repos/pandas-dev/pandas/labels/Dtype%20Conversions'}],\n",
              "  'labels_url': 'https://api.github.com/repos/pandas-dev/pandas/issues/43917/labels{/name}',\n",
              "  'locked': False,\n",
              "  'milestone': {'closed_at': None,\n",
              "   'closed_issues': 822,\n",
              "   'created_at': '2021-06-09T18:28:42Z',\n",
              "   'creator': {'avatar_url': 'https://avatars.githubusercontent.com/u/953992?v=4',\n",
              "    'events_url': 'https://api.github.com/users/jreback/events{/privacy}',\n",
              "    'followers_url': 'https://api.github.com/users/jreback/followers',\n",
              "    'following_url': 'https://api.github.com/users/jreback/following{/other_user}',\n",
              "    'gists_url': 'https://api.github.com/users/jreback/gists{/gist_id}',\n",
              "    'gravatar_id': '',\n",
              "    'html_url': 'https://github.com/jreback',\n",
              "    'id': 953992,\n",
              "    'login': 'jreback',\n",
              "    'node_id': 'MDQ6VXNlcjk1Mzk5Mg==',\n",
              "    'organizations_url': 'https://api.github.com/users/jreback/orgs',\n",
              "    'received_events_url': 'https://api.github.com/users/jreback/received_events',\n",
              "    'repos_url': 'https://api.github.com/users/jreback/repos',\n",
              "    'site_admin': False,\n",
              "    'starred_url': 'https://api.github.com/users/jreback/starred{/owner}{/repo}',\n",
              "    'subscriptions_url': 'https://api.github.com/users/jreback/subscriptions',\n",
              "    'type': 'User',\n",
              "    'url': 'https://api.github.com/users/jreback'},\n",
              "   'description': '',\n",
              "   'due_on': '2021-12-31T08:00:00Z',\n",
              "   'html_url': 'https://github.com/pandas-dev/pandas/milestone/86',\n",
              "   'id': 6840253,\n",
              "   'labels_url': 'https://api.github.com/repos/pandas-dev/pandas/milestones/86/labels',\n",
              "   'node_id': 'MDk6TWlsZXN0b25lNjg0MDI1Mw==',\n",
              "   'number': 86,\n",
              "   'open_issues': 68,\n",
              "   'state': 'open',\n",
              "   'title': '1.4',\n",
              "   'updated_at': '2021-10-10T14:39:46Z',\n",
              "   'url': 'https://api.github.com/repos/pandas-dev/pandas/milestones/86'},\n",
              "  'node_id': 'PR_kwDOAA0YD84s6ik7',\n",
              "  'number': 43917,\n",
              "  'performed_via_github_app': None,\n",
              "  'pull_request': {'diff_url': 'https://github.com/pandas-dev/pandas/pull/43917.diff',\n",
              "   'html_url': 'https://github.com/pandas-dev/pandas/pull/43917',\n",
              "   'patch_url': 'https://github.com/pandas-dev/pandas/pull/43917.patch',\n",
              "   'url': 'https://api.github.com/repos/pandas-dev/pandas/pulls/43917'},\n",
              "  'reactions': {'+1': 0,\n",
              "   '-1': 0,\n",
              "   'confused': 0,\n",
              "   'eyes': 0,\n",
              "   'heart': 0,\n",
              "   'hooray': 0,\n",
              "   'laugh': 0,\n",
              "   'rocket': 0,\n",
              "   'total_count': 0,\n",
              "   'url': 'https://api.github.com/repos/pandas-dev/pandas/issues/43917/reactions'},\n",
              "  'repository_url': 'https://api.github.com/repos/pandas-dev/pandas',\n",
              "  'state': 'open',\n",
              "  'timeline_url': 'https://api.github.com/repos/pandas-dev/pandas/issues/43917/timeline',\n",
              "  'title': 'BUG: np.isinf, np.isfinite, np.isnan with DTI[dt64tz]',\n",
              "  'updated_at': '2021-10-08T16:33:03Z',\n",
              "  'url': 'https://api.github.com/repos/pandas-dev/pandas/issues/43917',\n",
              "  'user': {'avatar_url': 'https://avatars.githubusercontent.com/u/8078968?v=4',\n",
              "   'events_url': 'https://api.github.com/users/jbrockmendel/events{/privacy}',\n",
              "   'followers_url': 'https://api.github.com/users/jbrockmendel/followers',\n",
              "   'following_url': 'https://api.github.com/users/jbrockmendel/following{/other_user}',\n",
              "   'gists_url': 'https://api.github.com/users/jbrockmendel/gists{/gist_id}',\n",
              "   'gravatar_id': '',\n",
              "   'html_url': 'https://github.com/jbrockmendel',\n",
              "   'id': 8078968,\n",
              "   'login': 'jbrockmendel',\n",
              "   'node_id': 'MDQ6VXNlcjgwNzg5Njg=',\n",
              "   'organizations_url': 'https://api.github.com/users/jbrockmendel/orgs',\n",
              "   'received_events_url': 'https://api.github.com/users/jbrockmendel/received_events',\n",
              "   'repos_url': 'https://api.github.com/users/jbrockmendel/repos',\n",
              "   'site_admin': False,\n",
              "   'starred_url': 'https://api.github.com/users/jbrockmendel/starred{/owner}{/repo}',\n",
              "   'subscriptions_url': 'https://api.github.com/users/jbrockmendel/subscriptions',\n",
              "   'type': 'User',\n",
              "   'url': 'https://api.github.com/users/jbrockmendel'}},\n",
              " {'active_lock_reason': None,\n",
              "  'assignee': None,\n",
              "  'assignees': [],\n",
              "  'author_association': 'NONE',\n",
              "  'body': '- [ ] closes #32793\\r\\n- [ ] tests added / passed\\r\\n- [ ] Ensure all linting tests pass, see [here](https://pandas.pydata.org/pandas-docs/dev/development/contributing_codebase.html#pre-commit) for how to run them\\r\\n- [ ] whatsnew entry\\r\\n',\n",
              "  'closed_at': None,\n",
              "  'comments': 0,\n",
              "  'comments_url': 'https://api.github.com/repos/pandas-dev/pandas/issues/43915/comments',\n",
              "  'created_at': '2021-10-07T20:44:32Z',\n",
              "  'events_url': 'https://api.github.com/repos/pandas-dev/pandas/issues/43915/events',\n",
              "  'html_url': 'https://github.com/pandas-dev/pandas/pull/43915',\n",
              "  'id': 1020444432,\n",
              "  'labels': [{'color': 'C4A000',\n",
              "    'default': False,\n",
              "    'description': 'pandas testing functions or related to the test suite',\n",
              "    'id': 127685,\n",
              "    'name': 'Testing',\n",
              "    'node_id': 'MDU6TGFiZWwxMjc2ODU=',\n",
              "    'url': 'https://api.github.com/repos/pandas-dev/pandas/labels/Testing'},\n",
              "   {'color': '729FCF',\n",
              "    'default': False,\n",
              "    'description': None,\n",
              "    'id': 233160,\n",
              "    'name': 'Groupby',\n",
              "    'node_id': 'MDU6TGFiZWwyMzMxNjA=',\n",
              "    'url': 'https://api.github.com/repos/pandas-dev/pandas/labels/Groupby'},\n",
              "   {'color': 'e102d8',\n",
              "    'default': False,\n",
              "    'description': 'Unexpected or buggy dtype conversions',\n",
              "    'id': 31404521,\n",
              "    'name': 'Dtype Conversions',\n",
              "    'node_id': 'MDU6TGFiZWwzMTQwNDUyMQ==',\n",
              "    'url': 'https://api.github.com/repos/pandas-dev/pandas/labels/Dtype%20Conversions'}],\n",
              "  'labels_url': 'https://api.github.com/repos/pandas-dev/pandas/issues/43915/labels{/name}',\n",
              "  'locked': False,\n",
              "  'milestone': None,\n",
              "  'node_id': 'PR_kwDOAA0YD84s6cuV',\n",
              "  'number': 43915,\n",
              "  'performed_via_github_app': None,\n",
              "  'pull_request': {'diff_url': 'https://github.com/pandas-dev/pandas/pull/43915.diff',\n",
              "   'html_url': 'https://github.com/pandas-dev/pandas/pull/43915',\n",
              "   'patch_url': 'https://github.com/pandas-dev/pandas/pull/43915.patch',\n",
              "   'url': 'https://api.github.com/repos/pandas-dev/pandas/pulls/43915'},\n",
              "  'reactions': {'+1': 0,\n",
              "   '-1': 0,\n",
              "   'confused': 0,\n",
              "   'eyes': 0,\n",
              "   'heart': 0,\n",
              "   'hooray': 0,\n",
              "   'laugh': 0,\n",
              "   'rocket': 0,\n",
              "   'total_count': 0,\n",
              "   'url': 'https://api.github.com/repos/pandas-dev/pandas/issues/43915/reactions'},\n",
              "  'repository_url': 'https://api.github.com/repos/pandas-dev/pandas',\n",
              "  'state': 'open',\n",
              "  'timeline_url': 'https://api.github.com/repos/pandas-dev/pandas/issues/43915/timeline',\n",
              "  'title': 'TST : add test for groupby aggregation dtype',\n",
              "  'updated_at': '2021-10-08T08:46:59Z',\n",
              "  'url': 'https://api.github.com/repos/pandas-dev/pandas/issues/43915',\n",
              "  'user': {'avatar_url': 'https://avatars.githubusercontent.com/u/10152806?v=4',\n",
              "   'events_url': 'https://api.github.com/users/OlivierCavadenti/events{/privacy}',\n",
              "   'followers_url': 'https://api.github.com/users/OlivierCavadenti/followers',\n",
              "   'following_url': 'https://api.github.com/users/OlivierCavadenti/following{/other_user}',\n",
              "   'gists_url': 'https://api.github.com/users/OlivierCavadenti/gists{/gist_id}',\n",
              "   'gravatar_id': '',\n",
              "   'html_url': 'https://github.com/OlivierCavadenti',\n",
              "   'id': 10152806,\n",
              "   'login': 'OlivierCavadenti',\n",
              "   'node_id': 'MDQ6VXNlcjEwMTUyODA2',\n",
              "   'organizations_url': 'https://api.github.com/users/OlivierCavadenti/orgs',\n",
              "   'received_events_url': 'https://api.github.com/users/OlivierCavadenti/received_events',\n",
              "   'repos_url': 'https://api.github.com/users/OlivierCavadenti/repos',\n",
              "   'site_admin': False,\n",
              "   'starred_url': 'https://api.github.com/users/OlivierCavadenti/starred{/owner}{/repo}',\n",
              "   'subscriptions_url': 'https://api.github.com/users/OlivierCavadenti/subscriptions',\n",
              "   'type': 'User',\n",
              "   'url': 'https://api.github.com/users/OlivierCavadenti'}},\n",
              " {'active_lock_reason': None,\n",
              "  'assignee': None,\n",
              "  'assignees': [],\n",
              "  'author_association': 'NONE',\n",
              "  'body': '### \\n\\n- [X] I have checked that this issue has not already been reported.\\n\\n- [X] I have confirmed this bug exists on the [latest version](https://pandas.pydata.org/docs/whatsnew/index.html) of pandas.\\n\\n- [X] I have confirmed this bug exists on the master branch of pandas.\\n\\n\\n### Reproducible Example\\n\\n```python\\ndf1 = pd.DataFrame()\\r\\ndf1[0] = pd.arrays.IntervalArray.from_tuples([(1.0, 2.0)])\\r\\n\\r\\ndf2 = pd.DataFrame()\\r\\ndf2[0] = pd.arrays.IntervalArray.from_tuples([(1.0000000000001, 2.0)])\\r\\n\\r\\n# Using very large tolerances do not propagate to the interval dtype, since this assert fails:\\r\\npd.testing.assert_frame_equal(df1, df2, check_exact=False, rtol=10., atol=10.)\\n```\\n\\n\\n### Issue Description\\n\\nIt seems that `pd.testing.assert_frame_equal` does not propagate chosen tolerances for `interval` dtype comparison.\\n\\n### Expected Behavior\\n\\ndf1 = pd.DataFrame()\\r\\ndf1[0] = pd.arrays.IntervalArray.from_tuples([(1.0, 2.0)])\\r\\ndf2 = pd.DataFrame()\\r\\ndf2[0] = pd.arrays.IntervalArray.from_tuples([(1.0000000000001, 2.0)])\\r\\n# This test should pass...\\r\\npd.testing.assert_frame_equal(df1, df2, check_exact=False, rtol=10., atol=10.)\\n\\n### Installed Versions\\n\\n<details>\\r\\nINSTALLED VERSIONS\\r\\n------------------\\r\\ncommit           : 2cb96529396d93b46abab7bbc73a208e708c642e\\r\\npython           : 3.8.8.final.0\\r\\npython-bits      : 64\\r\\nOS               : Darwin\\r\\nOS-release       : 20.5.0\\r\\nVersion          : Darwin Kernel Version 20.5.0: Sat May  8 05:10:33 PDT 2021; root:xnu-7195.121.3~9/RELEASE_X86_64\\r\\nmachine          : x86_64\\r\\nprocessor        : i386\\r\\nbyteorder        : little\\r\\nLC_ALL           : None\\r\\nLANG             : fr_FR.UTF-8\\r\\nLOCALE           : fr_FR.UTF-8\\r\\n\\r\\npandas           : 1.2.4\\r\\nnumpy            : 1.20.1\\r\\npytz             : 2021.1\\r\\ndateutil         : 2.8.1\\r\\npip              : 21.0.1\\r\\nsetuptools       : 52.0.0.post20210125\\r\\nCython           : 0.29.23\\r\\npytest           : 6.2.3\\r\\nhypothesis       : None\\r\\nsphinx           : 4.0.1\\r\\nblosc            : None\\r\\nfeather          : None\\r\\nxlsxwriter       : 1.3.8\\r\\nlxml.etree       : 4.6.3\\r\\nhtml5lib         : 1.1\\r\\npymysql          : None\\r\\npsycopg2         : None\\r\\njinja2           : 2.11.3\\r\\nIPython          : 7.22.0\\r\\npandas_datareader: None\\r\\nbs4              : 4.9.3\\r\\nbottleneck       : 1.3.2\\r\\nfsspec           : 0.9.0\\r\\nfastparquet      : None\\r\\ngcsfs            : None\\r\\nmatplotlib       : 3.3.4\\r\\nnumexpr          : 2.7.3\\r\\nodfpy            : None\\r\\nopenpyxl         : 3.0.7\\r\\npandas_gbq       : None\\r\\npyarrow          : None\\r\\npyxlsb           : None\\r\\ns3fs             : None\\r\\nscipy            : 1.6.2\\r\\nsqlalchemy       : 1.4.7\\r\\ntables           : 3.6.1\\r\\ntabulate         : None\\r\\nxarray           : None\\r\\nxlrd             : 2.0.1\\r\\nxlwt             : 1.3.0\\r\\nnumba            : 0.53.1\\r\\n</details>\\r\\n',\n",
              "  'closed_at': None,\n",
              "  'comments': 1,\n",
              "  'comments_url': 'https://api.github.com/repos/pandas-dev/pandas/issues/43913/comments',\n",
              "  'created_at': '2021-10-07T16:46:10Z',\n",
              "  'events_url': 'https://api.github.com/repos/pandas-dev/pandas/issues/43913/events',\n",
              "  'html_url': 'https://github.com/pandas-dev/pandas/issues/43913',\n",
              "  'id': 1020254203,\n",
              "  'labels': [{'color': 'e10c02',\n",
              "    'default': False,\n",
              "    'description': None,\n",
              "    'id': 76811,\n",
              "    'name': 'Bug',\n",
              "    'node_id': 'MDU6TGFiZWw3NjgxMQ==',\n",
              "    'url': 'https://api.github.com/repos/pandas-dev/pandas/labels/Bug'},\n",
              "   {'color': 'C4A000',\n",
              "    'default': False,\n",
              "    'description': 'pandas testing functions or related to the test suite',\n",
              "    'id': 127685,\n",
              "    'name': 'Testing',\n",
              "    'node_id': 'MDU6TGFiZWwxMjc2ODU=',\n",
              "    'url': 'https://api.github.com/repos/pandas-dev/pandas/labels/Testing'},\n",
              "   {'color': '009800',\n",
              "    'default': False,\n",
              "    'description': 'Interval data type',\n",
              "    'id': 150096370,\n",
              "    'name': 'Interval',\n",
              "    'node_id': 'MDU6TGFiZWwxNTAwOTYzNzA=',\n",
              "    'url': 'https://api.github.com/repos/pandas-dev/pandas/labels/Interval'},\n",
              "   {'color': '6138b5',\n",
              "    'default': False,\n",
              "    'description': 'Extending pandas with custom dtypes or arrays.',\n",
              "    'id': 849023693,\n",
              "    'name': 'ExtensionArray',\n",
              "    'node_id': 'MDU6TGFiZWw4NDkwMjM2OTM=',\n",
              "    'url': 'https://api.github.com/repos/pandas-dev/pandas/labels/ExtensionArray'}],\n",
              "  'labels_url': 'https://api.github.com/repos/pandas-dev/pandas/issues/43913/labels{/name}',\n",
              "  'locked': False,\n",
              "  'milestone': {'closed_at': None,\n",
              "   'closed_issues': 776,\n",
              "   'created_at': '2015-01-13T10:53:19Z',\n",
              "   'creator': {'avatar_url': 'https://avatars.githubusercontent.com/u/953992?v=4',\n",
              "    'events_url': 'https://api.github.com/users/jreback/events{/privacy}',\n",
              "    'followers_url': 'https://api.github.com/users/jreback/followers',\n",
              "    'following_url': 'https://api.github.com/users/jreback/following{/other_user}',\n",
              "    'gists_url': 'https://api.github.com/users/jreback/gists{/gist_id}',\n",
              "    'gravatar_id': '',\n",
              "    'html_url': 'https://github.com/jreback',\n",
              "    'id': 953992,\n",
              "    'login': 'jreback',\n",
              "    'node_id': 'MDQ6VXNlcjk1Mzk5Mg==',\n",
              "    'organizations_url': 'https://api.github.com/users/jreback/orgs',\n",
              "    'received_events_url': 'https://api.github.com/users/jreback/received_events',\n",
              "    'repos_url': 'https://api.github.com/users/jreback/repos',\n",
              "    'site_admin': False,\n",
              "    'starred_url': 'https://api.github.com/users/jreback/starred{/owner}{/repo}',\n",
              "    'subscriptions_url': 'https://api.github.com/users/jreback/subscriptions',\n",
              "    'type': 'User',\n",
              "    'url': 'https://api.github.com/users/jreback'},\n",
              "   'description': 'Changes that would be nice to have in the next release. These issues are not blocking. They will be pushed to the next release if no one has time to fix them.',\n",
              "   'due_on': None,\n",
              "   'html_url': 'https://github.com/pandas-dev/pandas/milestone/32',\n",
              "   'id': 933188,\n",
              "   'labels_url': 'https://api.github.com/repos/pandas-dev/pandas/milestones/32/labels',\n",
              "   'node_id': 'MDk6TWlsZXN0b25lOTMzMTg4',\n",
              "   'number': 32,\n",
              "   'open_issues': 1075,\n",
              "   'state': 'open',\n",
              "   'title': 'Contributions Welcome',\n",
              "   'updated_at': '2021-10-09T16:16:13Z',\n",
              "   'url': 'https://api.github.com/repos/pandas-dev/pandas/milestones/32'},\n",
              "  'node_id': 'I_kwDOAA0YD848z9f7',\n",
              "  'number': 43913,\n",
              "  'performed_via_github_app': None,\n",
              "  'reactions': {'+1': 0,\n",
              "   '-1': 0,\n",
              "   'confused': 0,\n",
              "   'eyes': 0,\n",
              "   'heart': 0,\n",
              "   'hooray': 0,\n",
              "   'laugh': 0,\n",
              "   'rocket': 0,\n",
              "   'total_count': 0,\n",
              "   'url': 'https://api.github.com/repos/pandas-dev/pandas/issues/43913/reactions'},\n",
              "  'repository_url': 'https://api.github.com/repos/pandas-dev/pandas',\n",
              "  'state': 'open',\n",
              "  'timeline_url': 'https://api.github.com/repos/pandas-dev/pandas/issues/43913/timeline',\n",
              "  'title': 'BUG: `pd.testing.assert_frame_equal` does not propagate precision to interval dtype',\n",
              "  'updated_at': '2021-10-09T15:10:08Z',\n",
              "  'url': 'https://api.github.com/repos/pandas-dev/pandas/issues/43913',\n",
              "  'user': {'avatar_url': 'https://avatars.githubusercontent.com/u/3238780?v=4',\n",
              "   'events_url': 'https://api.github.com/users/stephanegaiffas/events{/privacy}',\n",
              "   'followers_url': 'https://api.github.com/users/stephanegaiffas/followers',\n",
              "   'following_url': 'https://api.github.com/users/stephanegaiffas/following{/other_user}',\n",
              "   'gists_url': 'https://api.github.com/users/stephanegaiffas/gists{/gist_id}',\n",
              "   'gravatar_id': '',\n",
              "   'html_url': 'https://github.com/stephanegaiffas',\n",
              "   'id': 3238780,\n",
              "   'login': 'stephanegaiffas',\n",
              "   'node_id': 'MDQ6VXNlcjMyMzg3ODA=',\n",
              "   'organizations_url': 'https://api.github.com/users/stephanegaiffas/orgs',\n",
              "   'received_events_url': 'https://api.github.com/users/stephanegaiffas/received_events',\n",
              "   'repos_url': 'https://api.github.com/users/stephanegaiffas/repos',\n",
              "   'site_admin': False,\n",
              "   'starred_url': 'https://api.github.com/users/stephanegaiffas/starred{/owner}{/repo}',\n",
              "   'subscriptions_url': 'https://api.github.com/users/stephanegaiffas/subscriptions',\n",
              "   'type': 'User',\n",
              "   'url': 'https://api.github.com/users/stephanegaiffas'}},\n",
              " {'active_lock_reason': None,\n",
              "  'assignee': None,\n",
              "  'assignees': [],\n",
              "  'author_association': 'NONE',\n",
              "  'body': \"### \\n\\n- [X] I have checked that this issue has not already been reported.\\n\\n- [X] I have confirmed this bug exists on the [latest version](https://pandas.pydata.org/docs/whatsnew/index.html) of pandas.\\n\\n- [ ] I have confirmed this bug exists on the master branch of pandas.\\n\\n\\n### Reproducible Example\\n\\n```python\\nimport numpy as np\\r\\nimport pandas as pd\\r\\n\\r\\ndf = pd.DataFrame({'group': ['A', 'A', 'A', 'B', 'B', 'B'], 'v': [4, 5, np.nan, 1, np.nan, 2 ]})\\r\\ndf2 = df.groupby(by=['group']).fillna(method='bfill')\\n```\\n\\n\\n### Issue Description\\n\\nThe variable `group` is completely missing from the output - it is neither a column of `df2` nor part of its index.\\n\\n### Expected Behavior\\n\\nExpected behavior would be to include the `group` variable either as a column or an index of the output dataframe. This was actually the behavior in previous versions of pandas.\\n\\n### Installed Versions\\n\\nINSTALLED VERSIONS\\r\\n------------------\\r\\ncommit           : 73c68257545b5f8530b7044f56647bd2db92e2ba\\r\\npython           : 3.8.8.final.0\\r\\npython-bits      : 64\\r\\nOS               : Windows\\r\\nOS-release       : 10\\r\\nVersion          : 10.0.17134\\r\\nmachine          : AMD64\\r\\nprocessor        : Intel64 Family 6 Model 142 Stepping 10, GenuineIntel\\r\\nbyteorder        : little\\r\\nLC_ALL           : None\\r\\nLANG             : en\\r\\nLOCALE           : English_United States.1252\\r\\n\\r\\npandas           : 1.3.3\\r\\nnumpy            : 1.20.3\\r\\npytz             : 2021.1\\r\\ndateutil         : 2.8.2\\r\\npip              : 21.0.1\\r\\nsetuptools       : 58.0.4\\r\\nCython           : 0.29.24\\r\\npytest           : 6.2.4\\r\\nhypothesis       : None\\r\\nsphinx           : 4.2.0\\r\\nblosc            : None\\r\\nfeather          : None\\r\\nxlsxwriter       : 3.0.1\\r\\nlxml.etree       : 4.6.3\\r\\nhtml5lib         : 1.1\\r\\npymysql          : None\\r\\npsycopg2         : 2.8.6 (dt dec pq3 ext lo64)\\r\\njinja2           : 2.11.3\\r\\nIPython          : 7.27.0\\r\\npandas_datareader: None\\r\\nbs4              : 4.10.0\\r\\nbottleneck       : 1.3.2\\r\\nfsspec           : 2021.08.1\\r\\nfastparquet      : None\\r\\ngcsfs            : None\\r\\nmatplotlib       : 3.4.2\\r\\nnumexpr          : 2.7.3\\r\\nodfpy            : None\\r\\nopenpyxl         : 3.0.9\\r\\npandas_gbq       : None\\r\\npyarrow          : None\\r\\npyxlsb           : None\\r\\ns3fs             : None\\r\\nscipy            : 1.7.1\\r\\nsqlalchemy       : 1.4.22\\r\\ntables           : 3.6.1\\r\\ntabulate         : None\\r\\nxarray           : None\\r\\nxlrd             : 2.0.1\\r\\nxlwt             : 1.3.0\\r\\nnumba            : 0.53.1\\r\\n\",\n",
              "  'closed_at': None,\n",
              "  'comments': 0,\n",
              "  'comments_url': 'https://api.github.com/repos/pandas-dev/pandas/issues/43911/comments',\n",
              "  'created_at': '2021-10-07T14:47:35Z',\n",
              "  'events_url': 'https://api.github.com/repos/pandas-dev/pandas/issues/43911/events',\n",
              "  'html_url': 'https://github.com/pandas-dev/pandas/issues/43911',\n",
              "  'id': 1020133475,\n",
              "  'labels': [{'color': 'e10c02',\n",
              "    'default': False,\n",
              "    'description': None,\n",
              "    'id': 76811,\n",
              "    'name': 'Bug',\n",
              "    'node_id': 'MDU6TGFiZWw3NjgxMQ==',\n",
              "    'url': 'https://api.github.com/repos/pandas-dev/pandas/labels/Bug'},\n",
              "   {'color': '0052cc',\n",
              "    'default': False,\n",
              "    'description': 'Issue that has not been reviewed by a pandas team member',\n",
              "    'id': 1954720290,\n",
              "    'name': 'Needs Triage',\n",
              "    'node_id': 'MDU6TGFiZWwxOTU0NzIwMjkw',\n",
              "    'url': 'https://api.github.com/repos/pandas-dev/pandas/labels/Needs%20Triage'}],\n",
              "  'labels_url': 'https://api.github.com/repos/pandas-dev/pandas/issues/43911/labels{/name}',\n",
              "  'locked': False,\n",
              "  'milestone': None,\n",
              "  'node_id': 'I_kwDOAA0YD848zgBj',\n",
              "  'number': 43911,\n",
              "  'performed_via_github_app': None,\n",
              "  'reactions': {'+1': 0,\n",
              "   '-1': 0,\n",
              "   'confused': 0,\n",
              "   'eyes': 0,\n",
              "   'heart': 0,\n",
              "   'hooray': 0,\n",
              "   'laugh': 0,\n",
              "   'rocket': 0,\n",
              "   'total_count': 0,\n",
              "   'url': 'https://api.github.com/repos/pandas-dev/pandas/issues/43911/reactions'},\n",
              "  'repository_url': 'https://api.github.com/repos/pandas-dev/pandas',\n",
              "  'state': 'open',\n",
              "  'timeline_url': 'https://api.github.com/repos/pandas-dev/pandas/issues/43911/timeline',\n",
              "  'title': 'BUG: groupby().fillna does not return groupby key with the output',\n",
              "  'updated_at': '2021-10-07T14:47:35Z',\n",
              "  'url': 'https://api.github.com/repos/pandas-dev/pandas/issues/43911',\n",
              "  'user': {'avatar_url': 'https://avatars.githubusercontent.com/u/57410150?v=4',\n",
              "   'events_url': 'https://api.github.com/users/mdziel/events{/privacy}',\n",
              "   'followers_url': 'https://api.github.com/users/mdziel/followers',\n",
              "   'following_url': 'https://api.github.com/users/mdziel/following{/other_user}',\n",
              "   'gists_url': 'https://api.github.com/users/mdziel/gists{/gist_id}',\n",
              "   'gravatar_id': '',\n",
              "   'html_url': 'https://github.com/mdziel',\n",
              "   'id': 57410150,\n",
              "   'login': 'mdziel',\n",
              "   'node_id': 'MDQ6VXNlcjU3NDEwMTUw',\n",
              "   'organizations_url': 'https://api.github.com/users/mdziel/orgs',\n",
              "   'received_events_url': 'https://api.github.com/users/mdziel/received_events',\n",
              "   'repos_url': 'https://api.github.com/users/mdziel/repos',\n",
              "   'site_admin': False,\n",
              "   'starred_url': 'https://api.github.com/users/mdziel/starred{/owner}{/repo}',\n",
              "   'subscriptions_url': 'https://api.github.com/users/mdziel/subscriptions',\n",
              "   'type': 'User',\n",
              "   'url': 'https://api.github.com/users/mdziel'}},\n",
              " {'active_lock_reason': None,\n",
              "  'assignee': None,\n",
              "  'assignees': [],\n",
              "  'author_association': 'NONE',\n",
              "  'body': \"### \\n\\n- [X] I have checked that this issue has not already been reported.\\n\\n- [X] I have confirmed this bug exists on the [latest version](https://pandas.pydata.org/docs/whatsnew/index.html) of pandas.\\n\\n- [ ] I have confirmed this bug exists on the master branch of pandas.\\n\\n\\n### Reproducible Example\\n\\n```python\\nimport pandas as pd\\r\\n\\r\\nshuffled = [3, 0, 1, 2]\\r\\nsec = 1_000_000_000\\r\\ndf = pd.DataFrame([{'t': pd.Timestamp(2 * x * sec), 'x': x+1, 'c': 42} for x in shuffled])                                                                                                                                                                                                                                                                        \\r\\n\\r\\n#                     t  x   c\\r\\n# 0 1970-01-01 00:00:06  4  42\\r\\n# 1 1970-01-01 00:00:00  1  42\\r\\n# 2 1970-01-01 00:00:02  2  42\\r\\n# 3 1970-01-01 00:00:04  3  42\\r\\n\\r\\n# Following row raises an Exception (as expected):\\r\\ndf.rolling(on='t', window='3s').x.sum()\\r\\n\\r\\n# Following code should raise the same exception, but instead it gives meaningless results:\\r\\ndf.groupby('c').rolling(on='t', window='3s').x.sum()\\r\\n# c   t                  \\r\\n# 42  1970-01-01 00:00:06    4.0\\r\\n#     1970-01-01 00:00:00    1.0\\r\\n#     1970-01-01 00:00:02    3.0\\r\\n#     1970-01-01 00:00:04    6.0\\n```\\n\\n\\n### Issue Description\\n\\nWhen calling `df.groupby(..).rolling(on='...', ...)` on some `Timestamp` column (with timedelta window) which is not sorted, pandas gives some meaningless results.\\n\\n### Expected Behavior\\n\\nAn exception should be raised, as is the case when we call `df.rolling(on=...)` (without the `groupby`) on non-monotonic column\\n\\n### Installed Versions\\n\\n<details>\\r\\n\\r\\n```\\r\\nINSTALLED VERSIONS\\r\\n------------------\\r\\ncommit           : 73c68257545b5f8530b7044f56647bd2db92e2ba\\r\\npython           : 3.8.10.final.0\\r\\npython-bits      : 64\\r\\nOS               : Linux\\r\\nOS-release       : 5.11.0-37-generic\\r\\nVersion          : #41~20.04.2-Ubuntu SMP Fri Sep 24 09:06:38 UTC 2021\\r\\nmachine          : x86_64\\r\\nprocessor        : x86_64\\r\\nbyteorder        : little\\r\\nLC_ALL           : None\\r\\nLANG             : en_US.UTF-8\\r\\nLOCALE           : en_US.UTF-8\\r\\n\\r\\npandas           : 1.3.3\\r\\nnumpy            : 1.21.2\\r\\npytz             : 2021.1\\r\\ndateutil         : 2.8.2\\r\\npip              : 21.2.3\\r\\nsetuptools       : 45.2.0\\r\\nCython           : None\\r\\npytest           : None\\r\\nhypothesis       : None\\r\\nsphinx           : None\\r\\nblosc            : None\\r\\nfeather          : None\\r\\nxlsxwriter       : None\\r\\nlxml.etree       : 4.5.0\\r\\nhtml5lib         : 1.0.1\\r\\npymysql          : None\\r\\npsycopg2         : None\\r\\njinja2           : 2.10.1\\r\\nIPython          : 7.13.0\\r\\npandas_datareader: None\\r\\nbs4              : 4.8.2\\r\\nbottleneck       : None\\r\\nfsspec           : None\\r\\nfastparquet      : None\\r\\ngcsfs            : None\\r\\nmatplotlib       : None\\r\\nnumexpr          : None\\r\\nodfpy            : None\\r\\nopenpyxl         : None\\r\\npandas_gbq       : None\\r\\npyarrow          : None\\r\\npyxlsb           : None\\r\\ns3fs             : None\\r\\nscipy            : 1.7.1\\r\\nsqlalchemy       : None\\r\\ntables           : None\\r\\ntabulate         : None\\r\\nxarray           : None\\r\\nxlrd             : 2.0.1\\r\\nxlwt             : None\\r\\nnumba            : None\\r\\n```\\r\\n\\r\\n</details>\\r\\n\",\n",
              "  'closed_at': None,\n",
              "  'comments': 0,\n",
              "  'comments_url': 'https://api.github.com/repos/pandas-dev/pandas/issues/43909/comments',\n",
              "  'created_at': '2021-10-07T09:11:53Z',\n",
              "  'events_url': 'https://api.github.com/repos/pandas-dev/pandas/issues/43909/events',\n",
              "  'html_url': 'https://github.com/pandas-dev/pandas/issues/43909',\n",
              "  'id': 1019804975,\n",
              "  'labels': [{'color': 'e10c02',\n",
              "    'default': False,\n",
              "    'description': None,\n",
              "    'id': 76811,\n",
              "    'name': 'Bug',\n",
              "    'node_id': 'MDU6TGFiZWw3NjgxMQ==',\n",
              "    'url': 'https://api.github.com/repos/pandas-dev/pandas/labels/Bug'},\n",
              "   {'color': '0052cc',\n",
              "    'default': False,\n",
              "    'description': 'Issue that has not been reviewed by a pandas team member',\n",
              "    'id': 1954720290,\n",
              "    'name': 'Needs Triage',\n",
              "    'node_id': 'MDU6TGFiZWwxOTU0NzIwMjkw',\n",
              "    'url': 'https://api.github.com/repos/pandas-dev/pandas/labels/Needs%20Triage'}],\n",
              "  'labels_url': 'https://api.github.com/repos/pandas-dev/pandas/issues/43909/labels{/name}',\n",
              "  'locked': False,\n",
              "  'milestone': None,\n",
              "  'node_id': 'I_kwDOAA0YD848yP0v',\n",
              "  'number': 43909,\n",
              "  'performed_via_github_app': None,\n",
              "  'reactions': {'+1': 0,\n",
              "   '-1': 0,\n",
              "   'confused': 0,\n",
              "   'eyes': 0,\n",
              "   'heart': 0,\n",
              "   'hooray': 0,\n",
              "   'laugh': 0,\n",
              "   'rocket': 0,\n",
              "   'total_count': 0,\n",
              "   'url': 'https://api.github.com/repos/pandas-dev/pandas/issues/43909/reactions'},\n",
              "  'repository_url': 'https://api.github.com/repos/pandas-dev/pandas',\n",
              "  'state': 'open',\n",
              "  'timeline_url': 'https://api.github.com/repos/pandas-dev/pandas/issues/43909/timeline',\n",
              "  'title': 'BUG: Using `df.groupby(..).rolling(..)` on non-monotonic timestamp column does not raise an exception',\n",
              "  'updated_at': '2021-10-07T09:11:53Z',\n",
              "  'url': 'https://api.github.com/repos/pandas-dev/pandas/issues/43909',\n",
              "  'user': {'avatar_url': 'https://avatars.githubusercontent.com/u/3247179?v=4',\n",
              "   'events_url': 'https://api.github.com/users/drecker/events{/privacy}',\n",
              "   'followers_url': 'https://api.github.com/users/drecker/followers',\n",
              "   'following_url': 'https://api.github.com/users/drecker/following{/other_user}',\n",
              "   'gists_url': 'https://api.github.com/users/drecker/gists{/gist_id}',\n",
              "   'gravatar_id': '',\n",
              "   'html_url': 'https://github.com/drecker',\n",
              "   'id': 3247179,\n",
              "   'login': 'drecker',\n",
              "   'node_id': 'MDQ6VXNlcjMyNDcxNzk=',\n",
              "   'organizations_url': 'https://api.github.com/users/drecker/orgs',\n",
              "   'received_events_url': 'https://api.github.com/users/drecker/received_events',\n",
              "   'repos_url': 'https://api.github.com/users/drecker/repos',\n",
              "   'site_admin': False,\n",
              "   'starred_url': 'https://api.github.com/users/drecker/starred{/owner}{/repo}',\n",
              "   'subscriptions_url': 'https://api.github.com/users/drecker/subscriptions',\n",
              "   'type': 'User',\n",
              "   'url': 'https://api.github.com/users/drecker'}}]"
            ]
          },
          "metadata": {},
          "execution_count": 272
        }
      ]
    },
    {
      "cell_type": "markdown",
      "metadata": {
        "id": "RyRZKoC4pVuO"
      },
      "source": [
        "* Create a dataframe with fields (columns) of interests"
      ]
    },
    {
      "cell_type": "code",
      "metadata": {
        "id": "sXT42iYHpN-o"
      },
      "source": [
        "import pandas as pd\n",
        "df4 = pd.DataFrame(v1, columns=['number', 'title','labels','state'])"
      ],
      "execution_count": null,
      "outputs": []
    },
    {
      "cell_type": "code",
      "metadata": {
        "colab": {
          "base_uri": "https://localhost:8080/",
          "height": 973
        },
        "id": "mwu2XFvQps_a",
        "outputId": "ed41e996-feac-4e3c-b95c-ef2b2526c5c4"
      },
      "source": [
        "df4"
      ],
      "execution_count": null,
      "outputs": [
        {
          "output_type": "execute_result",
          "data": {
            "text/html": [
              "<div>\n",
              "<style scoped>\n",
              "    .dataframe tbody tr th:only-of-type {\n",
              "        vertical-align: middle;\n",
              "    }\n",
              "\n",
              "    .dataframe tbody tr th {\n",
              "        vertical-align: top;\n",
              "    }\n",
              "\n",
              "    .dataframe thead th {\n",
              "        text-align: right;\n",
              "    }\n",
              "</style>\n",
              "<table border=\"1\" class=\"dataframe\">\n",
              "  <thead>\n",
              "    <tr style=\"text-align: right;\">\n",
              "      <th></th>\n",
              "      <th>number</th>\n",
              "      <th>title</th>\n",
              "      <th>labels</th>\n",
              "      <th>state</th>\n",
              "    </tr>\n",
              "  </thead>\n",
              "  <tbody>\n",
              "    <tr>\n",
              "      <th>0</th>\n",
              "      <td>43957</td>\n",
              "      <td>DEPS/BLD: 3.9 builds breaking with missing Cython</td>\n",
              "      <td>[{'id': 129350, 'node_id': 'MDU6TGFiZWwxMjkzNT...</td>\n",
              "      <td>open</td>\n",
              "    </tr>\n",
              "    <tr>\n",
              "      <th>1</th>\n",
              "      <td>43956</td>\n",
              "      <td>ENH: Rolling TimeSeries Interpolation Methods</td>\n",
              "      <td>[{'id': 76812, 'node_id': 'MDU6TGFiZWw3NjgxMg=...</td>\n",
              "      <td>open</td>\n",
              "    </tr>\n",
              "    <tr>\n",
              "      <th>2</th>\n",
              "      <td>43955</td>\n",
              "      <td>DOC: cancel replace's doc list item text bold ...</td>\n",
              "      <td>[]</td>\n",
              "      <td>open</td>\n",
              "    </tr>\n",
              "    <tr>\n",
              "      <th>3</th>\n",
              "      <td>43953</td>\n",
              "      <td>PERF: Index.insert</td>\n",
              "      <td>[]</td>\n",
              "      <td>open</td>\n",
              "    </tr>\n",
              "    <tr>\n",
              "      <th>4</th>\n",
              "      <td>43952</td>\n",
              "      <td>REF: share RangeIndex methods</td>\n",
              "      <td>[{'id': 127681, 'node_id': 'MDU6TGFiZWwxMjc2OD...</td>\n",
              "      <td>open</td>\n",
              "    </tr>\n",
              "    <tr>\n",
              "      <th>5</th>\n",
              "      <td>43951</td>\n",
              "      <td>TYP: Use Protocols for file-like objects in re...</td>\n",
              "      <td>[]</td>\n",
              "      <td>open</td>\n",
              "    </tr>\n",
              "    <tr>\n",
              "      <th>6</th>\n",
              "      <td>43950</td>\n",
              "      <td>fix bug #3485</td>\n",
              "      <td>[]</td>\n",
              "      <td>open</td>\n",
              "    </tr>\n",
              "    <tr>\n",
              "      <th>7</th>\n",
              "      <td>43949</td>\n",
              "      <td>Fix str dtype -&gt; IntegerDtype conversions</td>\n",
              "      <td>[]</td>\n",
              "      <td>open</td>\n",
              "    </tr>\n",
              "    <tr>\n",
              "      <th>8</th>\n",
              "      <td>43945</td>\n",
              "      <td>[FIX] rolling to respect duplicate datetime in...</td>\n",
              "      <td>[]</td>\n",
              "      <td>open</td>\n",
              "    </tr>\n",
              "    <tr>\n",
              "      <th>9</th>\n",
              "      <td>43944</td>\n",
              "      <td>BUG: rolling on centered datetimelike windows ...</td>\n",
              "      <td>[{'id': 76811, 'node_id': 'MDU6TGFiZWw3NjgxMQ=...</td>\n",
              "      <td>open</td>\n",
              "    </tr>\n",
              "    <tr>\n",
              "      <th>10</th>\n",
              "      <td>43943</td>\n",
              "      <td>Fix multiindex loc nan</td>\n",
              "      <td>[]</td>\n",
              "      <td>open</td>\n",
              "    </tr>\n",
              "    <tr>\n",
              "      <th>11</th>\n",
              "      <td>43942</td>\n",
              "      <td>DOC: Add examples for categorical functions</td>\n",
              "      <td>[]</td>\n",
              "      <td>open</td>\n",
              "    </tr>\n",
              "    <tr>\n",
              "      <th>12</th>\n",
              "      <td>43941</td>\n",
              "      <td>BUG: Series.plot.hist segfault for timedelta64</td>\n",
              "      <td>[{'id': 76811, 'node_id': 'MDU6TGFiZWw3NjgxMQ=...</td>\n",
              "      <td>open</td>\n",
              "    </tr>\n",
              "    <tr>\n",
              "      <th>13</th>\n",
              "      <td>43940</td>\n",
              "      <td>BUG: pandas.DataFrame.index.map() works differ...</td>\n",
              "      <td>[{'id': 76811, 'node_id': 'MDU6TGFiZWw3NjgxMQ=...</td>\n",
              "      <td>open</td>\n",
              "    </tr>\n",
              "    <tr>\n",
              "      <th>14</th>\n",
              "      <td>43939</td>\n",
              "      <td>BUG: fix Frame getitem when column keys are ne...</td>\n",
              "      <td>[]</td>\n",
              "      <td>open</td>\n",
              "    </tr>\n",
              "    <tr>\n",
              "      <th>15</th>\n",
              "      <td>43938</td>\n",
              "      <td>BUG: NumericIndex.append retain dtype</td>\n",
              "      <td>[]</td>\n",
              "      <td>open</td>\n",
              "    </tr>\n",
              "    <tr>\n",
              "      <th>16</th>\n",
              "      <td>43937</td>\n",
              "      <td>DOC: sphinx doc list item text has strange bol...</td>\n",
              "      <td>[{'id': 134699, 'node_id': 'MDU6TGFiZWwxMzQ2OT...</td>\n",
              "      <td>open</td>\n",
              "    </tr>\n",
              "    <tr>\n",
              "      <th>17</th>\n",
              "      <td>43934</td>\n",
              "      <td>REF: Share Index.delete</td>\n",
              "      <td>[]</td>\n",
              "      <td>open</td>\n",
              "    </tr>\n",
              "    <tr>\n",
              "      <th>18</th>\n",
              "      <td>43932</td>\n",
              "      <td>Raising ValueError when xlim and ylim contain ...</td>\n",
              "      <td>[]</td>\n",
              "      <td>open</td>\n",
              "    </tr>\n",
              "    <tr>\n",
              "      <th>19</th>\n",
              "      <td>43931</td>\n",
              "      <td>BENCH : Added benchmark for indexing with .loc...</td>\n",
              "      <td>[{'id': 211840, 'node_id': 'MDU6TGFiZWwyMTE4ND...</td>\n",
              "      <td>open</td>\n",
              "    </tr>\n",
              "    <tr>\n",
              "      <th>20</th>\n",
              "      <td>43930</td>\n",
              "      <td>ENH/POC/WIP: EA-backed Index</td>\n",
              "      <td>[]</td>\n",
              "      <td>open</td>\n",
              "    </tr>\n",
              "    <tr>\n",
              "      <th>21</th>\n",
              "      <td>43929</td>\n",
              "      <td>BUG: Fix the `Float` type overflow issue for s...</td>\n",
              "      <td>[{'id': 76811, 'node_id': 'MDU6TGFiZWw3NjgxMQ=...</td>\n",
              "      <td>open</td>\n",
              "    </tr>\n",
              "    <tr>\n",
              "      <th>22</th>\n",
              "      <td>43926</td>\n",
              "      <td>BUG: Fix groupby nth with axis=1</td>\n",
              "      <td>[{'id': 76811, 'node_id': 'MDU6TGFiZWw3NjgxMQ=...</td>\n",
              "      <td>open</td>\n",
              "    </tr>\n",
              "    <tr>\n",
              "      <th>23</th>\n",
              "      <td>43925</td>\n",
              "      <td>Add Zstandard support to read_pickle/to_pickle</td>\n",
              "      <td>[]</td>\n",
              "      <td>open</td>\n",
              "    </tr>\n",
              "    <tr>\n",
              "      <th>24</th>\n",
              "      <td>43923</td>\n",
              "      <td>ENH: __array_ufunc__ handle np.minimum.reduce</td>\n",
              "      <td>[]</td>\n",
              "      <td>open</td>\n",
              "    </tr>\n",
              "    <tr>\n",
              "      <th>25</th>\n",
              "      <td>43917</td>\n",
              "      <td>BUG: np.isinf, np.isfinite, np.isnan with DTI[...</td>\n",
              "      <td>[{'id': 76811, 'node_id': 'MDU6TGFiZWw3NjgxMQ=...</td>\n",
              "      <td>open</td>\n",
              "    </tr>\n",
              "    <tr>\n",
              "      <th>26</th>\n",
              "      <td>43915</td>\n",
              "      <td>TST : add test for groupby aggregation dtype</td>\n",
              "      <td>[{'id': 127685, 'node_id': 'MDU6TGFiZWwxMjc2OD...</td>\n",
              "      <td>open</td>\n",
              "    </tr>\n",
              "    <tr>\n",
              "      <th>27</th>\n",
              "      <td>43913</td>\n",
              "      <td>BUG: `pd.testing.assert_frame_equal` does not ...</td>\n",
              "      <td>[{'id': 76811, 'node_id': 'MDU6TGFiZWw3NjgxMQ=...</td>\n",
              "      <td>open</td>\n",
              "    </tr>\n",
              "    <tr>\n",
              "      <th>28</th>\n",
              "      <td>43911</td>\n",
              "      <td>BUG: groupby().fillna does not return groupby ...</td>\n",
              "      <td>[{'id': 76811, 'node_id': 'MDU6TGFiZWw3NjgxMQ=...</td>\n",
              "      <td>open</td>\n",
              "    </tr>\n",
              "    <tr>\n",
              "      <th>29</th>\n",
              "      <td>43909</td>\n",
              "      <td>BUG: Using `df.groupby(..).rolling(..)` on non...</td>\n",
              "      <td>[{'id': 76811, 'node_id': 'MDU6TGFiZWw3NjgxMQ=...</td>\n",
              "      <td>open</td>\n",
              "    </tr>\n",
              "  </tbody>\n",
              "</table>\n",
              "</div>"
            ],
            "text/plain": [
              "    number  ... state\n",
              "0    43957  ...  open\n",
              "1    43956  ...  open\n",
              "2    43955  ...  open\n",
              "3    43953  ...  open\n",
              "4    43952  ...  open\n",
              "5    43951  ...  open\n",
              "6    43950  ...  open\n",
              "7    43949  ...  open\n",
              "8    43945  ...  open\n",
              "9    43944  ...  open\n",
              "10   43943  ...  open\n",
              "11   43942  ...  open\n",
              "12   43941  ...  open\n",
              "13   43940  ...  open\n",
              "14   43939  ...  open\n",
              "15   43938  ...  open\n",
              "16   43937  ...  open\n",
              "17   43934  ...  open\n",
              "18   43932  ...  open\n",
              "19   43931  ...  open\n",
              "20   43930  ...  open\n",
              "21   43929  ...  open\n",
              "22   43926  ...  open\n",
              "23   43925  ...  open\n",
              "24   43923  ...  open\n",
              "25   43917  ...  open\n",
              "26   43915  ...  open\n",
              "27   43913  ...  open\n",
              "28   43911  ...  open\n",
              "29   43909  ...  open\n",
              "\n",
              "[30 rows x 4 columns]"
            ]
          },
          "metadata": {},
          "execution_count": 274
        }
      ]
    },
    {
      "cell_type": "markdown",
      "metadata": {
        "id": "ijiz8Ayjwcca"
      },
      "source": [
        "* filtering out missing data\n",
        "* using dropna method"
      ]
    },
    {
      "cell_type": "code",
      "metadata": {
        "id": "g4Ip-aoopt0F"
      },
      "source": [
        "from numpy import nan as NA"
      ],
      "execution_count": null,
      "outputs": []
    },
    {
      "cell_type": "code",
      "metadata": {
        "id": "HJFQArrZwn8a"
      },
      "source": [
        "series1 = pd.Series([1,NA,3.5,NA,7])"
      ],
      "execution_count": null,
      "outputs": []
    },
    {
      "cell_type": "code",
      "metadata": {
        "colab": {
          "base_uri": "https://localhost:8080/"
        },
        "id": "CYz3tKZBwtTp",
        "outputId": "9ea339ce-6f08-4dfb-8471-5fa34ac208ad"
      },
      "source": [
        "series1.dropna()"
      ],
      "execution_count": null,
      "outputs": [
        {
          "output_type": "execute_result",
          "data": {
            "text/plain": [
              "0    1.0\n",
              "2    3.5\n",
              "4    7.0\n",
              "dtype: float64"
            ]
          },
          "metadata": {},
          "execution_count": 277
        }
      ]
    },
    {
      "cell_type": "markdown",
      "metadata": {
        "id": "LXM81kfLxV4u"
      },
      "source": [
        "* Using notnull method and boolean indexing"
      ]
    },
    {
      "cell_type": "code",
      "metadata": {
        "colab": {
          "base_uri": "https://localhost:8080/"
        },
        "id": "1OP_7t_nwvkp",
        "outputId": "7ec8c790-286d-48bf-8aca-098c160166b9"
      },
      "source": [
        "series1[series1.notnull()]"
      ],
      "execution_count": null,
      "outputs": [
        {
          "output_type": "execute_result",
          "data": {
            "text/plain": [
              "0    1.0\n",
              "2    3.5\n",
              "4    7.0\n",
              "dtype: float64"
            ]
          },
          "metadata": {},
          "execution_count": 278
        }
      ]
    },
    {
      "cell_type": "code",
      "metadata": {
        "id": "xnBm8eKWxciq"
      },
      "source": [
        "df5 = pd.DataFrame([[1. ,6.5, 3.],[1., NA, NA],[NA,NA,NA],[NA,6.5,3.0]])"
      ],
      "execution_count": null,
      "outputs": []
    },
    {
      "cell_type": "markdown",
      "metadata": {
        "id": "GcmYLXPExzz7"
      },
      "source": [
        "* drop any row having NaN in a dataframe\n",
        "* using dropna method"
      ]
    },
    {
      "cell_type": "code",
      "metadata": {
        "colab": {
          "base_uri": "https://localhost:8080/",
          "height": 172
        },
        "id": "B4mNHl0qxzN8",
        "outputId": "ea9b98cd-e0a4-4181-fb65-f25ffa27a0b5"
      },
      "source": [
        "df5"
      ],
      "execution_count": null,
      "outputs": [
        {
          "output_type": "execute_result",
          "data": {
            "text/html": [
              "<div>\n",
              "<style scoped>\n",
              "    .dataframe tbody tr th:only-of-type {\n",
              "        vertical-align: middle;\n",
              "    }\n",
              "\n",
              "    .dataframe tbody tr th {\n",
              "        vertical-align: top;\n",
              "    }\n",
              "\n",
              "    .dataframe thead th {\n",
              "        text-align: right;\n",
              "    }\n",
              "</style>\n",
              "<table border=\"1\" class=\"dataframe\">\n",
              "  <thead>\n",
              "    <tr style=\"text-align: right;\">\n",
              "      <th></th>\n",
              "      <th>0</th>\n",
              "      <th>1</th>\n",
              "      <th>2</th>\n",
              "    </tr>\n",
              "  </thead>\n",
              "  <tbody>\n",
              "    <tr>\n",
              "      <th>0</th>\n",
              "      <td>1.0</td>\n",
              "      <td>6.5</td>\n",
              "      <td>3.0</td>\n",
              "    </tr>\n",
              "    <tr>\n",
              "      <th>1</th>\n",
              "      <td>1.0</td>\n",
              "      <td>NaN</td>\n",
              "      <td>NaN</td>\n",
              "    </tr>\n",
              "    <tr>\n",
              "      <th>2</th>\n",
              "      <td>NaN</td>\n",
              "      <td>NaN</td>\n",
              "      <td>NaN</td>\n",
              "    </tr>\n",
              "    <tr>\n",
              "      <th>3</th>\n",
              "      <td>NaN</td>\n",
              "      <td>6.5</td>\n",
              "      <td>3.0</td>\n",
              "    </tr>\n",
              "  </tbody>\n",
              "</table>\n",
              "</div>"
            ],
            "text/plain": [
              "     0    1    2\n",
              "0  1.0  6.5  3.0\n",
              "1  1.0  NaN  NaN\n",
              "2  NaN  NaN  NaN\n",
              "3  NaN  6.5  3.0"
            ]
          },
          "metadata": {},
          "execution_count": 280
        }
      ]
    },
    {
      "cell_type": "code",
      "metadata": {
        "colab": {
          "base_uri": "https://localhost:8080/",
          "height": 80
        },
        "id": "HFQlXivjx7th",
        "outputId": "5a951bf3-6a82-468d-b4f8-a115168e868f"
      },
      "source": [
        "df5.dropna()"
      ],
      "execution_count": null,
      "outputs": [
        {
          "output_type": "execute_result",
          "data": {
            "text/html": [
              "<div>\n",
              "<style scoped>\n",
              "    .dataframe tbody tr th:only-of-type {\n",
              "        vertical-align: middle;\n",
              "    }\n",
              "\n",
              "    .dataframe tbody tr th {\n",
              "        vertical-align: top;\n",
              "    }\n",
              "\n",
              "    .dataframe thead th {\n",
              "        text-align: right;\n",
              "    }\n",
              "</style>\n",
              "<table border=\"1\" class=\"dataframe\">\n",
              "  <thead>\n",
              "    <tr style=\"text-align: right;\">\n",
              "      <th></th>\n",
              "      <th>0</th>\n",
              "      <th>1</th>\n",
              "      <th>2</th>\n",
              "    </tr>\n",
              "  </thead>\n",
              "  <tbody>\n",
              "    <tr>\n",
              "      <th>0</th>\n",
              "      <td>1.0</td>\n",
              "      <td>6.5</td>\n",
              "      <td>3.0</td>\n",
              "    </tr>\n",
              "  </tbody>\n",
              "</table>\n",
              "</div>"
            ],
            "text/plain": [
              "     0    1    2\n",
              "0  1.0  6.5  3.0"
            ]
          },
          "metadata": {},
          "execution_count": 281
        }
      ]
    },
    {
      "cell_type": "markdown",
      "metadata": {
        "id": "xCffj7HmyAzT"
      },
      "source": [
        "* drop rows where all elements are NAs\n",
        "* using how argument"
      ]
    },
    {
      "cell_type": "code",
      "metadata": {
        "colab": {
          "base_uri": "https://localhost:8080/",
          "height": 142
        },
        "id": "q4eW3Hyux_It",
        "outputId": "3a5eeb6d-bd71-4968-f11e-e8f13749ab0e"
      },
      "source": [
        "df5.dropna(how='all')"
      ],
      "execution_count": null,
      "outputs": [
        {
          "output_type": "execute_result",
          "data": {
            "text/html": [
              "<div>\n",
              "<style scoped>\n",
              "    .dataframe tbody tr th:only-of-type {\n",
              "        vertical-align: middle;\n",
              "    }\n",
              "\n",
              "    .dataframe tbody tr th {\n",
              "        vertical-align: top;\n",
              "    }\n",
              "\n",
              "    .dataframe thead th {\n",
              "        text-align: right;\n",
              "    }\n",
              "</style>\n",
              "<table border=\"1\" class=\"dataframe\">\n",
              "  <thead>\n",
              "    <tr style=\"text-align: right;\">\n",
              "      <th></th>\n",
              "      <th>0</th>\n",
              "      <th>1</th>\n",
              "      <th>2</th>\n",
              "    </tr>\n",
              "  </thead>\n",
              "  <tbody>\n",
              "    <tr>\n",
              "      <th>0</th>\n",
              "      <td>1.0</td>\n",
              "      <td>6.5</td>\n",
              "      <td>3.0</td>\n",
              "    </tr>\n",
              "    <tr>\n",
              "      <th>1</th>\n",
              "      <td>1.0</td>\n",
              "      <td>NaN</td>\n",
              "      <td>NaN</td>\n",
              "    </tr>\n",
              "    <tr>\n",
              "      <th>3</th>\n",
              "      <td>NaN</td>\n",
              "      <td>6.5</td>\n",
              "      <td>3.0</td>\n",
              "    </tr>\n",
              "  </tbody>\n",
              "</table>\n",
              "</div>"
            ],
            "text/plain": [
              "     0    1    2\n",
              "0  1.0  6.5  3.0\n",
              "1  1.0  NaN  NaN\n",
              "3  NaN  6.5  3.0"
            ]
          },
          "metadata": {},
          "execution_count": 282
        }
      ]
    },
    {
      "cell_type": "markdown",
      "metadata": {
        "id": "3mA5TBAYyNhu"
      },
      "source": [
        "* drop columns using axis = 1"
      ]
    },
    {
      "cell_type": "code",
      "metadata": {
        "colab": {
          "base_uri": "https://localhost:8080/",
          "height": 172
        },
        "id": "8wb0P5kxyLGK",
        "outputId": "36a2f672-28b5-4f4e-ff69-b53dd5802e2d"
      },
      "source": [
        "df5[3] = 8\n",
        "df5"
      ],
      "execution_count": null,
      "outputs": [
        {
          "output_type": "execute_result",
          "data": {
            "text/html": [
              "<div>\n",
              "<style scoped>\n",
              "    .dataframe tbody tr th:only-of-type {\n",
              "        vertical-align: middle;\n",
              "    }\n",
              "\n",
              "    .dataframe tbody tr th {\n",
              "        vertical-align: top;\n",
              "    }\n",
              "\n",
              "    .dataframe thead th {\n",
              "        text-align: right;\n",
              "    }\n",
              "</style>\n",
              "<table border=\"1\" class=\"dataframe\">\n",
              "  <thead>\n",
              "    <tr style=\"text-align: right;\">\n",
              "      <th></th>\n",
              "      <th>0</th>\n",
              "      <th>1</th>\n",
              "      <th>2</th>\n",
              "      <th>3</th>\n",
              "    </tr>\n",
              "  </thead>\n",
              "  <tbody>\n",
              "    <tr>\n",
              "      <th>0</th>\n",
              "      <td>1.0</td>\n",
              "      <td>6.5</td>\n",
              "      <td>3.0</td>\n",
              "      <td>8</td>\n",
              "    </tr>\n",
              "    <tr>\n",
              "      <th>1</th>\n",
              "      <td>1.0</td>\n",
              "      <td>NaN</td>\n",
              "      <td>NaN</td>\n",
              "      <td>8</td>\n",
              "    </tr>\n",
              "    <tr>\n",
              "      <th>2</th>\n",
              "      <td>NaN</td>\n",
              "      <td>NaN</td>\n",
              "      <td>NaN</td>\n",
              "      <td>8</td>\n",
              "    </tr>\n",
              "    <tr>\n",
              "      <th>3</th>\n",
              "      <td>NaN</td>\n",
              "      <td>6.5</td>\n",
              "      <td>3.0</td>\n",
              "      <td>8</td>\n",
              "    </tr>\n",
              "  </tbody>\n",
              "</table>\n",
              "</div>"
            ],
            "text/plain": [
              "     0    1    2  3\n",
              "0  1.0  6.5  3.0  8\n",
              "1  1.0  NaN  NaN  8\n",
              "2  NaN  NaN  NaN  8\n",
              "3  NaN  6.5  3.0  8"
            ]
          },
          "metadata": {},
          "execution_count": 283
        }
      ]
    },
    {
      "cell_type": "code",
      "metadata": {
        "colab": {
          "base_uri": "https://localhost:8080/",
          "height": 172
        },
        "id": "XFfpa8C_yWaQ",
        "outputId": "32049306-2a66-4411-c572-d65f7a9830ee"
      },
      "source": [
        "df5.dropna(axis=1)"
      ],
      "execution_count": null,
      "outputs": [
        {
          "output_type": "execute_result",
          "data": {
            "text/html": [
              "<div>\n",
              "<style scoped>\n",
              "    .dataframe tbody tr th:only-of-type {\n",
              "        vertical-align: middle;\n",
              "    }\n",
              "\n",
              "    .dataframe tbody tr th {\n",
              "        vertical-align: top;\n",
              "    }\n",
              "\n",
              "    .dataframe thead th {\n",
              "        text-align: right;\n",
              "    }\n",
              "</style>\n",
              "<table border=\"1\" class=\"dataframe\">\n",
              "  <thead>\n",
              "    <tr style=\"text-align: right;\">\n",
              "      <th></th>\n",
              "      <th>3</th>\n",
              "    </tr>\n",
              "  </thead>\n",
              "  <tbody>\n",
              "    <tr>\n",
              "      <th>0</th>\n",
              "      <td>8</td>\n",
              "    </tr>\n",
              "    <tr>\n",
              "      <th>1</th>\n",
              "      <td>8</td>\n",
              "    </tr>\n",
              "    <tr>\n",
              "      <th>2</th>\n",
              "      <td>8</td>\n",
              "    </tr>\n",
              "    <tr>\n",
              "      <th>3</th>\n",
              "      <td>8</td>\n",
              "    </tr>\n",
              "  </tbody>\n",
              "</table>\n",
              "</div>"
            ],
            "text/plain": [
              "   3\n",
              "0  8\n",
              "1  8\n",
              "2  8\n",
              "3  8"
            ]
          },
          "metadata": {},
          "execution_count": 284
        }
      ]
    },
    {
      "cell_type": "code",
      "metadata": {
        "colab": {
          "base_uri": "https://localhost:8080/",
          "height": 172
        },
        "id": "X1LK1STuyl3N",
        "outputId": "00603085-a766-450c-ce66-2f311b4b758d"
      },
      "source": [
        "df5[4] = NA\n",
        "df5"
      ],
      "execution_count": null,
      "outputs": [
        {
          "output_type": "execute_result",
          "data": {
            "text/html": [
              "<div>\n",
              "<style scoped>\n",
              "    .dataframe tbody tr th:only-of-type {\n",
              "        vertical-align: middle;\n",
              "    }\n",
              "\n",
              "    .dataframe tbody tr th {\n",
              "        vertical-align: top;\n",
              "    }\n",
              "\n",
              "    .dataframe thead th {\n",
              "        text-align: right;\n",
              "    }\n",
              "</style>\n",
              "<table border=\"1\" class=\"dataframe\">\n",
              "  <thead>\n",
              "    <tr style=\"text-align: right;\">\n",
              "      <th></th>\n",
              "      <th>0</th>\n",
              "      <th>1</th>\n",
              "      <th>2</th>\n",
              "      <th>3</th>\n",
              "      <th>4</th>\n",
              "    </tr>\n",
              "  </thead>\n",
              "  <tbody>\n",
              "    <tr>\n",
              "      <th>0</th>\n",
              "      <td>1.0</td>\n",
              "      <td>6.5</td>\n",
              "      <td>3.0</td>\n",
              "      <td>8</td>\n",
              "      <td>NaN</td>\n",
              "    </tr>\n",
              "    <tr>\n",
              "      <th>1</th>\n",
              "      <td>1.0</td>\n",
              "      <td>NaN</td>\n",
              "      <td>NaN</td>\n",
              "      <td>8</td>\n",
              "      <td>NaN</td>\n",
              "    </tr>\n",
              "    <tr>\n",
              "      <th>2</th>\n",
              "      <td>NaN</td>\n",
              "      <td>NaN</td>\n",
              "      <td>NaN</td>\n",
              "      <td>8</td>\n",
              "      <td>NaN</td>\n",
              "    </tr>\n",
              "    <tr>\n",
              "      <th>3</th>\n",
              "      <td>NaN</td>\n",
              "      <td>6.5</td>\n",
              "      <td>3.0</td>\n",
              "      <td>8</td>\n",
              "      <td>NaN</td>\n",
              "    </tr>\n",
              "  </tbody>\n",
              "</table>\n",
              "</div>"
            ],
            "text/plain": [
              "     0    1    2  3   4\n",
              "0  1.0  6.5  3.0  8 NaN\n",
              "1  1.0  NaN  NaN  8 NaN\n",
              "2  NaN  NaN  NaN  8 NaN\n",
              "3  NaN  6.5  3.0  8 NaN"
            ]
          },
          "metadata": {},
          "execution_count": 285
        }
      ]
    },
    {
      "cell_type": "code",
      "metadata": {
        "colab": {
          "base_uri": "https://localhost:8080/",
          "height": 172
        },
        "id": "fSPvT7q-yona",
        "outputId": "3f4118e1-0d38-4d48-d317-2e4c0557f6dd"
      },
      "source": [
        "df5.dropna(axis=1, how='all')"
      ],
      "execution_count": null,
      "outputs": [
        {
          "output_type": "execute_result",
          "data": {
            "text/html": [
              "<div>\n",
              "<style scoped>\n",
              "    .dataframe tbody tr th:only-of-type {\n",
              "        vertical-align: middle;\n",
              "    }\n",
              "\n",
              "    .dataframe tbody tr th {\n",
              "        vertical-align: top;\n",
              "    }\n",
              "\n",
              "    .dataframe thead th {\n",
              "        text-align: right;\n",
              "    }\n",
              "</style>\n",
              "<table border=\"1\" class=\"dataframe\">\n",
              "  <thead>\n",
              "    <tr style=\"text-align: right;\">\n",
              "      <th></th>\n",
              "      <th>0</th>\n",
              "      <th>1</th>\n",
              "      <th>2</th>\n",
              "      <th>3</th>\n",
              "    </tr>\n",
              "  </thead>\n",
              "  <tbody>\n",
              "    <tr>\n",
              "      <th>0</th>\n",
              "      <td>1.0</td>\n",
              "      <td>6.5</td>\n",
              "      <td>3.0</td>\n",
              "      <td>8</td>\n",
              "    </tr>\n",
              "    <tr>\n",
              "      <th>1</th>\n",
              "      <td>1.0</td>\n",
              "      <td>NaN</td>\n",
              "      <td>NaN</td>\n",
              "      <td>8</td>\n",
              "    </tr>\n",
              "    <tr>\n",
              "      <th>2</th>\n",
              "      <td>NaN</td>\n",
              "      <td>NaN</td>\n",
              "      <td>NaN</td>\n",
              "      <td>8</td>\n",
              "    </tr>\n",
              "    <tr>\n",
              "      <th>3</th>\n",
              "      <td>NaN</td>\n",
              "      <td>6.5</td>\n",
              "      <td>3.0</td>\n",
              "      <td>8</td>\n",
              "    </tr>\n",
              "  </tbody>\n",
              "</table>\n",
              "</div>"
            ],
            "text/plain": [
              "     0    1    2  3\n",
              "0  1.0  6.5  3.0  8\n",
              "1  1.0  NaN  NaN  8\n",
              "2  NaN  NaN  NaN  8\n",
              "3  NaN  6.5  3.0  8"
            ]
          },
          "metadata": {},
          "execution_count": 286
        }
      ]
    },
    {
      "cell_type": "markdown",
      "metadata": {
        "id": "-IHhucuyyyVe"
      },
      "source": [
        "* filter out rows with less than a specified no. of columns without NA values"
      ]
    },
    {
      "cell_type": "code",
      "metadata": {
        "id": "Uozp65vWzSnW"
      },
      "source": [
        "import numpy as np\n",
        "import pandas as pd\n",
        "\n"
      ],
      "execution_count": null,
      "outputs": []
    },
    {
      "cell_type": "code",
      "metadata": {
        "colab": {
          "base_uri": "https://localhost:8080/",
          "height": 265
        },
        "id": "qXhWdTGBywsx",
        "outputId": "f3a8496a-3b3c-4fab-ae3b-246107816b82"
      },
      "source": [
        "df6 = pd.DataFrame(np.random.randn(7,13))\n",
        "df6.iloc[:4,1] = NA\n",
        "df6.iloc[:2,2] = NA\n",
        "df6"
      ],
      "execution_count": null,
      "outputs": [
        {
          "output_type": "execute_result",
          "data": {
            "text/html": [
              "<div>\n",
              "<style scoped>\n",
              "    .dataframe tbody tr th:only-of-type {\n",
              "        vertical-align: middle;\n",
              "    }\n",
              "\n",
              "    .dataframe tbody tr th {\n",
              "        vertical-align: top;\n",
              "    }\n",
              "\n",
              "    .dataframe thead th {\n",
              "        text-align: right;\n",
              "    }\n",
              "</style>\n",
              "<table border=\"1\" class=\"dataframe\">\n",
              "  <thead>\n",
              "    <tr style=\"text-align: right;\">\n",
              "      <th></th>\n",
              "      <th>0</th>\n",
              "      <th>1</th>\n",
              "      <th>2</th>\n",
              "      <th>3</th>\n",
              "      <th>4</th>\n",
              "      <th>5</th>\n",
              "      <th>6</th>\n",
              "      <th>7</th>\n",
              "      <th>8</th>\n",
              "      <th>9</th>\n",
              "      <th>10</th>\n",
              "      <th>11</th>\n",
              "      <th>12</th>\n",
              "    </tr>\n",
              "  </thead>\n",
              "  <tbody>\n",
              "    <tr>\n",
              "      <th>0</th>\n",
              "      <td>0.078624</td>\n",
              "      <td>NaN</td>\n",
              "      <td>NaN</td>\n",
              "      <td>1.435833</td>\n",
              "      <td>0.120771</td>\n",
              "      <td>0.120737</td>\n",
              "      <td>-1.455323</td>\n",
              "      <td>2.294127</td>\n",
              "      <td>1.232260</td>\n",
              "      <td>-1.386255</td>\n",
              "      <td>-0.323266</td>\n",
              "      <td>0.062785</td>\n",
              "      <td>-0.772206</td>\n",
              "    </tr>\n",
              "    <tr>\n",
              "      <th>1</th>\n",
              "      <td>-0.502002</td>\n",
              "      <td>NaN</td>\n",
              "      <td>NaN</td>\n",
              "      <td>-0.791346</td>\n",
              "      <td>-0.867163</td>\n",
              "      <td>-1.862985</td>\n",
              "      <td>0.850981</td>\n",
              "      <td>-3.339255</td>\n",
              "      <td>-1.133250</td>\n",
              "      <td>0.410098</td>\n",
              "      <td>-1.933968</td>\n",
              "      <td>1.142578</td>\n",
              "      <td>1.793668</td>\n",
              "    </tr>\n",
              "    <tr>\n",
              "      <th>2</th>\n",
              "      <td>-2.328323</td>\n",
              "      <td>NaN</td>\n",
              "      <td>0.552428</td>\n",
              "      <td>-0.963293</td>\n",
              "      <td>-0.538718</td>\n",
              "      <td>-0.812146</td>\n",
              "      <td>-0.107877</td>\n",
              "      <td>0.152764</td>\n",
              "      <td>-1.133304</td>\n",
              "      <td>0.766646</td>\n",
              "      <td>0.051109</td>\n",
              "      <td>0.332751</td>\n",
              "      <td>1.490032</td>\n",
              "    </tr>\n",
              "    <tr>\n",
              "      <th>3</th>\n",
              "      <td>0.279683</td>\n",
              "      <td>NaN</td>\n",
              "      <td>0.667056</td>\n",
              "      <td>1.337684</td>\n",
              "      <td>-3.040353</td>\n",
              "      <td>-0.143356</td>\n",
              "      <td>-1.688508</td>\n",
              "      <td>0.325650</td>\n",
              "      <td>-0.601401</td>\n",
              "      <td>0.021603</td>\n",
              "      <td>-0.056129</td>\n",
              "      <td>0.539402</td>\n",
              "      <td>-0.746267</td>\n",
              "    </tr>\n",
              "    <tr>\n",
              "      <th>4</th>\n",
              "      <td>0.729408</td>\n",
              "      <td>-0.438883</td>\n",
              "      <td>-1.205006</td>\n",
              "      <td>0.303933</td>\n",
              "      <td>-0.216048</td>\n",
              "      <td>0.308460</td>\n",
              "      <td>-0.211260</td>\n",
              "      <td>-0.014026</td>\n",
              "      <td>-0.978314</td>\n",
              "      <td>-0.072719</td>\n",
              "      <td>-0.650515</td>\n",
              "      <td>0.334396</td>\n",
              "      <td>-1.175251</td>\n",
              "    </tr>\n",
              "    <tr>\n",
              "      <th>5</th>\n",
              "      <td>0.395884</td>\n",
              "      <td>-0.550175</td>\n",
              "      <td>0.916144</td>\n",
              "      <td>-0.346266</td>\n",
              "      <td>0.299590</td>\n",
              "      <td>-0.670883</td>\n",
              "      <td>1.458402</td>\n",
              "      <td>1.473856</td>\n",
              "      <td>-0.821074</td>\n",
              "      <td>-1.403115</td>\n",
              "      <td>-1.723506</td>\n",
              "      <td>-0.453609</td>\n",
              "      <td>0.524999</td>\n",
              "    </tr>\n",
              "    <tr>\n",
              "      <th>6</th>\n",
              "      <td>0.244763</td>\n",
              "      <td>-0.251921</td>\n",
              "      <td>0.414033</td>\n",
              "      <td>-0.709361</td>\n",
              "      <td>-0.238274</td>\n",
              "      <td>0.781776</td>\n",
              "      <td>-1.487275</td>\n",
              "      <td>0.335332</td>\n",
              "      <td>-1.473116</td>\n",
              "      <td>0.930596</td>\n",
              "      <td>-0.674789</td>\n",
              "      <td>-0.343828</td>\n",
              "      <td>0.995483</td>\n",
              "    </tr>\n",
              "  </tbody>\n",
              "</table>\n",
              "</div>"
            ],
            "text/plain": [
              "         0         1         2   ...        10        11        12\n",
              "0  0.078624       NaN       NaN  ... -0.323266  0.062785 -0.772206\n",
              "1 -0.502002       NaN       NaN  ... -1.933968  1.142578  1.793668\n",
              "2 -2.328323       NaN  0.552428  ...  0.051109  0.332751  1.490032\n",
              "3  0.279683       NaN  0.667056  ... -0.056129  0.539402 -0.746267\n",
              "4  0.729408 -0.438883 -1.205006  ... -0.650515  0.334396 -1.175251\n",
              "5  0.395884 -0.550175  0.916144  ... -1.723506 -0.453609  0.524999\n",
              "6  0.244763 -0.251921  0.414033  ... -0.674789 -0.343828  0.995483\n",
              "\n",
              "[7 rows x 13 columns]"
            ]
          },
          "metadata": {},
          "execution_count": 288
        }
      ]
    },
    {
      "cell_type": "markdown",
      "metadata": {
        "id": "rPGgZB9qzsSo"
      },
      "source": [
        "* using thresh argument"
      ]
    },
    {
      "cell_type": "code",
      "metadata": {
        "colab": {
          "base_uri": "https://localhost:8080/",
          "height": 265
        },
        "id": "3Q3-aeY-zLg5",
        "outputId": "e05c84e8-3649-4d7b-a5ec-e94d7a563938"
      },
      "source": [
        "df6.dropna(thresh=2)"
      ],
      "execution_count": null,
      "outputs": [
        {
          "output_type": "execute_result",
          "data": {
            "text/html": [
              "<div>\n",
              "<style scoped>\n",
              "    .dataframe tbody tr th:only-of-type {\n",
              "        vertical-align: middle;\n",
              "    }\n",
              "\n",
              "    .dataframe tbody tr th {\n",
              "        vertical-align: top;\n",
              "    }\n",
              "\n",
              "    .dataframe thead th {\n",
              "        text-align: right;\n",
              "    }\n",
              "</style>\n",
              "<table border=\"1\" class=\"dataframe\">\n",
              "  <thead>\n",
              "    <tr style=\"text-align: right;\">\n",
              "      <th></th>\n",
              "      <th>0</th>\n",
              "      <th>1</th>\n",
              "      <th>2</th>\n",
              "      <th>3</th>\n",
              "      <th>4</th>\n",
              "      <th>5</th>\n",
              "      <th>6</th>\n",
              "      <th>7</th>\n",
              "      <th>8</th>\n",
              "      <th>9</th>\n",
              "      <th>10</th>\n",
              "      <th>11</th>\n",
              "      <th>12</th>\n",
              "    </tr>\n",
              "  </thead>\n",
              "  <tbody>\n",
              "    <tr>\n",
              "      <th>0</th>\n",
              "      <td>0.078624</td>\n",
              "      <td>NaN</td>\n",
              "      <td>NaN</td>\n",
              "      <td>1.435833</td>\n",
              "      <td>0.120771</td>\n",
              "      <td>0.120737</td>\n",
              "      <td>-1.455323</td>\n",
              "      <td>2.294127</td>\n",
              "      <td>1.232260</td>\n",
              "      <td>-1.386255</td>\n",
              "      <td>-0.323266</td>\n",
              "      <td>0.062785</td>\n",
              "      <td>-0.772206</td>\n",
              "    </tr>\n",
              "    <tr>\n",
              "      <th>1</th>\n",
              "      <td>-0.502002</td>\n",
              "      <td>NaN</td>\n",
              "      <td>NaN</td>\n",
              "      <td>-0.791346</td>\n",
              "      <td>-0.867163</td>\n",
              "      <td>-1.862985</td>\n",
              "      <td>0.850981</td>\n",
              "      <td>-3.339255</td>\n",
              "      <td>-1.133250</td>\n",
              "      <td>0.410098</td>\n",
              "      <td>-1.933968</td>\n",
              "      <td>1.142578</td>\n",
              "      <td>1.793668</td>\n",
              "    </tr>\n",
              "    <tr>\n",
              "      <th>2</th>\n",
              "      <td>-2.328323</td>\n",
              "      <td>NaN</td>\n",
              "      <td>0.552428</td>\n",
              "      <td>-0.963293</td>\n",
              "      <td>-0.538718</td>\n",
              "      <td>-0.812146</td>\n",
              "      <td>-0.107877</td>\n",
              "      <td>0.152764</td>\n",
              "      <td>-1.133304</td>\n",
              "      <td>0.766646</td>\n",
              "      <td>0.051109</td>\n",
              "      <td>0.332751</td>\n",
              "      <td>1.490032</td>\n",
              "    </tr>\n",
              "    <tr>\n",
              "      <th>3</th>\n",
              "      <td>0.279683</td>\n",
              "      <td>NaN</td>\n",
              "      <td>0.667056</td>\n",
              "      <td>1.337684</td>\n",
              "      <td>-3.040353</td>\n",
              "      <td>-0.143356</td>\n",
              "      <td>-1.688508</td>\n",
              "      <td>0.325650</td>\n",
              "      <td>-0.601401</td>\n",
              "      <td>0.021603</td>\n",
              "      <td>-0.056129</td>\n",
              "      <td>0.539402</td>\n",
              "      <td>-0.746267</td>\n",
              "    </tr>\n",
              "    <tr>\n",
              "      <th>4</th>\n",
              "      <td>0.729408</td>\n",
              "      <td>-0.438883</td>\n",
              "      <td>-1.205006</td>\n",
              "      <td>0.303933</td>\n",
              "      <td>-0.216048</td>\n",
              "      <td>0.308460</td>\n",
              "      <td>-0.211260</td>\n",
              "      <td>-0.014026</td>\n",
              "      <td>-0.978314</td>\n",
              "      <td>-0.072719</td>\n",
              "      <td>-0.650515</td>\n",
              "      <td>0.334396</td>\n",
              "      <td>-1.175251</td>\n",
              "    </tr>\n",
              "    <tr>\n",
              "      <th>5</th>\n",
              "      <td>0.395884</td>\n",
              "      <td>-0.550175</td>\n",
              "      <td>0.916144</td>\n",
              "      <td>-0.346266</td>\n",
              "      <td>0.299590</td>\n",
              "      <td>-0.670883</td>\n",
              "      <td>1.458402</td>\n",
              "      <td>1.473856</td>\n",
              "      <td>-0.821074</td>\n",
              "      <td>-1.403115</td>\n",
              "      <td>-1.723506</td>\n",
              "      <td>-0.453609</td>\n",
              "      <td>0.524999</td>\n",
              "    </tr>\n",
              "    <tr>\n",
              "      <th>6</th>\n",
              "      <td>0.244763</td>\n",
              "      <td>-0.251921</td>\n",
              "      <td>0.414033</td>\n",
              "      <td>-0.709361</td>\n",
              "      <td>-0.238274</td>\n",
              "      <td>0.781776</td>\n",
              "      <td>-1.487275</td>\n",
              "      <td>0.335332</td>\n",
              "      <td>-1.473116</td>\n",
              "      <td>0.930596</td>\n",
              "      <td>-0.674789</td>\n",
              "      <td>-0.343828</td>\n",
              "      <td>0.995483</td>\n",
              "    </tr>\n",
              "  </tbody>\n",
              "</table>\n",
              "</div>"
            ],
            "text/plain": [
              "         0         1         2   ...        10        11        12\n",
              "0  0.078624       NaN       NaN  ... -0.323266  0.062785 -0.772206\n",
              "1 -0.502002       NaN       NaN  ... -1.933968  1.142578  1.793668\n",
              "2 -2.328323       NaN  0.552428  ...  0.051109  0.332751  1.490032\n",
              "3  0.279683       NaN  0.667056  ... -0.056129  0.539402 -0.746267\n",
              "4  0.729408 -0.438883 -1.205006  ... -0.650515  0.334396 -1.175251\n",
              "5  0.395884 -0.550175  0.916144  ... -1.723506 -0.453609  0.524999\n",
              "6  0.244763 -0.251921  0.414033  ... -0.674789 -0.343828  0.995483\n",
              "\n",
              "[7 rows x 13 columns]"
            ]
          },
          "metadata": {},
          "execution_count": 289
        }
      ]
    },
    {
      "cell_type": "markdown",
      "metadata": {
        "id": "47mzeUvMz6b1"
      },
      "source": [
        "* filling in the missing data\n",
        "* using fillna method\n",
        "* e.g., replace NAs with 0s"
      ]
    },
    {
      "cell_type": "code",
      "metadata": {
        "colab": {
          "base_uri": "https://localhost:8080/",
          "height": 265
        },
        "id": "R1FHvxgLzzTU",
        "outputId": "ad01c5fc-5a8e-4f22-c024-9c95ff79542c"
      },
      "source": [
        "df6.fillna(0)"
      ],
      "execution_count": null,
      "outputs": [
        {
          "output_type": "execute_result",
          "data": {
            "text/html": [
              "<div>\n",
              "<style scoped>\n",
              "    .dataframe tbody tr th:only-of-type {\n",
              "        vertical-align: middle;\n",
              "    }\n",
              "\n",
              "    .dataframe tbody tr th {\n",
              "        vertical-align: top;\n",
              "    }\n",
              "\n",
              "    .dataframe thead th {\n",
              "        text-align: right;\n",
              "    }\n",
              "</style>\n",
              "<table border=\"1\" class=\"dataframe\">\n",
              "  <thead>\n",
              "    <tr style=\"text-align: right;\">\n",
              "      <th></th>\n",
              "      <th>0</th>\n",
              "      <th>1</th>\n",
              "      <th>2</th>\n",
              "      <th>3</th>\n",
              "      <th>4</th>\n",
              "      <th>5</th>\n",
              "      <th>6</th>\n",
              "      <th>7</th>\n",
              "      <th>8</th>\n",
              "      <th>9</th>\n",
              "      <th>10</th>\n",
              "      <th>11</th>\n",
              "      <th>12</th>\n",
              "    </tr>\n",
              "  </thead>\n",
              "  <tbody>\n",
              "    <tr>\n",
              "      <th>0</th>\n",
              "      <td>0.078624</td>\n",
              "      <td>0.000000</td>\n",
              "      <td>0.000000</td>\n",
              "      <td>1.435833</td>\n",
              "      <td>0.120771</td>\n",
              "      <td>0.120737</td>\n",
              "      <td>-1.455323</td>\n",
              "      <td>2.294127</td>\n",
              "      <td>1.232260</td>\n",
              "      <td>-1.386255</td>\n",
              "      <td>-0.323266</td>\n",
              "      <td>0.062785</td>\n",
              "      <td>-0.772206</td>\n",
              "    </tr>\n",
              "    <tr>\n",
              "      <th>1</th>\n",
              "      <td>-0.502002</td>\n",
              "      <td>0.000000</td>\n",
              "      <td>0.000000</td>\n",
              "      <td>-0.791346</td>\n",
              "      <td>-0.867163</td>\n",
              "      <td>-1.862985</td>\n",
              "      <td>0.850981</td>\n",
              "      <td>-3.339255</td>\n",
              "      <td>-1.133250</td>\n",
              "      <td>0.410098</td>\n",
              "      <td>-1.933968</td>\n",
              "      <td>1.142578</td>\n",
              "      <td>1.793668</td>\n",
              "    </tr>\n",
              "    <tr>\n",
              "      <th>2</th>\n",
              "      <td>-2.328323</td>\n",
              "      <td>0.000000</td>\n",
              "      <td>0.552428</td>\n",
              "      <td>-0.963293</td>\n",
              "      <td>-0.538718</td>\n",
              "      <td>-0.812146</td>\n",
              "      <td>-0.107877</td>\n",
              "      <td>0.152764</td>\n",
              "      <td>-1.133304</td>\n",
              "      <td>0.766646</td>\n",
              "      <td>0.051109</td>\n",
              "      <td>0.332751</td>\n",
              "      <td>1.490032</td>\n",
              "    </tr>\n",
              "    <tr>\n",
              "      <th>3</th>\n",
              "      <td>0.279683</td>\n",
              "      <td>0.000000</td>\n",
              "      <td>0.667056</td>\n",
              "      <td>1.337684</td>\n",
              "      <td>-3.040353</td>\n",
              "      <td>-0.143356</td>\n",
              "      <td>-1.688508</td>\n",
              "      <td>0.325650</td>\n",
              "      <td>-0.601401</td>\n",
              "      <td>0.021603</td>\n",
              "      <td>-0.056129</td>\n",
              "      <td>0.539402</td>\n",
              "      <td>-0.746267</td>\n",
              "    </tr>\n",
              "    <tr>\n",
              "      <th>4</th>\n",
              "      <td>0.729408</td>\n",
              "      <td>-0.438883</td>\n",
              "      <td>-1.205006</td>\n",
              "      <td>0.303933</td>\n",
              "      <td>-0.216048</td>\n",
              "      <td>0.308460</td>\n",
              "      <td>-0.211260</td>\n",
              "      <td>-0.014026</td>\n",
              "      <td>-0.978314</td>\n",
              "      <td>-0.072719</td>\n",
              "      <td>-0.650515</td>\n",
              "      <td>0.334396</td>\n",
              "      <td>-1.175251</td>\n",
              "    </tr>\n",
              "    <tr>\n",
              "      <th>5</th>\n",
              "      <td>0.395884</td>\n",
              "      <td>-0.550175</td>\n",
              "      <td>0.916144</td>\n",
              "      <td>-0.346266</td>\n",
              "      <td>0.299590</td>\n",
              "      <td>-0.670883</td>\n",
              "      <td>1.458402</td>\n",
              "      <td>1.473856</td>\n",
              "      <td>-0.821074</td>\n",
              "      <td>-1.403115</td>\n",
              "      <td>-1.723506</td>\n",
              "      <td>-0.453609</td>\n",
              "      <td>0.524999</td>\n",
              "    </tr>\n",
              "    <tr>\n",
              "      <th>6</th>\n",
              "      <td>0.244763</td>\n",
              "      <td>-0.251921</td>\n",
              "      <td>0.414033</td>\n",
              "      <td>-0.709361</td>\n",
              "      <td>-0.238274</td>\n",
              "      <td>0.781776</td>\n",
              "      <td>-1.487275</td>\n",
              "      <td>0.335332</td>\n",
              "      <td>-1.473116</td>\n",
              "      <td>0.930596</td>\n",
              "      <td>-0.674789</td>\n",
              "      <td>-0.343828</td>\n",
              "      <td>0.995483</td>\n",
              "    </tr>\n",
              "  </tbody>\n",
              "</table>\n",
              "</div>"
            ],
            "text/plain": [
              "         0         1         2   ...        10        11        12\n",
              "0  0.078624  0.000000  0.000000  ... -0.323266  0.062785 -0.772206\n",
              "1 -0.502002  0.000000  0.000000  ... -1.933968  1.142578  1.793668\n",
              "2 -2.328323  0.000000  0.552428  ...  0.051109  0.332751  1.490032\n",
              "3  0.279683  0.000000  0.667056  ... -0.056129  0.539402 -0.746267\n",
              "4  0.729408 -0.438883 -1.205006  ... -0.650515  0.334396 -1.175251\n",
              "5  0.395884 -0.550175  0.916144  ... -1.723506 -0.453609  0.524999\n",
              "6  0.244763 -0.251921  0.414033  ... -0.674789 -0.343828  0.995483\n",
              "\n",
              "[7 rows x 13 columns]"
            ]
          },
          "metadata": {},
          "execution_count": 290
        }
      ]
    },
    {
      "cell_type": "markdown",
      "metadata": {
        "id": "qcCrRDzD0HfP"
      },
      "source": [
        "* e.g., replace as per a dict\n",
        "* column 1: 0.5, 2: 0"
      ]
    },
    {
      "cell_type": "code",
      "metadata": {
        "colab": {
          "base_uri": "https://localhost:8080/",
          "height": 265
        },
        "id": "1P6H-hvR0Fvm",
        "outputId": "16da8237-3dfe-4234-f392-dd77122177d7"
      },
      "source": [
        "df6.fillna({1: 0.5,2:0})"
      ],
      "execution_count": null,
      "outputs": [
        {
          "output_type": "execute_result",
          "data": {
            "text/html": [
              "<div>\n",
              "<style scoped>\n",
              "    .dataframe tbody tr th:only-of-type {\n",
              "        vertical-align: middle;\n",
              "    }\n",
              "\n",
              "    .dataframe tbody tr th {\n",
              "        vertical-align: top;\n",
              "    }\n",
              "\n",
              "    .dataframe thead th {\n",
              "        text-align: right;\n",
              "    }\n",
              "</style>\n",
              "<table border=\"1\" class=\"dataframe\">\n",
              "  <thead>\n",
              "    <tr style=\"text-align: right;\">\n",
              "      <th></th>\n",
              "      <th>0</th>\n",
              "      <th>1</th>\n",
              "      <th>2</th>\n",
              "      <th>3</th>\n",
              "      <th>4</th>\n",
              "      <th>5</th>\n",
              "      <th>6</th>\n",
              "      <th>7</th>\n",
              "      <th>8</th>\n",
              "      <th>9</th>\n",
              "      <th>10</th>\n",
              "      <th>11</th>\n",
              "      <th>12</th>\n",
              "    </tr>\n",
              "  </thead>\n",
              "  <tbody>\n",
              "    <tr>\n",
              "      <th>0</th>\n",
              "      <td>0.078624</td>\n",
              "      <td>0.500000</td>\n",
              "      <td>0.000000</td>\n",
              "      <td>1.435833</td>\n",
              "      <td>0.120771</td>\n",
              "      <td>0.120737</td>\n",
              "      <td>-1.455323</td>\n",
              "      <td>2.294127</td>\n",
              "      <td>1.232260</td>\n",
              "      <td>-1.386255</td>\n",
              "      <td>-0.323266</td>\n",
              "      <td>0.062785</td>\n",
              "      <td>-0.772206</td>\n",
              "    </tr>\n",
              "    <tr>\n",
              "      <th>1</th>\n",
              "      <td>-0.502002</td>\n",
              "      <td>0.500000</td>\n",
              "      <td>0.000000</td>\n",
              "      <td>-0.791346</td>\n",
              "      <td>-0.867163</td>\n",
              "      <td>-1.862985</td>\n",
              "      <td>0.850981</td>\n",
              "      <td>-3.339255</td>\n",
              "      <td>-1.133250</td>\n",
              "      <td>0.410098</td>\n",
              "      <td>-1.933968</td>\n",
              "      <td>1.142578</td>\n",
              "      <td>1.793668</td>\n",
              "    </tr>\n",
              "    <tr>\n",
              "      <th>2</th>\n",
              "      <td>-2.328323</td>\n",
              "      <td>0.500000</td>\n",
              "      <td>0.552428</td>\n",
              "      <td>-0.963293</td>\n",
              "      <td>-0.538718</td>\n",
              "      <td>-0.812146</td>\n",
              "      <td>-0.107877</td>\n",
              "      <td>0.152764</td>\n",
              "      <td>-1.133304</td>\n",
              "      <td>0.766646</td>\n",
              "      <td>0.051109</td>\n",
              "      <td>0.332751</td>\n",
              "      <td>1.490032</td>\n",
              "    </tr>\n",
              "    <tr>\n",
              "      <th>3</th>\n",
              "      <td>0.279683</td>\n",
              "      <td>0.500000</td>\n",
              "      <td>0.667056</td>\n",
              "      <td>1.337684</td>\n",
              "      <td>-3.040353</td>\n",
              "      <td>-0.143356</td>\n",
              "      <td>-1.688508</td>\n",
              "      <td>0.325650</td>\n",
              "      <td>-0.601401</td>\n",
              "      <td>0.021603</td>\n",
              "      <td>-0.056129</td>\n",
              "      <td>0.539402</td>\n",
              "      <td>-0.746267</td>\n",
              "    </tr>\n",
              "    <tr>\n",
              "      <th>4</th>\n",
              "      <td>0.729408</td>\n",
              "      <td>-0.438883</td>\n",
              "      <td>-1.205006</td>\n",
              "      <td>0.303933</td>\n",
              "      <td>-0.216048</td>\n",
              "      <td>0.308460</td>\n",
              "      <td>-0.211260</td>\n",
              "      <td>-0.014026</td>\n",
              "      <td>-0.978314</td>\n",
              "      <td>-0.072719</td>\n",
              "      <td>-0.650515</td>\n",
              "      <td>0.334396</td>\n",
              "      <td>-1.175251</td>\n",
              "    </tr>\n",
              "    <tr>\n",
              "      <th>5</th>\n",
              "      <td>0.395884</td>\n",
              "      <td>-0.550175</td>\n",
              "      <td>0.916144</td>\n",
              "      <td>-0.346266</td>\n",
              "      <td>0.299590</td>\n",
              "      <td>-0.670883</td>\n",
              "      <td>1.458402</td>\n",
              "      <td>1.473856</td>\n",
              "      <td>-0.821074</td>\n",
              "      <td>-1.403115</td>\n",
              "      <td>-1.723506</td>\n",
              "      <td>-0.453609</td>\n",
              "      <td>0.524999</td>\n",
              "    </tr>\n",
              "    <tr>\n",
              "      <th>6</th>\n",
              "      <td>0.244763</td>\n",
              "      <td>-0.251921</td>\n",
              "      <td>0.414033</td>\n",
              "      <td>-0.709361</td>\n",
              "      <td>-0.238274</td>\n",
              "      <td>0.781776</td>\n",
              "      <td>-1.487275</td>\n",
              "      <td>0.335332</td>\n",
              "      <td>-1.473116</td>\n",
              "      <td>0.930596</td>\n",
              "      <td>-0.674789</td>\n",
              "      <td>-0.343828</td>\n",
              "      <td>0.995483</td>\n",
              "    </tr>\n",
              "  </tbody>\n",
              "</table>\n",
              "</div>"
            ],
            "text/plain": [
              "         0         1         2   ...        10        11        12\n",
              "0  0.078624  0.500000  0.000000  ... -0.323266  0.062785 -0.772206\n",
              "1 -0.502002  0.500000  0.000000  ... -1.933968  1.142578  1.793668\n",
              "2 -2.328323  0.500000  0.552428  ...  0.051109  0.332751  1.490032\n",
              "3  0.279683  0.500000  0.667056  ... -0.056129  0.539402 -0.746267\n",
              "4  0.729408 -0.438883 -1.205006  ... -0.650515  0.334396 -1.175251\n",
              "5  0.395884 -0.550175  0.916144  ... -1.723506 -0.453609  0.524999\n",
              "6  0.244763 -0.251921  0.414033  ... -0.674789 -0.343828  0.995483\n",
              "\n",
              "[7 rows x 13 columns]"
            ]
          },
          "metadata": {},
          "execution_count": 291
        }
      ]
    },
    {
      "cell_type": "markdown",
      "metadata": {
        "id": "1HNFq8Ji0Y02"
      },
      "source": [
        "* in-place modifying the dataframe\n",
        "* using the inplace argument"
      ]
    },
    {
      "cell_type": "code",
      "metadata": {
        "id": "Pc05G9xm0UyB"
      },
      "source": [
        "_ = df6.fillna(0,inplace=True)"
      ],
      "execution_count": null,
      "outputs": []
    },
    {
      "cell_type": "code",
      "metadata": {
        "colab": {
          "base_uri": "https://localhost:8080/",
          "height": 265
        },
        "id": "mMkwq9m30lbm",
        "outputId": "cb0bf5bf-22f9-4cb1-b03b-efb909e3d248"
      },
      "source": [
        "df6"
      ],
      "execution_count": null,
      "outputs": [
        {
          "output_type": "execute_result",
          "data": {
            "text/html": [
              "<div>\n",
              "<style scoped>\n",
              "    .dataframe tbody tr th:only-of-type {\n",
              "        vertical-align: middle;\n",
              "    }\n",
              "\n",
              "    .dataframe tbody tr th {\n",
              "        vertical-align: top;\n",
              "    }\n",
              "\n",
              "    .dataframe thead th {\n",
              "        text-align: right;\n",
              "    }\n",
              "</style>\n",
              "<table border=\"1\" class=\"dataframe\">\n",
              "  <thead>\n",
              "    <tr style=\"text-align: right;\">\n",
              "      <th></th>\n",
              "      <th>0</th>\n",
              "      <th>1</th>\n",
              "      <th>2</th>\n",
              "      <th>3</th>\n",
              "      <th>4</th>\n",
              "      <th>5</th>\n",
              "      <th>6</th>\n",
              "      <th>7</th>\n",
              "      <th>8</th>\n",
              "      <th>9</th>\n",
              "      <th>10</th>\n",
              "      <th>11</th>\n",
              "      <th>12</th>\n",
              "    </tr>\n",
              "  </thead>\n",
              "  <tbody>\n",
              "    <tr>\n",
              "      <th>0</th>\n",
              "      <td>0.078624</td>\n",
              "      <td>0.000000</td>\n",
              "      <td>0.000000</td>\n",
              "      <td>1.435833</td>\n",
              "      <td>0.120771</td>\n",
              "      <td>0.120737</td>\n",
              "      <td>-1.455323</td>\n",
              "      <td>2.294127</td>\n",
              "      <td>1.232260</td>\n",
              "      <td>-1.386255</td>\n",
              "      <td>-0.323266</td>\n",
              "      <td>0.062785</td>\n",
              "      <td>-0.772206</td>\n",
              "    </tr>\n",
              "    <tr>\n",
              "      <th>1</th>\n",
              "      <td>-0.502002</td>\n",
              "      <td>0.000000</td>\n",
              "      <td>0.000000</td>\n",
              "      <td>-0.791346</td>\n",
              "      <td>-0.867163</td>\n",
              "      <td>-1.862985</td>\n",
              "      <td>0.850981</td>\n",
              "      <td>-3.339255</td>\n",
              "      <td>-1.133250</td>\n",
              "      <td>0.410098</td>\n",
              "      <td>-1.933968</td>\n",
              "      <td>1.142578</td>\n",
              "      <td>1.793668</td>\n",
              "    </tr>\n",
              "    <tr>\n",
              "      <th>2</th>\n",
              "      <td>-2.328323</td>\n",
              "      <td>0.000000</td>\n",
              "      <td>0.552428</td>\n",
              "      <td>-0.963293</td>\n",
              "      <td>-0.538718</td>\n",
              "      <td>-0.812146</td>\n",
              "      <td>-0.107877</td>\n",
              "      <td>0.152764</td>\n",
              "      <td>-1.133304</td>\n",
              "      <td>0.766646</td>\n",
              "      <td>0.051109</td>\n",
              "      <td>0.332751</td>\n",
              "      <td>1.490032</td>\n",
              "    </tr>\n",
              "    <tr>\n",
              "      <th>3</th>\n",
              "      <td>0.279683</td>\n",
              "      <td>0.000000</td>\n",
              "      <td>0.667056</td>\n",
              "      <td>1.337684</td>\n",
              "      <td>-3.040353</td>\n",
              "      <td>-0.143356</td>\n",
              "      <td>-1.688508</td>\n",
              "      <td>0.325650</td>\n",
              "      <td>-0.601401</td>\n",
              "      <td>0.021603</td>\n",
              "      <td>-0.056129</td>\n",
              "      <td>0.539402</td>\n",
              "      <td>-0.746267</td>\n",
              "    </tr>\n",
              "    <tr>\n",
              "      <th>4</th>\n",
              "      <td>0.729408</td>\n",
              "      <td>-0.438883</td>\n",
              "      <td>-1.205006</td>\n",
              "      <td>0.303933</td>\n",
              "      <td>-0.216048</td>\n",
              "      <td>0.308460</td>\n",
              "      <td>-0.211260</td>\n",
              "      <td>-0.014026</td>\n",
              "      <td>-0.978314</td>\n",
              "      <td>-0.072719</td>\n",
              "      <td>-0.650515</td>\n",
              "      <td>0.334396</td>\n",
              "      <td>-1.175251</td>\n",
              "    </tr>\n",
              "    <tr>\n",
              "      <th>5</th>\n",
              "      <td>0.395884</td>\n",
              "      <td>-0.550175</td>\n",
              "      <td>0.916144</td>\n",
              "      <td>-0.346266</td>\n",
              "      <td>0.299590</td>\n",
              "      <td>-0.670883</td>\n",
              "      <td>1.458402</td>\n",
              "      <td>1.473856</td>\n",
              "      <td>-0.821074</td>\n",
              "      <td>-1.403115</td>\n",
              "      <td>-1.723506</td>\n",
              "      <td>-0.453609</td>\n",
              "      <td>0.524999</td>\n",
              "    </tr>\n",
              "    <tr>\n",
              "      <th>6</th>\n",
              "      <td>0.244763</td>\n",
              "      <td>-0.251921</td>\n",
              "      <td>0.414033</td>\n",
              "      <td>-0.709361</td>\n",
              "      <td>-0.238274</td>\n",
              "      <td>0.781776</td>\n",
              "      <td>-1.487275</td>\n",
              "      <td>0.335332</td>\n",
              "      <td>-1.473116</td>\n",
              "      <td>0.930596</td>\n",
              "      <td>-0.674789</td>\n",
              "      <td>-0.343828</td>\n",
              "      <td>0.995483</td>\n",
              "    </tr>\n",
              "  </tbody>\n",
              "</table>\n",
              "</div>"
            ],
            "text/plain": [
              "         0         1         2   ...        10        11        12\n",
              "0  0.078624  0.000000  0.000000  ... -0.323266  0.062785 -0.772206\n",
              "1 -0.502002  0.000000  0.000000  ... -1.933968  1.142578  1.793668\n",
              "2 -2.328323  0.000000  0.552428  ...  0.051109  0.332751  1.490032\n",
              "3  0.279683  0.000000  0.667056  ... -0.056129  0.539402 -0.746267\n",
              "4  0.729408 -0.438883 -1.205006  ... -0.650515  0.334396 -1.175251\n",
              "5  0.395884 -0.550175  0.916144  ... -1.723506 -0.453609  0.524999\n",
              "6  0.244763 -0.251921  0.414033  ... -0.674789 -0.343828  0.995483\n",
              "\n",
              "[7 rows x 13 columns]"
            ]
          },
          "metadata": {},
          "execution_count": 293
        }
      ]
    },
    {
      "cell_type": "markdown",
      "metadata": {
        "id": "5VAkVqe70uZL"
      },
      "source": [
        "* using interpolation method such as ffill"
      ]
    },
    {
      "cell_type": "code",
      "metadata": {
        "colab": {
          "base_uri": "https://localhost:8080/",
          "height": 234
        },
        "id": "bvegfnj-0meM",
        "outputId": "bd5f7a5c-cc3b-44a8-c8ca-413197e2c01e"
      },
      "source": [
        "df7 = pd.DataFrame(np.random.randn(6,3))\n",
        "df7.iloc[2:,1] = NA\n",
        "df7.iloc[4:,2] = NA\n",
        "df7"
      ],
      "execution_count": null,
      "outputs": [
        {
          "output_type": "execute_result",
          "data": {
            "text/html": [
              "<div>\n",
              "<style scoped>\n",
              "    .dataframe tbody tr th:only-of-type {\n",
              "        vertical-align: middle;\n",
              "    }\n",
              "\n",
              "    .dataframe tbody tr th {\n",
              "        vertical-align: top;\n",
              "    }\n",
              "\n",
              "    .dataframe thead th {\n",
              "        text-align: right;\n",
              "    }\n",
              "</style>\n",
              "<table border=\"1\" class=\"dataframe\">\n",
              "  <thead>\n",
              "    <tr style=\"text-align: right;\">\n",
              "      <th></th>\n",
              "      <th>0</th>\n",
              "      <th>1</th>\n",
              "      <th>2</th>\n",
              "    </tr>\n",
              "  </thead>\n",
              "  <tbody>\n",
              "    <tr>\n",
              "      <th>0</th>\n",
              "      <td>0.127100</td>\n",
              "      <td>2.175992</td>\n",
              "      <td>0.052439</td>\n",
              "    </tr>\n",
              "    <tr>\n",
              "      <th>1</th>\n",
              "      <td>0.356876</td>\n",
              "      <td>1.027672</td>\n",
              "      <td>-1.119335</td>\n",
              "    </tr>\n",
              "    <tr>\n",
              "      <th>2</th>\n",
              "      <td>0.698249</td>\n",
              "      <td>NaN</td>\n",
              "      <td>1.037873</td>\n",
              "    </tr>\n",
              "    <tr>\n",
              "      <th>3</th>\n",
              "      <td>0.579264</td>\n",
              "      <td>NaN</td>\n",
              "      <td>-0.614180</td>\n",
              "    </tr>\n",
              "    <tr>\n",
              "      <th>4</th>\n",
              "      <td>-0.536057</td>\n",
              "      <td>NaN</td>\n",
              "      <td>NaN</td>\n",
              "    </tr>\n",
              "    <tr>\n",
              "      <th>5</th>\n",
              "      <td>0.834943</td>\n",
              "      <td>NaN</td>\n",
              "      <td>NaN</td>\n",
              "    </tr>\n",
              "  </tbody>\n",
              "</table>\n",
              "</div>"
            ],
            "text/plain": [
              "          0         1         2\n",
              "0  0.127100  2.175992  0.052439\n",
              "1  0.356876  1.027672 -1.119335\n",
              "2  0.698249       NaN  1.037873\n",
              "3  0.579264       NaN -0.614180\n",
              "4 -0.536057       NaN       NaN\n",
              "5  0.834943       NaN       NaN"
            ]
          },
          "metadata": {},
          "execution_count": 294
        }
      ]
    },
    {
      "cell_type": "code",
      "metadata": {
        "colab": {
          "base_uri": "https://localhost:8080/",
          "height": 234
        },
        "id": "H-xBT_vG0_f4",
        "outputId": "50a05f22-5637-4545-bb35-4267fcfb2d8e"
      },
      "source": [
        "df7.fillna(method='ffill')"
      ],
      "execution_count": null,
      "outputs": [
        {
          "output_type": "execute_result",
          "data": {
            "text/html": [
              "<div>\n",
              "<style scoped>\n",
              "    .dataframe tbody tr th:only-of-type {\n",
              "        vertical-align: middle;\n",
              "    }\n",
              "\n",
              "    .dataframe tbody tr th {\n",
              "        vertical-align: top;\n",
              "    }\n",
              "\n",
              "    .dataframe thead th {\n",
              "        text-align: right;\n",
              "    }\n",
              "</style>\n",
              "<table border=\"1\" class=\"dataframe\">\n",
              "  <thead>\n",
              "    <tr style=\"text-align: right;\">\n",
              "      <th></th>\n",
              "      <th>0</th>\n",
              "      <th>1</th>\n",
              "      <th>2</th>\n",
              "    </tr>\n",
              "  </thead>\n",
              "  <tbody>\n",
              "    <tr>\n",
              "      <th>0</th>\n",
              "      <td>0.127100</td>\n",
              "      <td>2.175992</td>\n",
              "      <td>0.052439</td>\n",
              "    </tr>\n",
              "    <tr>\n",
              "      <th>1</th>\n",
              "      <td>0.356876</td>\n",
              "      <td>1.027672</td>\n",
              "      <td>-1.119335</td>\n",
              "    </tr>\n",
              "    <tr>\n",
              "      <th>2</th>\n",
              "      <td>0.698249</td>\n",
              "      <td>1.027672</td>\n",
              "      <td>1.037873</td>\n",
              "    </tr>\n",
              "    <tr>\n",
              "      <th>3</th>\n",
              "      <td>0.579264</td>\n",
              "      <td>1.027672</td>\n",
              "      <td>-0.614180</td>\n",
              "    </tr>\n",
              "    <tr>\n",
              "      <th>4</th>\n",
              "      <td>-0.536057</td>\n",
              "      <td>1.027672</td>\n",
              "      <td>-0.614180</td>\n",
              "    </tr>\n",
              "    <tr>\n",
              "      <th>5</th>\n",
              "      <td>0.834943</td>\n",
              "      <td>1.027672</td>\n",
              "      <td>-0.614180</td>\n",
              "    </tr>\n",
              "  </tbody>\n",
              "</table>\n",
              "</div>"
            ],
            "text/plain": [
              "          0         1         2\n",
              "0  0.127100  2.175992  0.052439\n",
              "1  0.356876  1.027672 -1.119335\n",
              "2  0.698249  1.027672  1.037873\n",
              "3  0.579264  1.027672 -0.614180\n",
              "4 -0.536057  1.027672 -0.614180\n",
              "5  0.834943  1.027672 -0.614180"
            ]
          },
          "metadata": {},
          "execution_count": 295
        }
      ]
    },
    {
      "cell_type": "markdown",
      "metadata": {
        "id": "F4rJgDjQ1RHV"
      },
      "source": [
        "* limit the interpolation upto 2 times"
      ]
    },
    {
      "cell_type": "code",
      "metadata": {
        "colab": {
          "base_uri": "https://localhost:8080/",
          "height": 234
        },
        "id": "cs9dFsQc1JY5",
        "outputId": "45865fa2-c325-4120-c203-86b0f171273d"
      },
      "source": [
        "df7.fillna(method='ffill', limit=2)"
      ],
      "execution_count": null,
      "outputs": [
        {
          "output_type": "execute_result",
          "data": {
            "text/html": [
              "<div>\n",
              "<style scoped>\n",
              "    .dataframe tbody tr th:only-of-type {\n",
              "        vertical-align: middle;\n",
              "    }\n",
              "\n",
              "    .dataframe tbody tr th {\n",
              "        vertical-align: top;\n",
              "    }\n",
              "\n",
              "    .dataframe thead th {\n",
              "        text-align: right;\n",
              "    }\n",
              "</style>\n",
              "<table border=\"1\" class=\"dataframe\">\n",
              "  <thead>\n",
              "    <tr style=\"text-align: right;\">\n",
              "      <th></th>\n",
              "      <th>0</th>\n",
              "      <th>1</th>\n",
              "      <th>2</th>\n",
              "    </tr>\n",
              "  </thead>\n",
              "  <tbody>\n",
              "    <tr>\n",
              "      <th>0</th>\n",
              "      <td>0.127100</td>\n",
              "      <td>2.175992</td>\n",
              "      <td>0.052439</td>\n",
              "    </tr>\n",
              "    <tr>\n",
              "      <th>1</th>\n",
              "      <td>0.356876</td>\n",
              "      <td>1.027672</td>\n",
              "      <td>-1.119335</td>\n",
              "    </tr>\n",
              "    <tr>\n",
              "      <th>2</th>\n",
              "      <td>0.698249</td>\n",
              "      <td>1.027672</td>\n",
              "      <td>1.037873</td>\n",
              "    </tr>\n",
              "    <tr>\n",
              "      <th>3</th>\n",
              "      <td>0.579264</td>\n",
              "      <td>1.027672</td>\n",
              "      <td>-0.614180</td>\n",
              "    </tr>\n",
              "    <tr>\n",
              "      <th>4</th>\n",
              "      <td>-0.536057</td>\n",
              "      <td>NaN</td>\n",
              "      <td>-0.614180</td>\n",
              "    </tr>\n",
              "    <tr>\n",
              "      <th>5</th>\n",
              "      <td>0.834943</td>\n",
              "      <td>NaN</td>\n",
              "      <td>-0.614180</td>\n",
              "    </tr>\n",
              "  </tbody>\n",
              "</table>\n",
              "</div>"
            ],
            "text/plain": [
              "          0         1         2\n",
              "0  0.127100  2.175992  0.052439\n",
              "1  0.356876  1.027672 -1.119335\n",
              "2  0.698249  1.027672  1.037873\n",
              "3  0.579264  1.027672 -0.614180\n",
              "4 -0.536057       NaN -0.614180\n",
              "5  0.834943       NaN -0.614180"
            ]
          },
          "metadata": {},
          "execution_count": 296
        }
      ]
    },
    {
      "cell_type": "markdown",
      "metadata": {
        "id": "1d2OOvw21enY"
      },
      "source": [
        "* Pass the mean or median value"
      ]
    },
    {
      "cell_type": "code",
      "metadata": {
        "colab": {
          "base_uri": "https://localhost:8080/",
          "height": 234
        },
        "id": "3-hw_Zlx1bHm",
        "outputId": "d88d639e-e2f9-4be7-cfd9-a7deaabebe0b"
      },
      "source": [
        "df7.fillna(df7.mean())"
      ],
      "execution_count": null,
      "outputs": [
        {
          "output_type": "execute_result",
          "data": {
            "text/html": [
              "<div>\n",
              "<style scoped>\n",
              "    .dataframe tbody tr th:only-of-type {\n",
              "        vertical-align: middle;\n",
              "    }\n",
              "\n",
              "    .dataframe tbody tr th {\n",
              "        vertical-align: top;\n",
              "    }\n",
              "\n",
              "    .dataframe thead th {\n",
              "        text-align: right;\n",
              "    }\n",
              "</style>\n",
              "<table border=\"1\" class=\"dataframe\">\n",
              "  <thead>\n",
              "    <tr style=\"text-align: right;\">\n",
              "      <th></th>\n",
              "      <th>0</th>\n",
              "      <th>1</th>\n",
              "      <th>2</th>\n",
              "    </tr>\n",
              "  </thead>\n",
              "  <tbody>\n",
              "    <tr>\n",
              "      <th>0</th>\n",
              "      <td>0.127100</td>\n",
              "      <td>2.175992</td>\n",
              "      <td>0.052439</td>\n",
              "    </tr>\n",
              "    <tr>\n",
              "      <th>1</th>\n",
              "      <td>0.356876</td>\n",
              "      <td>1.027672</td>\n",
              "      <td>-1.119335</td>\n",
              "    </tr>\n",
              "    <tr>\n",
              "      <th>2</th>\n",
              "      <td>0.698249</td>\n",
              "      <td>1.601832</td>\n",
              "      <td>1.037873</td>\n",
              "    </tr>\n",
              "    <tr>\n",
              "      <th>3</th>\n",
              "      <td>0.579264</td>\n",
              "      <td>1.601832</td>\n",
              "      <td>-0.614180</td>\n",
              "    </tr>\n",
              "    <tr>\n",
              "      <th>4</th>\n",
              "      <td>-0.536057</td>\n",
              "      <td>1.601832</td>\n",
              "      <td>-0.160801</td>\n",
              "    </tr>\n",
              "    <tr>\n",
              "      <th>5</th>\n",
              "      <td>0.834943</td>\n",
              "      <td>1.601832</td>\n",
              "      <td>-0.160801</td>\n",
              "    </tr>\n",
              "  </tbody>\n",
              "</table>\n",
              "</div>"
            ],
            "text/plain": [
              "          0         1         2\n",
              "0  0.127100  2.175992  0.052439\n",
              "1  0.356876  1.027672 -1.119335\n",
              "2  0.698249  1.601832  1.037873\n",
              "3  0.579264  1.601832 -0.614180\n",
              "4 -0.536057  1.601832 -0.160801\n",
              "5  0.834943  1.601832 -0.160801"
            ]
          },
          "metadata": {},
          "execution_count": 297
        }
      ]
    },
    {
      "cell_type": "markdown",
      "metadata": {
        "id": "3g9oc2ra15mq"
      },
      "source": [
        "* removing duplicates"
      ]
    },
    {
      "cell_type": "code",
      "metadata": {
        "colab": {
          "base_uri": "https://localhost:8080/",
          "height": 265
        },
        "id": "KQfO3PbC1mAT",
        "outputId": "83a7bad8-6afb-4afa-b288-125fb0e9462d"
      },
      "source": [
        "df8 = pd.DataFrame({'k1':['one','two']*3 + ['two'], 'k2':[1,1,2,3,3,4,4]})\n",
        "df8"
      ],
      "execution_count": null,
      "outputs": [
        {
          "output_type": "execute_result",
          "data": {
            "text/html": [
              "<div>\n",
              "<style scoped>\n",
              "    .dataframe tbody tr th:only-of-type {\n",
              "        vertical-align: middle;\n",
              "    }\n",
              "\n",
              "    .dataframe tbody tr th {\n",
              "        vertical-align: top;\n",
              "    }\n",
              "\n",
              "    .dataframe thead th {\n",
              "        text-align: right;\n",
              "    }\n",
              "</style>\n",
              "<table border=\"1\" class=\"dataframe\">\n",
              "  <thead>\n",
              "    <tr style=\"text-align: right;\">\n",
              "      <th></th>\n",
              "      <th>k1</th>\n",
              "      <th>k2</th>\n",
              "    </tr>\n",
              "  </thead>\n",
              "  <tbody>\n",
              "    <tr>\n",
              "      <th>0</th>\n",
              "      <td>one</td>\n",
              "      <td>1</td>\n",
              "    </tr>\n",
              "    <tr>\n",
              "      <th>1</th>\n",
              "      <td>two</td>\n",
              "      <td>1</td>\n",
              "    </tr>\n",
              "    <tr>\n",
              "      <th>2</th>\n",
              "      <td>one</td>\n",
              "      <td>2</td>\n",
              "    </tr>\n",
              "    <tr>\n",
              "      <th>3</th>\n",
              "      <td>two</td>\n",
              "      <td>3</td>\n",
              "    </tr>\n",
              "    <tr>\n",
              "      <th>4</th>\n",
              "      <td>one</td>\n",
              "      <td>3</td>\n",
              "    </tr>\n",
              "    <tr>\n",
              "      <th>5</th>\n",
              "      <td>two</td>\n",
              "      <td>4</td>\n",
              "    </tr>\n",
              "    <tr>\n",
              "      <th>6</th>\n",
              "      <td>two</td>\n",
              "      <td>4</td>\n",
              "    </tr>\n",
              "  </tbody>\n",
              "</table>\n",
              "</div>"
            ],
            "text/plain": [
              "    k1  k2\n",
              "0  one   1\n",
              "1  two   1\n",
              "2  one   2\n",
              "3  two   3\n",
              "4  one   3\n",
              "5  two   4\n",
              "6  two   4"
            ]
          },
          "metadata": {},
          "execution_count": 298
        }
      ]
    },
    {
      "cell_type": "markdown",
      "metadata": {
        "id": "KJ3ot2J22WmS"
      },
      "source": [
        "* using duplicate method to find duplicate rows"
      ]
    },
    {
      "cell_type": "code",
      "metadata": {
        "colab": {
          "base_uri": "https://localhost:8080/"
        },
        "id": "Jh_FSO8Q2N3f",
        "outputId": "bdc4093f-de3b-4234-f45a-f4a20136c240"
      },
      "source": [
        "df8.duplicated()"
      ],
      "execution_count": null,
      "outputs": [
        {
          "output_type": "execute_result",
          "data": {
            "text/plain": [
              "0    False\n",
              "1    False\n",
              "2    False\n",
              "3    False\n",
              "4    False\n",
              "5    False\n",
              "6     True\n",
              "dtype: bool"
            ]
          },
          "metadata": {},
          "execution_count": 299
        }
      ]
    },
    {
      "cell_type": "markdown",
      "metadata": {
        "id": "hKoUya3W2oaY"
      },
      "source": [
        "* dropping duplicate rows\n",
        "* using drop_duplicates"
      ]
    },
    {
      "cell_type": "code",
      "metadata": {
        "colab": {
          "base_uri": "https://localhost:8080/",
          "height": 234
        },
        "id": "_LbAn6Bv2gyu",
        "outputId": "6d77cf04-7450-4c75-a33f-1716bbda7924"
      },
      "source": [
        "df8.drop_duplicates()"
      ],
      "execution_count": null,
      "outputs": [
        {
          "output_type": "execute_result",
          "data": {
            "text/html": [
              "<div>\n",
              "<style scoped>\n",
              "    .dataframe tbody tr th:only-of-type {\n",
              "        vertical-align: middle;\n",
              "    }\n",
              "\n",
              "    .dataframe tbody tr th {\n",
              "        vertical-align: top;\n",
              "    }\n",
              "\n",
              "    .dataframe thead th {\n",
              "        text-align: right;\n",
              "    }\n",
              "</style>\n",
              "<table border=\"1\" class=\"dataframe\">\n",
              "  <thead>\n",
              "    <tr style=\"text-align: right;\">\n",
              "      <th></th>\n",
              "      <th>k1</th>\n",
              "      <th>k2</th>\n",
              "    </tr>\n",
              "  </thead>\n",
              "  <tbody>\n",
              "    <tr>\n",
              "      <th>0</th>\n",
              "      <td>one</td>\n",
              "      <td>1</td>\n",
              "    </tr>\n",
              "    <tr>\n",
              "      <th>1</th>\n",
              "      <td>two</td>\n",
              "      <td>1</td>\n",
              "    </tr>\n",
              "    <tr>\n",
              "      <th>2</th>\n",
              "      <td>one</td>\n",
              "      <td>2</td>\n",
              "    </tr>\n",
              "    <tr>\n",
              "      <th>3</th>\n",
              "      <td>two</td>\n",
              "      <td>3</td>\n",
              "    </tr>\n",
              "    <tr>\n",
              "      <th>4</th>\n",
              "      <td>one</td>\n",
              "      <td>3</td>\n",
              "    </tr>\n",
              "    <tr>\n",
              "      <th>5</th>\n",
              "      <td>two</td>\n",
              "      <td>4</td>\n",
              "    </tr>\n",
              "  </tbody>\n",
              "</table>\n",
              "</div>"
            ],
            "text/plain": [
              "    k1  k2\n",
              "0  one   1\n",
              "1  two   1\n",
              "2  one   2\n",
              "3  two   3\n",
              "4  one   3\n",
              "5  two   4"
            ]
          },
          "metadata": {},
          "execution_count": 300
        }
      ]
    },
    {
      "cell_type": "markdown",
      "metadata": {
        "id": "WjBVvtb720Pg"
      },
      "source": [
        "* dropping duplicate rows based on one particular columns instead of all the columns "
      ]
    },
    {
      "cell_type": "code",
      "metadata": {
        "id": "E4rgZSC72xai"
      },
      "source": [
        "df8['v1'] = range(7)"
      ],
      "execution_count": null,
      "outputs": []
    },
    {
      "cell_type": "code",
      "metadata": {
        "colab": {
          "base_uri": "https://localhost:8080/",
          "height": 265
        },
        "id": "L6kQOBNR3BLf",
        "outputId": "735f7c73-c845-4041-da7f-47ff721f9a65"
      },
      "source": [
        "df8"
      ],
      "execution_count": null,
      "outputs": [
        {
          "output_type": "execute_result",
          "data": {
            "text/html": [
              "<div>\n",
              "<style scoped>\n",
              "    .dataframe tbody tr th:only-of-type {\n",
              "        vertical-align: middle;\n",
              "    }\n",
              "\n",
              "    .dataframe tbody tr th {\n",
              "        vertical-align: top;\n",
              "    }\n",
              "\n",
              "    .dataframe thead th {\n",
              "        text-align: right;\n",
              "    }\n",
              "</style>\n",
              "<table border=\"1\" class=\"dataframe\">\n",
              "  <thead>\n",
              "    <tr style=\"text-align: right;\">\n",
              "      <th></th>\n",
              "      <th>k1</th>\n",
              "      <th>k2</th>\n",
              "      <th>v1</th>\n",
              "    </tr>\n",
              "  </thead>\n",
              "  <tbody>\n",
              "    <tr>\n",
              "      <th>0</th>\n",
              "      <td>one</td>\n",
              "      <td>1</td>\n",
              "      <td>0</td>\n",
              "    </tr>\n",
              "    <tr>\n",
              "      <th>1</th>\n",
              "      <td>two</td>\n",
              "      <td>1</td>\n",
              "      <td>1</td>\n",
              "    </tr>\n",
              "    <tr>\n",
              "      <th>2</th>\n",
              "      <td>one</td>\n",
              "      <td>2</td>\n",
              "      <td>2</td>\n",
              "    </tr>\n",
              "    <tr>\n",
              "      <th>3</th>\n",
              "      <td>two</td>\n",
              "      <td>3</td>\n",
              "      <td>3</td>\n",
              "    </tr>\n",
              "    <tr>\n",
              "      <th>4</th>\n",
              "      <td>one</td>\n",
              "      <td>3</td>\n",
              "      <td>4</td>\n",
              "    </tr>\n",
              "    <tr>\n",
              "      <th>5</th>\n",
              "      <td>two</td>\n",
              "      <td>4</td>\n",
              "      <td>5</td>\n",
              "    </tr>\n",
              "    <tr>\n",
              "      <th>6</th>\n",
              "      <td>two</td>\n",
              "      <td>4</td>\n",
              "      <td>6</td>\n",
              "    </tr>\n",
              "  </tbody>\n",
              "</table>\n",
              "</div>"
            ],
            "text/plain": [
              "    k1  k2  v1\n",
              "0  one   1   0\n",
              "1  two   1   1\n",
              "2  one   2   2\n",
              "3  two   3   3\n",
              "4  one   3   4\n",
              "5  two   4   5\n",
              "6  two   4   6"
            ]
          },
          "metadata": {},
          "execution_count": 302
        }
      ]
    },
    {
      "cell_type": "markdown",
      "metadata": {
        "id": "ntsRPHVP3I6B"
      },
      "source": [
        "* drop duplicate rows based on column k1"
      ]
    },
    {
      "cell_type": "code",
      "metadata": {
        "colab": {
          "base_uri": "https://localhost:8080/",
          "height": 110
        },
        "id": "96xXM39d3BzI",
        "outputId": "78ec4540-344a-4822-8133-21978908682e"
      },
      "source": [
        "df8.drop_duplicates(['k1'])"
      ],
      "execution_count": null,
      "outputs": [
        {
          "output_type": "execute_result",
          "data": {
            "text/html": [
              "<div>\n",
              "<style scoped>\n",
              "    .dataframe tbody tr th:only-of-type {\n",
              "        vertical-align: middle;\n",
              "    }\n",
              "\n",
              "    .dataframe tbody tr th {\n",
              "        vertical-align: top;\n",
              "    }\n",
              "\n",
              "    .dataframe thead th {\n",
              "        text-align: right;\n",
              "    }\n",
              "</style>\n",
              "<table border=\"1\" class=\"dataframe\">\n",
              "  <thead>\n",
              "    <tr style=\"text-align: right;\">\n",
              "      <th></th>\n",
              "      <th>k1</th>\n",
              "      <th>k2</th>\n",
              "      <th>v1</th>\n",
              "    </tr>\n",
              "  </thead>\n",
              "  <tbody>\n",
              "    <tr>\n",
              "      <th>0</th>\n",
              "      <td>one</td>\n",
              "      <td>1</td>\n",
              "      <td>0</td>\n",
              "    </tr>\n",
              "    <tr>\n",
              "      <th>1</th>\n",
              "      <td>two</td>\n",
              "      <td>1</td>\n",
              "      <td>1</td>\n",
              "    </tr>\n",
              "  </tbody>\n",
              "</table>\n",
              "</div>"
            ],
            "text/plain": [
              "    k1  k2  v1\n",
              "0  one   1   0\n",
              "1  two   1   1"
            ]
          },
          "metadata": {},
          "execution_count": 303
        }
      ]
    },
    {
      "cell_type": "markdown",
      "metadata": {
        "id": "O_HSLmN93erL"
      },
      "source": [
        "* keeping the last instance of duplicate rows instead of the first one (default)\n",
        "* using keep argument"
      ]
    },
    {
      "cell_type": "code",
      "metadata": {
        "colab": {
          "base_uri": "https://localhost:8080/",
          "height": 234
        },
        "id": "RUAyNHO13Q__",
        "outputId": "a9c8993d-15dc-4d67-f77b-79a13aed17ab"
      },
      "source": [
        "df8.drop_duplicates(['k1','k2'], keep = 'last')"
      ],
      "execution_count": null,
      "outputs": [
        {
          "output_type": "execute_result",
          "data": {
            "text/html": [
              "<div>\n",
              "<style scoped>\n",
              "    .dataframe tbody tr th:only-of-type {\n",
              "        vertical-align: middle;\n",
              "    }\n",
              "\n",
              "    .dataframe tbody tr th {\n",
              "        vertical-align: top;\n",
              "    }\n",
              "\n",
              "    .dataframe thead th {\n",
              "        text-align: right;\n",
              "    }\n",
              "</style>\n",
              "<table border=\"1\" class=\"dataframe\">\n",
              "  <thead>\n",
              "    <tr style=\"text-align: right;\">\n",
              "      <th></th>\n",
              "      <th>k1</th>\n",
              "      <th>k2</th>\n",
              "      <th>v1</th>\n",
              "    </tr>\n",
              "  </thead>\n",
              "  <tbody>\n",
              "    <tr>\n",
              "      <th>0</th>\n",
              "      <td>one</td>\n",
              "      <td>1</td>\n",
              "      <td>0</td>\n",
              "    </tr>\n",
              "    <tr>\n",
              "      <th>1</th>\n",
              "      <td>two</td>\n",
              "      <td>1</td>\n",
              "      <td>1</td>\n",
              "    </tr>\n",
              "    <tr>\n",
              "      <th>2</th>\n",
              "      <td>one</td>\n",
              "      <td>2</td>\n",
              "      <td>2</td>\n",
              "    </tr>\n",
              "    <tr>\n",
              "      <th>3</th>\n",
              "      <td>two</td>\n",
              "      <td>3</td>\n",
              "      <td>3</td>\n",
              "    </tr>\n",
              "    <tr>\n",
              "      <th>4</th>\n",
              "      <td>one</td>\n",
              "      <td>3</td>\n",
              "      <td>4</td>\n",
              "    </tr>\n",
              "    <tr>\n",
              "      <th>6</th>\n",
              "      <td>two</td>\n",
              "      <td>4</td>\n",
              "      <td>6</td>\n",
              "    </tr>\n",
              "  </tbody>\n",
              "</table>\n",
              "</div>"
            ],
            "text/plain": [
              "    k1  k2  v1\n",
              "0  one   1   0\n",
              "1  two   1   1\n",
              "2  one   2   2\n",
              "3  two   3   3\n",
              "4  one   3   4\n",
              "6  two   4   6"
            ]
          },
          "metadata": {},
          "execution_count": 304
        }
      ]
    },
    {
      "cell_type": "code",
      "metadata": {
        "colab": {
          "base_uri": "https://localhost:8080/",
          "height": 234
        },
        "id": "XGWOK_E33xJk",
        "outputId": "70b47e0a-5ea4-4d4f-c23b-e21b84f479b6"
      },
      "source": [
        "df8.drop_duplicates(['k1','k2'])"
      ],
      "execution_count": null,
      "outputs": [
        {
          "output_type": "execute_result",
          "data": {
            "text/html": [
              "<div>\n",
              "<style scoped>\n",
              "    .dataframe tbody tr th:only-of-type {\n",
              "        vertical-align: middle;\n",
              "    }\n",
              "\n",
              "    .dataframe tbody tr th {\n",
              "        vertical-align: top;\n",
              "    }\n",
              "\n",
              "    .dataframe thead th {\n",
              "        text-align: right;\n",
              "    }\n",
              "</style>\n",
              "<table border=\"1\" class=\"dataframe\">\n",
              "  <thead>\n",
              "    <tr style=\"text-align: right;\">\n",
              "      <th></th>\n",
              "      <th>k1</th>\n",
              "      <th>k2</th>\n",
              "      <th>v1</th>\n",
              "    </tr>\n",
              "  </thead>\n",
              "  <tbody>\n",
              "    <tr>\n",
              "      <th>0</th>\n",
              "      <td>one</td>\n",
              "      <td>1</td>\n",
              "      <td>0</td>\n",
              "    </tr>\n",
              "    <tr>\n",
              "      <th>1</th>\n",
              "      <td>two</td>\n",
              "      <td>1</td>\n",
              "      <td>1</td>\n",
              "    </tr>\n",
              "    <tr>\n",
              "      <th>2</th>\n",
              "      <td>one</td>\n",
              "      <td>2</td>\n",
              "      <td>2</td>\n",
              "    </tr>\n",
              "    <tr>\n",
              "      <th>3</th>\n",
              "      <td>two</td>\n",
              "      <td>3</td>\n",
              "      <td>3</td>\n",
              "    </tr>\n",
              "    <tr>\n",
              "      <th>4</th>\n",
              "      <td>one</td>\n",
              "      <td>3</td>\n",
              "      <td>4</td>\n",
              "    </tr>\n",
              "    <tr>\n",
              "      <th>5</th>\n",
              "      <td>two</td>\n",
              "      <td>4</td>\n",
              "      <td>5</td>\n",
              "    </tr>\n",
              "  </tbody>\n",
              "</table>\n",
              "</div>"
            ],
            "text/plain": [
              "    k1  k2  v1\n",
              "0  one   1   0\n",
              "1  two   1   1\n",
              "2  one   2   2\n",
              "3  two   3   3\n",
              "4  one   3   4\n",
              "5  two   4   5"
            ]
          },
          "metadata": {},
          "execution_count": 305
        }
      ]
    },
    {
      "cell_type": "markdown",
      "metadata": {
        "id": "RehlWkSl4CDE"
      },
      "source": [
        "* perform transformations based on mappings\n",
        "* data transformations based on values\n",
        "* e.g., mapping of each distinct agro food products to the argricultural crop"
      ]
    },
    {
      "cell_type": "code",
      "metadata": {
        "id": "S6mFw6-a33_U"
      },
      "source": [
        "df9 = pd.DataFrame({'food':['atta','maida','atta','sugar','gudh','atta',\n",
        "                            'sugar','daliya','besan'],'ounces':\n",
        "                    [4,3,12,6,7.5,8,3,5,6]})"
      ],
      "execution_count": null,
      "outputs": []
    },
    {
      "cell_type": "code",
      "metadata": {
        "colab": {
          "base_uri": "https://localhost:8080/",
          "height": 326
        },
        "id": "3uu54XfH4x4q",
        "outputId": "2eb683b2-850e-4820-a6fd-0c61fc9cc3b6"
      },
      "source": [
        "df9"
      ],
      "execution_count": null,
      "outputs": [
        {
          "output_type": "execute_result",
          "data": {
            "text/html": [
              "<div>\n",
              "<style scoped>\n",
              "    .dataframe tbody tr th:only-of-type {\n",
              "        vertical-align: middle;\n",
              "    }\n",
              "\n",
              "    .dataframe tbody tr th {\n",
              "        vertical-align: top;\n",
              "    }\n",
              "\n",
              "    .dataframe thead th {\n",
              "        text-align: right;\n",
              "    }\n",
              "</style>\n",
              "<table border=\"1\" class=\"dataframe\">\n",
              "  <thead>\n",
              "    <tr style=\"text-align: right;\">\n",
              "      <th></th>\n",
              "      <th>food</th>\n",
              "      <th>ounces</th>\n",
              "    </tr>\n",
              "  </thead>\n",
              "  <tbody>\n",
              "    <tr>\n",
              "      <th>0</th>\n",
              "      <td>atta</td>\n",
              "      <td>4.0</td>\n",
              "    </tr>\n",
              "    <tr>\n",
              "      <th>1</th>\n",
              "      <td>maida</td>\n",
              "      <td>3.0</td>\n",
              "    </tr>\n",
              "    <tr>\n",
              "      <th>2</th>\n",
              "      <td>atta</td>\n",
              "      <td>12.0</td>\n",
              "    </tr>\n",
              "    <tr>\n",
              "      <th>3</th>\n",
              "      <td>sugar</td>\n",
              "      <td>6.0</td>\n",
              "    </tr>\n",
              "    <tr>\n",
              "      <th>4</th>\n",
              "      <td>gudh</td>\n",
              "      <td>7.5</td>\n",
              "    </tr>\n",
              "    <tr>\n",
              "      <th>5</th>\n",
              "      <td>atta</td>\n",
              "      <td>8.0</td>\n",
              "    </tr>\n",
              "    <tr>\n",
              "      <th>6</th>\n",
              "      <td>sugar</td>\n",
              "      <td>3.0</td>\n",
              "    </tr>\n",
              "    <tr>\n",
              "      <th>7</th>\n",
              "      <td>daliya</td>\n",
              "      <td>5.0</td>\n",
              "    </tr>\n",
              "    <tr>\n",
              "      <th>8</th>\n",
              "      <td>besan</td>\n",
              "      <td>6.0</td>\n",
              "    </tr>\n",
              "  </tbody>\n",
              "</table>\n",
              "</div>"
            ],
            "text/plain": [
              "     food  ounces\n",
              "0    atta     4.0\n",
              "1   maida     3.0\n",
              "2    atta    12.0\n",
              "3   sugar     6.0\n",
              "4    gudh     7.5\n",
              "5    atta     8.0\n",
              "6   sugar     3.0\n",
              "7  daliya     5.0\n",
              "8   besan     6.0"
            ]
          },
          "metadata": {},
          "execution_count": 307
        }
      ]
    },
    {
      "cell_type": "code",
      "metadata": {
        "colab": {
          "base_uri": "https://localhost:8080/"
        },
        "id": "vWU7omq04yhM",
        "outputId": "6dd501cb-b035-463e-b4fb-9d05197d9dd6"
      },
      "source": [
        "dict1 = {'atta':'wheat',\n",
        "         'maida':'wheat',\n",
        "         'sugar':'sugarcane',\n",
        "         'gudh':'sugarcane',\n",
        "         'daliya':'wheat',\n",
        "         'besan':'chana dal'}\n",
        "dict1"
      ],
      "execution_count": null,
      "outputs": [
        {
          "output_type": "execute_result",
          "data": {
            "text/plain": [
              "{'atta': 'wheat',\n",
              " 'besan': 'chana dal',\n",
              " 'daliya': 'wheat',\n",
              " 'gudh': 'sugarcane',\n",
              " 'maida': 'wheat',\n",
              " 'sugar': 'sugarcane'}"
            ]
          },
          "metadata": {},
          "execution_count": 308
        }
      ]
    },
    {
      "cell_type": "markdown",
      "metadata": {
        "id": "zGWWCnip5cqW"
      },
      "source": [
        "* add a column in the dataframe to indicate the crop\n",
        "* using map method to extract mapping from the dict object"
      ]
    },
    {
      "cell_type": "code",
      "metadata": {
        "id": "PmnokX1N5Vbj"
      },
      "source": [
        "df9['crop'] = df9['food'].map(dict1)"
      ],
      "execution_count": null,
      "outputs": []
    },
    {
      "cell_type": "code",
      "metadata": {
        "colab": {
          "base_uri": "https://localhost:8080/",
          "height": 326
        },
        "id": "HTicyp3x5siY",
        "outputId": "bbb4ac5e-9268-4d34-fb20-7b96e5630c7b"
      },
      "source": [
        "df9"
      ],
      "execution_count": null,
      "outputs": [
        {
          "output_type": "execute_result",
          "data": {
            "text/html": [
              "<div>\n",
              "<style scoped>\n",
              "    .dataframe tbody tr th:only-of-type {\n",
              "        vertical-align: middle;\n",
              "    }\n",
              "\n",
              "    .dataframe tbody tr th {\n",
              "        vertical-align: top;\n",
              "    }\n",
              "\n",
              "    .dataframe thead th {\n",
              "        text-align: right;\n",
              "    }\n",
              "</style>\n",
              "<table border=\"1\" class=\"dataframe\">\n",
              "  <thead>\n",
              "    <tr style=\"text-align: right;\">\n",
              "      <th></th>\n",
              "      <th>food</th>\n",
              "      <th>ounces</th>\n",
              "      <th>crop</th>\n",
              "    </tr>\n",
              "  </thead>\n",
              "  <tbody>\n",
              "    <tr>\n",
              "      <th>0</th>\n",
              "      <td>atta</td>\n",
              "      <td>4.0</td>\n",
              "      <td>wheat</td>\n",
              "    </tr>\n",
              "    <tr>\n",
              "      <th>1</th>\n",
              "      <td>maida</td>\n",
              "      <td>3.0</td>\n",
              "      <td>wheat</td>\n",
              "    </tr>\n",
              "    <tr>\n",
              "      <th>2</th>\n",
              "      <td>atta</td>\n",
              "      <td>12.0</td>\n",
              "      <td>wheat</td>\n",
              "    </tr>\n",
              "    <tr>\n",
              "      <th>3</th>\n",
              "      <td>sugar</td>\n",
              "      <td>6.0</td>\n",
              "      <td>sugarcane</td>\n",
              "    </tr>\n",
              "    <tr>\n",
              "      <th>4</th>\n",
              "      <td>gudh</td>\n",
              "      <td>7.5</td>\n",
              "      <td>sugarcane</td>\n",
              "    </tr>\n",
              "    <tr>\n",
              "      <th>5</th>\n",
              "      <td>atta</td>\n",
              "      <td>8.0</td>\n",
              "      <td>wheat</td>\n",
              "    </tr>\n",
              "    <tr>\n",
              "      <th>6</th>\n",
              "      <td>sugar</td>\n",
              "      <td>3.0</td>\n",
              "      <td>sugarcane</td>\n",
              "    </tr>\n",
              "    <tr>\n",
              "      <th>7</th>\n",
              "      <td>daliya</td>\n",
              "      <td>5.0</td>\n",
              "      <td>wheat</td>\n",
              "    </tr>\n",
              "    <tr>\n",
              "      <th>8</th>\n",
              "      <td>besan</td>\n",
              "      <td>6.0</td>\n",
              "      <td>chana dal</td>\n",
              "    </tr>\n",
              "  </tbody>\n",
              "</table>\n",
              "</div>"
            ],
            "text/plain": [
              "     food  ounces       crop\n",
              "0    atta     4.0      wheat\n",
              "1   maida     3.0      wheat\n",
              "2    atta    12.0      wheat\n",
              "3   sugar     6.0  sugarcane\n",
              "4    gudh     7.5  sugarcane\n",
              "5    atta     8.0      wheat\n",
              "6   sugar     3.0  sugarcane\n",
              "7  daliya     5.0      wheat\n",
              "8   besan     6.0  chana dal"
            ]
          },
          "metadata": {},
          "execution_count": 310
        }
      ]
    },
    {
      "cell_type": "markdown",
      "metadata": {
        "id": "Ze8b12jo5vmc"
      },
      "source": [
        "* replacing vvalues using replace method\n"
      ]
    },
    {
      "cell_type": "code",
      "metadata": {
        "colab": {
          "base_uri": "https://localhost:8080/"
        },
        "id": "gvS_N0yC5tER",
        "outputId": "c3b2d2b1-5a90-4dcc-be1f-a6cd356aefa0"
      },
      "source": [
        "series2 = pd.Series([1.,-999., 2., -999.,-1000.,3.])\n",
        "series2"
      ],
      "execution_count": null,
      "outputs": [
        {
          "output_type": "execute_result",
          "data": {
            "text/plain": [
              "0       1.0\n",
              "1    -999.0\n",
              "2       2.0\n",
              "3    -999.0\n",
              "4   -1000.0\n",
              "5       3.0\n",
              "dtype: float64"
            ]
          },
          "metadata": {},
          "execution_count": 311
        }
      ]
    },
    {
      "cell_type": "markdown",
      "metadata": {
        "id": "Tp5Y6r0w6K4M"
      },
      "source": [
        "* -999 values seem to be sentinel value for missing data\n",
        "* replace these with NAs"
      ]
    },
    {
      "cell_type": "code",
      "metadata": {
        "colab": {
          "base_uri": "https://localhost:8080/"
        },
        "id": "BUroHrdw58fA",
        "outputId": "08318b72-baa3-4d63-f375-fac00d1fc185"
      },
      "source": [
        "series2.replace(-999, np.nan)"
      ],
      "execution_count": null,
      "outputs": [
        {
          "output_type": "execute_result",
          "data": {
            "text/plain": [
              "0       1.0\n",
              "1       NaN\n",
              "2       2.0\n",
              "3       NaN\n",
              "4   -1000.0\n",
              "5       3.0\n",
              "dtype: float64"
            ]
          },
          "metadata": {},
          "execution_count": 312
        }
      ]
    },
    {
      "cell_type": "markdown",
      "metadata": {
        "id": "fUlra4R66b5y"
      },
      "source": [
        "* replace multiple values\n",
        "* e.g., -999, -1000"
      ]
    },
    {
      "cell_type": "code",
      "metadata": {
        "colab": {
          "base_uri": "https://localhost:8080/"
        },
        "id": "kJA4RsZj6X3G",
        "outputId": "652250e2-3fdc-41db-d02a-ec6a3cb1bc27"
      },
      "source": [
        "series2.replace([-999,-1000], np.nan)"
      ],
      "execution_count": null,
      "outputs": [
        {
          "output_type": "execute_result",
          "data": {
            "text/plain": [
              "0    1.0\n",
              "1    NaN\n",
              "2    2.0\n",
              "3    NaN\n",
              "4    NaN\n",
              "5    3.0\n",
              "dtype: float64"
            ]
          },
          "metadata": {},
          "execution_count": 313
        }
      ]
    },
    {
      "cell_type": "markdown",
      "metadata": {
        "id": "-YeCfAy46qud"
      },
      "source": [
        "* different replacement for each value"
      ]
    },
    {
      "cell_type": "code",
      "metadata": {
        "colab": {
          "base_uri": "https://localhost:8080/"
        },
        "id": "EVWEwn3l6pNX",
        "outputId": "8930fdb8-bf7e-42b6-817d-b207f22ca2fc"
      },
      "source": [
        "series2.replace([-999, -1000], [np.nan,-1])"
      ],
      "execution_count": null,
      "outputs": [
        {
          "output_type": "execute_result",
          "data": {
            "text/plain": [
              "0    1.0\n",
              "1    NaN\n",
              "2    2.0\n",
              "3    NaN\n",
              "4   -1.0\n",
              "5    3.0\n",
              "dtype: float64"
            ]
          },
          "metadata": {},
          "execution_count": 314
        }
      ]
    },
    {
      "cell_type": "code",
      "metadata": {
        "colab": {
          "base_uri": "https://localhost:8080/"
        },
        "id": "W9imfUk962dB",
        "outputId": "359ecb24-c1a3-4bfb-c8b8-ae5dc0ba984a"
      },
      "source": [
        "series2.replace({-999: np.nan, -1000:-1})"
      ],
      "execution_count": null,
      "outputs": [
        {
          "output_type": "execute_result",
          "data": {
            "text/plain": [
              "0    1.0\n",
              "1    NaN\n",
              "2    2.0\n",
              "3    NaN\n",
              "4   -1.0\n",
              "5    3.0\n",
              "dtype: float64"
            ]
          },
          "metadata": {},
          "execution_count": 315
        }
      ]
    },
    {
      "cell_type": "markdown",
      "metadata": {
        "id": "n_Qrmor87F-P"
      },
      "source": [
        "* renaming index labels"
      ]
    },
    {
      "cell_type": "code",
      "metadata": {
        "colab": {
          "base_uri": "https://localhost:8080/",
          "height": 142
        },
        "id": "kmTuLATX6-fK",
        "outputId": "1a25adbf-78bc-4748-f671-39a4ec694bf2"
      },
      "source": [
        "df10 = pd.DataFrame(np.arange(12).reshape((3,4)), index=['Delhi','Mumbai'\n",
        ",'Banaglore'], columns = ['one', 'two', 'three', 'four'])\n",
        "df10"
      ],
      "execution_count": null,
      "outputs": [
        {
          "output_type": "execute_result",
          "data": {
            "text/html": [
              "<div>\n",
              "<style scoped>\n",
              "    .dataframe tbody tr th:only-of-type {\n",
              "        vertical-align: middle;\n",
              "    }\n",
              "\n",
              "    .dataframe tbody tr th {\n",
              "        vertical-align: top;\n",
              "    }\n",
              "\n",
              "    .dataframe thead th {\n",
              "        text-align: right;\n",
              "    }\n",
              "</style>\n",
              "<table border=\"1\" class=\"dataframe\">\n",
              "  <thead>\n",
              "    <tr style=\"text-align: right;\">\n",
              "      <th></th>\n",
              "      <th>one</th>\n",
              "      <th>two</th>\n",
              "      <th>three</th>\n",
              "      <th>four</th>\n",
              "    </tr>\n",
              "  </thead>\n",
              "  <tbody>\n",
              "    <tr>\n",
              "      <th>Delhi</th>\n",
              "      <td>0</td>\n",
              "      <td>1</td>\n",
              "      <td>2</td>\n",
              "      <td>3</td>\n",
              "    </tr>\n",
              "    <tr>\n",
              "      <th>Mumbai</th>\n",
              "      <td>4</td>\n",
              "      <td>5</td>\n",
              "      <td>6</td>\n",
              "      <td>7</td>\n",
              "    </tr>\n",
              "    <tr>\n",
              "      <th>Banaglore</th>\n",
              "      <td>8</td>\n",
              "      <td>9</td>\n",
              "      <td>10</td>\n",
              "      <td>11</td>\n",
              "    </tr>\n",
              "  </tbody>\n",
              "</table>\n",
              "</div>"
            ],
            "text/plain": [
              "           one  two  three  four\n",
              "Delhi        0    1      2     3\n",
              "Mumbai       4    5      6     7\n",
              "Banaglore    8    9     10    11"
            ]
          },
          "metadata": {},
          "execution_count": 316
        }
      ]
    },
    {
      "cell_type": "code",
      "metadata": {
        "id": "rgBzNi0T7g0X"
      },
      "source": [
        "f1 = lambda x: x[:3].upper()"
      ],
      "execution_count": null,
      "outputs": []
    },
    {
      "cell_type": "markdown",
      "metadata": {
        "id": "5GR3482V7stt"
      },
      "source": [
        "* using map method of axis indexes"
      ]
    },
    {
      "cell_type": "code",
      "metadata": {
        "colab": {
          "base_uri": "https://localhost:8080/"
        },
        "id": "S0DftvDO7nOW",
        "outputId": "a0ab5bb9-2995-4c5e-93fe-488c27e53422"
      },
      "source": [
        "df10.index.map(f1)"
      ],
      "execution_count": null,
      "outputs": [
        {
          "output_type": "execute_result",
          "data": {
            "text/plain": [
              "Index(['DEL', 'MUM', 'BAN'], dtype='object')"
            ]
          },
          "metadata": {},
          "execution_count": 318
        }
      ]
    },
    {
      "cell_type": "code",
      "metadata": {
        "colab": {
          "base_uri": "https://localhost:8080/",
          "height": 142
        },
        "id": "mO1Aig0474O-",
        "outputId": "67150744-bb0d-4509-d794-c28ea18a9b54"
      },
      "source": [
        "df10.index = df10.index.map(f1)\n",
        "df10"
      ],
      "execution_count": null,
      "outputs": [
        {
          "output_type": "execute_result",
          "data": {
            "text/html": [
              "<div>\n",
              "<style scoped>\n",
              "    .dataframe tbody tr th:only-of-type {\n",
              "        vertical-align: middle;\n",
              "    }\n",
              "\n",
              "    .dataframe tbody tr th {\n",
              "        vertical-align: top;\n",
              "    }\n",
              "\n",
              "    .dataframe thead th {\n",
              "        text-align: right;\n",
              "    }\n",
              "</style>\n",
              "<table border=\"1\" class=\"dataframe\">\n",
              "  <thead>\n",
              "    <tr style=\"text-align: right;\">\n",
              "      <th></th>\n",
              "      <th>one</th>\n",
              "      <th>two</th>\n",
              "      <th>three</th>\n",
              "      <th>four</th>\n",
              "    </tr>\n",
              "  </thead>\n",
              "  <tbody>\n",
              "    <tr>\n",
              "      <th>DEL</th>\n",
              "      <td>0</td>\n",
              "      <td>1</td>\n",
              "      <td>2</td>\n",
              "      <td>3</td>\n",
              "    </tr>\n",
              "    <tr>\n",
              "      <th>MUM</th>\n",
              "      <td>4</td>\n",
              "      <td>5</td>\n",
              "      <td>6</td>\n",
              "      <td>7</td>\n",
              "    </tr>\n",
              "    <tr>\n",
              "      <th>BAN</th>\n",
              "      <td>8</td>\n",
              "      <td>9</td>\n",
              "      <td>10</td>\n",
              "      <td>11</td>\n",
              "    </tr>\n",
              "  </tbody>\n",
              "</table>\n",
              "</div>"
            ],
            "text/plain": [
              "     one  two  three  four\n",
              "DEL    0    1      2     3\n",
              "MUM    4    5      6     7\n",
              "BAN    8    9     10    11"
            ]
          },
          "metadata": {},
          "execution_count": 319
        }
      ]
    },
    {
      "cell_type": "markdown",
      "metadata": {
        "id": "skymLy5a8ECX"
      },
      "source": [
        "* using rename method"
      ]
    },
    {
      "cell_type": "code",
      "metadata": {
        "colab": {
          "base_uri": "https://localhost:8080/",
          "height": 142
        },
        "id": "2Gc4kxqo7_A4",
        "outputId": "05f73038-fe2c-4341-c2ed-28c76be704dd"
      },
      "source": [
        "df10"
      ],
      "execution_count": null,
      "outputs": [
        {
          "output_type": "execute_result",
          "data": {
            "text/html": [
              "<div>\n",
              "<style scoped>\n",
              "    .dataframe tbody tr th:only-of-type {\n",
              "        vertical-align: middle;\n",
              "    }\n",
              "\n",
              "    .dataframe tbody tr th {\n",
              "        vertical-align: top;\n",
              "    }\n",
              "\n",
              "    .dataframe thead th {\n",
              "        text-align: right;\n",
              "    }\n",
              "</style>\n",
              "<table border=\"1\" class=\"dataframe\">\n",
              "  <thead>\n",
              "    <tr style=\"text-align: right;\">\n",
              "      <th></th>\n",
              "      <th>one</th>\n",
              "      <th>two</th>\n",
              "      <th>three</th>\n",
              "      <th>four</th>\n",
              "    </tr>\n",
              "  </thead>\n",
              "  <tbody>\n",
              "    <tr>\n",
              "      <th>DEL</th>\n",
              "      <td>0</td>\n",
              "      <td>1</td>\n",
              "      <td>2</td>\n",
              "      <td>3</td>\n",
              "    </tr>\n",
              "    <tr>\n",
              "      <th>MUM</th>\n",
              "      <td>4</td>\n",
              "      <td>5</td>\n",
              "      <td>6</td>\n",
              "      <td>7</td>\n",
              "    </tr>\n",
              "    <tr>\n",
              "      <th>BAN</th>\n",
              "      <td>8</td>\n",
              "      <td>9</td>\n",
              "      <td>10</td>\n",
              "      <td>11</td>\n",
              "    </tr>\n",
              "  </tbody>\n",
              "</table>\n",
              "</div>"
            ],
            "text/plain": [
              "     one  two  three  four\n",
              "DEL    0    1      2     3\n",
              "MUM    4    5      6     7\n",
              "BAN    8    9     10    11"
            ]
          },
          "metadata": {},
          "execution_count": 320
        }
      ]
    },
    {
      "cell_type": "code",
      "metadata": {
        "colab": {
          "base_uri": "https://localhost:8080/",
          "height": 142
        },
        "id": "OcAuIECt8G8O",
        "outputId": "f88a05a9-8d83-417f-9f43-78cba85b5af0"
      },
      "source": [
        "df10.rename(index = str.title, columns = str.upper)"
      ],
      "execution_count": null,
      "outputs": [
        {
          "output_type": "execute_result",
          "data": {
            "text/html": [
              "<div>\n",
              "<style scoped>\n",
              "    .dataframe tbody tr th:only-of-type {\n",
              "        vertical-align: middle;\n",
              "    }\n",
              "\n",
              "    .dataframe tbody tr th {\n",
              "        vertical-align: top;\n",
              "    }\n",
              "\n",
              "    .dataframe thead th {\n",
              "        text-align: right;\n",
              "    }\n",
              "</style>\n",
              "<table border=\"1\" class=\"dataframe\">\n",
              "  <thead>\n",
              "    <tr style=\"text-align: right;\">\n",
              "      <th></th>\n",
              "      <th>ONE</th>\n",
              "      <th>TWO</th>\n",
              "      <th>THREE</th>\n",
              "      <th>FOUR</th>\n",
              "    </tr>\n",
              "  </thead>\n",
              "  <tbody>\n",
              "    <tr>\n",
              "      <th>Del</th>\n",
              "      <td>0</td>\n",
              "      <td>1</td>\n",
              "      <td>2</td>\n",
              "      <td>3</td>\n",
              "    </tr>\n",
              "    <tr>\n",
              "      <th>Mum</th>\n",
              "      <td>4</td>\n",
              "      <td>5</td>\n",
              "      <td>6</td>\n",
              "      <td>7</td>\n",
              "    </tr>\n",
              "    <tr>\n",
              "      <th>Ban</th>\n",
              "      <td>8</td>\n",
              "      <td>9</td>\n",
              "      <td>10</td>\n",
              "      <td>11</td>\n",
              "    </tr>\n",
              "  </tbody>\n",
              "</table>\n",
              "</div>"
            ],
            "text/plain": [
              "     ONE  TWO  THREE  FOUR\n",
              "Del    0    1      2     3\n",
              "Mum    4    5      6     7\n",
              "Ban    8    9     10    11"
            ]
          },
          "metadata": {},
          "execution_count": 321
        }
      ]
    },
    {
      "cell_type": "markdown",
      "metadata": {
        "id": "dIcceD2E8PPV"
      },
      "source": [
        "* using dict mapping with rename method"
      ]
    },
    {
      "cell_type": "code",
      "metadata": {
        "colab": {
          "base_uri": "https://localhost:8080/",
          "height": 142
        },
        "id": "PQ2xw3Xp8OQp",
        "outputId": "849082e5-a9b6-4b98-8044-9bc2a41d8702"
      },
      "source": [
        "df10"
      ],
      "execution_count": null,
      "outputs": [
        {
          "output_type": "execute_result",
          "data": {
            "text/html": [
              "<div>\n",
              "<style scoped>\n",
              "    .dataframe tbody tr th:only-of-type {\n",
              "        vertical-align: middle;\n",
              "    }\n",
              "\n",
              "    .dataframe tbody tr th {\n",
              "        vertical-align: top;\n",
              "    }\n",
              "\n",
              "    .dataframe thead th {\n",
              "        text-align: right;\n",
              "    }\n",
              "</style>\n",
              "<table border=\"1\" class=\"dataframe\">\n",
              "  <thead>\n",
              "    <tr style=\"text-align: right;\">\n",
              "      <th></th>\n",
              "      <th>one</th>\n",
              "      <th>two</th>\n",
              "      <th>three</th>\n",
              "      <th>four</th>\n",
              "    </tr>\n",
              "  </thead>\n",
              "  <tbody>\n",
              "    <tr>\n",
              "      <th>DEL</th>\n",
              "      <td>0</td>\n",
              "      <td>1</td>\n",
              "      <td>2</td>\n",
              "      <td>3</td>\n",
              "    </tr>\n",
              "    <tr>\n",
              "      <th>MUM</th>\n",
              "      <td>4</td>\n",
              "      <td>5</td>\n",
              "      <td>6</td>\n",
              "      <td>7</td>\n",
              "    </tr>\n",
              "    <tr>\n",
              "      <th>BAN</th>\n",
              "      <td>8</td>\n",
              "      <td>9</td>\n",
              "      <td>10</td>\n",
              "      <td>11</td>\n",
              "    </tr>\n",
              "  </tbody>\n",
              "</table>\n",
              "</div>"
            ],
            "text/plain": [
              "     one  two  three  four\n",
              "DEL    0    1      2     3\n",
              "MUM    4    5      6     7\n",
              "BAN    8    9     10    11"
            ]
          },
          "metadata": {},
          "execution_count": 322
        }
      ]
    },
    {
      "cell_type": "code",
      "metadata": {
        "colab": {
          "base_uri": "https://localhost:8080/",
          "height": 142
        },
        "id": "CACL5eW38TxU",
        "outputId": "5486c6e1-1ffc-497f-8988-1154ffdc195b"
      },
      "source": [
        "df10.rename(index={'DEL':'INDRAPRASTH'}, columns={'three':'teen'})"
      ],
      "execution_count": null,
      "outputs": [
        {
          "output_type": "execute_result",
          "data": {
            "text/html": [
              "<div>\n",
              "<style scoped>\n",
              "    .dataframe tbody tr th:only-of-type {\n",
              "        vertical-align: middle;\n",
              "    }\n",
              "\n",
              "    .dataframe tbody tr th {\n",
              "        vertical-align: top;\n",
              "    }\n",
              "\n",
              "    .dataframe thead th {\n",
              "        text-align: right;\n",
              "    }\n",
              "</style>\n",
              "<table border=\"1\" class=\"dataframe\">\n",
              "  <thead>\n",
              "    <tr style=\"text-align: right;\">\n",
              "      <th></th>\n",
              "      <th>one</th>\n",
              "      <th>two</th>\n",
              "      <th>teen</th>\n",
              "      <th>four</th>\n",
              "    </tr>\n",
              "  </thead>\n",
              "  <tbody>\n",
              "    <tr>\n",
              "      <th>INDRAPRASTH</th>\n",
              "      <td>0</td>\n",
              "      <td>1</td>\n",
              "      <td>2</td>\n",
              "      <td>3</td>\n",
              "    </tr>\n",
              "    <tr>\n",
              "      <th>MUM</th>\n",
              "      <td>4</td>\n",
              "      <td>5</td>\n",
              "      <td>6</td>\n",
              "      <td>7</td>\n",
              "    </tr>\n",
              "    <tr>\n",
              "      <th>BAN</th>\n",
              "      <td>8</td>\n",
              "      <td>9</td>\n",
              "      <td>10</td>\n",
              "      <td>11</td>\n",
              "    </tr>\n",
              "  </tbody>\n",
              "</table>\n",
              "</div>"
            ],
            "text/plain": [
              "             one  two  teen  four\n",
              "INDRAPRASTH    0    1     2     3\n",
              "MUM            4    5     6     7\n",
              "BAN            8    9    10    11"
            ]
          },
          "metadata": {},
          "execution_count": 323
        }
      ]
    },
    {
      "cell_type": "markdown",
      "metadata": {
        "id": "LLxVBuSn8tzV"
      },
      "source": [
        "* inplace modification using rename\n",
        "* using inplace argument"
      ]
    },
    {
      "cell_type": "code",
      "metadata": {
        "colab": {
          "base_uri": "https://localhost:8080/",
          "height": 142
        },
        "id": "F3XgJZHo8slR",
        "outputId": "2d5f5e1b-dc5f-4c26-882c-f420cd35f16f"
      },
      "source": [
        "df10"
      ],
      "execution_count": null,
      "outputs": [
        {
          "output_type": "execute_result",
          "data": {
            "text/html": [
              "<div>\n",
              "<style scoped>\n",
              "    .dataframe tbody tr th:only-of-type {\n",
              "        vertical-align: middle;\n",
              "    }\n",
              "\n",
              "    .dataframe tbody tr th {\n",
              "        vertical-align: top;\n",
              "    }\n",
              "\n",
              "    .dataframe thead th {\n",
              "        text-align: right;\n",
              "    }\n",
              "</style>\n",
              "<table border=\"1\" class=\"dataframe\">\n",
              "  <thead>\n",
              "    <tr style=\"text-align: right;\">\n",
              "      <th></th>\n",
              "      <th>one</th>\n",
              "      <th>two</th>\n",
              "      <th>three</th>\n",
              "      <th>four</th>\n",
              "    </tr>\n",
              "  </thead>\n",
              "  <tbody>\n",
              "    <tr>\n",
              "      <th>DEL</th>\n",
              "      <td>0</td>\n",
              "      <td>1</td>\n",
              "      <td>2</td>\n",
              "      <td>3</td>\n",
              "    </tr>\n",
              "    <tr>\n",
              "      <th>MUM</th>\n",
              "      <td>4</td>\n",
              "      <td>5</td>\n",
              "      <td>6</td>\n",
              "      <td>7</td>\n",
              "    </tr>\n",
              "    <tr>\n",
              "      <th>BAN</th>\n",
              "      <td>8</td>\n",
              "      <td>9</td>\n",
              "      <td>10</td>\n",
              "      <td>11</td>\n",
              "    </tr>\n",
              "  </tbody>\n",
              "</table>\n",
              "</div>"
            ],
            "text/plain": [
              "     one  two  three  four\n",
              "DEL    0    1      2     3\n",
              "MUM    4    5      6     7\n",
              "BAN    8    9     10    11"
            ]
          },
          "metadata": {},
          "execution_count": 324
        }
      ]
    },
    {
      "cell_type": "code",
      "metadata": {
        "id": "3L0_1ZrV80HR"
      },
      "source": [
        "df10.rename(index={'DEL':'INDRAPRASTH'}, columns={'three':'teen'}, inplace=True)"
      ],
      "execution_count": null,
      "outputs": []
    },
    {
      "cell_type": "code",
      "metadata": {
        "colab": {
          "base_uri": "https://localhost:8080/",
          "height": 142
        },
        "id": "_imFYF1u9Bpd",
        "outputId": "b4871385-7726-4c57-a888-37bf6dbdd63f"
      },
      "source": [
        "df10"
      ],
      "execution_count": null,
      "outputs": [
        {
          "output_type": "execute_result",
          "data": {
            "text/html": [
              "<div>\n",
              "<style scoped>\n",
              "    .dataframe tbody tr th:only-of-type {\n",
              "        vertical-align: middle;\n",
              "    }\n",
              "\n",
              "    .dataframe tbody tr th {\n",
              "        vertical-align: top;\n",
              "    }\n",
              "\n",
              "    .dataframe thead th {\n",
              "        text-align: right;\n",
              "    }\n",
              "</style>\n",
              "<table border=\"1\" class=\"dataframe\">\n",
              "  <thead>\n",
              "    <tr style=\"text-align: right;\">\n",
              "      <th></th>\n",
              "      <th>one</th>\n",
              "      <th>two</th>\n",
              "      <th>teen</th>\n",
              "      <th>four</th>\n",
              "    </tr>\n",
              "  </thead>\n",
              "  <tbody>\n",
              "    <tr>\n",
              "      <th>INDRAPRASTH</th>\n",
              "      <td>0</td>\n",
              "      <td>1</td>\n",
              "      <td>2</td>\n",
              "      <td>3</td>\n",
              "    </tr>\n",
              "    <tr>\n",
              "      <th>MUM</th>\n",
              "      <td>4</td>\n",
              "      <td>5</td>\n",
              "      <td>6</td>\n",
              "      <td>7</td>\n",
              "    </tr>\n",
              "    <tr>\n",
              "      <th>BAN</th>\n",
              "      <td>8</td>\n",
              "      <td>9</td>\n",
              "      <td>10</td>\n",
              "      <td>11</td>\n",
              "    </tr>\n",
              "  </tbody>\n",
              "</table>\n",
              "</div>"
            ],
            "text/plain": [
              "             one  two  teen  four\n",
              "INDRAPRASTH    0    1     2     3\n",
              "MUM            4    5     6     7\n",
              "BAN            8    9    10    11"
            ]
          },
          "metadata": {},
          "execution_count": 326
        }
      ]
    },
    {
      "cell_type": "markdown",
      "metadata": {
        "id": "GQzQH-9H9DXE"
      },
      "source": [
        "* binning of continuous variables\n",
        "* e.g., age"
      ]
    },
    {
      "cell_type": "code",
      "metadata": {
        "id": "5e_8IhH59CHR"
      },
      "source": [
        "ages = [20,22,25,27,21,23,37,31,61,45,41,32]"
      ],
      "execution_count": null,
      "outputs": []
    },
    {
      "cell_type": "markdown",
      "metadata": {
        "id": "i0jeDXaP9Rds"
      },
      "source": [
        "* bin lengths: 18-25, 26-35 etc\n",
        "* specify the bin edges"
      ]
    },
    {
      "cell_type": "code",
      "metadata": {
        "id": "1nN-RxdV9Qop"
      },
      "source": [
        "bins = [18,25,35,60,100]"
      ],
      "execution_count": null,
      "outputs": []
    },
    {
      "cell_type": "markdown",
      "metadata": {
        "id": "boL5iyDL9k6k"
      },
      "source": [
        "**Lecture - 32**"
      ]
    },
    {
      "cell_type": "markdown",
      "metadata": {
        "id": "9EJeb95Y9o2S"
      },
      "source": [
        "**Python Working With Data - Part III**"
      ]
    },
    {
      "cell_type": "markdown",
      "metadata": {
        "id": "vV-JvuI1BgJh"
      },
      "source": [
        "* Create bin groups using cut function"
      ]
    },
    {
      "cell_type": "code",
      "metadata": {
        "id": "wCXgGXdw9dPz",
        "colab": {
          "base_uri": "https://localhost:8080/"
        },
        "outputId": "247f63f9-fc50-472d-a0fe-b9c0150c52fb"
      },
      "source": [
        "age_grps = pd.cut(ages, bins)\n",
        "age_grps"
      ],
      "execution_count": null,
      "outputs": [
        {
          "output_type": "execute_result",
          "data": {
            "text/plain": [
              "[(18, 25], (18, 25], (18, 25], (25, 35], (18, 25], ..., (25, 35], (60, 100], (35, 60], (35, 60], (25, 35]]\n",
              "Length: 12\n",
              "Categories (4, interval[int64]): [(18, 25] < (25, 35] < (35, 60] < (60, 100]]"
            ]
          },
          "metadata": {},
          "execution_count": 329
        }
      ]
    },
    {
      "cell_type": "markdown",
      "metadata": {
        "id": "e2kP-MpkB-26"
      },
      "source": [
        "* numeric codes for all the cases\n",
        "* using codes attribute"
      ]
    },
    {
      "cell_type": "code",
      "metadata": {
        "colab": {
          "base_uri": "https://localhost:8080/"
        },
        "id": "QqfXntOgBqrk",
        "outputId": "26bc0134-cc66-4dda-e509-edaa87a2e698"
      },
      "source": [
        "age_grps.codes"
      ],
      "execution_count": null,
      "outputs": [
        {
          "output_type": "execute_result",
          "data": {
            "text/plain": [
              "array([0, 0, 0, 1, 0, 0, 2, 1, 3, 2, 2, 1], dtype=int8)"
            ]
          },
          "metadata": {},
          "execution_count": 330
        }
      ]
    },
    {
      "cell_type": "markdown",
      "metadata": {
        "id": "vC919fcgCJdH"
      },
      "source": [
        "* categories (bins) of age_grps variable"
      ]
    },
    {
      "cell_type": "code",
      "metadata": {
        "colab": {
          "base_uri": "https://localhost:8080/"
        },
        "id": "rpiUVisNCG6C",
        "outputId": "a1853d31-bd03-4e9c-fae0-fdf0c5062712"
      },
      "source": [
        "age_grps.categories"
      ],
      "execution_count": null,
      "outputs": [
        {
          "output_type": "execute_result",
          "data": {
            "text/plain": [
              "IntervalIndex([(18, 25], (25, 35], (35, 60], (60, 100]],\n",
              "              closed='right',\n",
              "              dtype='interval[int64]')"
            ]
          },
          "metadata": {},
          "execution_count": 331
        }
      ]
    },
    {
      "cell_type": "markdown",
      "metadata": {
        "id": "m_hEqdI-CZGf"
      },
      "source": [
        "* frequencies for different categories (bins) of age_grps"
      ]
    },
    {
      "cell_type": "code",
      "metadata": {
        "colab": {
          "base_uri": "https://localhost:8080/"
        },
        "id": "4JUP3bdHCRUu",
        "outputId": "d5569be0-a3dd-4e34-93a8-9619555b668e"
      },
      "source": [
        "pd.value_counts(age_grps)"
      ],
      "execution_count": null,
      "outputs": [
        {
          "output_type": "execute_result",
          "data": {
            "text/plain": [
              "(18, 25]     5\n",
              "(35, 60]     3\n",
              "(25, 35]     3\n",
              "(60, 100]    1\n",
              "dtype: int64"
            ]
          },
          "metadata": {},
          "execution_count": 332
        }
      ]
    },
    {
      "cell_type": "markdown",
      "metadata": {
        "id": "8X5dBO0lCsto"
      },
      "source": [
        "* changing the open/close sides of the bin interval\n",
        "* default: left side is open and right side is closed\n",
        "* using 'right' argument in the cut function"
      ]
    },
    {
      "cell_type": "code",
      "metadata": {
        "colab": {
          "base_uri": "https://localhost:8080/"
        },
        "id": "e0C-fsrUCkzn",
        "outputId": "80194898-abf8-4548-81af-9001cc5ede8a"
      },
      "source": [
        "pd.cut(ages, [18,26,36,61,100], right = False)"
      ],
      "execution_count": null,
      "outputs": [
        {
          "output_type": "execute_result",
          "data": {
            "text/plain": [
              "[[18, 26), [18, 26), [18, 26), [26, 36), [18, 26), ..., [26, 36), [61, 100), [36, 61), [36, 61), [26, 36)]\n",
              "Length: 12\n",
              "Categories (4, interval[int64]): [[18, 26) < [26, 36) < [36, 61) < [61, 100)]"
            ]
          },
          "metadata": {},
          "execution_count": 333
        }
      ]
    },
    {
      "cell_type": "markdown",
      "metadata": {
        "id": "8-4wUysfDEOH"
      },
      "source": [
        "* changing bin names\n",
        "* using labels argument"
      ]
    },
    {
      "cell_type": "code",
      "metadata": {
        "colab": {
          "base_uri": "https://localhost:8080/"
        },
        "id": "pJ5OLSaWDC2F",
        "outputId": "2670a97a-00a1-4ba4-a02e-8c76ea825bc8"
      },
      "source": [
        "pd.cut(ages, bins, labels = ['Youth','YoungAdult','MiddleAged','Senior'])"
      ],
      "execution_count": null,
      "outputs": [
        {
          "output_type": "execute_result",
          "data": {
            "text/plain": [
              "['Youth', 'Youth', 'Youth', 'YoungAdult', 'Youth', ..., 'YoungAdult', 'Senior', 'MiddleAged', 'MiddleAged', 'YoungAdult']\n",
              "Length: 12\n",
              "Categories (4, object): ['Youth' < 'YoungAdult' < 'MiddleAged' < 'Senior']"
            ]
          },
          "metadata": {},
          "execution_count": 334
        }
      ]
    },
    {
      "cell_type": "markdown",
      "metadata": {
        "id": "OavP-lhdDbA_"
      },
      "source": [
        "* no. of equal length bins instead of specifying bin lengths (bin edges)\n",
        "* bin length is based on min and max values"
      ]
    },
    {
      "cell_type": "code",
      "metadata": {
        "id": "zgwwBsjLDZDA"
      },
      "source": [
        "var2 = np.random.rand(20)"
      ],
      "execution_count": null,
      "outputs": []
    },
    {
      "cell_type": "markdown",
      "metadata": {
        "id": "DxwytcXjD6uz"
      },
      "source": [
        "* e.g., 4 bins"
      ]
    },
    {
      "cell_type": "code",
      "metadata": {
        "colab": {
          "base_uri": "https://localhost:8080/"
        },
        "id": "_gXcwzgmDs1k",
        "outputId": "e9de037d-4f03-4ae9-c06e-3bc9b47bdf2b"
      },
      "source": [
        "pd.cut(var2,4,precision=2)"
      ],
      "execution_count": null,
      "outputs": [
        {
          "output_type": "execute_result",
          "data": {
            "text/plain": [
              "[(0.47, 0.7], (0.24, 0.47], (0.47, 0.7], (0.7, 0.93], (0.24, 0.47], ..., (0.0078, 0.24], (0.7, 0.93], (0.7, 0.93], (0.47, 0.7], (0.7, 0.93]]\n",
              "Length: 20\n",
              "Categories (4, interval[float64]): [(0.0078, 0.24] < (0.24, 0.47] < (0.47, 0.7] < (0.7, 0.93]]"
            ]
          },
          "metadata": {},
          "execution_count": 336
        }
      ]
    },
    {
      "cell_type": "markdown",
      "metadata": {
        "id": "ZPT6pqfFEQ-w"
      },
      "source": [
        "* bin length based on sample quantiles\n",
        "* roughly equal-length bins\n",
        "* using qcut function"
      ]
    },
    {
      "cell_type": "code",
      "metadata": {
        "colab": {
          "base_uri": "https://localhost:8080/"
        },
        "id": "H5Vhce7QEA92",
        "outputId": "0cce6c71-fd3e-497e-8614-dab167d35269"
      },
      "source": [
        "var_grps = pd.qcut(var2, 4)\n",
        "var_grps"
      ],
      "execution_count": null,
      "outputs": [
        {
          "output_type": "execute_result",
          "data": {
            "text/plain": [
              "[(0.594, 0.76], (0.357, 0.594], (0.594, 0.76], (0.76, 0.934], (0.00772, 0.357], ..., (0.00772, 0.357], (0.76, 0.934], (0.594, 0.76], (0.357, 0.594], (0.76, 0.934]]\n",
              "Length: 20\n",
              "Categories (4, interval[float64]): [(0.00772, 0.357] < (0.357, 0.594] < (0.594, 0.76] < (0.76, 0.934]]"
            ]
          },
          "metadata": {},
          "execution_count": 337
        }
      ]
    },
    {
      "cell_type": "markdown",
      "metadata": {
        "id": "Xtzqbzo9Ei9K"
      },
      "source": [
        "* frequencies for bins\n"
      ]
    },
    {
      "cell_type": "code",
      "metadata": {
        "colab": {
          "base_uri": "https://localhost:8080/"
        },
        "id": "Y9Nn8ZzwEhhY",
        "outputId": "3540a8b9-36d5-4ffd-fc26-116f27e12534"
      },
      "source": [
        "pd.value_counts(var_grps)"
      ],
      "execution_count": null,
      "outputs": [
        {
          "output_type": "execute_result",
          "data": {
            "text/plain": [
              "(0.76, 0.934]       5\n",
              "(0.594, 0.76]       5\n",
              "(0.357, 0.594]      5\n",
              "(0.00772, 0.357]    5\n",
              "dtype: int64"
            ]
          },
          "metadata": {},
          "execution_count": 338
        }
      ]
    },
    {
      "cell_type": "markdown",
      "metadata": {
        "id": "1MAWTDAHErwV"
      },
      "source": [
        "* specify quantiles"
      ]
    },
    {
      "cell_type": "code",
      "metadata": {
        "colab": {
          "base_uri": "https://localhost:8080/"
        },
        "id": "-GDvkv4kEqCA",
        "outputId": "b9db3c8d-77d4-418a-c9f1-11a84fee3715"
      },
      "source": [
        "pd.qcut(var2, [0, 0.25, 0.5, 0.75, 1])"
      ],
      "execution_count": null,
      "outputs": [
        {
          "output_type": "execute_result",
          "data": {
            "text/plain": [
              "[(0.594, 0.76], (0.357, 0.594], (0.594, 0.76], (0.76, 0.934], (0.00772, 0.357], ..., (0.00772, 0.357], (0.76, 0.934], (0.594, 0.76], (0.357, 0.594], (0.76, 0.934]]\n",
              "Length: 20\n",
              "Categories (4, interval[float64]): [(0.00772, 0.357] < (0.357, 0.594] < (0.594, 0.76] < (0.76, 0.934]]"
            ]
          },
          "metadata": {},
          "execution_count": 339
        }
      ]
    },
    {
      "cell_type": "markdown",
      "metadata": {
        "id": "0lgUqiVTE_Z1"
      },
      "source": [
        "* finding outliers\n",
        "* Example"
      ]
    },
    {
      "cell_type": "code",
      "metadata": {
        "id": "E-e-V0lnE-ha"
      },
      "source": [
        "df11 = pd.DataFrame(np.random.randn(1000, 4))"
      ],
      "execution_count": null,
      "outputs": []
    },
    {
      "cell_type": "code",
      "metadata": {
        "colab": {
          "base_uri": "https://localhost:8080/",
          "height": 295
        },
        "id": "2iXZkh2oFIXn",
        "outputId": "05abec5c-6abf-4b42-a1c0-ac722a3af98f"
      },
      "source": [
        "df11.describe()"
      ],
      "execution_count": null,
      "outputs": [
        {
          "output_type": "execute_result",
          "data": {
            "text/html": [
              "<div>\n",
              "<style scoped>\n",
              "    .dataframe tbody tr th:only-of-type {\n",
              "        vertical-align: middle;\n",
              "    }\n",
              "\n",
              "    .dataframe tbody tr th {\n",
              "        vertical-align: top;\n",
              "    }\n",
              "\n",
              "    .dataframe thead th {\n",
              "        text-align: right;\n",
              "    }\n",
              "</style>\n",
              "<table border=\"1\" class=\"dataframe\">\n",
              "  <thead>\n",
              "    <tr style=\"text-align: right;\">\n",
              "      <th></th>\n",
              "      <th>0</th>\n",
              "      <th>1</th>\n",
              "      <th>2</th>\n",
              "      <th>3</th>\n",
              "    </tr>\n",
              "  </thead>\n",
              "  <tbody>\n",
              "    <tr>\n",
              "      <th>count</th>\n",
              "      <td>1000.000000</td>\n",
              "      <td>1000.000000</td>\n",
              "      <td>1000.000000</td>\n",
              "      <td>1000.000000</td>\n",
              "    </tr>\n",
              "    <tr>\n",
              "      <th>mean</th>\n",
              "      <td>-0.009472</td>\n",
              "      <td>-0.007293</td>\n",
              "      <td>0.046525</td>\n",
              "      <td>0.007975</td>\n",
              "    </tr>\n",
              "    <tr>\n",
              "      <th>std</th>\n",
              "      <td>1.011275</td>\n",
              "      <td>1.004040</td>\n",
              "      <td>0.971456</td>\n",
              "      <td>1.033906</td>\n",
              "    </tr>\n",
              "    <tr>\n",
              "      <th>min</th>\n",
              "      <td>-3.193864</td>\n",
              "      <td>-3.259454</td>\n",
              "      <td>-2.662670</td>\n",
              "      <td>-3.284408</td>\n",
              "    </tr>\n",
              "    <tr>\n",
              "      <th>25%</th>\n",
              "      <td>-0.696665</td>\n",
              "      <td>-0.677883</td>\n",
              "      <td>-0.600010</td>\n",
              "      <td>-0.673295</td>\n",
              "    </tr>\n",
              "    <tr>\n",
              "      <th>50%</th>\n",
              "      <td>-0.051956</td>\n",
              "      <td>-0.054421</td>\n",
              "      <td>0.066068</td>\n",
              "      <td>0.022567</td>\n",
              "    </tr>\n",
              "    <tr>\n",
              "      <th>75%</th>\n",
              "      <td>0.677422</td>\n",
              "      <td>0.655890</td>\n",
              "      <td>0.749357</td>\n",
              "      <td>0.713240</td>\n",
              "    </tr>\n",
              "    <tr>\n",
              "      <th>max</th>\n",
              "      <td>3.247090</td>\n",
              "      <td>3.715691</td>\n",
              "      <td>2.903669</td>\n",
              "      <td>2.958483</td>\n",
              "    </tr>\n",
              "  </tbody>\n",
              "</table>\n",
              "</div>"
            ],
            "text/plain": [
              "                 0            1            2            3\n",
              "count  1000.000000  1000.000000  1000.000000  1000.000000\n",
              "mean     -0.009472    -0.007293     0.046525     0.007975\n",
              "std       1.011275     1.004040     0.971456     1.033906\n",
              "min      -3.193864    -3.259454    -2.662670    -3.284408\n",
              "25%      -0.696665    -0.677883    -0.600010    -0.673295\n",
              "50%      -0.051956    -0.054421     0.066068     0.022567\n",
              "75%       0.677422     0.655890     0.749357     0.713240\n",
              "max       3.247090     3.715691     2.903669     2.958483"
            ]
          },
          "metadata": {},
          "execution_count": 341
        }
      ]
    },
    {
      "cell_type": "markdown",
      "metadata": {
        "id": "0A5HEiBWFaYi"
      },
      "source": [
        "* find values exceeding 3 or -3 for a particular column\n",
        "* e.g, column 2(third)"
      ]
    },
    {
      "cell_type": "code",
      "metadata": {
        "colab": {
          "base_uri": "https://localhost:8080/"
        },
        "id": "EZwKiSvlFUtw",
        "outputId": "45b41d51-9a26-4d79-c10d-f25636bec2e8"
      },
      "source": [
        "df11[2][np.abs(df11[2])>3]"
      ],
      "execution_count": null,
      "outputs": [
        {
          "output_type": "execute_result",
          "data": {
            "text/plain": [
              "Series([], Name: 2, dtype: float64)"
            ]
          },
          "metadata": {},
          "execution_count": 342
        }
      ]
    },
    {
      "cell_type": "markdown",
      "metadata": {
        "id": "Ij9Sy5zaFqc0"
      },
      "source": [
        "* find rows with values exceeding 3 or -3 in any column"
      ]
    },
    {
      "cell_type": "code",
      "metadata": {
        "colab": {
          "base_uri": "https://localhost:8080/",
          "height": 388
        },
        "id": "6yN8Q8siFpTU",
        "outputId": "c8134e10-11ad-458d-dde5-3bc89981bbda"
      },
      "source": [
        "df11[(np.abs(df11)>3).any(1)]"
      ],
      "execution_count": null,
      "outputs": [
        {
          "output_type": "execute_result",
          "data": {
            "text/html": [
              "<div>\n",
              "<style scoped>\n",
              "    .dataframe tbody tr th:only-of-type {\n",
              "        vertical-align: middle;\n",
              "    }\n",
              "\n",
              "    .dataframe tbody tr th {\n",
              "        vertical-align: top;\n",
              "    }\n",
              "\n",
              "    .dataframe thead th {\n",
              "        text-align: right;\n",
              "    }\n",
              "</style>\n",
              "<table border=\"1\" class=\"dataframe\">\n",
              "  <thead>\n",
              "    <tr style=\"text-align: right;\">\n",
              "      <th></th>\n",
              "      <th>0</th>\n",
              "      <th>1</th>\n",
              "      <th>2</th>\n",
              "      <th>3</th>\n",
              "    </tr>\n",
              "  </thead>\n",
              "  <tbody>\n",
              "    <tr>\n",
              "      <th>28</th>\n",
              "      <td>3.247090</td>\n",
              "      <td>-0.380408</td>\n",
              "      <td>-0.241974</td>\n",
              "      <td>-1.370473</td>\n",
              "    </tr>\n",
              "    <tr>\n",
              "      <th>265</th>\n",
              "      <td>-0.348675</td>\n",
              "      <td>0.041079</td>\n",
              "      <td>-0.512638</td>\n",
              "      <td>-3.284408</td>\n",
              "    </tr>\n",
              "    <tr>\n",
              "      <th>326</th>\n",
              "      <td>-0.257331</td>\n",
              "      <td>3.331684</td>\n",
              "      <td>-0.241427</td>\n",
              "      <td>-0.354472</td>\n",
              "    </tr>\n",
              "    <tr>\n",
              "      <th>392</th>\n",
              "      <td>-3.021663</td>\n",
              "      <td>-0.208770</td>\n",
              "      <td>-0.456779</td>\n",
              "      <td>0.136490</td>\n",
              "    </tr>\n",
              "    <tr>\n",
              "      <th>398</th>\n",
              "      <td>0.388423</td>\n",
              "      <td>0.656075</td>\n",
              "      <td>-1.606351</td>\n",
              "      <td>-3.113939</td>\n",
              "    </tr>\n",
              "    <tr>\n",
              "      <th>401</th>\n",
              "      <td>-0.318283</td>\n",
              "      <td>-3.259454</td>\n",
              "      <td>-0.463352</td>\n",
              "      <td>-0.676431</td>\n",
              "    </tr>\n",
              "    <tr>\n",
              "      <th>451</th>\n",
              "      <td>3.145177</td>\n",
              "      <td>-0.497985</td>\n",
              "      <td>-0.602094</td>\n",
              "      <td>-0.539025</td>\n",
              "    </tr>\n",
              "    <tr>\n",
              "      <th>467</th>\n",
              "      <td>-3.002805</td>\n",
              "      <td>-0.515872</td>\n",
              "      <td>0.932258</td>\n",
              "      <td>0.714080</td>\n",
              "    </tr>\n",
              "    <tr>\n",
              "      <th>471</th>\n",
              "      <td>-0.032261</td>\n",
              "      <td>3.625040</td>\n",
              "      <td>-0.704191</td>\n",
              "      <td>-0.041869</td>\n",
              "    </tr>\n",
              "    <tr>\n",
              "      <th>680</th>\n",
              "      <td>1.287694</td>\n",
              "      <td>3.715691</td>\n",
              "      <td>1.000786</td>\n",
              "      <td>1.043221</td>\n",
              "    </tr>\n",
              "    <tr>\n",
              "      <th>821</th>\n",
              "      <td>-3.193864</td>\n",
              "      <td>0.592739</td>\n",
              "      <td>0.096101</td>\n",
              "      <td>0.500393</td>\n",
              "    </tr>\n",
              "  </tbody>\n",
              "</table>\n",
              "</div>"
            ],
            "text/plain": [
              "            0         1         2         3\n",
              "28   3.247090 -0.380408 -0.241974 -1.370473\n",
              "265 -0.348675  0.041079 -0.512638 -3.284408\n",
              "326 -0.257331  3.331684 -0.241427 -0.354472\n",
              "392 -3.021663 -0.208770 -0.456779  0.136490\n",
              "398  0.388423  0.656075 -1.606351 -3.113939\n",
              "401 -0.318283 -3.259454 -0.463352 -0.676431\n",
              "451  3.145177 -0.497985 -0.602094 -0.539025\n",
              "467 -3.002805 -0.515872  0.932258  0.714080\n",
              "471 -0.032261  3.625040 -0.704191 -0.041869\n",
              "680  1.287694  3.715691  1.000786  1.043221\n",
              "821 -3.193864  0.592739  0.096101  0.500393"
            ]
          },
          "metadata": {},
          "execution_count": 343
        }
      ]
    },
    {
      "cell_type": "markdown",
      "metadata": {
        "id": "3EE1qNOsGJpC"
      },
      "source": [
        "* modifying values outside a given range\n",
        "* e.g., replace values outside the range -3 to 3 as -3 or 3\n",
        "* use sign function to record the sign of values (1 or -1)"
      ]
    },
    {
      "cell_type": "code",
      "metadata": {
        "id": "AOJhmm9gF309"
      },
      "source": [
        "df11[(np.abs(df11)>3)] = np.sign(df11)*3"
      ],
      "execution_count": null,
      "outputs": []
    },
    {
      "cell_type": "code",
      "metadata": {
        "colab": {
          "base_uri": "https://localhost:8080/",
          "height": 295
        },
        "id": "uZAxm9eFGiwC",
        "outputId": "1900ce35-904c-4510-88c7-6e1a833c7133"
      },
      "source": [
        "df11.describe()"
      ],
      "execution_count": null,
      "outputs": [
        {
          "output_type": "execute_result",
          "data": {
            "text/html": [
              "<div>\n",
              "<style scoped>\n",
              "    .dataframe tbody tr th:only-of-type {\n",
              "        vertical-align: middle;\n",
              "    }\n",
              "\n",
              "    .dataframe tbody tr th {\n",
              "        vertical-align: top;\n",
              "    }\n",
              "\n",
              "    .dataframe thead th {\n",
              "        text-align: right;\n",
              "    }\n",
              "</style>\n",
              "<table border=\"1\" class=\"dataframe\">\n",
              "  <thead>\n",
              "    <tr style=\"text-align: right;\">\n",
              "      <th></th>\n",
              "      <th>0</th>\n",
              "      <th>1</th>\n",
              "      <th>2</th>\n",
              "      <th>3</th>\n",
              "    </tr>\n",
              "  </thead>\n",
              "  <tbody>\n",
              "    <tr>\n",
              "      <th>count</th>\n",
              "      <td>1000.000000</td>\n",
              "      <td>1000.000000</td>\n",
              "      <td>1000.000000</td>\n",
              "      <td>1000.000000</td>\n",
              "    </tr>\n",
              "    <tr>\n",
              "      <th>mean</th>\n",
              "      <td>-0.009646</td>\n",
              "      <td>-0.008706</td>\n",
              "      <td>0.046525</td>\n",
              "      <td>0.008373</td>\n",
              "    </tr>\n",
              "    <tr>\n",
              "      <th>std</th>\n",
              "      <td>1.009398</td>\n",
              "      <td>0.997692</td>\n",
              "      <td>0.971456</td>\n",
              "      <td>1.032700</td>\n",
              "    </tr>\n",
              "    <tr>\n",
              "      <th>min</th>\n",
              "      <td>-3.000000</td>\n",
              "      <td>-3.000000</td>\n",
              "      <td>-2.662670</td>\n",
              "      <td>-3.000000</td>\n",
              "    </tr>\n",
              "    <tr>\n",
              "      <th>25%</th>\n",
              "      <td>-0.696665</td>\n",
              "      <td>-0.677883</td>\n",
              "      <td>-0.600010</td>\n",
              "      <td>-0.673295</td>\n",
              "    </tr>\n",
              "    <tr>\n",
              "      <th>50%</th>\n",
              "      <td>-0.051956</td>\n",
              "      <td>-0.054421</td>\n",
              "      <td>0.066068</td>\n",
              "      <td>0.022567</td>\n",
              "    </tr>\n",
              "    <tr>\n",
              "      <th>75%</th>\n",
              "      <td>0.677422</td>\n",
              "      <td>0.655890</td>\n",
              "      <td>0.749357</td>\n",
              "      <td>0.713240</td>\n",
              "    </tr>\n",
              "    <tr>\n",
              "      <th>max</th>\n",
              "      <td>3.000000</td>\n",
              "      <td>3.000000</td>\n",
              "      <td>2.903669</td>\n",
              "      <td>2.958483</td>\n",
              "    </tr>\n",
              "  </tbody>\n",
              "</table>\n",
              "</div>"
            ],
            "text/plain": [
              "                 0            1            2            3\n",
              "count  1000.000000  1000.000000  1000.000000  1000.000000\n",
              "mean     -0.009646    -0.008706     0.046525     0.008373\n",
              "std       1.009398     0.997692     0.971456     1.032700\n",
              "min      -3.000000    -3.000000    -2.662670    -3.000000\n",
              "25%      -0.696665    -0.677883    -0.600010    -0.673295\n",
              "50%      -0.051956    -0.054421     0.066068     0.022567\n",
              "75%       0.677422     0.655890     0.749357     0.713240\n",
              "max       3.000000     3.000000     2.903669     2.958483"
            ]
          },
          "metadata": {},
          "execution_count": 345
        }
      ]
    },
    {
      "cell_type": "markdown",
      "metadata": {
        "id": "AxpbkmxpGzTz"
      },
      "source": [
        "* random sampling and random reordering of rows \n",
        "* Example:\n"
      ]
    },
    {
      "cell_type": "code",
      "metadata": {
        "colab": {
          "base_uri": "https://localhost:8080/",
          "height": 417
        },
        "id": "a8z6musiGlit",
        "outputId": "4cc5fc11-a903-46f8-fc7f-ed4588d74672"
      },
      "source": [
        "df12 = pd.DataFrame(np.arange(5000*4).reshape((5000,4)))\n",
        "df12"
      ],
      "execution_count": null,
      "outputs": [
        {
          "output_type": "execute_result",
          "data": {
            "text/html": [
              "<div>\n",
              "<style scoped>\n",
              "    .dataframe tbody tr th:only-of-type {\n",
              "        vertical-align: middle;\n",
              "    }\n",
              "\n",
              "    .dataframe tbody tr th {\n",
              "        vertical-align: top;\n",
              "    }\n",
              "\n",
              "    .dataframe thead th {\n",
              "        text-align: right;\n",
              "    }\n",
              "</style>\n",
              "<table border=\"1\" class=\"dataframe\">\n",
              "  <thead>\n",
              "    <tr style=\"text-align: right;\">\n",
              "      <th></th>\n",
              "      <th>0</th>\n",
              "      <th>1</th>\n",
              "      <th>2</th>\n",
              "      <th>3</th>\n",
              "    </tr>\n",
              "  </thead>\n",
              "  <tbody>\n",
              "    <tr>\n",
              "      <th>0</th>\n",
              "      <td>0</td>\n",
              "      <td>1</td>\n",
              "      <td>2</td>\n",
              "      <td>3</td>\n",
              "    </tr>\n",
              "    <tr>\n",
              "      <th>1</th>\n",
              "      <td>4</td>\n",
              "      <td>5</td>\n",
              "      <td>6</td>\n",
              "      <td>7</td>\n",
              "    </tr>\n",
              "    <tr>\n",
              "      <th>2</th>\n",
              "      <td>8</td>\n",
              "      <td>9</td>\n",
              "      <td>10</td>\n",
              "      <td>11</td>\n",
              "    </tr>\n",
              "    <tr>\n",
              "      <th>3</th>\n",
              "      <td>12</td>\n",
              "      <td>13</td>\n",
              "      <td>14</td>\n",
              "      <td>15</td>\n",
              "    </tr>\n",
              "    <tr>\n",
              "      <th>4</th>\n",
              "      <td>16</td>\n",
              "      <td>17</td>\n",
              "      <td>18</td>\n",
              "      <td>19</td>\n",
              "    </tr>\n",
              "    <tr>\n",
              "      <th>...</th>\n",
              "      <td>...</td>\n",
              "      <td>...</td>\n",
              "      <td>...</td>\n",
              "      <td>...</td>\n",
              "    </tr>\n",
              "    <tr>\n",
              "      <th>4995</th>\n",
              "      <td>19980</td>\n",
              "      <td>19981</td>\n",
              "      <td>19982</td>\n",
              "      <td>19983</td>\n",
              "    </tr>\n",
              "    <tr>\n",
              "      <th>4996</th>\n",
              "      <td>19984</td>\n",
              "      <td>19985</td>\n",
              "      <td>19986</td>\n",
              "      <td>19987</td>\n",
              "    </tr>\n",
              "    <tr>\n",
              "      <th>4997</th>\n",
              "      <td>19988</td>\n",
              "      <td>19989</td>\n",
              "      <td>19990</td>\n",
              "      <td>19991</td>\n",
              "    </tr>\n",
              "    <tr>\n",
              "      <th>4998</th>\n",
              "      <td>19992</td>\n",
              "      <td>19993</td>\n",
              "      <td>19994</td>\n",
              "      <td>19995</td>\n",
              "    </tr>\n",
              "    <tr>\n",
              "      <th>4999</th>\n",
              "      <td>19996</td>\n",
              "      <td>19997</td>\n",
              "      <td>19998</td>\n",
              "      <td>19999</td>\n",
              "    </tr>\n",
              "  </tbody>\n",
              "</table>\n",
              "<p>5000 rows × 4 columns</p>\n",
              "</div>"
            ],
            "text/plain": [
              "          0      1      2      3\n",
              "0         0      1      2      3\n",
              "1         4      5      6      7\n",
              "2         8      9     10     11\n",
              "3        12     13     14     15\n",
              "4        16     17     18     19\n",
              "...     ...    ...    ...    ...\n",
              "4995  19980  19981  19982  19983\n",
              "4996  19984  19985  19986  19987\n",
              "4997  19988  19989  19990  19991\n",
              "4998  19992  19993  19994  19995\n",
              "4999  19996  19997  19998  19999\n",
              "\n",
              "[5000 rows x 4 columns]"
            ]
          },
          "metadata": {},
          "execution_count": 346
        }
      ]
    },
    {
      "cell_type": "markdown",
      "metadata": {
        "id": "iF8gNeErHJwL"
      },
      "source": [
        "* to randomly sample n rows without replacement\n",
        "* using sample method\n",
        "* e.g., 500 rows"
      ]
    },
    {
      "cell_type": "code",
      "metadata": {
        "colab": {
          "base_uri": "https://localhost:8080/",
          "height": 417
        },
        "id": "vvBlkasfHCM3",
        "outputId": "3cebefce-b7b2-4048-8653-75a23625b7ea"
      },
      "source": [
        "df12.sample(n=500)"
      ],
      "execution_count": null,
      "outputs": [
        {
          "output_type": "execute_result",
          "data": {
            "text/html": [
              "<div>\n",
              "<style scoped>\n",
              "    .dataframe tbody tr th:only-of-type {\n",
              "        vertical-align: middle;\n",
              "    }\n",
              "\n",
              "    .dataframe tbody tr th {\n",
              "        vertical-align: top;\n",
              "    }\n",
              "\n",
              "    .dataframe thead th {\n",
              "        text-align: right;\n",
              "    }\n",
              "</style>\n",
              "<table border=\"1\" class=\"dataframe\">\n",
              "  <thead>\n",
              "    <tr style=\"text-align: right;\">\n",
              "      <th></th>\n",
              "      <th>0</th>\n",
              "      <th>1</th>\n",
              "      <th>2</th>\n",
              "      <th>3</th>\n",
              "    </tr>\n",
              "  </thead>\n",
              "  <tbody>\n",
              "    <tr>\n",
              "      <th>27</th>\n",
              "      <td>108</td>\n",
              "      <td>109</td>\n",
              "      <td>110</td>\n",
              "      <td>111</td>\n",
              "    </tr>\n",
              "    <tr>\n",
              "      <th>994</th>\n",
              "      <td>3976</td>\n",
              "      <td>3977</td>\n",
              "      <td>3978</td>\n",
              "      <td>3979</td>\n",
              "    </tr>\n",
              "    <tr>\n",
              "      <th>2660</th>\n",
              "      <td>10640</td>\n",
              "      <td>10641</td>\n",
              "      <td>10642</td>\n",
              "      <td>10643</td>\n",
              "    </tr>\n",
              "    <tr>\n",
              "      <th>277</th>\n",
              "      <td>1108</td>\n",
              "      <td>1109</td>\n",
              "      <td>1110</td>\n",
              "      <td>1111</td>\n",
              "    </tr>\n",
              "    <tr>\n",
              "      <th>4431</th>\n",
              "      <td>17724</td>\n",
              "      <td>17725</td>\n",
              "      <td>17726</td>\n",
              "      <td>17727</td>\n",
              "    </tr>\n",
              "    <tr>\n",
              "      <th>...</th>\n",
              "      <td>...</td>\n",
              "      <td>...</td>\n",
              "      <td>...</td>\n",
              "      <td>...</td>\n",
              "    </tr>\n",
              "    <tr>\n",
              "      <th>4990</th>\n",
              "      <td>19960</td>\n",
              "      <td>19961</td>\n",
              "      <td>19962</td>\n",
              "      <td>19963</td>\n",
              "    </tr>\n",
              "    <tr>\n",
              "      <th>4476</th>\n",
              "      <td>17904</td>\n",
              "      <td>17905</td>\n",
              "      <td>17906</td>\n",
              "      <td>17907</td>\n",
              "    </tr>\n",
              "    <tr>\n",
              "      <th>279</th>\n",
              "      <td>1116</td>\n",
              "      <td>1117</td>\n",
              "      <td>1118</td>\n",
              "      <td>1119</td>\n",
              "    </tr>\n",
              "    <tr>\n",
              "      <th>861</th>\n",
              "      <td>3444</td>\n",
              "      <td>3445</td>\n",
              "      <td>3446</td>\n",
              "      <td>3447</td>\n",
              "    </tr>\n",
              "    <tr>\n",
              "      <th>3628</th>\n",
              "      <td>14512</td>\n",
              "      <td>14513</td>\n",
              "      <td>14514</td>\n",
              "      <td>14515</td>\n",
              "    </tr>\n",
              "  </tbody>\n",
              "</table>\n",
              "<p>500 rows × 4 columns</p>\n",
              "</div>"
            ],
            "text/plain": [
              "          0      1      2      3\n",
              "27      108    109    110    111\n",
              "994    3976   3977   3978   3979\n",
              "2660  10640  10641  10642  10643\n",
              "277    1108   1109   1110   1111\n",
              "4431  17724  17725  17726  17727\n",
              "...     ...    ...    ...    ...\n",
              "4990  19960  19961  19962  19963\n",
              "4476  17904  17905  17906  17907\n",
              "279    1116   1117   1118   1119\n",
              "861    3444   3445   3446   3447\n",
              "3628  14512  14513  14514  14515\n",
              "\n",
              "[500 rows x 4 columns]"
            ]
          },
          "metadata": {},
          "execution_count": 347
        }
      ]
    },
    {
      "cell_type": "markdown",
      "metadata": {
        "id": "FyhdNi_ZHcUc"
      },
      "source": [
        "* with replacement\n",
        "* using replace argument\n"
      ]
    },
    {
      "cell_type": "code",
      "metadata": {
        "colab": {
          "base_uri": "https://localhost:8080/",
          "height": 417
        },
        "id": "at16_ib7HVwO",
        "outputId": "652c2e6c-2670-43d8-cb17-b4533091104c"
      },
      "source": [
        "df12.sample(n = 500, replace=True)"
      ],
      "execution_count": null,
      "outputs": [
        {
          "output_type": "execute_result",
          "data": {
            "text/html": [
              "<div>\n",
              "<style scoped>\n",
              "    .dataframe tbody tr th:only-of-type {\n",
              "        vertical-align: middle;\n",
              "    }\n",
              "\n",
              "    .dataframe tbody tr th {\n",
              "        vertical-align: top;\n",
              "    }\n",
              "\n",
              "    .dataframe thead th {\n",
              "        text-align: right;\n",
              "    }\n",
              "</style>\n",
              "<table border=\"1\" class=\"dataframe\">\n",
              "  <thead>\n",
              "    <tr style=\"text-align: right;\">\n",
              "      <th></th>\n",
              "      <th>0</th>\n",
              "      <th>1</th>\n",
              "      <th>2</th>\n",
              "      <th>3</th>\n",
              "    </tr>\n",
              "  </thead>\n",
              "  <tbody>\n",
              "    <tr>\n",
              "      <th>4230</th>\n",
              "      <td>16920</td>\n",
              "      <td>16921</td>\n",
              "      <td>16922</td>\n",
              "      <td>16923</td>\n",
              "    </tr>\n",
              "    <tr>\n",
              "      <th>4059</th>\n",
              "      <td>16236</td>\n",
              "      <td>16237</td>\n",
              "      <td>16238</td>\n",
              "      <td>16239</td>\n",
              "    </tr>\n",
              "    <tr>\n",
              "      <th>3013</th>\n",
              "      <td>12052</td>\n",
              "      <td>12053</td>\n",
              "      <td>12054</td>\n",
              "      <td>12055</td>\n",
              "    </tr>\n",
              "    <tr>\n",
              "      <th>2388</th>\n",
              "      <td>9552</td>\n",
              "      <td>9553</td>\n",
              "      <td>9554</td>\n",
              "      <td>9555</td>\n",
              "    </tr>\n",
              "    <tr>\n",
              "      <th>1449</th>\n",
              "      <td>5796</td>\n",
              "      <td>5797</td>\n",
              "      <td>5798</td>\n",
              "      <td>5799</td>\n",
              "    </tr>\n",
              "    <tr>\n",
              "      <th>...</th>\n",
              "      <td>...</td>\n",
              "      <td>...</td>\n",
              "      <td>...</td>\n",
              "      <td>...</td>\n",
              "    </tr>\n",
              "    <tr>\n",
              "      <th>3886</th>\n",
              "      <td>15544</td>\n",
              "      <td>15545</td>\n",
              "      <td>15546</td>\n",
              "      <td>15547</td>\n",
              "    </tr>\n",
              "    <tr>\n",
              "      <th>4018</th>\n",
              "      <td>16072</td>\n",
              "      <td>16073</td>\n",
              "      <td>16074</td>\n",
              "      <td>16075</td>\n",
              "    </tr>\n",
              "    <tr>\n",
              "      <th>3417</th>\n",
              "      <td>13668</td>\n",
              "      <td>13669</td>\n",
              "      <td>13670</td>\n",
              "      <td>13671</td>\n",
              "    </tr>\n",
              "    <tr>\n",
              "      <th>697</th>\n",
              "      <td>2788</td>\n",
              "      <td>2789</td>\n",
              "      <td>2790</td>\n",
              "      <td>2791</td>\n",
              "    </tr>\n",
              "    <tr>\n",
              "      <th>926</th>\n",
              "      <td>3704</td>\n",
              "      <td>3705</td>\n",
              "      <td>3706</td>\n",
              "      <td>3707</td>\n",
              "    </tr>\n",
              "  </tbody>\n",
              "</table>\n",
              "<p>500 rows × 4 columns</p>\n",
              "</div>"
            ],
            "text/plain": [
              "          0      1      2      3\n",
              "4230  16920  16921  16922  16923\n",
              "4059  16236  16237  16238  16239\n",
              "3013  12052  12053  12054  12055\n",
              "2388   9552   9553   9554   9555\n",
              "1449   5796   5797   5798   5799\n",
              "...     ...    ...    ...    ...\n",
              "3886  15544  15545  15546  15547\n",
              "4018  16072  16073  16074  16075\n",
              "3417  13668  13669  13670  13671\n",
              "697    2788   2789   2790   2791\n",
              "926    3704   3705   3706   3707\n",
              "\n",
              "[500 rows x 4 columns]"
            ]
          },
          "metadata": {},
          "execution_count": 348
        }
      ]
    },
    {
      "cell_type": "markdown",
      "metadata": {
        "id": "CrH27h0AHqiH"
      },
      "source": [
        "* random reordering of row indices\n",
        "* using permutation function"
      ]
    },
    {
      "cell_type": "code",
      "metadata": {
        "id": "NyV_wX5lHnUV"
      },
      "source": [
        "df13 = pd.DataFrame(np.arange(5*4).reshape((5,4)))"
      ],
      "execution_count": null,
      "outputs": []
    },
    {
      "cell_type": "code",
      "metadata": {
        "colab": {
          "base_uri": "https://localhost:8080/",
          "height": 203
        },
        "id": "u4JyWSyRH7Oa",
        "outputId": "04b1c3f1-e911-42fc-da8f-3f8a2f8f59a9"
      },
      "source": [
        "df13"
      ],
      "execution_count": null,
      "outputs": [
        {
          "output_type": "execute_result",
          "data": {
            "text/html": [
              "<div>\n",
              "<style scoped>\n",
              "    .dataframe tbody tr th:only-of-type {\n",
              "        vertical-align: middle;\n",
              "    }\n",
              "\n",
              "    .dataframe tbody tr th {\n",
              "        vertical-align: top;\n",
              "    }\n",
              "\n",
              "    .dataframe thead th {\n",
              "        text-align: right;\n",
              "    }\n",
              "</style>\n",
              "<table border=\"1\" class=\"dataframe\">\n",
              "  <thead>\n",
              "    <tr style=\"text-align: right;\">\n",
              "      <th></th>\n",
              "      <th>0</th>\n",
              "      <th>1</th>\n",
              "      <th>2</th>\n",
              "      <th>3</th>\n",
              "    </tr>\n",
              "  </thead>\n",
              "  <tbody>\n",
              "    <tr>\n",
              "      <th>0</th>\n",
              "      <td>0</td>\n",
              "      <td>1</td>\n",
              "      <td>2</td>\n",
              "      <td>3</td>\n",
              "    </tr>\n",
              "    <tr>\n",
              "      <th>1</th>\n",
              "      <td>4</td>\n",
              "      <td>5</td>\n",
              "      <td>6</td>\n",
              "      <td>7</td>\n",
              "    </tr>\n",
              "    <tr>\n",
              "      <th>2</th>\n",
              "      <td>8</td>\n",
              "      <td>9</td>\n",
              "      <td>10</td>\n",
              "      <td>11</td>\n",
              "    </tr>\n",
              "    <tr>\n",
              "      <th>3</th>\n",
              "      <td>12</td>\n",
              "      <td>13</td>\n",
              "      <td>14</td>\n",
              "      <td>15</td>\n",
              "    </tr>\n",
              "    <tr>\n",
              "      <th>4</th>\n",
              "      <td>16</td>\n",
              "      <td>17</td>\n",
              "      <td>18</td>\n",
              "      <td>19</td>\n",
              "    </tr>\n",
              "  </tbody>\n",
              "</table>\n",
              "</div>"
            ],
            "text/plain": [
              "    0   1   2   3\n",
              "0   0   1   2   3\n",
              "1   4   5   6   7\n",
              "2   8   9  10  11\n",
              "3  12  13  14  15\n",
              "4  16  17  18  19"
            ]
          },
          "metadata": {},
          "execution_count": 350
        }
      ]
    },
    {
      "cell_type": "markdown",
      "metadata": {
        "id": "1l5gt0zDH9dE"
      },
      "source": [
        "* output indicates the new order drawn randomly\n"
      ]
    },
    {
      "cell_type": "code",
      "metadata": {
        "colab": {
          "base_uri": "https://localhost:8080/"
        },
        "id": "ADH-JUzVH8QK",
        "outputId": "366faa35-6739-41d5-bb24-db91dd292c1d"
      },
      "source": [
        "permut = np.random.permutation(5)\n",
        "permut"
      ],
      "execution_count": null,
      "outputs": [
        {
          "output_type": "execute_result",
          "data": {
            "text/plain": [
              "array([1, 0, 4, 3, 2])"
            ]
          },
          "metadata": {},
          "execution_count": 351
        }
      ]
    },
    {
      "cell_type": "markdown",
      "metadata": {
        "id": "Iy1MxmcAIQDv"
      },
      "source": [
        "* reindexing using reindex method"
      ]
    },
    {
      "cell_type": "code",
      "metadata": {
        "colab": {
          "base_uri": "https://localhost:8080/",
          "height": 203
        },
        "id": "7vUZ9Fv0IL_E",
        "outputId": "aafb1e92-132c-4e8d-a46f-8c8dd0c19ca3"
      },
      "source": [
        "df13.reindex(permut)"
      ],
      "execution_count": null,
      "outputs": [
        {
          "output_type": "execute_result",
          "data": {
            "text/html": [
              "<div>\n",
              "<style scoped>\n",
              "    .dataframe tbody tr th:only-of-type {\n",
              "        vertical-align: middle;\n",
              "    }\n",
              "\n",
              "    .dataframe tbody tr th {\n",
              "        vertical-align: top;\n",
              "    }\n",
              "\n",
              "    .dataframe thead th {\n",
              "        text-align: right;\n",
              "    }\n",
              "</style>\n",
              "<table border=\"1\" class=\"dataframe\">\n",
              "  <thead>\n",
              "    <tr style=\"text-align: right;\">\n",
              "      <th></th>\n",
              "      <th>0</th>\n",
              "      <th>1</th>\n",
              "      <th>2</th>\n",
              "      <th>3</th>\n",
              "    </tr>\n",
              "  </thead>\n",
              "  <tbody>\n",
              "    <tr>\n",
              "      <th>1</th>\n",
              "      <td>4</td>\n",
              "      <td>5</td>\n",
              "      <td>6</td>\n",
              "      <td>7</td>\n",
              "    </tr>\n",
              "    <tr>\n",
              "      <th>0</th>\n",
              "      <td>0</td>\n",
              "      <td>1</td>\n",
              "      <td>2</td>\n",
              "      <td>3</td>\n",
              "    </tr>\n",
              "    <tr>\n",
              "      <th>4</th>\n",
              "      <td>16</td>\n",
              "      <td>17</td>\n",
              "      <td>18</td>\n",
              "      <td>19</td>\n",
              "    </tr>\n",
              "    <tr>\n",
              "      <th>3</th>\n",
              "      <td>12</td>\n",
              "      <td>13</td>\n",
              "      <td>14</td>\n",
              "      <td>15</td>\n",
              "    </tr>\n",
              "    <tr>\n",
              "      <th>2</th>\n",
              "      <td>8</td>\n",
              "      <td>9</td>\n",
              "      <td>10</td>\n",
              "      <td>11</td>\n",
              "    </tr>\n",
              "  </tbody>\n",
              "</table>\n",
              "</div>"
            ],
            "text/plain": [
              "    0   1   2   3\n",
              "1   4   5   6   7\n",
              "0   0   1   2   3\n",
              "4  16  17  18  19\n",
              "3  12  13  14  15\n",
              "2   8   9  10  11"
            ]
          },
          "metadata": {},
          "execution_count": 352
        }
      ]
    },
    {
      "cell_type": "markdown",
      "metadata": {
        "id": "1p5Bee33IYdt"
      },
      "source": [
        "* reindexing using take method"
      ]
    },
    {
      "cell_type": "code",
      "metadata": {
        "colab": {
          "base_uri": "https://localhost:8080/",
          "height": 203
        },
        "id": "fM2S8_bGIWqc",
        "outputId": "99c1e864-355d-4756-9048-f60b4f1516a7"
      },
      "source": [
        "df13.take(permut)"
      ],
      "execution_count": null,
      "outputs": [
        {
          "output_type": "execute_result",
          "data": {
            "text/html": [
              "<div>\n",
              "<style scoped>\n",
              "    .dataframe tbody tr th:only-of-type {\n",
              "        vertical-align: middle;\n",
              "    }\n",
              "\n",
              "    .dataframe tbody tr th {\n",
              "        vertical-align: top;\n",
              "    }\n",
              "\n",
              "    .dataframe thead th {\n",
              "        text-align: right;\n",
              "    }\n",
              "</style>\n",
              "<table border=\"1\" class=\"dataframe\">\n",
              "  <thead>\n",
              "    <tr style=\"text-align: right;\">\n",
              "      <th></th>\n",
              "      <th>0</th>\n",
              "      <th>1</th>\n",
              "      <th>2</th>\n",
              "      <th>3</th>\n",
              "    </tr>\n",
              "  </thead>\n",
              "  <tbody>\n",
              "    <tr>\n",
              "      <th>1</th>\n",
              "      <td>4</td>\n",
              "      <td>5</td>\n",
              "      <td>6</td>\n",
              "      <td>7</td>\n",
              "    </tr>\n",
              "    <tr>\n",
              "      <th>0</th>\n",
              "      <td>0</td>\n",
              "      <td>1</td>\n",
              "      <td>2</td>\n",
              "      <td>3</td>\n",
              "    </tr>\n",
              "    <tr>\n",
              "      <th>4</th>\n",
              "      <td>16</td>\n",
              "      <td>17</td>\n",
              "      <td>18</td>\n",
              "      <td>19</td>\n",
              "    </tr>\n",
              "    <tr>\n",
              "      <th>3</th>\n",
              "      <td>12</td>\n",
              "      <td>13</td>\n",
              "      <td>14</td>\n",
              "      <td>15</td>\n",
              "    </tr>\n",
              "    <tr>\n",
              "      <th>2</th>\n",
              "      <td>8</td>\n",
              "      <td>9</td>\n",
              "      <td>10</td>\n",
              "      <td>11</td>\n",
              "    </tr>\n",
              "  </tbody>\n",
              "</table>\n",
              "</div>"
            ],
            "text/plain": [
              "    0   1   2   3\n",
              "1   4   5   6   7\n",
              "0   0   1   2   3\n",
              "4  16  17  18  19\n",
              "3  12  13  14  15\n",
              "2   8   9  10  11"
            ]
          },
          "metadata": {},
          "execution_count": 353
        }
      ]
    },
    {
      "cell_type": "markdown",
      "metadata": {
        "id": "odjEVK4zIgdd"
      },
      "source": [
        "* dummy variable\n",
        "* converting categorical variables into dummy variables\n",
        "* dummy variables are filled with 1s (prsence of the category in a row or case)\n",
        "* and 0s (absence of the category in a row or case)\n",
        "* Let's take a categorical variable with k distinct values (categories)"
      ]
    },
    {
      "cell_type": "code",
      "metadata": {
        "colab": {
          "base_uri": "https://localhost:8080/",
          "height": 234
        },
        "id": "RLlW3b4hIfUh",
        "outputId": "71fc2fd3-fb5a-41a3-cbd3-bdf44e11efd1"
      },
      "source": [
        "df14 = pd.DataFrame({'var':['b','b','a','c','a','b']})\n",
        "df14"
      ],
      "execution_count": null,
      "outputs": [
        {
          "output_type": "execute_result",
          "data": {
            "text/html": [
              "<div>\n",
              "<style scoped>\n",
              "    .dataframe tbody tr th:only-of-type {\n",
              "        vertical-align: middle;\n",
              "    }\n",
              "\n",
              "    .dataframe tbody tr th {\n",
              "        vertical-align: top;\n",
              "    }\n",
              "\n",
              "    .dataframe thead th {\n",
              "        text-align: right;\n",
              "    }\n",
              "</style>\n",
              "<table border=\"1\" class=\"dataframe\">\n",
              "  <thead>\n",
              "    <tr style=\"text-align: right;\">\n",
              "      <th></th>\n",
              "      <th>var</th>\n",
              "    </tr>\n",
              "  </thead>\n",
              "  <tbody>\n",
              "    <tr>\n",
              "      <th>0</th>\n",
              "      <td>b</td>\n",
              "    </tr>\n",
              "    <tr>\n",
              "      <th>1</th>\n",
              "      <td>b</td>\n",
              "    </tr>\n",
              "    <tr>\n",
              "      <th>2</th>\n",
              "      <td>a</td>\n",
              "    </tr>\n",
              "    <tr>\n",
              "      <th>3</th>\n",
              "      <td>c</td>\n",
              "    </tr>\n",
              "    <tr>\n",
              "      <th>4</th>\n",
              "      <td>a</td>\n",
              "    </tr>\n",
              "    <tr>\n",
              "      <th>5</th>\n",
              "      <td>b</td>\n",
              "    </tr>\n",
              "  </tbody>\n",
              "</table>\n",
              "</div>"
            ],
            "text/plain": [
              "  var\n",
              "0   b\n",
              "1   b\n",
              "2   a\n",
              "3   c\n",
              "4   a\n",
              "5   b"
            ]
          },
          "metadata": {},
          "execution_count": 354
        }
      ]
    },
    {
      "cell_type": "markdown",
      "metadata": {
        "id": "is8LsnPhJUIH"
      },
      "source": [
        "* using get_dummies function\n",
        "* e.g., var has 3 distinct values: 'a', 'b','c'"
      ]
    },
    {
      "cell_type": "code",
      "metadata": {
        "colab": {
          "base_uri": "https://localhost:8080/",
          "height": 234
        },
        "id": "gXoUi9GvJL1v",
        "outputId": "54d5fa2f-e05c-4371-ede6-2187ae167661"
      },
      "source": [
        "pd.get_dummies(df14['var'])"
      ],
      "execution_count": null,
      "outputs": [
        {
          "output_type": "execute_result",
          "data": {
            "text/html": [
              "<div>\n",
              "<style scoped>\n",
              "    .dataframe tbody tr th:only-of-type {\n",
              "        vertical-align: middle;\n",
              "    }\n",
              "\n",
              "    .dataframe tbody tr th {\n",
              "        vertical-align: top;\n",
              "    }\n",
              "\n",
              "    .dataframe thead th {\n",
              "        text-align: right;\n",
              "    }\n",
              "</style>\n",
              "<table border=\"1\" class=\"dataframe\">\n",
              "  <thead>\n",
              "    <tr style=\"text-align: right;\">\n",
              "      <th></th>\n",
              "      <th>a</th>\n",
              "      <th>b</th>\n",
              "      <th>c</th>\n",
              "    </tr>\n",
              "  </thead>\n",
              "  <tbody>\n",
              "    <tr>\n",
              "      <th>0</th>\n",
              "      <td>0</td>\n",
              "      <td>1</td>\n",
              "      <td>0</td>\n",
              "    </tr>\n",
              "    <tr>\n",
              "      <th>1</th>\n",
              "      <td>0</td>\n",
              "      <td>1</td>\n",
              "      <td>0</td>\n",
              "    </tr>\n",
              "    <tr>\n",
              "      <th>2</th>\n",
              "      <td>1</td>\n",
              "      <td>0</td>\n",
              "      <td>0</td>\n",
              "    </tr>\n",
              "    <tr>\n",
              "      <th>3</th>\n",
              "      <td>0</td>\n",
              "      <td>0</td>\n",
              "      <td>1</td>\n",
              "    </tr>\n",
              "    <tr>\n",
              "      <th>4</th>\n",
              "      <td>1</td>\n",
              "      <td>0</td>\n",
              "      <td>0</td>\n",
              "    </tr>\n",
              "    <tr>\n",
              "      <th>5</th>\n",
              "      <td>0</td>\n",
              "      <td>1</td>\n",
              "      <td>0</td>\n",
              "    </tr>\n",
              "  </tbody>\n",
              "</table>\n",
              "</div>"
            ],
            "text/plain": [
              "   a  b  c\n",
              "0  0  1  0\n",
              "1  0  1  0\n",
              "2  1  0  0\n",
              "3  0  0  1\n",
              "4  1  0  0\n",
              "5  0  1  0"
            ]
          },
          "metadata": {},
          "execution_count": 355
        }
      ]
    },
    {
      "cell_type": "markdown",
      "metadata": {
        "id": "F-ohtLDBJtF9"
      },
      "source": [
        "* renaming the dummy variables\n",
        "* using prefix argument"
      ]
    },
    {
      "cell_type": "code",
      "metadata": {
        "colab": {
          "base_uri": "https://localhost:8080/",
          "height": 234
        },
        "id": "yMLiL5M5JpNX",
        "outputId": "bcd657ee-dc9e-4a73-b75d-1cbb33c1053d"
      },
      "source": [
        "pd.get_dummies(df14['var'], prefix='var')"
      ],
      "execution_count": null,
      "outputs": [
        {
          "output_type": "execute_result",
          "data": {
            "text/html": [
              "<div>\n",
              "<style scoped>\n",
              "    .dataframe tbody tr th:only-of-type {\n",
              "        vertical-align: middle;\n",
              "    }\n",
              "\n",
              "    .dataframe tbody tr th {\n",
              "        vertical-align: top;\n",
              "    }\n",
              "\n",
              "    .dataframe thead th {\n",
              "        text-align: right;\n",
              "    }\n",
              "</style>\n",
              "<table border=\"1\" class=\"dataframe\">\n",
              "  <thead>\n",
              "    <tr style=\"text-align: right;\">\n",
              "      <th></th>\n",
              "      <th>var_a</th>\n",
              "      <th>var_b</th>\n",
              "      <th>var_c</th>\n",
              "    </tr>\n",
              "  </thead>\n",
              "  <tbody>\n",
              "    <tr>\n",
              "      <th>0</th>\n",
              "      <td>0</td>\n",
              "      <td>1</td>\n",
              "      <td>0</td>\n",
              "    </tr>\n",
              "    <tr>\n",
              "      <th>1</th>\n",
              "      <td>0</td>\n",
              "      <td>1</td>\n",
              "      <td>0</td>\n",
              "    </tr>\n",
              "    <tr>\n",
              "      <th>2</th>\n",
              "      <td>1</td>\n",
              "      <td>0</td>\n",
              "      <td>0</td>\n",
              "    </tr>\n",
              "    <tr>\n",
              "      <th>3</th>\n",
              "      <td>0</td>\n",
              "      <td>0</td>\n",
              "      <td>1</td>\n",
              "    </tr>\n",
              "    <tr>\n",
              "      <th>4</th>\n",
              "      <td>1</td>\n",
              "      <td>0</td>\n",
              "      <td>0</td>\n",
              "    </tr>\n",
              "    <tr>\n",
              "      <th>5</th>\n",
              "      <td>0</td>\n",
              "      <td>1</td>\n",
              "      <td>0</td>\n",
              "    </tr>\n",
              "  </tbody>\n",
              "</table>\n",
              "</div>"
            ],
            "text/plain": [
              "   var_a  var_b  var_c\n",
              "0      0      1      0\n",
              "1      0      1      0\n",
              "2      1      0      0\n",
              "3      0      0      1\n",
              "4      1      0      0\n",
              "5      0      1      0"
            ]
          },
          "metadata": {},
          "execution_count": 356
        }
      ]
    },
    {
      "cell_type": "markdown",
      "metadata": {
        "id": "tVmdJZLwKBA4"
      },
      "source": [
        "* combining dummy creation and binning\n",
        "* using a combination of get_dummies and cut functions"
      ]
    },
    {
      "cell_type": "code",
      "metadata": {
        "id": "t8UYMYbYJ47z"
      },
      "source": [
        "var3 = np.random.rand(10)"
      ],
      "execution_count": null,
      "outputs": []
    },
    {
      "cell_type": "code",
      "metadata": {
        "colab": {
          "base_uri": "https://localhost:8080/"
        },
        "id": "qr7KSkw8KN-E",
        "outputId": "f36caabd-9a11-4eff-fdd4-066550829b88"
      },
      "source": [
        "var3"
      ],
      "execution_count": null,
      "outputs": [
        {
          "output_type": "execute_result",
          "data": {
            "text/plain": [
              "array([0.1287464 , 0.24090146, 0.40515713, 0.30651588, 0.96789781,\n",
              "       0.88453801, 0.60764316, 0.62368779, 0.65765806, 0.9528535 ])"
            ]
          },
          "metadata": {},
          "execution_count": 358
        }
      ]
    },
    {
      "cell_type": "code",
      "metadata": {
        "id": "j0cKZFonKOiJ"
      },
      "source": [
        "bins1 = [0,0.2,0.4,0.6,0.8,1]"
      ],
      "execution_count": null,
      "outputs": []
    },
    {
      "cell_type": "code",
      "metadata": {
        "colab": {
          "base_uri": "https://localhost:8080/"
        },
        "id": "P-3YI8MGKPsk",
        "outputId": "6849d747-9c7e-4f4b-d3b6-b61bb4a8c340"
      },
      "source": [
        "pd.cut(var3, bins1)"
      ],
      "execution_count": null,
      "outputs": [
        {
          "output_type": "execute_result",
          "data": {
            "text/plain": [
              "[(0.0, 0.2], (0.2, 0.4], (0.4, 0.6], (0.2, 0.4], (0.8, 1.0], (0.8, 1.0], (0.6, 0.8], (0.6, 0.8], (0.6, 0.8], (0.8, 1.0]]\n",
              "Categories (5, interval[float64]): [(0.0, 0.2] < (0.2, 0.4] < (0.4, 0.6] < (0.6, 0.8] < (0.8, 1.0]]"
            ]
          },
          "metadata": {},
          "execution_count": 360
        }
      ]
    },
    {
      "cell_type": "code",
      "metadata": {
        "colab": {
          "base_uri": "https://localhost:8080/",
          "height": 357
        },
        "id": "fKmTLzTsKX_T",
        "outputId": "7b9b6e92-6697-4b15-acd8-39570e75069f"
      },
      "source": [
        "pd.get_dummies(pd.cut(var3, bins1))"
      ],
      "execution_count": null,
      "outputs": [
        {
          "output_type": "execute_result",
          "data": {
            "text/html": [
              "<div>\n",
              "<style scoped>\n",
              "    .dataframe tbody tr th:only-of-type {\n",
              "        vertical-align: middle;\n",
              "    }\n",
              "\n",
              "    .dataframe tbody tr th {\n",
              "        vertical-align: top;\n",
              "    }\n",
              "\n",
              "    .dataframe thead th {\n",
              "        text-align: right;\n",
              "    }\n",
              "</style>\n",
              "<table border=\"1\" class=\"dataframe\">\n",
              "  <thead>\n",
              "    <tr style=\"text-align: right;\">\n",
              "      <th></th>\n",
              "      <th>(0.0, 0.2]</th>\n",
              "      <th>(0.2, 0.4]</th>\n",
              "      <th>(0.4, 0.6]</th>\n",
              "      <th>(0.6, 0.8]</th>\n",
              "      <th>(0.8, 1.0]</th>\n",
              "    </tr>\n",
              "  </thead>\n",
              "  <tbody>\n",
              "    <tr>\n",
              "      <th>0</th>\n",
              "      <td>1</td>\n",
              "      <td>0</td>\n",
              "      <td>0</td>\n",
              "      <td>0</td>\n",
              "      <td>0</td>\n",
              "    </tr>\n",
              "    <tr>\n",
              "      <th>1</th>\n",
              "      <td>0</td>\n",
              "      <td>1</td>\n",
              "      <td>0</td>\n",
              "      <td>0</td>\n",
              "      <td>0</td>\n",
              "    </tr>\n",
              "    <tr>\n",
              "      <th>2</th>\n",
              "      <td>0</td>\n",
              "      <td>0</td>\n",
              "      <td>1</td>\n",
              "      <td>0</td>\n",
              "      <td>0</td>\n",
              "    </tr>\n",
              "    <tr>\n",
              "      <th>3</th>\n",
              "      <td>0</td>\n",
              "      <td>1</td>\n",
              "      <td>0</td>\n",
              "      <td>0</td>\n",
              "      <td>0</td>\n",
              "    </tr>\n",
              "    <tr>\n",
              "      <th>4</th>\n",
              "      <td>0</td>\n",
              "      <td>0</td>\n",
              "      <td>0</td>\n",
              "      <td>0</td>\n",
              "      <td>1</td>\n",
              "    </tr>\n",
              "    <tr>\n",
              "      <th>5</th>\n",
              "      <td>0</td>\n",
              "      <td>0</td>\n",
              "      <td>0</td>\n",
              "      <td>0</td>\n",
              "      <td>1</td>\n",
              "    </tr>\n",
              "    <tr>\n",
              "      <th>6</th>\n",
              "      <td>0</td>\n",
              "      <td>0</td>\n",
              "      <td>0</td>\n",
              "      <td>1</td>\n",
              "      <td>0</td>\n",
              "    </tr>\n",
              "    <tr>\n",
              "      <th>7</th>\n",
              "      <td>0</td>\n",
              "      <td>0</td>\n",
              "      <td>0</td>\n",
              "      <td>1</td>\n",
              "      <td>0</td>\n",
              "    </tr>\n",
              "    <tr>\n",
              "      <th>8</th>\n",
              "      <td>0</td>\n",
              "      <td>0</td>\n",
              "      <td>0</td>\n",
              "      <td>1</td>\n",
              "      <td>0</td>\n",
              "    </tr>\n",
              "    <tr>\n",
              "      <th>9</th>\n",
              "      <td>0</td>\n",
              "      <td>0</td>\n",
              "      <td>0</td>\n",
              "      <td>0</td>\n",
              "      <td>1</td>\n",
              "    </tr>\n",
              "  </tbody>\n",
              "</table>\n",
              "</div>"
            ],
            "text/plain": [
              "   (0.0, 0.2]  (0.2, 0.4]  (0.4, 0.6]  (0.6, 0.8]  (0.8, 1.0]\n",
              "0           1           0           0           0           0\n",
              "1           0           1           0           0           0\n",
              "2           0           0           1           0           0\n",
              "3           0           1           0           0           0\n",
              "4           0           0           0           0           1\n",
              "5           0           0           0           0           1\n",
              "6           0           0           0           1           0\n",
              "7           0           0           0           1           0\n",
              "8           0           0           0           1           0\n",
              "9           0           0           0           0           1"
            ]
          },
          "metadata": {},
          "execution_count": 361
        }
      ]
    },
    {
      "cell_type": "markdown",
      "metadata": {
        "id": "hJFhps-8K21q"
      },
      "source": [
        "**Lecture 33**"
      ]
    },
    {
      "cell_type": "markdown",
      "metadata": {
        "id": "r-615stqK8bK"
      },
      "source": [
        "**String and Text Processing Part I**"
      ]
    },
    {
      "cell_type": "markdown",
      "metadata": {
        "id": "gTUCikw2RRW3"
      },
      "source": [
        "* Python is quite popular for its ease of use for text operations\n",
        "* string object's built - in methods are sufficient for most text operation\n",
        "* regular expression can be used for complex pattern matching and text manipulations\n",
        "* Example: creating terms from a comma-separated string\n"
      ]
    },
    {
      "cell_type": "code",
      "metadata": {
        "id": "vItX3HmxKdSR"
      },
      "source": [
        "str1 = 'a, ab, abc, abcd, abcde'"
      ],
      "execution_count": null,
      "outputs": []
    },
    {
      "cell_type": "code",
      "metadata": {
        "colab": {
          "base_uri": "https://localhost:8080/",
          "height": 35
        },
        "id": "8jGRt25vR583",
        "outputId": "c2f98bb6-d982-4669-f6d1-000cb853af57"
      },
      "source": [
        "str1"
      ],
      "execution_count": null,
      "outputs": [
        {
          "output_type": "execute_result",
          "data": {
            "application/vnd.google.colaboratory.intrinsic+json": {
              "type": "string"
            },
            "text/plain": [
              "'a, ab, abc, abcd, abcde'"
            ]
          },
          "metadata": {},
          "execution_count": 369
        }
      ]
    },
    {
      "cell_type": "markdown",
      "metadata": {
        "id": "abkvITagR8H5"
      },
      "source": [
        "* create a list of terms using split method"
      ]
    },
    {
      "cell_type": "code",
      "metadata": {
        "colab": {
          "base_uri": "https://localhost:8080/"
        },
        "id": "VMPFl_QGR6xk",
        "outputId": "15465673-918d-40bf-f152-9050896244de"
      },
      "source": [
        "str1.split(',')"
      ],
      "execution_count": null,
      "outputs": [
        {
          "output_type": "execute_result",
          "data": {
            "text/plain": [
              "['a', ' ab', ' abc', ' abcd', ' abcde']"
            ]
          },
          "metadata": {},
          "execution_count": 370
        }
      ]
    },
    {
      "cell_type": "markdown",
      "metadata": {
        "id": "XLf3g4-ASGOi"
      },
      "source": [
        "* combine split with strip (to trim whitespace)"
      ]
    },
    {
      "cell_type": "code",
      "metadata": {
        "id": "3vhY-oi7SD2u"
      },
      "source": [
        "terms = [x.strip() for x in str1.split(',')]"
      ],
      "execution_count": null,
      "outputs": []
    },
    {
      "cell_type": "code",
      "metadata": {
        "colab": {
          "base_uri": "https://localhost:8080/"
        },
        "id": "ioluQ1lYk1Iy",
        "outputId": "bf6e4766-c677-418a-b94c-3d8fc192a032"
      },
      "source": [
        "terms"
      ],
      "execution_count": null,
      "outputs": [
        {
          "output_type": "execute_result",
          "data": {
            "text/plain": [
              "['a', 'ab', 'abc', 'abcd', 'abcde']"
            ]
          },
          "metadata": {},
          "execution_count": 372
        }
      ]
    },
    {
      "cell_type": "markdown",
      "metadata": {
        "id": "LeXTeskXlVKu"
      },
      "source": [
        "* Example: concatenation of strings with delimiters\n",
        "* e.g., :: as a delimiter\n",
        "* first approach:\n",
        "* first segregate each term\n"
      ]
    },
    {
      "cell_type": "code",
      "metadata": {
        "id": "wS8j6m3Gk2fW"
      },
      "source": [
        "first, second, third, fourth, fifth = terms"
      ],
      "execution_count": null,
      "outputs": []
    },
    {
      "cell_type": "markdown",
      "metadata": {
        "id": "5W2NRzq1lvh1"
      },
      "source": [
        "* using + operator for cancatenation"
      ]
    },
    {
      "cell_type": "code",
      "metadata": {
        "colab": {
          "base_uri": "https://localhost:8080/",
          "height": 35
        },
        "id": "KBIps5oNluPT",
        "outputId": "586d1e3d-35b2-47a6-9b85-76826c81dfd6"
      },
      "source": [
        "first + '::' + second + '::' + third + '::' + fourth + '::' + fifth"
      ],
      "execution_count": null,
      "outputs": [
        {
          "output_type": "execute_result",
          "data": {
            "application/vnd.google.colaboratory.intrinsic+json": {
              "type": "string"
            },
            "text/plain": [
              "'a::ab::abc::abcd::abcde'"
            ]
          },
          "metadata": {},
          "execution_count": 374
        }
      ]
    },
    {
      "cell_type": "markdown",
      "metadata": {
        "id": "YycQiVaemEE4"
      },
      "source": [
        "* Second apporoach:\n",
        "* using join method"
      ]
    },
    {
      "cell_type": "code",
      "metadata": {
        "colab": {
          "base_uri": "https://localhost:8080/",
          "height": 35
        },
        "id": "LqwCGQqCmCBN",
        "outputId": "d8e839f6-e806-4db1-f9e2-42fff1305705"
      },
      "source": [
        "'::'.join(terms)"
      ],
      "execution_count": null,
      "outputs": [
        {
          "output_type": "execute_result",
          "data": {
            "application/vnd.google.colaboratory.intrinsic+json": {
              "type": "string"
            },
            "text/plain": [
              "'a::ab::abc::abcd::abcde'"
            ]
          },
          "metadata": {},
          "execution_count": 375
        }
      ]
    },
    {
      "cell_type": "markdown",
      "metadata": {
        "id": "IqWLYzIVmUUs"
      },
      "source": [
        "* Example: checking presence of a term or finding its index in the string"
      ]
    },
    {
      "cell_type": "code",
      "metadata": {
        "colab": {
          "base_uri": "https://localhost:8080/",
          "height": 35
        },
        "id": "rZt8jXZFmSpM",
        "outputId": "ca6d7dba-009b-4083-94a6-3d93d2391914"
      },
      "source": [
        "str1"
      ],
      "execution_count": null,
      "outputs": [
        {
          "output_type": "execute_result",
          "data": {
            "application/vnd.google.colaboratory.intrinsic+json": {
              "type": "string"
            },
            "text/plain": [
              "'a, ab, abc, abcd, abcde'"
            ]
          },
          "metadata": {},
          "execution_count": 376
        }
      ]
    },
    {
      "cell_type": "markdown",
      "metadata": {
        "id": "0R8dFgBWmfTp"
      },
      "source": [
        "* using in keyword"
      ]
    },
    {
      "cell_type": "code",
      "metadata": {
        "colab": {
          "base_uri": "https://localhost:8080/"
        },
        "id": "swwpSzwgmcQ1",
        "outputId": "9dc64bfb-6c94-4f31-ec8a-440247a8a21f"
      },
      "source": [
        "'abcd' in str1"
      ],
      "execution_count": null,
      "outputs": [
        {
          "output_type": "execute_result",
          "data": {
            "text/plain": [
              "True"
            ]
          },
          "metadata": {},
          "execution_count": 377
        }
      ]
    },
    {
      "cell_type": "markdown",
      "metadata": {
        "id": "IOfHfEw-mqY_"
      },
      "source": [
        "* using index method"
      ]
    },
    {
      "cell_type": "code",
      "metadata": {
        "colab": {
          "base_uri": "https://localhost:8080/"
        },
        "id": "ScUSKTsUmjYR",
        "outputId": "c5de86e8-4f2b-40d3-f8aa-0ec0bd4f3c76"
      },
      "source": [
        "str1.index('abcd')"
      ],
      "execution_count": null,
      "outputs": [
        {
          "output_type": "execute_result",
          "data": {
            "text/plain": [
              "12"
            ]
          },
          "metadata": {},
          "execution_count": 378
        }
      ]
    },
    {
      "cell_type": "code",
      "metadata": {
        "colab": {
          "base_uri": "https://localhost:8080/",
          "height": 162
        },
        "id": "rMOqtJwPmug5",
        "outputId": "390e02c2-dcc9-4278-8d9b-a5fcaefccb79"
      },
      "source": [
        "str1.index('abcdef')"
      ],
      "execution_count": null,
      "outputs": [
        {
          "output_type": "error",
          "ename": "ValueError",
          "evalue": "ignored",
          "traceback": [
            "\u001b[0;31m---------------------------------------------------------------------------\u001b[0m",
            "\u001b[0;31mValueError\u001b[0m                                Traceback (most recent call last)",
            "\u001b[0;32m<ipython-input-379-31baf8651035>\u001b[0m in \u001b[0;36m<module>\u001b[0;34m()\u001b[0m\n\u001b[0;32m----> 1\u001b[0;31m \u001b[0mstr1\u001b[0m\u001b[0;34m.\u001b[0m\u001b[0mindex\u001b[0m\u001b[0;34m(\u001b[0m\u001b[0;34m'abcdef'\u001b[0m\u001b[0;34m)\u001b[0m\u001b[0;34m\u001b[0m\u001b[0;34m\u001b[0m\u001b[0m\n\u001b[0m",
            "\u001b[0;31mValueError\u001b[0m: substring not found"
          ]
        }
      ]
    },
    {
      "cell_type": "markdown",
      "metadata": {
        "id": "Dj4HF-tZm8sW"
      },
      "source": [
        "* using find method"
      ]
    },
    {
      "cell_type": "code",
      "metadata": {
        "colab": {
          "base_uri": "https://localhost:8080/"
        },
        "id": "utZEh3kvmzXw",
        "outputId": "18666c09-9e24-489a-a52e-4e559e3f31a0"
      },
      "source": [
        "str1.find('abcd')"
      ],
      "execution_count": null,
      "outputs": [
        {
          "output_type": "execute_result",
          "data": {
            "text/plain": [
              "12"
            ]
          },
          "metadata": {},
          "execution_count": 380
        }
      ]
    },
    {
      "cell_type": "code",
      "metadata": {
        "colab": {
          "base_uri": "https://localhost:8080/"
        },
        "id": "N5Rh5AVznAXL",
        "outputId": "920f2399-167c-49d9-c5c7-0c6a932783c4"
      },
      "source": [
        "str1.find('abcdef')"
      ],
      "execution_count": null,
      "outputs": [
        {
          "output_type": "execute_result",
          "data": {
            "text/plain": [
              "-1"
            ]
          },
          "metadata": {},
          "execution_count": 381
        }
      ]
    },
    {
      "cell_type": "markdown",
      "metadata": {
        "id": "PeYlnNFsnD7X"
      },
      "source": [
        "* Example: counting the occurences of a term and replacing with a substitute \n",
        "* using count method"
      ]
    },
    {
      "cell_type": "code",
      "metadata": {
        "colab": {
          "base_uri": "https://localhost:8080/",
          "height": 35
        },
        "id": "wD4YU3mMnTIi",
        "outputId": "9bbfba27-ee83-45a8-f487-c49b32bd1403"
      },
      "source": [
        "str1"
      ],
      "execution_count": null,
      "outputs": [
        {
          "output_type": "execute_result",
          "data": {
            "application/vnd.google.colaboratory.intrinsic+json": {
              "type": "string"
            },
            "text/plain": [
              "'a, ab, abc, abcd, abcde'"
            ]
          },
          "metadata": {},
          "execution_count": 383
        }
      ]
    },
    {
      "cell_type": "code",
      "metadata": {
        "colab": {
          "base_uri": "https://localhost:8080/"
        },
        "id": "lyCUIiSlnCxY",
        "outputId": "7fb45aa9-df69-40d7-8a0f-bddda9fbcb8b"
      },
      "source": [
        "str1.count('abc')"
      ],
      "execution_count": null,
      "outputs": [
        {
          "output_type": "execute_result",
          "data": {
            "text/plain": [
              "3"
            ]
          },
          "metadata": {},
          "execution_count": 382
        }
      ]
    },
    {
      "cell_type": "markdown",
      "metadata": {
        "id": "WjP8HoKdnZkg"
      },
      "source": [
        "* using replace method\n",
        "* e.g., replace ',' with ''\n"
      ]
    },
    {
      "cell_type": "code",
      "metadata": {
        "colab": {
          "base_uri": "https://localhost:8080/",
          "height": 35
        },
        "id": "5wnqx1DjnQsy",
        "outputId": "e4cf775d-e392-4d5b-9348-1cc8a15032f2"
      },
      "source": [
        "str1.replace(',','')"
      ],
      "execution_count": null,
      "outputs": [
        {
          "output_type": "execute_result",
          "data": {
            "application/vnd.google.colaboratory.intrinsic+json": {
              "type": "string"
            },
            "text/plain": [
              "'a ab abc abcd abcde'"
            ]
          },
          "metadata": {},
          "execution_count": 384
        }
      ]
    },
    {
      "cell_type": "markdown",
      "metadata": {
        "id": "X2zEjEtAnlR_"
      },
      "source": [
        "* e.g, replace ',' with ':'"
      ]
    },
    {
      "cell_type": "code",
      "metadata": {
        "colab": {
          "base_uri": "https://localhost:8080/",
          "height": 35
        },
        "id": "g6qGzssmnj1U",
        "outputId": "e9105441-bc53-47fe-9dce-de19b19e1636"
      },
      "source": [
        "str1.replace(',',':')"
      ],
      "execution_count": null,
      "outputs": [
        {
          "output_type": "execute_result",
          "data": {
            "application/vnd.google.colaboratory.intrinsic+json": {
              "type": "string"
            },
            "text/plain": [
              "'a: ab: abc: abcd: abcde'"
            ]
          },
          "metadata": {},
          "execution_count": 385
        }
      ]
    },
    {
      "cell_type": "markdown",
      "metadata": {
        "id": "pf20_Y_fnun4"
      },
      "source": [
        "* regular expressions"
      ]
    },
    {
      "cell_type": "markdown",
      "metadata": {
        "id": "jId1yClToCQX"
      },
      "source": [
        "* regular expressions\n",
        "* using Python's built-in re module\n",
        "* three types of functions: pattern matching, substitution, and splitting\n",
        "* a regex describes a pattern to locate in the text\n",
        "* Execution mechanism:\n",
        "* Ist approach: suitables when one or two texts or stringd are to be processed using some re\n",
        "* for a given line of code involving regex to process a text\n",
        "* first regex is compiled internally then code is applied on the text\n",
        "* IInd approach: suitable when many texts or strings are to be processed using same regex\n",
        "* regex can be compiled and reused as a regex object"
      ]
    },
    {
      "cell_type": "code",
      "metadata": {
        "id": "n4EomJhEntNM"
      },
      "source": [
        "import re"
      ],
      "execution_count": null,
      "outputs": []
    },
    {
      "cell_type": "markdown",
      "metadata": {
        "id": "hDr4Ia5lpPtk"
      },
      "source": [
        "* Example: split a string having different types of whitespace characters(tabs, spaces, and newlines)\n",
        "* regex: '\\s+'"
      ]
    },
    {
      "cell_type": "code",
      "metadata": {
        "id": "mgkNXBIapMbO"
      },
      "source": [
        "text = \"om namah\\t shivay \\tchant\""
      ],
      "execution_count": null,
      "outputs": []
    },
    {
      "cell_type": "markdown",
      "metadata": {
        "id": "TqYFh3t7qRDo"
      },
      "source": [
        "* Ist \n",
        "* using split function"
      ]
    },
    {
      "cell_type": "code",
      "metadata": {
        "colab": {
          "base_uri": "https://localhost:8080/"
        },
        "id": "c4nvIRjDpo3p",
        "outputId": "6072c3bd-40ff-4070-e41d-b113aa7e34e0"
      },
      "source": [
        "re.split('\\s+', text)"
      ],
      "execution_count": null,
      "outputs": [
        {
          "output_type": "execute_result",
          "data": {
            "text/plain": [
              "['om', 'namah', 'shivay', 'chant']"
            ]
          },
          "metadata": {},
          "execution_count": 388
        }
      ]
    },
    {
      "cell_type": "markdown",
      "metadata": {
        "id": "03b0iDmCqcu8"
      },
      "source": [
        "* IInd \n",
        "* using compile function"
      ]
    },
    {
      "cell_type": "code",
      "metadata": {
        "id": "1s3M8x8Yqbx3"
      },
      "source": [
        "regex = re.compile('\\s+')"
      ],
      "execution_count": null,
      "outputs": []
    },
    {
      "cell_type": "code",
      "metadata": {
        "colab": {
          "base_uri": "https://localhost:8080/"
        },
        "id": "ApNkYsRLqmfL",
        "outputId": "52d9614a-a228-4be9-f7ec-b31c87d63d8e"
      },
      "source": [
        "regex.split(text)"
      ],
      "execution_count": null,
      "outputs": [
        {
          "output_type": "execute_result",
          "data": {
            "text/plain": [
              "['om', 'namah', 'shivay', 'chant']"
            ]
          },
          "metadata": {},
          "execution_count": 390
        }
      ]
    },
    {
      "cell_type": "markdown",
      "metadata": {
        "id": "v_IJ7LNhq0p6"
      },
      "source": [
        "* List of all patterns matching a regex\n",
        "* using findall method\n",
        "* return all the matches"
      ]
    },
    {
      "cell_type": "code",
      "metadata": {
        "colab": {
          "base_uri": "https://localhost:8080/"
        },
        "id": "RvC6hzGqquxS",
        "outputId": "f0e424af-23c4-456a-ecab-9e59d3d7d161"
      },
      "source": [
        "regex.findall(text)"
      ],
      "execution_count": null,
      "outputs": [
        {
          "output_type": "execute_result",
          "data": {
            "text/plain": [
              "[' ', '\\t ', ' \\t']"
            ]
          },
          "metadata": {},
          "execution_count": 391
        }
      ]
    },
    {
      "cell_type": "markdown",
      "metadata": {
        "id": "6Owg1iLOrWGN"
      },
      "source": [
        "* Example: identify email addresses from a text block"
      ]
    },
    {
      "cell_type": "code",
      "metadata": {
        "id": "XSVgLrZ9rAFn"
      },
      "source": [
        "text1 = \"\"\"Ramesh ramesh@iitr.ac.in\n",
        "Mukesh mukesh@gmail.com\n",
        "Rajib rajib@gmail.com\n",
        "Santosh santosh@yahoo.com\n",
        "\"\"\""
      ],
      "execution_count": null,
      "outputs": []
    },
    {
      "cell_type": "markdown",
      "metadata": {
        "id": "7EuuLXTPrzSC"
      },
      "source": [
        "* regular expression to identify most email addresses"
      ]
    },
    {
      "cell_type": "code",
      "metadata": {
        "id": "Mar4I57Uryft"
      },
      "source": [
        "pattern = r'[A-Z0-9._%+-]+@[A-Z0-9.-]+\\.[A-Z]{2,4}'"
      ],
      "execution_count": null,
      "outputs": []
    },
    {
      "cell_type": "markdown",
      "metadata": {
        "id": "vdhBPbK4sOzU"
      },
      "source": [
        "* compile the regex"
      ]
    },
    {
      "cell_type": "code",
      "metadata": {
        "id": "z6_F74SusNVv"
      },
      "source": [
        "regex1 = re.compile(pattern, flags=re.IGNORECASE)"
      ],
      "execution_count": null,
      "outputs": []
    },
    {
      "cell_type": "markdown",
      "metadata": {
        "id": "fTpHvk9jsY35"
      },
      "source": [
        "* using findall method to produce all the email addresses"
      ]
    },
    {
      "cell_type": "code",
      "metadata": {
        "colab": {
          "base_uri": "https://localhost:8080/"
        },
        "id": "nOBRwJ63sYGB",
        "outputId": "01576ba8-b5dd-4cce-a200-827170a9241f"
      },
      "source": [
        "regex1.findall(text1)"
      ],
      "execution_count": null,
      "outputs": [
        {
          "output_type": "execute_result",
          "data": {
            "text/plain": [
              "['ramesh@iitr.ac.in',\n",
              " 'mukesh@gmail.com',\n",
              " 'rajib@gmail.com',\n",
              " 'santosh@yahoo.com']"
            ]
          },
          "metadata": {},
          "execution_count": 395
        }
      ]
    },
    {
      "cell_type": "markdown",
      "metadata": {
        "id": "AjqUS6CosnSv"
      },
      "source": [
        "* using search method\n",
        "* returns a match object with only the start and end position of the first match of the pattern in the string"
      ]
    },
    {
      "cell_type": "code",
      "metadata": {
        "id": "1pF2igbpsgaF"
      },
      "source": [
        "m1 = regex1.search(text1)"
      ],
      "execution_count": null,
      "outputs": []
    },
    {
      "cell_type": "markdown",
      "metadata": {
        "id": "Fs5prdfNs917"
      },
      "source": [
        "* using start and end methods of the match object"
      ]
    },
    {
      "cell_type": "code",
      "metadata": {
        "colab": {
          "base_uri": "https://localhost:8080/",
          "height": 35
        },
        "id": "O65Zy66As7M1",
        "outputId": "7c89ba04-73a1-4264-accf-eff2575787e2"
      },
      "source": [
        "text1[m1.start():m1.end()]"
      ],
      "execution_count": null,
      "outputs": [
        {
          "output_type": "execute_result",
          "data": {
            "application/vnd.google.colaboratory.intrinsic+json": {
              "type": "string"
            },
            "text/plain": [
              "'ramesh@iitr.ac.in'"
            ]
          },
          "metadata": {},
          "execution_count": 398
        }
      ]
    },
    {
      "cell_type": "markdown",
      "metadata": {
        "id": "VC0gDGXetI_f"
      },
      "source": [
        "* using match method\n",
        "* checks for matches only at the start of the string "
      ]
    },
    {
      "cell_type": "code",
      "metadata": {
        "id": "yE_CyPIrtG4V"
      },
      "source": [
        "regex1.match(text1)"
      ],
      "execution_count": null,
      "outputs": []
    },
    {
      "cell_type": "code",
      "metadata": {
        "colab": {
          "base_uri": "https://localhost:8080/"
        },
        "id": "B5tszV5WtWPH",
        "outputId": "e5f403a7-4af9-4d8d-feb6-7d311e1d989d"
      },
      "source": [
        "print(regex1.match(text1))"
      ],
      "execution_count": null,
      "outputs": [
        {
          "output_type": "stream",
          "name": "stdout",
          "text": [
            "None\n"
          ]
        }
      ]
    },
    {
      "cell_type": "markdown",
      "metadata": {
        "id": "0NrK8d0VuEkd"
      },
      "source": [
        "* using sub method to find and replace all the occurences of the pattern with a subsitute"
      ]
    },
    {
      "cell_type": "code",
      "metadata": {
        "colab": {
          "base_uri": "https://localhost:8080/",
          "height": 35
        },
        "id": "SOK9q-UPtlrh",
        "outputId": "4a8f2a0c-98b9-4bfb-d813-6595cb98db11"
      },
      "source": [
        "regex1.sub('found', text1)"
      ],
      "execution_count": null,
      "outputs": [
        {
          "output_type": "execute_result",
          "data": {
            "application/vnd.google.colaboratory.intrinsic+json": {
              "type": "string"
            },
            "text/plain": [
              "'Ramesh found\\nMukesh found\\nRajib found\\nSantosh found\\n'"
            ]
          },
          "metadata": {},
          "execution_count": 401
        }
      ]
    },
    {
      "cell_type": "code",
      "metadata": {
        "colab": {
          "base_uri": "https://localhost:8080/"
        },
        "id": "-Lk0ocBLuXKw",
        "outputId": "51d26997-c675-4d48-e157-a476183eceb9"
      },
      "source": [
        "print(regex1.sub('found', text1))"
      ],
      "execution_count": null,
      "outputs": [
        {
          "output_type": "stream",
          "name": "stdout",
          "text": [
            "Ramesh found\n",
            "Mukesh found\n",
            "Rajib found\n",
            "Santosh found\n",
            "\n"
          ]
        }
      ]
    },
    {
      "cell_type": "markdown",
      "metadata": {
        "id": "IKkmOx7uufMB"
      },
      "source": [
        "* Example: find email addresses and segment each address into its three components:\n",
        "* username, domain name, and domain suffix\n",
        "* parentheses around the parts of the pattern to segemt"
      ]
    },
    {
      "cell_type": "code",
      "metadata": {
        "id": "bZuuYdS7udsZ"
      },
      "source": [
        "pattern1 = r'([A-Z0-9._%+-]+)@([A-Z0-9.-]+)\\.([A-Z]{2,4})'"
      ],
      "execution_count": null,
      "outputs": []
    },
    {
      "cell_type": "markdown",
      "metadata": {
        "id": "c1V_DYA8vi3-"
      },
      "source": [
        "* compile the regex"
      ]
    },
    {
      "cell_type": "code",
      "metadata": {
        "id": "unU9x8S7vO7h"
      },
      "source": [
        "regex2 = re.compile(pattern1, flags=re.IGNORECASE)"
      ],
      "execution_count": null,
      "outputs": []
    },
    {
      "cell_type": "markdown",
      "metadata": {
        "id": "hGdY4sL_vsov"
      },
      "source": [
        "* Using findall to produce a list of tuples having the segregated components"
      ]
    },
    {
      "cell_type": "code",
      "metadata": {
        "colab": {
          "base_uri": "https://localhost:8080/"
        },
        "id": "40nTpMbevrwv",
        "outputId": "44b51f5f-a9fd-4f5d-9172-6ecf788b43fa"
      },
      "source": [
        "regex2.findall(text1)"
      ],
      "execution_count": null,
      "outputs": [
        {
          "output_type": "execute_result",
          "data": {
            "text/plain": [
              "[('ramesh', 'iitr.ac', 'in'),\n",
              " ('mukesh', 'gmail', 'com'),\n",
              " ('rajib', 'gmail', 'com'),\n",
              " ('santosh', 'yahoo', 'com')]"
            ]
          },
          "metadata": {},
          "execution_count": 405
        }
      ]
    },
    {
      "cell_type": "markdown",
      "metadata": {
        "id": "fxgmxHOpwW5K"
      },
      "source": [
        "* using sub method to print segregated components\n",
        "* additional functionality of sub method: symbol-component mapping \n",
        "* \\1 refers to the first component, \\2 refers to the second, and so forth"
      ]
    },
    {
      "cell_type": "code",
      "metadata": {
        "colab": {
          "base_uri": "https://localhost:8080/"
        },
        "id": "e4WXqWHcv6A3",
        "outputId": "8147144c-7471-46d1-8d86-8974db4d116a"
      },
      "source": [
        "print(regex2.sub(r'Username: \\1, Domain: \\2, Suffix: \\3', text1))"
      ],
      "execution_count": null,
      "outputs": [
        {
          "output_type": "stream",
          "name": "stdout",
          "text": [
            "Ramesh Username: ramesh, Domain: iitr.ac, Suffix: in\n",
            "Mukesh Username: mukesh, Domain: gmail, Suffix: com\n",
            "Rajib Username: rajib, Domain: gmail, Suffix: com\n",
            "Santosh Username: santosh, Domain: yahoo, Suffix: com\n",
            "\n"
          ]
        }
      ]
    },
    {
      "cell_type": "markdown",
      "metadata": {
        "id": "UpE-1dvtxQzs"
      },
      "source": [
        "* Example: segregate pattern components"
      ]
    },
    {
      "cell_type": "code",
      "metadata": {
        "id": "TnsYb4hfxOyh"
      },
      "source": [
        "text2 = \"ramesh@iitr.ac.in\""
      ],
      "execution_count": null,
      "outputs": []
    },
    {
      "cell_type": "markdown",
      "metadata": {
        "id": "RnXD5WySxoVo"
      },
      "source": [
        "**Lecture 33**"
      ]
    },
    {
      "cell_type": "markdown",
      "metadata": {
        "id": "tcOkGeOTxszs"
      },
      "source": [
        "**String and Text Processing Part II**"
      ]
    },
    {
      "cell_type": "code",
      "metadata": {
        "id": "DXuURj0cxeAk"
      },
      "source": [
        ""
      ],
      "execution_count": null,
      "outputs": []
    }
  ]
}